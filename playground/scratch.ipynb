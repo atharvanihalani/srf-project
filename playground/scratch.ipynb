{
 "cells": [
  {
   "cell_type": "markdown",
   "id": "73c1567d",
   "metadata": {},
   "source": [
    "## setup"
   ]
  },
  {
   "cell_type": "code",
   "execution_count": null,
   "id": "b4417b7b",
   "metadata": {},
   "outputs": [],
   "source": [
    "from transformers import AutoTokenizer, AutoModelForCausalLM, TrainingArguments, Trainer, DataCollatorForLanguageModeling, BitsAndBytesConfig\n",
    "from huggingface_hub import login\n",
    "from dotenv import load_dotenv\n",
    "from datasets import load_dataset\n",
    "import os\n",
    "import wandb\n",
    "from peft import LoraConfig, get_peft_model\n",
    "from pipeline.main import run_eval\n",
    "import re"
   ]
  },
  {
   "cell_type": "code",
   "execution_count": null,
   "id": "7f4a4c6e",
   "metadata": {},
   "outputs": [
    {
     "name": "stderr",
     "output_type": "stream",
     "text": [
      "Note: Environment variable`HF_TOKEN` is set and is the current active token independently from the token you've just configured.\n",
      "\u001b[34m\u001b[1mwandb\u001b[0m: Currently logged in as: \u001b[33matharva_nihalani\u001b[0m (\u001b[33matharva_nihalani-brown-university\u001b[0m) to \u001b[32mhttps://api.wandb.ai\u001b[0m. Use \u001b[1m`wandb login --relogin`\u001b[0m to force relogin\n"
     ]
    },
    {
     "data": {
      "text/plain": [
       "True"
      ]
     },
     "execution_count": 2,
     "metadata": {},
     "output_type": "execute_result"
    }
   ],
   "source": [
    "load_dotenv()\n",
    "login(token = os.environ['HF_TOKEN'])\n",
    "wandb.login()"
   ]
  },
  {
   "cell_type": "code",
   "execution_count": 7,
   "id": "7f4cc769",
   "metadata": {},
   "outputs": [
    {
     "data": {
      "application/vnd.jupyter.widget-view+json": {
       "model_id": "bb381f2b64384c4e8ce0b1f4380c94e8",
       "version_major": 2,
       "version_minor": 0
      },
      "text/plain": [
       "README.md: 0.00B [00:00, ?B/s]"
      ]
     },
     "metadata": {},
     "output_type": "display_data"
    },
    {
     "data": {
      "application/vnd.jupyter.widget-view+json": {
       "model_id": "12322206ca154a97b5a7306df3f2fdf3",
       "version_major": 2,
       "version_minor": 0
      },
      "text/plain": [
       "Java/train-00000-of-00003.parquet:   0%|          | 0.00/99.3M [00:00<?, ?B/s]"
      ]
     },
     "metadata": {},
     "output_type": "display_data"
    },
    {
     "data": {
      "application/vnd.jupyter.widget-view+json": {
       "model_id": "67b6263bcc5f44189a8c3f36fa151fba",
       "version_major": 2,
       "version_minor": 0
      },
      "text/plain": [
       "Java/train-00001-of-00003.parquet:   0%|          | 0.00/138M [00:00<?, ?B/s]"
      ]
     },
     "metadata": {},
     "output_type": "display_data"
    },
    {
     "data": {
      "application/vnd.jupyter.widget-view+json": {
       "model_id": "1debe6a5846548919c80625ef074b322",
       "version_major": 2,
       "version_minor": 0
      },
      "text/plain": [
       "Java/train-00002-of-00003.parquet:   0%|          | 0.00/119M [00:00<?, ?B/s]"
      ]
     },
     "metadata": {},
     "output_type": "display_data"
    },
    {
     "data": {
      "application/vnd.jupyter.widget-view+json": {
       "model_id": "4150e7c1a97b40299aa3c75a2cbda8a3",
       "version_major": 2,
       "version_minor": 0
      },
      "text/plain": [
       "Generating train split:   0%|          | 0/696249 [00:00<?, ? examples/s]"
      ]
     },
     "metadata": {},
     "output_type": "display_data"
    },
    {
     "data": {
      "application/vnd.jupyter.widget-view+json": {
       "model_id": "6730cd338ed9412db7d085222e28da95",
       "version_major": 2,
       "version_minor": 0
      },
      "text/plain": [
       "Filter:   0%|          | 0/696249 [00:00<?, ? examples/s]"
      ]
     },
     "metadata": {},
     "output_type": "display_data"
    }
   ],
   "source": [
    "def get_dataset_new(lang, train_size=10000, test_size=500):\n",
    "    dataset = load_dataset('iNeil77/CodeNet', lang, split='train')\n",
    "    dataset = dataset.select_columns(['p_id', 'language', 'status', 'code'])\n",
    "    dataset = dataset.filter(lambda x: x['status']=='Accepted')\n",
    "\n",
    "    return dataset\n",
    "\n",
    "dataset = get_dataset_new('Java')"
   ]
  },
  {
   "cell_type": "code",
   "execution_count": 9,
   "id": "7efdca7b",
   "metadata": {},
   "outputs": [
    {
     "data": {
      "text/plain": [
       "Dataset({\n",
       "    features: ['p_id', 'language', 'status', 'code'],\n",
       "    num_rows: 348362\n",
       "})"
      ]
     },
     "execution_count": 9,
     "metadata": {},
     "output_type": "execute_result"
    }
   ],
   "source": [
    "dataset"
   ]
  },
  {
   "cell_type": "code",
   "execution_count": 10,
   "id": "5251fc42",
   "metadata": {},
   "outputs": [
    {
     "data": {
      "application/vnd.jupyter.widget-view+json": {
       "model_id": "ec4025c97d9542f8b5079a55d78e584b",
       "version_major": 2,
       "version_minor": 0
      },
      "text/plain": [
       "Filter:   0%|          | 0/348362 [00:00<?, ? examples/s]"
      ]
     },
     "metadata": {},
     "output_type": "display_data"
    }
   ],
   "source": [
    "ids = []\n",
    "def my_filter(row):\n",
    "    if row['p_id'] in ids:\n",
    "        return False\n",
    "    else:\n",
    "        ids.append(row['p_id'])\n",
    "        return True\n",
    "    \n",
    "filtered = dataset.filter(my_filter)"
   ]
  },
  {
   "cell_type": "code",
   "execution_count": 12,
   "id": "b560fb03",
   "metadata": {},
   "outputs": [
    {
     "data": {
      "text/plain": [
       "3192"
      ]
     },
     "execution_count": 12,
     "metadata": {},
     "output_type": "execute_result"
    }
   ],
   "source": [
    "len(ids)"
   ]
  },
  {
   "cell_type": "code",
   "execution_count": 58,
   "id": "6157f9c4",
   "metadata": {},
   "outputs": [],
   "source": [
    "from pathlib import Path\n",
    "folder = Path('problem_descriptions/')\n",
    "\n",
    "questions = []\n",
    "\n",
    "for file in folder.iterdir():\n",
    "    name = file.name\n",
    "    question = file.read_text()\n",
    "    questions.append((name, question))"
   ]
  },
  {
   "cell_type": "code",
   "execution_count": 59,
   "id": "82623172",
   "metadata": {},
   "outputs": [],
   "source": [
    "def filter_images(question):\n",
    "    if ('<img' in question[1]) or ('href' in question[1]): \n",
    "        return False # filters images & links\n",
    "    return True\n",
    "\n",
    "no_images = list(filter(filter_images, questions))"
   ]
  },
  {
   "cell_type": "code",
   "execution_count": 60,
   "id": "0329a9e3",
   "metadata": {},
   "outputs": [],
   "source": [
    "ascii_with_newlines_pattern = re.compile(r'^[\\x09\\x0A\\x0D\\x20-\\x7E]*$')\n",
    "\n",
    "def is_english(question):\n",
    "    return bool(ascii_with_newlines_pattern.match(question[1]))\n",
    "\n",
    "no_images_english = list(filter(is_english, no_images))"
   ]
  },
  {
   "cell_type": "code",
   "execution_count": 63,
   "id": "706044e7",
   "metadata": {},
   "outputs": [
    {
     "data": {
      "text/plain": [
       "[('p00000.html',\n",
       "  '\\n\\n<H1>QQ</H1>\\n\\n\\n<p>\\nWrite a program which prints multiplication tables in the following format:\\n</p>\\n\\n<pre>\\n1x1=1\\n1x2=2\\n.\\n.\\n9x8=72\\n9x9=81\\n</pre>\\n\\n<H2>Input</H2>\\n\\n<p>\\nNo input.\\n</p>\\n\\n<H2>Output</H2>\\n\\n<pre>\\n1x1=1\\n1x2=2\\n.\\n.\\n9x8=72\\n9x9=81\\n</pre>\\n\\n\\n<H2>Template for C</H2>\\n\\n<pre>\\n#include&lt;stdio.h&gt;\\n\\nint main(){\\n\\n    return 0;\\n}\\n</pre>\\n\\n<H2>Template for C++</H2>\\n\\n<pre>\\n#include&lt;iostream&gt;\\nusing namespace std;\\n\\nint main(){\\n\\n    return 0;\\n}\\n</pre>\\n\\n\\n<H2>Template for Java</H2>\\n\\n<pre>\\nclass Main{\\n    public static void main(String[] a){\\n\\n    }\\n}\\n</pre>'),\n",
       " ('p00002.html',\n",
       "  '\\n<H1>Digit Number</H1>\\n\\n<p>\\nWrite a program which computes the digit number of sum of two integers <var>a</var> and <var>b</var>.\\n</p>\\n\\n<H2>Input</H2>\\n\\n<p>\\nThere are several test cases. Each test case consists of two non-negative integers <var>a</var> and <i>b</i> which are separeted by a space in a line. The input terminates with EOF.\\n</p>\\n\\n<h2>Constraints</h2>\\n\\n<ul>\\n<li>0 &le; <var>a</var>, <var>b</var> &le; 1,000,000</li>\\n<li>The number of datasets &le; 200</li>\\n</ul>\\n\\n<H2>Output</H2>\\n\\n<p>\\nPrint the number of digits of <var>a</var> + <var>b</var> for each data set.\\n</p>\\n\\n<H2>Sample Input</H2>\\n\\n<pre>\\n5 7\\n1 99\\n1000 999\\n</pre>\\n\\n<H2>Output for the Sample Input</H2>\\n\\n<pre>\\n2\\n3\\n4\\n</pre>\\n\\n\\n'),\n",
       " ('p00001.html',\n",
       "  '\\n<H1>List of Top 3 Hills</H1>\\n\\n<p>\\nThere is a data which provides heights (in meter) of mountains. The data is only for ten mountains.\\n</p>\\n\\n<p>\\nWrite a program which prints heights of the top three mountains in descending order.\\n</p>\\n\\n<H2>Input</H2>\\n\\n<pre>\\nHeight of mountain 1\\nHeight of mountain 2\\nHeight of mountain 3\\n .\\n .\\nHeight of mountain 10\\n</pre>\\n\\n<h2>Constraints</h2>\\n\\n<p>\\n0 &le; height of mountain (integer) &le; 10,000\\n</p>\\n\\n<H2>Output</H2>\\n\\n<pre>\\nHeight of the 1st mountain\\nHeight of the 2nd mountain\\nHeight of the 3rd mountain\\n</pre>\\n\\n<H2>Sample Input 1</H2>\\n<pre>\\n1819\\n2003\\n876\\n2840\\n1723\\n1673\\n3776\\n2848\\n1592\\n922\\n</pre>\\n\\n<H2>Output for the Sample Input 1</H2>\\n\\n<pre>\\n3776\\n2848\\n2840\\n</pre>\\n\\n\\n\\n<H2>Sample Input 2</H2>\\n<pre>\\n100\\n200\\n300\\n400\\n500\\n600\\n700\\n800\\n900\\n900\\n</pre>\\n\\n<H2>Output for the Sample Input 2</H2>\\n\\n<pre>\\n900\\n900\\n800\\n</pre>\\n'),\n",
       " ('p00005.html',\n",
       "  '\\n<H1>GCD and LCM</H1>\\n\\n<p>\\nWrite a program which computes the greatest common divisor (GCD) and the least common multiple (LCM) of given <var>a</var> and <var>b</var>. \\n</p>\\n\\n<H2>Input</H2>\\n\\n<p>\\nInput consists of several data sets. Each data set contains <var>a</var> and <var>b</var> separated by a single space in a line. The input terminates with EOF.\\n</p>\\n\\n<h2>Constraints</h2>\\n\\n<ul>\\n<li> 0 &lt; <var>a, b</var> &le; 2,000,000,000</li>\\n<li> LCM(<var>a, b</var>) &le; 2,000,000,000</li>\\n<li> The number of data sets &le; 50</li>\\n</ul>\\n\\n<H2>Output</H2>\\n\\n<p>\\nFor each data set, print GCD and LCM separated by a single space in a line.\\n</p>\\n\\n<H2>Sample Input</H2>\\n<pre>\\n8 6\\n50000000 30000000\\n</pre>\\n\\n<H2>Output for the Sample Input</H2>\\n\\n<pre>\\n2 24\\n10000000 150000000\\n</pre>\\n\\n'),\n",
       " ('p00006.html',\n",
       "  '\\n<H1>Reverse Sequence</H1>\\n\\n<p>\\nWrite a program which reverses a given string <var>str</var>.\\n</p>\\n\\n<H2>Input</H2>\\n\\n<p>\\n<var>str</var> (the size of <var>str</var> &le; 20) is given in a line.\\n</p>\\n\\n<H2>Output</H2>\\n\\n<p>\\nPrint the reversed <var>str</var> in a line.\\n</p>\\n\\n<H2>Sample Input</H2>\\n<pre>\\nw32nimda\\n</pre>\\n\\n<H2>Output for the Sample Input</H2>\\n\\n<pre>\\nadmin23w\\n</pre>\\n\\n\\n'),\n",
       " ('p00003.html',\n",
       "  '\\n<H1>Is it a Right Triangle?</H1>\\n\\n<p>\\nWrite a program which judges wheather given length of three side form a right triangle. Print \"<span>YES</span>\" if the given sides (integers) form a right triangle, \"<span>NO</span>\" if not so.\\n</p>\\n\\n<H2>Input</H2>\\n\\n<p>\\nInput consists of several data sets. In the first line, the number of data set, <var>N</var> is given. Then, <var>N</var> lines follow, each line corresponds to a data set. A data set consists of three integers separated by a single space.\\n</p>\\n\\n<h2>Constraints</h2>\\n\\n<ul>\\n<li> 1 &le; length of the side &le; 1,000</li>\\n<li> <var>N</var> &le; 1,000</li>\\n</ul>\\n\\n\\n<H2>Output</H2>\\n\\n<p>\\nFor each data set, print \"<span>YES</span>\" or \"<span>NO</span>\".\\n</p>\\n\\n<H2>Sample Input</H2>\\n<pre>\\n3\\n4 3 5\\n4 3 6\\n8 8 8\\n</pre>\\n\\n<H2>Output for the Sample Input</H2>\\n\\n<pre>\\nYES\\nNO\\nNO\\n</pre>\\n\\n\\n'),\n",
       " ('p00004.html',\n",
       "  '\\n<H1>Simultaneous Equation</H1>\\n\\n<p>\\nWrite a program which solve a simultaneous equation:<br>\\n<br>\\n<var> ax + by = c</var><br>\\n<var> dx + ey = f</var><br>\\n<br>\\n\\nThe program should print <var>x</var> and <var>y</var> for given <var>a</var>, <var>b</var>, <var>c</var>, <var>d</var>, <var>e</var> and <var>f</var> (-1,000 &le; <var>a, b, c, d, e, f</var> &le; 1,000). You can suppose that given equation has a unique solution.\\n</p>\\n\\n\\n<H2>Input</H2>\\n\\n<p>\\nThe input consists of several data sets, 1 line for each data set. In a data set, there will be <var>a, b, c, d, e, f</var> separated by a single space. The input terminates with EOF.\\n</p>\\n\\n<H2>Output</H2>\\n\\n<p>\\nFor each data set, print <var>x</var> and <var>y</var> separated by a single space. Print the solution to three places of decimals. Round off the solution to three decimal places.\\n</p>\\n\\n<H2>Sample Input 1</H2>\\n<pre>\\n1 2 3 4 5 6\\n2 -1 -2 -1 -1 -5\\n</pre>\\n\\n<H2>Output for the Sample Input 1</H2>\\n<pre>\\n-1.000 2.000\\n1.000 4.000\\n</pre>\\n\\n<H2>Sample Input 2</H2>\\n\\n<pre>\\n2 -1 -3 1 -1 -3\\n2 -1 -3 -9 9 27\\n</pre>\\n\\n<H2>Output for the Sample Input 2</H2>\\n\\n<pre>\\n0.000 3.000\\n0.000 3.000\\n</pre>\\n\\n\\n'),\n",
       " ('p00007.html',\n",
       "  '\\n<H1>Debt Hell</H1>\\n\\n<p>\\nYour friend who lives in undisclosed country is involved in debt. He is borrowing 100,000-yen from a loan shark. The loan shark adds 5% interest of the debt and rounds it to the nearest 1,000 above week by week.\\n</p>\\n\\n<p>\\nWrite a program which computes the amount of the debt in <var>n</var> weeks. \\n</p>\\n\\n<H2>Input</H2>\\n\\n<p>\\nAn integer <var>n</var> (0 &le; <var>n</var> &le; 100) is given in a line.\\n</p>\\n\\n<H2>Output</H2>\\n\\n<p>\\nPrint the amout of the debt in a line.\\n</p>\\n\\n<H2>Sample Input</H2>\\n\\n<pre>\\n5\\n</pre>\\n\\n<H2>Output for the Sample Input</H2>\\n\\n<pre>\\n130000\\n</pre>\\n\\n'),\n",
       " ('p00008.html',\n",
       "  '\\n<H1>Sum of 4 Integers</H1>\\n\\n<p>\\nWrite a program which reads an integer <var>n</var>  and identifies the number of combinations of <var>a, b, c</var> and <var>d</var> (0 &le; <var>a, b, c, d</var> &le; 9) which meet the following equality:<br>\\n<br>\\n<var>a + b + c + d = n</var><br>\\n<br>\\n\\nFor example, for <var>n</var> = 35, we have 4 different combinations of (<var>a, b, c, d</var>): (<var>8, 9, 9, 9</var>), (<var>9, 8, 9, 9</var>), (<var>9, 9, 8, 9</var>), and (<var>9, 9, 9, 8</var>).\\n</p>\\n\\n<H2>Input</H2>\\n\\n<p>\\nThe input consists of several datasets. Each dataset consists of <var>n</var> (1 &le; <var>n</var> &le; 50) in a line. The number of datasets is less than or equal to 50.\\n</p>\\n\\n<H2>Output</H2>\\n\\n<p>\\nPrint the number of combination in a line.\\n</p>\\n\\n<H2>Sample Input</H2>\\n\\n<pre>\\n35\\n1\\n</pre>\\n\\n<H2>Output for the Sample Input</H2>\\n\\n<pre>\\n4\\n4\\n</pre>\\n\\n\\n\\n'),\n",
       " ('p00009.html',\n",
       "  '\\n<H1>Prime Number</H1>\\n\\n<p>\\nWrite a program which reads an integer <var>n</var> and prints the number of prime numbers which are less than or equal to <var>n</var>. A prime number is a natural number which has exactly two distinct natural number divisors: 1 and itself. For example, the first four prime numbers are: 2, 3, 5 and 7.\\n</p>\\n\\n<H2>Input</H2>\\n\\n<p>\\nInput consists of several datasets. Each dataset has an integer <var>n</var> (1 &le; <var>n</var> &le; 999,999) in a line.\\n</p>\\n\\n<p>\\nThe number of datasets is less than or equal to 30.\\n</p>\\n\\n<H2>Output</H2>\\n\\n<p>\\nFor each dataset, prints the number of prime numbers.\\n</p>\\n\\n<H2>Sample Input</H2>\\n\\n<pre>\\n10\\n3\\n11\\n</pre>\\n\\n<H2>Output for the Sample Input</H2>\\n\\n<pre>\\n4\\n2\\n5\\n</pre>\\n\\n'),\n",
       " ('p00010.html',\n",
       "  '\\n<script type=\"text/x-mathjax-config\">\\n  MathJax.Hub.Config({ tex2jax: { inlineMath: [[\"$\",\"$\"], [\"\\\\\\\\(\",\"\\\\\\\\)\"]], processEscapes: true }});\\n</script>\\n<script type=\"text/javascript\" src=\"https://cdn.mathjax.org/mathjax/latest/MathJax.js?config=TeX-MML-AM_CHTML\">\\n</script>\\n\\n<H1>Circumscribed Circle of A Triangle.</H1>\\n\\n<p>\\nWrite a program which prints the central coordinate $(p_x, p_y)$ and the radius $r$ of a circumscribed circle of a triangle which is constructed by three points $(x_1, y_1)$, $(x_2, y_2)$ and $(x_3, y_3)$ on the plane surface. \\n</p>\\n\\n<H2>Input</H2>\\n\\n<p>\\nInput consists of several datasets. In the first line, the number of datasets $n$ is given. Each dataset consists of:<br/>\\n<br/>\\n$x_1$ $y_1$ $x_2$ $y_2$ $x_3$ $y_3$<br/>\\n<br/>\\n\\nin a line. All the input are real numbers.\\n</p>\\n\\n<H2>Output</H2>\\n\\n<p>\\nFor each dataset, print $p_x$, $p_y$ and $r$ separated by a space in a line. Print the solution to three places of decimals. Round off the solution to three decimal places.\\n</p>\\n\\n<h2>Constraints</h2>\\n\\n<ul>\\n<li>$-100 \\\\leq x_1, y_1, x_2, y_2, x_3, y_3 \\\\leq 100$</li>\\n<li>$ n \\\\leq 20$</li>\\n</ul>\\n\\n<H2>Sample Input</H2>\\n\\n<pre>\\n1\\n0.0 0.0 2.0 0.0 2.0 2.0\\n</pre>\\n\\n<H2>Output for the Sample Input</H2>\\n\\n<pre>\\n1.000 1.000 1.414\\n</pre>\\n\\n\\n'),\n",
       " ('p00012.html',\n",
       "  '\\n<script type=\"text/x-mathjax-config\">\\n  MathJax.Hub.Config({ tex2jax: { inlineMath: [[\"$\",\"$\"], [\"\\\\\\\\(\",\"\\\\\\\\)\"]], processEscapes: true }});\\n</script>\\n<script type=\"text/javascript\" src=\"https://cdn.mathjax.org/mathjax/latest/MathJax.js?config=TeX-MML-AM_CHTML\">\\n</script>\\n\\n\\n<H1>A Point in a Triangle</H1>\\n\\n<p>\\nThere is a triangle formed by three points $(x_1, y_1)$, $(x_2, y_2)$, $(x_3, y_3)$ on a plain.\\n</p>\\n<p>\\nWrite a program which prints \"<span>YES</span>\" if a point $P$ $(x_p, y_p)$ is in the triangle and \"<span>NO</span>\" if not.\\n</p>\\n\\n<!--\\n<p>\\nYou can suppose that P is never on the points nor sides of the triangle.\\n</p>\\n-->\\n\\n\\n<H2>Input</H2>\\n\\n<p>\\nInput consists of several datasets. Each dataset consists of:<br/>\\n<br/>\\n$x_1$ $y_1$ $x_2$ $y_2$ $x_3$ $y_3$ $x_p$ $y_p$<br/>\\n</p>\\n\\n<p>\\nAll the input are real numbers. Input ends with EOF. The number of datasets is less than or equal to 100.\\n</p>\\n\\n<h2>Constraints</h2>\\n<p>\\nYou can assume that:\\n</p>\\n\\n<ul>\\n<li>$ -100 \\\\leq x_1, y_1, x_2, y_2, x_3, y_3, x_p, y_p \\\\leq 100$</li>\\n<li>1.0 $\\\\leq$ Length of each side of a tringle</li>\\n<li>0.001 $\\\\leq$ Distance between $P$ and each side of a triangle</li>\\n</ul>\\n\\n<H2>Output</H2>\\n\\n<p>\\nFor each dataset, print \"<span>YES</span>\" or \"<span>NO</span>\" in a line.\\n</p>\\n\\n<H2>Sample Input</H2>\\n\\n<pre>\\n0.0 0.0 2.0 0.0 2.0 2.0 1.5 0.5\\n0.0 0.0 1.0 4.0 5.0 3.0 -1.0 3.0\\n</pre>\\n\\n<H2>Output for the Sample Input</H2>\\n\\n<pre>\\nYES\\nNO\\n</pre>\\n\\n\\n'),\n",
       " ('p00015.html',\n",
       "  '\\n<H1>National Budget</H1>\\n\\n<p>\\nA country has a budget of more than 81 trillion yen. We want to process such data, but conventional integer type which uses signed 32 bit can represent up to 2,147,483,647.\\n</p>\\n\\n<p>\\nYour task is to write a program which reads two integers (more than or equal to zero), and prints a sum of these integers.\\n</p>\\n\\n<p>\\nIf given integers or the sum have more than 80 digits, print \"overflow\".\\n</p>\\n\\n<H2>Input</H2>\\n\\n<p>\\nInput consists of several datasets. In the first line, the number of datasets <var>N</var> (1 &le; <var>N</var> &le; 50) is given. Each dataset consists of 2 lines:\\n</p>\\n\\n<pre>\\nThe first integer\\nThe second integer\\n</pre>\\n\\n<p>\\nThe integer has at most 100 digits.\\n</p>\\n\\n<H2>Output</H2>\\n\\n<p>\\nFor each dataset, print the sum of given integers in a line.\\n</p>\\n\\n<H2>Sample Input</H2>\\n\\n<pre>\\n6\\n1000\\n800\\n9999999999999999999999999999999999999999\\n1\\n99999999999999999999999999999999999999999999999999999999999999999999999999999999\\n1\\n99999999999999999999999999999999999999999999999999999999999999999999999999999999\\n0\\n100000000000000000000000000000000000000000000000000000000000000000000000000000000\\n1\\n100000000000000000000000000000000000000000000000000000000000000000000000000000000\\n100000000000000000000000000000000000000000000000000000000000000000000000000000000\\n</pre>\\n\\n<H2>Output for the Sample Input</H2>\\n\\n<pre>\\n1800\\n10000000000000000000000000000000000000000\\noverflow\\n99999999999999999999999999999999999999999999999999999999999999999999999999999999\\noverflow\\noverflow\\n</pre>\\n\\n\\n'),\n",
       " ('p00017.html',\n",
       "  '\\n<H1>Caesar Cipher</H1>\\n\\n<p>\\nIn cryptography, Caesar cipher is one of the simplest and most widely known encryption method. Caesar cipher is a type of substitution cipher in which each letter in the text is replaced by a letter some fixed number of positions down the alphabet. For example, with a shift of 1, \\'a\\' would be replaced by \\'b\\', \\'b\\' would become \\'c\\', \\'y\\' would become \\'z\\', \\'z\\' would become \\'a\\', and so on. In that case, a text:\\n<pre>\\nthis is a pen\\n</pre>\\n<p>\\nis would become:\\n</p>\\n<pre>\\nuijt jt b qfo\\n</pre>\\n\\n<p>\\nWrite a program which reads a text encrypted by Caesar Chipher and prints the corresponding decoded text. The number of shift is secret and it depends on datasets, but you can assume that the decoded text includes any of the following words: \"the\", \"this\", or \"that\".\\n</p>\\n\\n\\n<H2>Input</H2>\\n<p>\\nInput consists of several datasets. Each dataset consists of texts in a line. Input ends with EOF. The text consists of lower-case letters, periods, space, and end-of-lines. Only the letters have been encrypted. A line consists of at most 80 characters.\\n</p>\\n\\n<p>\\nYou may assume that you can create one decoded text which includes any of \"the\", \"this\", or \"that\" from the given input text.\\n</p>\\n\\n<p>\\nThe number of datasets is less than or equal to 20.\\n</p>\\n\\n\\n\\n<H2>Output</H2>\\n\\n<p>\\nPrint decoded texts in a line.\\n</p>\\n\\n<H2>Sample Input</H2>\\n\\n<pre>\\nxlmw mw xli tmgxyvi xlex m xsso mr xli xvmt.\\n</pre>\\n\\n<H2>Output for the Sample Input</H2>\\n\\n<pre>\\nthis is the picture that i took in the trip.\\n</pre>\\n\\n\\n'),\n",
       " ('p00018.html',\n",
       "  '\\n<H1>Sorting Five Numbers</H1>\\n\\n<p>\\nWrite a program which reads five numbers and sorts them in descending order.\\n</p>\\n\\n<H2>Input</H2>\\n<p>\\nInput consists of five numbers <var>a</var>, <var>b</var>, <var>c</var>, <var>d</var> and  <var>e</var> (-100000 &le; <var>a</var>, <var>b</var>, <var>c</var>, <var>d</var>,<var>e</var> &le; 100000). The five numbers are separeted by a space.\\n</p>\\n\\n<H2>Output</H2>\\n\\n<p>\\nPrint the ordered numbers in a line. Adjacent numbers should be separated by a space.\\n</p>\\n\\n<H2>Sample Input</H2>\\n\\n<pre>\\n3 6 9 7 5\\n</pre>\\n\\n<H2>Output for the Sample Input</H2>\\n\\n<pre>\\n9 7 6 5 3\\n</pre>\\n\\n\\n\\n'),\n",
       " ('p00020.html',\n",
       "  '\\n<H1>Capitalize</H1>\\n\\n<p>\\nWrite a program which replace all the lower-case letters of a given text with the corresponding captital letters. \\n</p>\\n\\n<H2>Input</H2>\\n\\n<p>\\nA text including lower-case letters, periods, and space is given in a line. The number of characters in the text is less than or equal to 200.\\n</p>\\n\\n<H2>Output</H2>\\n\\n<p>\\nPrint the converted text.\\n</p>\\n\\n<H2>Sample Input</H2>\\n\\n<pre>\\nthis is a pen.\\n</pre>\\n\\n<H2>Output for the Sample Input</H2>\\n\\n<pre>\\nTHIS IS A PEN.\\n</pre>\\n\\n\\n'),\n",
       " ('p00019.html',\n",
       "  '\\n<H1>Factorial</H1>\\n\\n<p>\\nWrite a program which reads an integer <var>n</var> and prints the factorial of <var>n</var>. You can assume that <var>n</var> &le; 20.\\n</p>\\n\\n<H2>Input</H2>\\n\\n<p>\\nAn integer <var>n</var> (1 &le; <var>n</var> &le; 20) in a line.\\n</p>\\n\\n<H2>Output</H2>\\n\\n<p>\\nPrint the factorial of <var>n</var> in a line.\\n</p>\\n\\n<H2>Sample Input</H2>\\n\\n<pre>\\n5\\n</pre>\\n\\n<H2>Output for the Sample Input</H2>\\n\\n<pre>\\n120\\n</pre>\\n\\n'),\n",
       " ('p00021.html',\n",
       "  '\\n<script type=\"text/x-mathjax-config\">\\n  MathJax.Hub.Config({ tex2jax: { inlineMath: [[\"$\",\"$\"], [\"\\\\\\\\(\",\"\\\\\\\\)\"]], processEscapes: true }});\\n</script>\\n<script type=\"text/javascript\" src=\"https://cdn.mathjax.org/mathjax/latest/MathJax.js?config=TeX-MML-AM_CHTML\">\\n</script>\\n\\n<H1>Parallelism</H1>\\n\\n<p>\\nThere are four points: $A(x_1, y_1)$, $B(x_2, y_2)$, $C(x_3, y_3)$, and $D(x_4, y_4)$. Write a program which determines whether the line $AB$ and the line $CD$ are parallel. If those two lines are parallel, your program should prints \"<span>YES</span>\" and if not prints \"<span>NO</span>\". \\n</p>\\n\\n<H2>Input</H2>\\n\\n<p>\\nInput consists of several datasets. In the first line, you are given the number of datasets $n$ ($n \\\\leq 100$). There will be $n$ lines where each line correspondgs to each dataset. Each dataset consists of eight real numbers:<br/>\\n<br/>\\n$x_1$ $y_1$ $x_2$ $y_2$ $x_3$ $y_3$ $x_4$ $y_4$<br/>\\n</p>\\n\\n<p>\\nYou can assume that $-100 \\\\leq x_1, y_1, x_2, y_2, x_3, y_3, x_4, y_4 \\\\leq 100$.\\nEach value is a real number with at most 5 digits after the decimal point.\\n</p>\\n\\n<H2>Output</H2>\\n\\n<p>\\nFor each dataset, print \"<span>YES</span>\" or \"<span>NO</span>\" in a line.\\n</p>\\n\\n<H2>Sample Input</H2>\\n\\n<pre>\\n2\\n0.0 0.0 1.0 1.0 1.0 0.0 2.0 1.0\\n3.0 2.0 9.0 6.0 13.0 5.0 7.0 9.0\\n</pre>\\n\\n<H2>Output for the Sample Input</H2>\\n\\n<pre>\\nYES\\nNO\\n</pre>\\n\\n\\n'),\n",
       " ('p00022.html',\n",
       "  '\\n\\n<H1>Maximum Sum Sequence</H1>\\n\\n<p>\\nGiven a sequence of numbers <var>a<sub>1</sub></var>, <var>a<sub>2</sub></var>, <var>a<sub>3</sub></var>, ..., <var>a<sub>n</sub></var>, find the maximum sum of a contiguous subsequence of those numbers. Note that, a subsequence of one element is also a <i>contiquous</i> subsequence.\\n</p>\\n\\n<H2>Input</H2>\\n<p>\\nThe input consists of multiple datasets. Each data set consists of:\\n\\n<pre>\\n<var>n</var>\\n<var>a<sub>1</sub></var>\\n<var>a<sub>2</sub></var>\\n.\\n.\\n<var>a<sub>n</sub></var>\\n</pre>\\n\\n<p>\\nYou can assume that 1 &le; <var>n</var> &le; 5000 and -100000 &le; <var>a<sub>i</sub></var> &le; 100000.\\n</p>\\n\\n<p>\\nThe input end with a line consisting of a single 0.\\n</p>\\n\\n<H2>Output</H2>\\n\\n<p>\\nFor each dataset, print the maximum sum in a line.\\n</p>\\n\\n<H2>Sample Input</H2>\\n<pre>\\n7\\n-5\\n-1\\n6\\n4\\n9\\n-6\\n-7\\n13\\n1\\n2\\n3\\n2\\n-2\\n-1\\n1\\n2\\n3\\n2\\n1\\n-2\\n1\\n3\\n1000\\n-200\\n201\\n0\\n</pre>\\n\\n<H2>Output for the Sample Input</H2>\\n\\n<pre>\\n19\\n14\\n1001\\n</pre>\\n\\n\\n'),\n",
       " ('p00023.html',\n",
       "  '\\n<script type=\"text/x-mathjax-config\">\\n  MathJax.Hub.Config({ tex2jax: { inlineMath: [[\"$\",\"$\"], [\"\\\\\\\\(\",\"\\\\\\\\)\"]], processEscapes: true }});\\n</script>\\n<script type=\"text/javascript\" src=\"https://cdn.mathjax.org/mathjax/latest/MathJax.js?config=TeX-MML-AM_CHTML\">\\n</script>\\n\\n<H1>Circles Intersection</H1>\\n\\n<p>\\nYou are given circle $A$ with radius $r_a$ and with central coordinate $(x_a, y_a)$ and circle $B$ with radius $r_b$ and with central coordinate $(x_b, y_b)$.\\n</p>\\n<p>\\nWrite a program which prints:\\n</p>\\n<ul>\\n<li>\"2\" if $B$ is in $A$,</li>\\n<li>\"-2\" if $A$ is in $B$, </li>\\n<li>\"1\" if circumference of $A$ and $B$ intersect, and</li>\\n<li>\"0\" if $A$ and $B$ do not overlap.</li>\\n</ul>\\n\\n<p>\\nYou may assume that $A$ and $B$ are not identical.\\n</p>\\n\\n<H2>Input</H2>\\n\\n<p>\\nThe input consists of multiple datasets. The first line consists of an integer $N$ ($N \\\\leq 50$), the number of datasets. There will be $N$ lines where each line represents each dataset. Each data set consists of real numbers:<br/>\\n<br/>\\n$x_a$ $y_a$ $r_a$ $x_b$ $y_b$ $r_b$<br/>\\n</p>\\n\\n<H2>Output</H2>\\n\\n<p>\\nFor each dataset, print 2, -2, 1, or 0 in a line.\\n</p>\\n\\n<H2>Sample Input</H2>\\n\\n<pre>\\n2\\n0.0 0.0 5.0 0.0 0.0 4.0\\n0.0 0.0 2.0 4.1 0.0 2.0\\n</pre>\\n\\n<H2>Output for the Sample Input</H2>\\n\\n<pre>\\n2\\n0\\n</pre>\\n\\n\\n\\n'),\n",
       " ('p00025.html',\n",
       "  \"\\n<H1>Hit and Blow</H1>\\n\\n<p>\\nLet's play Hit and Blow game. <i>A</i> imagines four numbers and <i>B</i> guesses the numbers. After <i>B</i> picks out four numbers, <i>A</i> answers:\\n</p>\\n\\n<ul>\\n<li> The number of numbers which have the same place with numbers <i>A</i> imagined (Hit) </li>\\n<li> The number of numbers included (but different place) in the numbers <i>A</i> imagined (Blow)</li>\\n</ul>\\n\\n<p>\\nFor example, if <i>A</i> imagined numbers:\\n</p>\\n\\n<pre>\\n9 1 8 2\\n</pre>\\n<p>\\nand <i>B</i> chose:\\n</p>\\n<pre>\\n4 1 5 9\\n</pre>\\n<p>\\n<i>A</i> should say 1 Hit and 1 Blow.\\n</p>\\n\\n\\n<p>\\nWrite a program which reads four numbers <i>A</i> imagined and four numbers <i>B</i> chose and prints the number of Hit and Blow respectively. You may assume that the four numbers are all different and within from 0 to 9.\\n</p>\\n<H2>Input</H2>\\n\\n<p>\\nThe input consists of multiple datasets. Each dataset set consists of:\\n</p>\\n<pre>\\n<var>a<sub>1</sub></var> <var>a<sub>2</sub></var> <var>a<sub>3</sub></var> <var>a<sub>4</sub></var>\\n<var>b<sub>1</sub></var> <var>b<sub>2</sub></var> <var>b<sub>3</sub></var> <var>b<sub>4</sub></var>\\n</pre>\\n<p>\\n, where <var>a<sub>i</sub></var> (0 &le; <var>a<sub>i</sub></var> &le; 9) is <var>i</var>-th number <i>A</i>  imagined and <var>b<sub>i</sub></var> (0 &le; <var>b<sub>i</sub></var> &le; 9) is <var>i</var>-th number <i>B</i> chose.\\n</p>\\n\\n<p>\\nThe input ends with EOF. The number of datasets is less than or equal to 50.\\n</P>\\n\\n<H2>Output</H2>\\n\\n<p>\\nFor each dataset, print the number of Hit and Blow in a line. These two numbers should be separated by a space.\\n</p>\\n\\n<H2>Sample Input</H2>\\n\\n<pre>\\n9 1 8 2\\n4 1 5 9\\n4 6 8 2\\n4 6 3 2\\n</pre>\\n\\n<H2>Output for the Sample Input</H2>\\n\\n<pre>\\n1 1\\n3 0\\n</pre>\\n\\n\\n\\n\"),\n",
       " ('p00027.html',\n",
       "  '\\n\\n<H1>What day is today?</H1>\\n\\n<p>\\nYour task is to write a program which reads a date (from 2004/1/1 to 2004/12/31) and prints the day of the date. Jan. 1, 2004, is Thursday. Note that 2004 is a leap year and we have Feb. 29.\\n</p>\\n\\n<H2>Input</H2>\\n\\n<p>\\nThe input is a sequence of datasets. The end of the input is indicated by a line containing one zero. Each dataset consists of two integers <var>m</var> and <var>d</var> separated by a single space in a line. These integers respectively represent the month and the day. \\n</p>\\n\\n<p>\\nThe number of datasets is less than or equal to 50.\\n</p>\\n\\n<H2>Output</H2>\\n\\n<p>\\nFor each dataset, print the day (please see the following words) in a line.\\n</p>\\n<pre>\\nMonday\\nTuesday\\nWednesday\\nThursday\\nFriday\\nSaturday\\nSunday\\n</pre>\\n\\n\\n\\n<H2>Sample Input</H2>\\n\\n<pre>\\n1 1\\n2 29\\n0 0\\n</pre>\\n\\n<H2>Output for the Sample Input</H2>\\n\\n<pre>\\nThursday\\nSunday\\n</pre>\\n\\n\\n'),\n",
       " ('p00028.html',\n",
       "  '\\n<h1>Mode Value</h1>\\n\\n<p>\\nYour task is to write a program which reads a sequence of integers and prints mode values of the sequence.\\nThe mode value is the element which occurs most frequently. \\n</p>\\n\\n<H2>Input</H2>\\n\\n<p>\\nA sequence of integers <var>a<sub>i</sub></var> (1 &le; <var>a<sub>i</sub></var> &le; 100). The number of integers is less than or equals to 100.\\n\\n</p>\\n\\n<H2>Output</H2>\\n\\n<p>\\nPrint the mode values. If there are several mode values, print them in ascending order.\\n</p>\\n\\n<H2>Sample Input</H2>\\n\\n<pre>\\n5\\n6\\n3\\n5\\n8\\n7\\n5\\n3\\n9\\n7\\n3\\n4\\n</pre>\\n\\n<H2>Output for the Sample Input</H2>\\n\\n<pre>\\n3\\n5\\n</pre>\\n\\n<p>\\nFor example, 3 and 5 respectively occur three times, 7 occurs two times, and others occur only one. So, the mode values are 3 and 5.\\n</p>\\n\\n\\n'),\n",
       " ('p00029.html',\n",
       "  '\\n<H1>English Sentence</H1>\\n\\n<p>\\nYour task is to write a program which reads a text and prints two words. The first one is the word which is arise most frequently in the text. The second one is the word which has the maximum number of letters.\\n</p>\\n\\n<p>\\nThe text includes only alphabetical characters and spaces. A word is a sequence of letters which is separated by the spaces. \\n</p>\\n\\n<H2>Input</H2>\\n\\n<p>\\nA text is given in a line. You can assume the following conditions:\\n</p>\\n\\n<ul>\\n<li>The number of letters in the text is less than or equal to 1000.</li>\\n<li> The number of letters in a word is less than or equal to 32.</li>\\n<li> There is only one word which is arise most frequently in given text.</li>\\n<li> There is only one word which has the maximum number of letters in given text.</li>\\n</ul>\\n\\n<H2>Output</H2>\\n\\n<p>\\nThe two words separated by a space.\\n</p>\\n\\n<H2>Sample Input</H2>\\n\\n<pre>\\nThank you for your mail and your lectures\\n</pre>\\n\\n<H2>Output for the Sample Input</H2>\\n\\n<pre>\\nyour lectures\\n</pre>\\n\\n\\n\\n'),\n",
       " ('p00100.html',\n",
       "  '\\n<H1>Sale Result</H1>\\n\\n<p>\\nThere is data on sales of your company. Your task is to write a program which identifies good workers.\\n</p>\\n\\n<p>\\nThe program should read a list of data where each item includes the employee ID <i>i</i>, the amount of sales <i>q</i> and the corresponding unit price <i>p</i>. Then, the program should print IDs of employees whose total sales proceeds (i.e. sum of p &times; q) is greater than or equal to 1,000,000 in the order of inputting. If there is no such employees, the program should print \"NA\". You can suppose that <i>n</i> &lt; 4000, and each employee has an unique ID. The unit price <i>p</i> is less than or equal to 1,000,000 and the amount of sales <i>q</i> is less than or equal to 100,000.\\n</p>\\n\\n\\n<H2>Input</H2>\\n\\n<p>\\nThe input consists of several datasets. The input ends with a line including a single 0. Each dataset consists of:\\n</p>\\n<pre class=\"exp\">\\n<i>n</i> (the number of data in the list)\\n<i>i</i> <i>p</i> <i>q</i>\\n<i>i</i> <i>p</i> <i>q</i>\\n :\\n :\\n<i>i</i> <i>p</i> <i>q</i>\\n</pre>\\n\\n\\n<H2>Output</H2>\\n\\n<p>\\nFor each dataset, print a list of employee IDs or a text \"NA\"\\n</p>\\n\\n<H2>Sample Input</H2>\\n\\n<pre>\\n4\\n1001 2000 520\\n1002 1800 450\\n1003 1600 625\\n1001 200 1220\\n2\\n1001 100 3\\n1005 1000 100\\n2\\n2013 5000 100\\n2013 5000 100\\n0\\n</pre>\\n\\n<H2>Output for the Sample Input</H2>\\n\\n<pre>\\n1001\\n1003\\nNA\\n2013\\n</pre>\\n\\n\\n'),\n",
       " ('p00101.html',\n",
       "  '\\n<H1>Aizu PR</H1>\\n\\n<p>\\nAn English booklet has been created for publicizing Aizu to the world.\\nWhen you read it carefully, you found a misnomer (an error in writing) on the last name of Masayuki Hoshina, the lord of the Aizu domain. The booklet says \"Hoshino\" not \"Hoshina\".\\n</p>\\n\\n<p>\\nYour task is to write a program which replace all the words \"Hoshino\" with \"Hoshina\". You can assume that the number of characters in a text is less than or equal to 1000.\\n</p>\\n\\n<H2>Input</H2>\\n\\n<p>\\nThe input consists of several datasets. There will be the number of datasets <i>n</i> in the first line. There will be <i>n</i> lines. A line consisting of english texts will be given for each dataset.\\n</p>\\n\\n\\n<H2>Output</H2>\\n\\n<p>\\nFor each dataset, print the converted texts in a line.\\n</p>\\n\\n<H2>Sample Input</H2>\\n\\n<pre>\\n3\\nHoshino\\nHashino\\nMasayuki Hoshino was the grandson of Ieyasu Tokugawa.\\n</pre>\\n\\n<H2>Output for the Sample Input</H2>\\n\\n<pre>\\nHoshina\\nHashino\\nMasayuki Hoshina was the grandson of Ieyasu Tokugawa.\\n</pre>\\n\\n'),\n",
       " ('p00103.html',\n",
       "  '\\n<H1>Baseball Simulation</H1>\\n\\n<p>\\nIchiro likes baseball and has decided to write a program which simulates baseball.</p>\\n\\n<p>\\nThe program reads events in an inning and prints score in that inning. There are only three events as follows:\\n</p>\\n\\n<p>Single hit</p>\\n<ul>\\n<li>put a runner on the first base.</li>\\n<li>the runner in the first base advances to the second base and the runner in the second base advances to the third base.</li>\\n<li>the runner in the third base advances to the home base (and go out of base) and a point is added to the score.</li>\\n</ul>\\n\\n<p>Home run</p>\\n<ul>\\n<li>all the runners on base advance to the home base.</li>\\n<li>points are added to the score by an amount equal to the number of the runners plus one.</li>\\n</ul>\\n\\n<p>Out</p>\\n<ul>\\n<li>The number of outs is increased by 1.</li>\\n<li>The runners and the score remain stationary.</li>\\n<li>The inning ends with three-out.</li>\\n</ul>\\n\\n<p>\\nIchiro decided to represent these events using \"HIT\", \"HOMERUN\" and \"OUT\", respectively.\\n</p>\\n\\n<p>Write a program which reads events in an inning and prints score in that inning. You can assume that the number of events is less than or equal to 100.\\n</p>\\n\\n<H2>Input</H2>\\n\\n<p>\\nThe input consists of several datasets. In the first line, the number of datasets <i>n</i> is given. Each dataset consists of a list of events (strings) in an inning.\\n</p>\\n\\n\\n<H2>Output</H2>\\n\\n<p>\\nFor each dataset, prints the score in the corresponding inning.\\n</p>\\n\\n<H2>Sample Input</H2>\\n\\n<pre>\\n2\\nHIT\\nOUT\\nHOMERUN\\nHIT\\nHIT\\nHOMERUN\\nHIT\\nOUT\\nHIT\\nHIT\\nHIT\\nHIT\\nOUT\\nHIT\\nHIT\\nOUT\\nHIT\\nOUT\\nOUT\\n</pre>\\n\\n<H2>Output for the Sample Input</H2>\\n\\n<pre>\\n7\\n0\\n</pre>\\n\\n\\n'),\n",
       " ('p00104.html',\n",
       "  '\\n\\n<H1>Magic Tile</H1>\\n\\n<p>\\nThere is a magic room in a homestead. The room is paved with H &times W tiles. There are five different tiles:\\n</p>\\n\\n<ul>\\n<li>Tile with a east-pointing arrow</li>\\n<li>Tile with a west-pointing arrow</li>\\n<li>Tile with a south-pointing arrow</li>\\n<li>Tile with a north-pointing arrow</li>\\n<li>Tile with nothing</li>\\n</ul>\\n<p>\\nOnce a person steps onto a tile which has an arrow, the mystic force makes the person go to the next tile pointed by the arrow. If the next tile has an arrow, the person moves to the next, ans so on. The person moves on until he/she steps onto a tile which does not have the arrow (the tile with nothing). The entrance of the room is at the northwest corner.\\n</p>\\n\\n<p>\\nYour task is to write a program which simulates the movement of the person in the room. The program should read strings which represent the room and print the last position of the person.\\n</p>\\n\\n<p>\\nThe input represents the room as seen from directly above, and up, down, left and right side of the input correspond to north, south, west and east side of the room respectively. The horizontal axis represents <i>x</i>-axis (from 0 to W-1, inclusive) and the vertical axis represents <i>y</i>-axis (from 0 to H-1, inclusive). The upper left tile corresponds to (0, 0).\\n</p>\\n<p>\\nThe following figure shows an example of the input:\\n</p>\\n\\n<pre>\\n10 10\\n>>>v..>>>v\\n...v..^..v\\n...>>>^..v\\n.........v\\n.v<<<<...v\\n.v...^...v\\n.v...^<<<<\\n.v........\\n.v...^....\\n.>>>>^....\\n</pre>\\n\\n<p>\\nCharacters represent tiles as follows:\\n</p>\\n<pre>\\n\\'>\\': Tile with a east-pointing arrow\\n\\'<\\': Tile with a west-pointing arrow \\n\\'^\\': Tile with a north-pointing arrow \\n\\'v\\': Tile with a south-pointing arrow \\n\\'.\\': Tile with nothing\\n</pre>\\n\\n<p>\\nIf the person goes in cycles forever, your program should print \"LOOP\". You may assume that the person never goes outside of the room.\\n</p>\\n\\n<H2>Input</H2>\\n\\n<p>\\nThe input consists of multiple datasets. The input ends with a line which contains two 0. Each dataset consists of:\\n</p>\\n<pre class=\"exp\">\\nH W\\nH lines where each line contains W characters\\n</pre>\\n\\n<p>\\nYou can assume that 0 &lt; W, H &lt; 101.\\n</p>\\n\\n<H2>Output</H2>\\n\\n<p>\\nFor each dataset, print the coordinate (X, Y) of the person or \"LOOP\" in a line. X and Y should be separated by a space.\\n</p>\\n\\n<H2>Sample Input</H2>\\n\\n<pre>\\n10 10\\n>>>v..>>>v\\n...v..^..v\\n>>>>>>^..v\\n.........v\\n.v<<<<...v\\n.v.v.^...v\\n.v.v.^<<<<\\n.v.v.....v\\n.v...^...v\\n.>>>>^....\\n6 10\\n>>>>>>>>>v\\n.........v\\n.........v\\n>>>>v....v\\n^...v....v\\n^<<<<<<<<<\\n0 0\\n</pre>\\n\\n<H2>Output for the Sample Input</H2>\\n\\n<pre>\\n5 7\\nLOOP\\n</pre>\\n\\n\\n'),\n",
       " ('p00106.html',\n",
       "  '\\n<H1>Discounts of Buckwheat</H1>\\n\\n<p>\\nAizu is famous for its buckwheat. There are many people who make buckwheat noodles by themselves.\\n</p>\\n\\n<p>\\n  One day, you went shopping to buy buckwheat flour. You can visit three shops, A, B and C. The amount in a bag and its unit price for each shop is determined by the follows table. Note that it is discounted when you buy buckwheat flour in several bags.\\n</p>\\n\\n<center>\\n<table class=\"withborder\">\\n<tr><th></th><th>             Shop A </th><th>    Shop B   </th><th>  Shop C</th></tr>\\n<tr><th>  Amount in a bag </th><td>   200g</td><td>   300g</td><td>   500g</td></tr>\\n<tr><th> Unit price for a bag (nominal cost)</th><td> 380 yen </td><td>  550 yen </td><td>  850 yen</td></tr>\\n<tr><th> Discounted units </th><td> per 5 bags </td><td>per 4 bags </td><td>per 3 bags</td></tr>\\n<tr><th> Discount rate</th><td>   reduced by 20 %</td><td>  reduced by 15 %</td><td>  reduced by 12 %</td></tr>\\n</table>\\n</center>\\n<br/>\\n\\n<p>\\n For example, when you buy 12 bags of flour at shop A, the price is reduced by 20 % for 10 bags, but not for other 2 bags. So, the total amount shall be (380 &times; 10) &times; 0.8 + 380 &times; 2 = 3,800 yen.\\n</p>\\n\\n<p>\\n  Write a program which reads the amount of flour, and prints the lowest cost to buy them. Note that you should buy the flour of exactly the same amount as the given input.\\n</p>\\n\\n<H2>Input</H2>\\n\\n<p>\\n  The input consists of multiple datasets. For each dataset, an integer <var>a</var> (500 &le; <var>a</var> &le; 5000, <var>a</var> is divisible by 100) which represents the amount of flour is given in a line.\\n</p>\\n\\n<p>\\n  The input ends with a line including a zero. Your program should not process for the terminal symbol. The number of datasets does not exceed 50.\\n</p>\\n\\n<H2>Output</H2>\\n\\n<p>\\n  For each dataset, print an integer which represents the lowest cost.\\n</p>\\n\\n<H2>Sample Input</H2>\\n\\n<pre>\\n500\\n2200\\n0\\n</pre>\\n\\n<H2>Output for the Sample Input</H2>\\n\\n<pre>\\n850\\n3390\\n</pre>\\n\\n\\n\\n'),\n",
       " ('p00107.html',\n",
       "  '\\n\\n\\n<H1>Carry a Cheese</H1>\\n\\n<p>\\nJerry is a little mouse. He is trying to survive from the cat Tom. Jerry is carrying a parallelepiped-like piece of cheese of size <i>A</i> &times; <i>B</i> &times; <i>C</i>. It is necessary to trail this cheese to the Jerry\\'s house. There are several entrances in the Jerry\\'s house. Each entrance is a rounded hole having its own radius <i>R</i>. Could you help Jerry to find suitable holes to be survive?\\n\\n</p>\\n\\n<p>\\nYour task is to create a program which estimates whether Jerry can trail the cheese via each hole.\\nThe program should print \"<span>OK</span>\" if Jerry can trail the cheese via the corresponding hole (without touching it). Otherwise the program should print \"<span>NA</span>\".\\n</p>\\n<p>\\nYou may assume that the number of holes is less than 10000.\\n</p>\\n\\n\\n<H2>Input</H2>\\n\\n<p>\\nThe input is a sequence of datasets. The end of input is indicated by a line containing three zeros. Each dataset is formatted as follows:\\n</p>\\n<pre>\\n<i>A B C</i>\\n<i>n</i>\\n<i>R</i><sub>1</sub>\\n<i>R</i><sub>2</sub>\\n\\n .\\n .\\n<i>R</i><sub><i>n</i></sub>\\n</pre>\\n\\n<p>\\n<i>n</i> indicates the number of holes (entrances) and <i>R<sub>i</sub></i> indicates the radius of <i>i</i>-th hole.\\n</p>\\n\\n\\n<H2>Output</H2>\\n\\n<p>\\nFor each datasets, the output should have <i>n</i> lines. Each line points the result of estimation of the corresponding hole. \\n</p>\\n\\n<H2>Sample Input</H2>\\n\\n<pre>\\n10 6 8\\n5\\n4\\n8\\n6\\n2\\n5\\n0 0 0\\n</pre>\\n\\n<H2>Output for the Sample Input</H2>\\n\\n<pre>\\nNA\\nOK\\nOK\\nNA\\nNA\\n</pre>\\n\\n\\n'),\n",
       " ('p00109.html',\n",
       "  \"\\n\\n<H1>Smart Calculator</H1>\\n\\n<p>\\nYour task is to write a program which reads an expression and evaluates it.\\n</p>\\n\\n<ul>\\n<li>The expression consists of numerical values, operators and parentheses, and the ends with '='.</li>\\n<li>The operators includes +, - , *, / where respectively represents, addition, subtraction, multiplication and division.</li>\\n<li> Precedence of the operators is based on usual laws. That is one should perform all multiplication and division first, then addition and subtraction. When two operators have the same precedence, they are applied from left to right.\\n</li>\\n<li>You may assume that there is no division by zero.</li>\\n<li>All calculation is performed as integers, and after the decimal point should be truncated</li>\\n<li>Length of the expression will not exceed 100.</li>\\n<li>-1 &times 10<sup>9</sup> &le; intermediate results of computation &le; 10<sup>9</sup></li>\\n</ul>\\n\\n\\n<H2>Input</H2>\\n\\n<p>\\nThe input is a sequence of datasets. The first line contains an integer <i>n</i> which represents the number of datasets. There will be <i>n</i> lines where each line contains an expression.\\n</p>\\n\\n<H2>Output</H2>\\n\\n<p>\\nFor each datasets, prints the result of calculation.\\n</p>\\n\\n<H2>Sample Input</H2>\\n\\n<pre>\\n2\\n4-2*3=\\n4*(8+4+3)=\\n</pre>\\n\\n<H2>Output for the Sample Input</H2>\\n\\n<pre>\\n-2\\n60\\n</pre>\\n\\n\\n\\n\"),\n",
       " ('p00150.html',\n",
       "  '\\n<H1>Twin Prime</H1>\\n\\n<p>\\nPrime numbers are widely applied for cryptographic and communication technology.\\nA twin prime is a prime number that differs from another prime number by 2.\\nFor example, (5, 7) and (11, 13) are twin prime pairs.\\n</p>\\n\\n<p>\\nIn this problem, we call the greater number of a twin prime \"size of the twin prime.\"\\n</p>\\n\\n<p>\\nYour task is to create a program which reads an integer <i>n</i> and prints a twin prime which has the maximum size among twin primes less than or equals to <i>n</i>\\n</p>\\n\\n<p>\\nYou may assume that 5 &le; <i>n</i> &le; 10000.\\n</p>\\n\\n\\n<H2>Input</H2>\\n<p>\\nThe input is a sequence of datasets. The end of the input is indicated by a line containing one zero. Each dataset is formatted as follows:\\n</p>\\n<pre>\\n<i>n</i> (integer)\\n</pre>\\n\\n<H2>Output</H2>\\n<p>\\nFor each dataset, print the twin prime <i>p</i> and <i>q</i> (<i>p</i> &lt; <i>q</i>). <i>p</i> and <i>q</i> should be separated by a single space.\\n</p>\\n\\n<H2>Sample Input</H2>\\n\\n<pre>\\n12\\n100\\n200\\n300\\n0\\n</pre>\\n\\n<H2>Output for the Sample Input</H2>\\n\\n<pre>\\n5 7\\n71 73\\n197 199\\n281 283\\n</pre>'),\n",
       " ('p00354.html',\n",
       "  '\\n\\n<!--<H1>X-th day of September</H1>-->\\n<h1>Day of Week</h1>\\n\\n\\n<p>\\n  The 9th day of September 2017 is Saturday. Then, what day of the week is the X-th of September 2017? \\n</p>\\n\\n<p>\\n  Given a day in September 2017, write a program to report what day of the week it is.\\n</p>\\n\\n\\n<h2>Input</h2>\\n\\n<p>\\n  The input is given in the following format.\\n</p>\\n\\n<pre>\\n<var>X</var>\\n</pre>\\n<p>\\n  The input line specifies a day <var>X</var> (1 &le; <var>X</var> &le; 30) in September 2017.\\n</p>\\n\\n\\n<h2>Output</h2>\\n\\n<p>\\nOutput what day of the week it is in a line. Use the following conventions in your output: \"<span>mon</span>\" for Monday, \"<span>tue</span>\" for Tuesday, \"<span>wed</span>\" for Wednesday, \"<span>thu</span>\" for Thursday, \"<span>fri</span>\" for Friday, \"<span>sat</span>\" for Saturday, and \"<span>sun</span>\" for Sunday.\\n</p>\\n\\n<h2>Sample Input 1</h2>\\n\\n<pre>\\n1\\n</pre>\\n\\n<h2>Sample Output 1</h2>\\n<pre>\\nfri\\n</pre>\\n\\n<h2>Sample Input 2</h2>\\n<pre>\\n9\\n</pre>\\n\\n<h2>Sample Output 2</h2>\\n<pre>\\nsat\\n</pre>\\n\\n<h2>Sample Input 3</h2>\\n<pre>\\n30\\n</pre>\\n\\n<h2>Sample Output 3</h2>\\n<pre>\\nsat\\n</pre>\\n'),\n",
       " ('p00355.html',\n",
       "  '\\n\\n<H1>Reservation System</H1>\\n\\n<p>\\nThe supercomputer system L in the PCK Research Institute performs a variety of calculations upon request from external institutes, companies, universities and other entities. To use the L system, you have to reserve operation time by specifying the start and end time. No two reservation periods are allowed to overlap each other.\\n</p>\\n\\n<p>\\n  Write a program to report if a new reservation overlaps with any of the existing reservations. Note that the coincidence of start and end times is not considered to constitute an overlap. All the temporal data is given as the elapsed time from the moment at which the L system starts operation.\\n</p>\\n\\n<h2>Input</h2>\\n\\n<p>\\n  The input is given in the following format.\\n</p>\\n\\n<pre>\\n<var>a</var> <var>b</var>\\n<var>N</var>\\n<var>s_1</var> <var>f_1</var>\\n<var>s_2</var> <var>f_2</var>\\n:\\n<var>s_N</var> <var>f_N</var>\\n</pre>\\n\\n<p>\\nThe first line provides new reservation information, i.e., the start time <var>a</var> and end time <var>b</var> (0 &le; <var>a</var> &lt; <var>b</var> &le; 1000) in integers. The second line specifies the number of existing reservations <var>N</var> (0 &le; <var>N</var> &le; 100). Subsequent <var>N</var> lines provide temporal information for the <var>i</var>-th reservation: start time <var>s_i</var> and end time <var>f_i</var> (0 &le; <var>s_i</var> &lt; <var>f_i</var> &le; 1000) in integers. No two existing reservations overlap.\\n</p>\\n\\n<h2>Output</h2>\\n\\n<p>\\n  Output \"1\" if the new reservation temporally overlaps with any of the existing ones, or \"0\" otherwise.\\n</p>\\n\\n<h2>Sample Input 1</h2>\\n\\n<pre>\\n5 7\\n3\\n1 4\\n4 5\\n7 10\\n</pre>\\n\\n<h2>Sample Output 1</h2>\\n<pre>\\n0\\n</pre>\\n\\n<h2>Sample Input 2</h2>\\n<pre>\\n3 7\\n3\\n7 10\\n1 4\\n4 5\\n</pre>\\n\\n<h2>Sample Output 2</h2>\\n<pre>\\n1\\n</pre>\\n'),\n",
       " ('p00357.html',\n",
       "  '<H1>Trampoline</H1>\\n\\n<p>\\n  A plurality of trampolines are arranged in a line at 10 m intervals. Each trampoline has its own maximum horizontal distance within which the jumper can jump safely. Starting from the left-most trampoline, the jumper jumps to another trampoline within the allowed jumping range. The jumper wants to repeat jumping until he/she reaches the right-most trampoline, and then tries to return to the left-most trampoline only through jumping. Can the jumper complete the roundtrip without a single stepping-down from a trampoline?\\n</p>\\n\\n<p>\\n  Write a program to report if the jumper can complete the journey using the list of maximum horizontal reaches of these trampolines. Assume that the trampolines are points without spatial extent.\\n</p>\\n\\n<h2>Input</h2>\\n\\n<p>\\n  The input is given in the following format.\\n</p>\\n\\n<pre>\\n<var>N</var>\\n<var>d_1</var>\\n<var>d_2</var>\\n:\\n<var>d_N</var>\\n</pre>\\n\\n<p>\\nThe first line provides the number of trampolines <var>N</var> (2 &le; <var>N</var> &le; 3 &times; 10<sup>5</sup>). Each of the subsequent <var>N</var> lines gives the maximum allowable jumping distance in integer meters for the <var>i</var>-th trampoline <var>d_i</var> (1 &le; <var>d_i</var> &le; 10<sup>6</sup>).\\n</p>\\n\\n\\n<h2>Output</h2>\\n\\n<p>\\n  Output \"<span>yes</span>\" if the jumper can complete the roundtrip, or \"<span>no</span>\" if he/she cannot.\\n</p>\\n\\n<h2>Sample Input 1</h2>\\n\\n<pre>\\n4\\n20\\n5\\n10\\n1\\n</pre>\\n\\n<h2>Sample Output 1</h2>\\n<pre>\\nno\\n</pre>\\n\\n<h2>Sample Input 2</h2>\\n<pre>\\n3\\n10\\n5\\n10\\n</pre>\\n\\n<h2>Sample Output 2</h2>\\n<pre>\\nno\\n</pre>\\n\\n<h2>Sample Input 3</h2>\\n<pre>\\n4\\n20\\n30\\n1\\n20\\n</pre>\\n\\n<h2>Sample Output 3</h2>\\n<pre>\\nyes\\n</pre>\\n'),\n",
       " ('p00360.html',\n",
       "  '<H1>Swapping Characters</H1>\\n\\n\\n<p>\\n  You are given a string and a number <var>k</var>. You are suggested to generate new strings by swapping any adjacent pair of characters in the string up to <var>k</var> times. Write a program to report the lexicographically smallest string among them.\\n  \\n</p>\\n\\n<h2>Input</h2>\\n\\n<p>\\n  The input is given in the following format.\\n</p>\\n\\n<pre>\\n<var>s</var>\\n<var>k</var>\\n</pre>\\n\\n<p>\\nThe first line provides a string <var>s</var>. The second line provides the maximum number of swapping operations <var>k</var> (0 &le; <var>k</var> &le; 10<sup>9</sup>). The string consists solely of lower-case alphabetical letters and has a length between 1 and 2 &times; 10<sup>5</sup>.\\n</p>\\n\\n\\n<h2>Output</h2>\\n\\n<p>\\n  Output the lexicographically smallest string.\\n</p>\\n\\n<h2>Sample Input 1</h2>\\n\\n<pre>\\npckoshien\\n3\\n</pre>\\n\\n<h2>Sample Output 1</h2>\\n<pre>\\nckopshien\\n</pre>\\n\\n<h2>Sample Input 2</h2>\\n<pre>\\npckoshien\\n10\\n</pre>\\n\\n<h2>Sample Output 2</h2>\\n<pre>\\ncekophsin\\n</pre>\\n'),\n",
       " ('p00361.html',\n",
       "  '<!--<H1>Modification of Road Network</H1>-->\\n<h1>Road Improvement</h1>\\n\\n<p>\\nAizu is a country famous for its rich tourism resources and has <var>N</var> cities, each of which is uniquely identified with a number (0 to <var>N</var>-1). It has a road network consisting of <var>M</var> one-way roads connecting a city to another.\\n</p>\\n\\n<p>\\n  All the roads connecting the cities in Aizu have a row of cherry trees along their routes. For enhancing the cherry-viewing experience, a proposal was made to modify the road network so that a tourist can travel around all the roads. To achieve this target, it was decided to construct several one-way roads, each connecting two cities and abiding by the following rules.\\n</p>\\n\\n<ul>\\n<li>The newly constructed road is for one-way traffic</li>\\n<li>Starting from any city, a tourist is able to make a roundtrip and return to the city, whereby he/she drives all the roads exhaustively, including the newly constructed ones. Multiple passages of some of the roads are allowed.</li>\\n</ul>\\n\\n<p>\\n  You, as a tourism promotion officer, are assigned with the task of writing a program for the road construction project.\\n</p>\\n\\n<p>\\n  Write a program to determine the minimum number of roads to be constructed given the road network information in Aizu.\\n</p>\\n\\n\\n<h2>Input</h2>\\n\\n<p>\\n  The input is given in the following format.\\n</p>\\n<pre>\\n<var>N</var> <var>M</var>\\n<var>s_1</var> <var>t_1</var>\\n<var>s_2</var> <var>t_2</var>\\n:\\n<var>s_M</var> <var>t_M</var>\\n</pre>\\n\\n<p>\\nThe first line provides the number of cities <var>N</var> (1 &le; <var>N</var> &le; 10<sup>4</sup>) and roads <var>M</var> (0 &le; <var>M</var> &le; 10<sup>5</sup>). Each of the subsequent <var>M</var> lines provides the numbers assigned to start and destination cities for the <var>i</var>-th road: <var>s_i</var>, <var>t_i</var> (0 &le; <var>s_i</var>, <var>t_i</var> &le; <var>N</var>-1) , where <var>s_i &ne; t_i</var>. (no duplicate appearance of a road)\\n  \\n</p>\\n\\n<h2>Output</h2>\\n\\n<p>\\n  Output the minimum number of roads to be newly constructed.\\n</p>\\n\\n<h2>Sample Input 1</h2>\\n\\n<pre>\\n6 7\\n0 2\\n2 1\\n1 0\\n2 3\\n4 3\\n4 5\\n5 4\\n</pre>\\n\\n<h2>Sample Output 1</h2>\\n<pre>\\n2\\n</pre>\\n\\n<h2>Sample Input 2</h2>\\n<pre>\\n6 9\\n0 2\\n2 1\\n1 0\\n2 3\\n4 3\\n4 5\\n5 4\\n5 2\\n3 4\\n</pre>\\n\\n<h2>Sample Output 2</h2>\\n<pre>\\n0\\n</pre>\\n'),\n",
       " ('p00369.html',\n",
       "  '<H1>Paper Fortune</H1>\\n\\n<p>\\nIf you visit Aizu Akabeko shrine, you will find a unique paper fortune on which a number with more than one digit is written. \\n</p>\\n\\n<p>\\nEach digit ranges from 1 to 9 (zero is avoided because it is considered a bad omen in this shrine). Using this string of numeric values, you can predict how many years it will take before your dream comes true. Cut up the string into more than one segment and compare their values. The difference between the largest and smallest value will give you the number of years before your wish will be fulfilled. Therefore, the result varies depending on the way you cut up the string. For example, if you are given a string 11121314 and divide it into segments, say, as 1,11,21,3,14, then the difference between the largest and smallest is 21 - 1 = 20. Another division 11,12,13,14 produces 3 (i.e. 14 - 11) years. Any random division produces a game of luck. However, you can search the minimum number of years using a program.\\n  \\n</p>\\n\\n<p>\\nGiven a string of numerical characters, write a program to search the minimum years before your wish will be fulfilled.\\n  \\n</p>\\n\\n<h2>Input</h2>\\n\\n<p>\\n  The input is given in the following format.\\n</p>\\n\\n<pre>\\n<var>n</var>\\n</pre>\\n\\n<p>\\n  An integer <var>n</var> is given. Its number of digits is from 2 to 100,000, and each digit ranges from 1 to 9.\\n</p>\\n\\n\\n<h2>Output</h2>\\n\\n<p>\\n  Output the minimum number of years before your wish will be fulfilled.\\n</p>\\n\\n<h2>Sample Input 1</h2>\\n\\n<pre>\\n11121314\\n</pre>\\n\\n<h2>Sample Output 1</h2>\\n<pre>\\n3\\n</pre>\\n\\n\\n<h2>Sample Input 2</h2>\\n\\n<pre>\\n123125129\\n</pre>\\n\\n<h2>Sample Output 2</h2>\\n<pre>\\n6\\n</pre>\\n\\n\\n<h2>Sample Input 3</h2>\\n\\n<pre>\\n119138\\n</pre>\\n\\n<h2>Sample Output 3</h2>\\n<pre>\\n5\\n</pre>\\n'),\n",
       " ('p00370.html',\n",
       "  '<H1>Lake Survery</H1>\\n\\n<p>\\n  The Onogawa Expedition is planning to conduct a survey of the Aizu nature reserve. The expedition planner wants to take the shortest possible route from the start to end point of the survey, while the expedition has to go around the coast of the Lake of Onogawa en route. The expedition walks along the coast of the lake, but can not wade across the lake.\\n</p>\\n\\n<p>\\n  Based on the base information including the start and end point of the survey and the area of Lake Onogawa as convex polygon data, make a program to find the shortest possible route for the expedition and calculate its distance. Note that the expedition can move along the polygonal lines passing through the nodes, but never enter within the area enclosed by the polygon.\\n</p>\\n\\n\\n<h2>Input</h2>\\n\\n<p>\\n  The input is given in the following format.\\n</p>\\n\\n<pre>\\n<var>x_s</var> <var>y_s</var>\\n<var>x_g</var> <var>y_g</var>\\n<var>N</var>\\n<var>x_1</var> <var>y_1</var>\\n<var>x_2</var> <var>y_2</var>\\n:\\n<var>x_N</var> <var>y_N</var>\\n</pre>\\n\\n<p>\\nThe first line provides the start point of the survey <var>x_s,y_s</var> (0&le;<var>x_s,y_s</var>&le;10<sup>4</sup>), and the second line provides the end point <var>x_g,y_g</var> (0 &le; <var>x_g,y_g</var> &le; 10<sup>4</sup>) all in integers. The third line provides the number of apexes <var>N</var> (3 &le; <var>N</var> &le; 100) of the polygon that represents the lake, and each of the subsequent <var>N</var> lines provides the coordinate of the <var>i</var>-th apex <var>x_i,y_i</var> (0 &le; <var>x_i,y_i</var> &le; 10<sup>4</sup>) in counter-clockwise order. These data satisfy the following criteria:\\n\\n\\n</p>\\n<ul>\\n<li>Start and end points of the expedition are not within the area enclosed by the polygon nor on boundaries.</li>\\n<li>Start and end points of the expedition are not identical, i.e., <var>x_s &ne; x_g</var> or <var>y_s &ne; y_g</var>.</li>\\n<li>No duplicate coordinates are given, i.e., if <var>i &ne; j</var> then <var>x_i &ne; x_r</var> or <var>y_i &ne; y_j</var>.</li>\\n<li>The area enclosed by the polygon has a positive value.</li>\\n<li>Any three coordinates that define an area are not aligned on a line.</li>\\n</ul>\\n\\n\\n<h2>Output</h2>\\n\\n<p>\\n\\nOutput the distance of the shortest possible expedition route. Any number of decimal places can be selected as long as the error does not exceed &plusmn; 10<sup>-3</sup>.\\n  \\n</p>\\n\\n<h2>Sample Input 1</h2>\\n\\n<pre>\\n0 0\\n4 0\\n4\\n1 1\\n2 1\\n3 3\\n1 2\\n</pre>\\n\\n<h2>Sample Output 1</h2>\\n<pre>\\n4.472136\\n</pre>\\n\\n\\n<h2>Sample Input 2</h2>\\n\\n<pre>\\n4 4\\n0 0\\n4\\n1 1\\n3 1\\n3 3\\n1 3\\n</pre>\\n\\n<h2>Sample Output 2</h2>\\n<pre>\\n6.32455\\n</pre>\\n'),\n",
       " ('p00371.html',\n",
       "  '<H1>Lottery Box</H1>\\n\\n<p>\\nA lottery is being held in a corner of the venue of the Aizu festival. Several types of balls are inside the lottery box and each type has its unique integer printed on the surfaces of the balls. An integer <var>T</var> is printed on the lottery box.\\n</p>\\n\\n<p>\\nIn the lottery, you first declare two integers <var>A</var> and <var>B</var>, and draw up to <var>M</var> balls from the box. Let the sum of the integers printed on the balls be <var>S</var>. You can get a wonderful gift if the following two criteria are met: <var>S</var> divided by <var>T</var> gives a remainder greater than or equal to <var>A</var>, and <var>S</var> divided by <var>T</var> gives a quotient (fractional portion dropped) greater than or equal to <var>B</var>.\\n</p>\\n\\n\\n<p>\\n  Write a program to determine if you have any chance of getting the gift given the following information: the number of ball types, ball-type specific integers, the maximum number of balls to be drawn from the box, the integer printed on the lottery box, and two integers declared before drawing. Assume that each ball type has sufficient (&ge;M) population in the box. Note also that there may be a chance of getting the gift even without drawing any ball.\\n</p>\\n\\n  \\n\\n<h2>Input</h2>\\n\\n<p>\\n  The input is given in the following format.\\n</p>\\n\\n<pre>\\n<var>N</var> <var>M</var> <var>T</var>\\n<var>a_1</var>\\n<var>a_2</var>\\n:\\n<var>a_N</var>\\n<var>Q</var>\\n<var>A_1</var> <var>B_1</var>\\n<var>A_2</var> <var>B_2</var>\\n:\\n<var>A_Q</var> <var>B_Q</var>\\n</pre>\\n\\n<p>\\nThe first line provides the number of ball types <var>N</var>(1&le;<var>N</var>&le;10<sup>5</sup>), the maximum number of balls you can draw from the box <var>M</var>(1&le;<var>M</var>&le;10<sup>5</sup>), and the integer printed on the box <var>T</var>(1&le;<var>T</var>&le;1000). Each of the subsequent <var>N</var> lines provides an integer <var>a_i</var> (1&le;<var>a_i</var>&le;10<sup>9</sup>) printed on the <var>i</var>-th ball type. The next line following these provides the number of declarations <var>Q</var> (1&le;<var>Q</var>&le;10<sup>5</sup>). Each of the <var>Q</var> lines following this provides a pair of integers <var>A_i</var> (0 &le; <var>A_i</var> &lt; <var>T</var>), <var>B_i</var> (0 &le; <var>B_i</var> &le; 10<sup>9</sup>) that constitute the <var>i</var>-th declaration.\\n</p>\\n\\n\\n<h2>Output</h2>\\n\\n<p>\\n  Output a line for each pair of declaration <var>A</var> and <var>B</var> that contains \"<span>yes</span>\" if there is a chance of getting the gift or \"<span>no</span>\" otherwise.\\n</p>\\n\\n<h2>Sample Input 1</h2>\\n\\n<pre>\\n3 2 7\\n8\\n3\\n6\\n5\\n2 2\\n3 2\\n4 1\\n6 1\\n6 0\\n</pre>\\n\\n<h2>Sample Output 1</h2>\\n<pre>\\nyes\\nno\\nyes\\nno\\nyes\\n</pre>\\n')]"
      ]
     },
     "execution_count": 63,
     "metadata": {},
     "output_type": "execute_result"
    }
   ],
   "source": [
    "no_images_english[:40]"
   ]
  },
  {
   "cell_type": "code",
   "execution_count": null,
   "id": "e77d9263",
   "metadata": {},
   "outputs": [],
   "source": [
    "import json\n",
    "# Save to JSON (convert to list of lists)\n",
    "with open(\"problem_descriptions.json\", \"w\") as f:\n",
    "    json.dump([list(t) for t in no_images_english], f)"
   ]
  },
  {
   "cell_type": "code",
   "execution_count": 65,
   "id": "433929b0",
   "metadata": {},
   "outputs": [],
   "source": [
    "# Later, load and convert back to tuples\n",
    "with open(\"/root/srf-project/data/codenet_questions/problem_descriptions.json\", \"r\") as f:\n",
    "    loaded = json.load(f)\n",
    "    data = [tuple(item) for item in loaded]"
   ]
  },
  {
   "cell_type": "code",
   "execution_count": 74,
   "id": "308476a0",
   "metadata": {},
   "outputs": [],
   "source": [
    "def remove_html(row):\n",
    "    row = (row[0].split('.')[0], row[1])\n",
    "    return row\n",
    "\n",
    "cleaned_data = list(map(remove_html, data))"
   ]
  },
  {
   "cell_type": "code",
   "execution_count": 76,
   "id": "259c70f1",
   "metadata": {},
   "outputs": [],
   "source": [
    "my_dict = dict(cleaned_data)"
   ]
  },
  {
   "cell_type": "code",
   "execution_count": 78,
   "id": "f8d70ae3",
   "metadata": {},
   "outputs": [],
   "source": [
    "# my_dict\n",
    "\n",
    "with open(\"/root/srf-project/data/codenet_questions/problem_descriptions.json\", \"w\") as f:\n",
    "    json.dump(my_dict, f)"
   ]
  },
  {
   "cell_type": "code",
   "execution_count": 79,
   "id": "723d3b93",
   "metadata": {},
   "outputs": [],
   "source": [
    "with open(\"/root/srf-project/data/codenet_questions/problem_descriptions.json\", \"r\") as f:\n",
    "    loaded = json.load(f)"
   ]
  },
  {
   "cell_type": "code",
   "execution_count": null,
   "id": "ad8be6cd",
   "metadata": {},
   "outputs": [
    {
     "data": {
      "text/plain": [
       "1549"
      ]
     },
     "execution_count": 82,
     "metadata": {},
     "output_type": "execute_result"
    }
   ],
   "source": []
  },
  {
   "cell_type": "markdown",
   "id": "2a735291",
   "metadata": {},
   "source": [
    "## FT Dataset"
   ]
  },
  {
   "cell_type": "markdown",
   "id": "bc68c133",
   "metadata": {},
   "source": [
    "### Load Model / Dataset"
   ]
  },
  {
   "cell_type": "code",
   "execution_count": null,
   "id": "9be92a3d",
   "metadata": {},
   "outputs": [],
   "source": [
    "'''\n",
    "model_name = 'meta-llama/Llama-3.1-8B-Instruct'\n",
    "\n",
    "bnb_config = BitsAndBytesConfig(\n",
    "    load_in_4bit=True,\n",
    "    bnb_4bit_compute_dtype=t.float16,\n",
    "    bnb_4bit_use_double_quant=True,\n",
    "    llm_int8_threshold=6.0,\n",
    ")\n",
    "\n",
    "tokenizer = AutoTokenizer.from_pretrained(model_name, pad_side=\"left\")\n",
    "model = AutoModelForCausalLM.from_pretrained(\n",
    "    model_name, \n",
    "    device_map=\"auto\", \n",
    "    quantization_config=bnb_config,\n",
    ")\n",
    "tokenizer.pad_token = tokenizer.eos_token'''\n",
    "\n",
    "# model_name = 'unsloth/Meta-Llama-3.1-8B-Instruct'\n",
    "model_name = 'unsloth/Meta-Llama-3.1-8B-Instruct-bnb-4bit'\n",
    "\n",
    "\n",
    "tokenizer = AutoTokenizer.from_pretrained(model_name, pad_side=\"left\")\n",
    "tokenizer.pad_token = tokenizer.eos_token\n",
    "\n",
    "\n",
    "model = AutoModelForCausalLM.from_pretrained(\n",
    "    model_name, \n",
    "    device_map=\"auto\", \n",
    "    torch_dtype=\"auto\",\n",
    ")"
   ]
  },
  {
   "cell_type": "code",
   "execution_count": null,
   "id": "b63aeab8",
   "metadata": {},
   "outputs": [],
   "source": [
    "def get_datasets(lang, train_size=10000, test_size=500):\n",
    "    dataset = load_dataset('iNeil77/CodeNet', lang, split='train')\n",
    "    dataset = dataset.select_columns(['p_id', 'language', 'status', 'code'])\n",
    "    dataset = dataset.filter(lambda x: x['status']=='Accepted')\n",
    "    shuffled = dataset.shuffle(seed=47)\n",
    "\n",
    "    train_set = shuffled.select(range(train_size))\n",
    "    test_set = shuffled.select(range(train_size, train_size + test_size))\n",
    "\n",
    "    return train_set, test_set\n",
    "\n",
    "train_set, test_set = get_datasets('Java')"
   ]
  },
  {
   "cell_type": "code",
   "execution_count": null,
   "id": "07bde88f",
   "metadata": {},
   "outputs": [],
   "source": [
    "def tokenize(record):\n",
    "    code = record['code']\n",
    "    tokens = tokenizer(\n",
    "        code, \n",
    "        truncation=True,\n",
    "        max_length=1024,\n",
    "    )\n",
    "\n",
    "    return tokens\n",
    "\n",
    "train_set = train_set.map(tokenize, batched=True, num_proc=32)\n",
    "train_set = train_set.select_columns(['input_ids', 'attention_mask'])\n",
    "\n",
    "test_set = test_set.map(tokenize, batched=True, num_proc=32)\n",
    "test_set = test_set.select_columns(['input_ids', 'attention_mask'])\n"
   ]
  },
  {
   "cell_type": "code",
   "execution_count": null,
   "id": "251d8287",
   "metadata": {},
   "outputs": [],
   "source": [
    "# for i in range(10):\n",
    "#     idx = random.randint(0, dataset_cpp.num_rows)\n",
    "#     code = dataset_cpp[idx]['code']\n",
    "#     print(code)\n",
    "#     print('--x---x---x--\\n')"
   ]
  },
  {
   "cell_type": "code",
   "execution_count": null,
   "id": "91fe347b",
   "metadata": {},
   "outputs": [],
   "source": [
    "# api = wandb.Api()\n",
    "# run = api.run(\"atharva_nihalani-brown-university/huggingface/diw9fexc\")\n",
    "# metrics_dataframe = run.history()\n",
    "# # metrics_dataframe.to_csv(\"metrics.csv\")"
   ]
  },
  {
   "cell_type": "code",
   "execution_count": null,
   "id": "4239795a",
   "metadata": {},
   "outputs": [],
   "source": [
    "# # Access the GPU metrics\n",
    "# gpu_memory_util = metrics_dataframe.get(\"gpu.0.memory\")  # For the first GPU\n",
    "# gpu_memory_alloc = metrics_dataframe.get(\"gpu.0.memoryAllocated\")\n",
    "# print(gpu_memory_util)\n",
    "# print(gpu_memory_alloc)"
   ]
  },
  {
   "cell_type": "code",
   "execution_count": null,
   "id": "a86cc1ef",
   "metadata": {},
   "outputs": [],
   "source": [
    "# print(metrics_dataframe.columns)"
   ]
  },
  {
   "cell_type": "markdown",
   "id": "fc38a454",
   "metadata": {},
   "source": [
    "### FT Configs"
   ]
  },
  {
   "cell_type": "code",
   "execution_count": null,
   "id": "3cb8b6ac",
   "metadata": {},
   "outputs": [],
   "source": [
    "configs = [\n",
    "    {'r': 4,  'alpha': 16, 'dropout': 0.00, 'accum_steps': 1, 'lr': 1e-4},   # A\n",
    "    {'r': 4,  'alpha': 32, 'dropout': 0.10, 'accum_steps': 2, 'lr': 2e-4},   # B\n",
    "    {'r': 8,  'alpha': 32, 'dropout': 0.05, 'accum_steps': 4, 'lr': 1e-4},   # C\n",
    "    {'r': 16, 'alpha': 64, 'dropout': 0.00, 'accum_steps': 1, 'lr': 5e-4},   # D\n",
    "    {'r': 16, 'alpha': 32, 'dropout': 0.10, 'accum_steps': 2, 'lr': 2e-4},   # E\n",
    "    {'r': 8,  'alpha': 64, 'dropout': 0.05, 'accum_steps': 1, 'lr': 5e-5},   # F\n",
    "]"
   ]
  },
  {
   "cell_type": "markdown",
   "id": "eb41a11c",
   "metadata": {},
   "source": [
    "### FT #A"
   ]
  },
  {
   "cell_type": "code",
   "execution_count": null,
   "id": "fcb7f5e8",
   "metadata": {},
   "outputs": [],
   "source": [
    "lora_config = LoraConfig(\n",
    "    r=configs[0]['r'],\n",
    "    lora_alpha=configs[0]['alpha'],\n",
    "    target_modules=[\"q_proj\", \"v_proj\"],  \n",
    "    lora_dropout=configs[0]['dropout'],\n",
    "    bias=\"none\",\n",
    "    task_type=\"CAUSAL_LM\"\n",
    ")\n",
    "\n",
    "peft_model = get_peft_model(model, lora_config)"
   ]
  },
  {
   "cell_type": "code",
   "execution_count": null,
   "id": "81e45159",
   "metadata": {},
   "outputs": [],
   "source": [
    "training_args = TrainingArguments(\n",
    "    output_dir=\"./llama3-java-finetune\",\n",
    "    eval_strategy='steps',\n",
    "    eval_steps=0.1,\n",
    "    eval_on_start=True,\n",
    "    # per_device_train_batch_size=8, \n",
    "    auto_find_batch_size=True,\n",
    "    gradient_accumulation_steps=configs[0]['accum_steps'],\n",
    "    dataloader_num_workers=16,\n",
    "    dataloader_persistent_workers=True,\n",
    "    learning_rate=configs[0]['lr'],\n",
    "    num_train_epochs=1,  \n",
    "    bf16=True,\n",
    "    save_steps=0.2,\n",
    "    save_total_limit=3,\n",
    "    logging_steps=0.02,\n",
    "    report_to=\"wandb\",\n",
    "    logging_first_step=True,\n",
    "    run_name='quantized',\n",
    ")\n",
    "\n",
    "data_collator = DataCollatorForLanguageModeling(\n",
    "    tokenizer=tokenizer,\n",
    "    mlm=False,  # For causal LM\n",
    ")\n",
    "\n",
    "trainer = Trainer(\n",
    "    model=peft_model,\n",
    "    args=training_args,\n",
    "    train_dataset=train_set,\n",
    "    eval_dataset=test_set,\n",
    "    data_collator=data_collator,\n",
    ")"
   ]
  },
  {
   "cell_type": "code",
   "execution_count": null,
   "id": "3a7d3a4f",
   "metadata": {},
   "outputs": [],
   "source": [
    "trainer.train()"
   ]
  },
  {
   "cell_type": "code",
   "execution_count": null,
   "id": "b6d1a89c",
   "metadata": {},
   "outputs": [],
   "source": [
    "wandb.finish()"
   ]
  },
  {
   "cell_type": "markdown",
   "id": "87ae750b",
   "metadata": {},
   "source": [
    "### FT #B"
   ]
  },
  {
   "cell_type": "code",
   "execution_count": null,
   "id": "986c54ee",
   "metadata": {},
   "outputs": [],
   "source": [
    "lora_config = LoraConfig(\n",
    "    r=configs[1]['r'],\n",
    "    lora_alpha=configs[1]['alpha'],\n",
    "    target_modules=[\"q_proj\", \"v_proj\"],  \n",
    "    lora_dropout=configs[1]['dropout'],\n",
    "    bias=\"none\",\n",
    "    task_type=\"CAUSAL_LM\"\n",
    ")\n",
    "\n",
    "peft_model = get_peft_model(model, lora_config)"
   ]
  },
  {
   "cell_type": "code",
   "execution_count": null,
   "id": "6cd7ed5e",
   "metadata": {},
   "outputs": [],
   "source": [
    "training_args = TrainingArguments(\n",
    "    output_dir=\"./llama3-java-finetune\",\n",
    "    eval_strategy='steps',\n",
    "    eval_steps=0.1,\n",
    "    eval_on_start=True,\n",
    "    # per_device_train_batch_size=8, \n",
    "    auto_find_batch_size=True,\n",
    "    gradient_accumulation_steps=configs[1]['accum_steps'],\n",
    "    dataloader_num_workers=16,\n",
    "    dataloader_persistent_workers=True,\n",
    "    learning_rate=configs[1]['lr'],\n",
    "    num_train_epochs=1,  \n",
    "    bf16=True,\n",
    "    save_steps=0.2,\n",
    "    save_total_limit=3,\n",
    "    logging_steps=0.02,\n",
    "    report_to=\"wandb\",\n",
    "    logging_first_step=True,\n",
    "    run_name='quantized',\n",
    ")\n",
    "\n",
    "data_collator = DataCollatorForLanguageModeling(\n",
    "    tokenizer=tokenizer,\n",
    "    mlm=False,  # For causal LM\n",
    ")\n",
    "\n",
    "trainer = Trainer(\n",
    "    model=peft_model,\n",
    "    args=training_args,\n",
    "    train_dataset=train_set,\n",
    "    eval_dataset=test_set,\n",
    "    data_collator=data_collator,\n",
    ")"
   ]
  },
  {
   "cell_type": "code",
   "execution_count": null,
   "id": "198e818c",
   "metadata": {},
   "outputs": [],
   "source": [
    "trainer.train()"
   ]
  },
  {
   "cell_type": "code",
   "execution_count": null,
   "id": "da79a731",
   "metadata": {},
   "outputs": [],
   "source": [
    "wandb.finish()"
   ]
  },
  {
   "cell_type": "markdown",
   "id": "2ea1c276",
   "metadata": {},
   "source": [
    "### FT #C"
   ]
  },
  {
   "cell_type": "code",
   "execution_count": null,
   "id": "039b8ead",
   "metadata": {},
   "outputs": [],
   "source": [
    "lora_config = LoraConfig(\n",
    "    r=configs[2]['r'],\n",
    "    lora_alpha=configs[2]['alpha'],\n",
    "    target_modules=[\"q_proj\", \"v_proj\"],  \n",
    "    lora_dropout=configs[2]['dropout'],\n",
    "    bias=\"none\",\n",
    "    task_type=\"CAUSAL_LM\"\n",
    ")\n",
    "\n",
    "peft_model = get_peft_model(model, lora_config)"
   ]
  },
  {
   "cell_type": "code",
   "execution_count": null,
   "id": "dd4757a4",
   "metadata": {},
   "outputs": [],
   "source": [
    "training_args = TrainingArguments(\n",
    "    output_dir=\"./llama3-java-finetune\",\n",
    "    eval_strategy='steps',\n",
    "    eval_steps=0.1,\n",
    "    eval_on_start=True,\n",
    "    # per_device_train_batch_size=8, \n",
    "    auto_find_batch_size=True,\n",
    "    gradient_accumulation_steps=configs[2]['accum_steps'],\n",
    "    dataloader_num_workers=16,\n",
    "    dataloader_persistent_workers=True,\n",
    "    learning_rate=configs[2]['lr'],\n",
    "    num_train_epochs=1,  \n",
    "    bf16=True,\n",
    "    save_steps=0.2,\n",
    "    save_total_limit=3,\n",
    "    logging_steps=0.02,\n",
    "    report_to=\"wandb\",\n",
    "    logging_first_step=True,\n",
    "    run_name='quantized',\n",
    ")\n",
    "\n",
    "data_collator = DataCollatorForLanguageModeling(\n",
    "    tokenizer=tokenizer,\n",
    "    mlm=False,  # For causal LM\n",
    ")\n",
    "\n",
    "trainer = Trainer(\n",
    "    model=peft_model,\n",
    "    args=training_args,\n",
    "    train_dataset=train_set,\n",
    "    eval_dataset=test_set,\n",
    "    data_collator=data_collator,\n",
    ")"
   ]
  },
  {
   "cell_type": "code",
   "execution_count": null,
   "id": "a635f837",
   "metadata": {},
   "outputs": [],
   "source": [
    "trainer.train()"
   ]
  },
  {
   "cell_type": "code",
   "execution_count": null,
   "id": "3a55e59a",
   "metadata": {},
   "outputs": [],
   "source": [
    "wandb.finish()"
   ]
  },
  {
   "cell_type": "markdown",
   "id": "5c90465e",
   "metadata": {},
   "source": [
    "### RunEval"
   ]
  },
  {
   "cell_type": "code",
   "execution_count": null,
   "id": "c20bd49d",
   "metadata": {},
   "outputs": [],
   "source": [
    "args = {\n",
    "    'model': 'hf/local',\n",
    "    'model_path': '/root/srf-project/test_dir',\n",
    "    'device': 'auto',\n",
    "    'torch_dtype': 'auto'\n",
    "}\n",
    "\n",
    "run_eval('java', args, samples=164)"
   ]
  },
  {
   "cell_type": "code",
   "execution_count": null,
   "id": "3f31ad53",
   "metadata": {},
   "outputs": [],
   "source": [
    "def get_dataset_new(lang):\n",
    "    dataset = load_dataset('iNeil77/CodeNet', lang, split='train')\n",
    "    dataset = dataset.select_columns(['p_id', 'language', 'status', 'code'])\n",
    "    dataset = dataset.filter(lambda x: x['status']=='Accepted')\n",
    "    shuffled = dataset.shuffle(seed=47).select(range(10500))\n",
    "\n",
    "    return shuffled"
   ]
  },
  {
   "cell_type": "code",
   "execution_count": null,
   "id": "c5d577b6",
   "metadata": {},
   "outputs": [],
   "source": [
    "dataset = get_dataset_new('Java')"
   ]
  },
  {
   "cell_type": "code",
   "execution_count": null,
   "id": "3bc91e60",
   "metadata": {},
   "outputs": [],
   "source": [
    "out = dataset[300]['code']\n",
    "print(out)"
   ]
  },
  {
   "cell_type": "markdown",
   "id": "2e8a047a",
   "metadata": {},
   "source": [
    "### Trial Sweep"
   ]
  },
  {
   "cell_type": "code",
   "execution_count": null,
   "id": "f64568b6",
   "metadata": {},
   "outputs": [],
   "source": [
    "lora_config = LoraConfig(\n",
    "    r=8,\n",
    "    lora_alpha=32,\n",
    "    target_modules=[\"q_proj\", \"v_proj\"],  \n",
    "    lora_dropout=0.05,\n",
    "    bias=\"none\",\n",
    "    task_type=\"CAUSAL_LM\"\n",
    ")\n",
    "\n",
    "model = get_peft_model(model, lora_config)"
   ]
  },
  {
   "cell_type": "code",
   "execution_count": null,
   "id": "031387f8",
   "metadata": {},
   "outputs": [],
   "source": [
    "training_args = TrainingArguments(\n",
    "    output_dir=\"./llama3-java-finetune\",\n",
    "    eval_strategy='steps',\n",
    "    eval_steps=0.1,\n",
    "    eval_on_start=True,\n",
    "    per_device_train_batch_size=8, \n",
    "    gradient_accumulation_steps=4,\n",
    "    dataloader_num_workers=16,\n",
    "    dataloader_persistent_workers=True,\n",
    "    learning_rate=2e-4,\n",
    "    num_train_epochs=1,  \n",
    "    bf16=True,\n",
    "    save_steps=0.2,\n",
    "    save_total_limit=3,\n",
    "    logging_steps=0.02,\n",
    "    report_to=\"wandb\",\n",
    "    logging_first_step=True,\n",
    "    run_name='temp_run',\n",
    ")\n",
    "\n",
    "data_collator = DataCollatorForLanguageModeling(\n",
    "    tokenizer=tokenizer,\n",
    "    mlm=False,  # For causal LM\n",
    ")"
   ]
  },
  {
   "cell_type": "code",
   "execution_count": null,
   "id": "3dacbc29",
   "metadata": {},
   "outputs": [],
   "source": [
    "def model_init(trial):\n",
    "    return AutoModelForCausalLM.from_pretrained(\n",
    "        model_name, \n",
    "        device_map=\"auto\", \n",
    "        torch_dtype=\"auto\",\n",
    "    )\n",
    "\n",
    "\n",
    "trainer = Trainer(\n",
    "    # model=model,\n",
    "    model_init=model_init,\n",
    "    args=training_args,\n",
    "    train_dataset=train_set,\n",
    "    eval_dataset=test_set,\n",
    "    data_collator=data_collator,\n",
    ")"
   ]
  },
  {
   "cell_type": "code",
   "execution_count": null,
   "id": "b783a41c",
   "metadata": {},
   "outputs": [],
   "source": [
    "def wandb_hp_space(trial):\n",
    "    return {\n",
    "        \"method\": \"random\",\n",
    "        \"metric\": {\"name\": \"objective\", \"goal\": \"minimize\"},\n",
    "        \"parameters\": {\n",
    "            \"learning_rate\": {\"distribution\": \"uniform\", \"min\": 1e-6, \"max\": 1e-4},\n",
    "            \"per_device_train_batch_size\": {\"values\": [4, 8]},\n",
    "            \"gradient_accumulation_steps\": {\"values\": [1, 2, 4, 8]},\n",
    "            # \"r\": {\"values\": [2, 4, 8, 16]},\n",
    "            # \"lora_alpha\": {\"values\": [16, 32, 64, 128]},\n",
    "            # \"lora_dropout\": {\"min\": 0.0, \"max\": 0.2}, \n",
    "        },\n",
    "    }"
   ]
  },
  {
   "cell_type": "code",
   "execution_count": null,
   "id": "13a4c2f0",
   "metadata": {},
   "outputs": [],
   "source": [
    "best_trials = trainer.hyperparameter_search( \n",
    "    direction=\"minimize\",\n",
    "    backend=\"wandb\",\n",
    "    hp_space=wandb_hp_space,\n",
    "    n_trials=4,\n",
    "    # compute_objective=compute_objective,\n",
    ")"
   ]
  },
  {
   "cell_type": "markdown",
   "id": "a8a2d234",
   "metadata": {},
   "source": [
    "### Misc"
   ]
  },
  {
   "cell_type": "code",
   "execution_count": null,
   "id": "c31a9816",
   "metadata": {},
   "outputs": [],
   "source": [
    "trainer.train()"
   ]
  },
  {
   "cell_type": "code",
   "execution_count": null,
   "id": "0044ceaf",
   "metadata": {},
   "outputs": [],
   "source": [
    "wandb.finish()"
   ]
  },
  {
   "cell_type": "code",
   "execution_count": null,
   "id": "8c3341af",
   "metadata": {},
   "outputs": [],
   "source": [
    "args = {\n",
    "    'model': 'hf/local',\n",
    "    'model_path': '/root/srf-project/llama3-java-finetune/checkpoint-1250',\n",
    "    'device': 'auto',\n",
    "    'torch_dtype': 'auto'\n",
    "}\n",
    "\n",
    "run_eval('java', model_args=args, epochs=3)"
   ]
  },
  {
   "cell_type": "markdown",
   "id": "6a4ee715",
   "metadata": {},
   "source": [
    "### GPU Deets"
   ]
  },
  {
   "cell_type": "code",
   "execution_count": null,
   "id": "940218bc",
   "metadata": {},
   "outputs": [],
   "source": [
    "import torch as t\n",
    "import gc\n",
    "\n",
    "free_memory, total_memory = t.cuda.mem_get_info()\n",
    "\n",
    "# Convert bytes to GB\n",
    "free_memory_gb = free_memory / (1024 * 1024 * 1024)\n",
    "total_memory_gb = total_memory / (1024 * 1024 * 1024)\n",
    "mem_used = t.cuda.device_memory_used() / (1024 ** 3)\n",
    "\n",
    "print(f\"Free GPU Memory: {free_memory_gb:.2f} GB\")\n",
    "print(f\"Total GPU Memory: {total_memory_gb:.2f} GB\")\n",
    "print(f'Memory Used: {mem_used:.2f} GB')"
   ]
  },
  {
   "cell_type": "code",
   "execution_count": null,
   "id": "58a458a8",
   "metadata": {},
   "outputs": [],
   "source": [
    "print(t.cuda.memory_allocated() / 1024**2, \"MB allocated\")\n",
    "print(t.cuda.memory_reserved() / 1024**2, \"MB reserved\")"
   ]
  },
  {
   "cell_type": "code",
   "execution_count": null,
   "id": "00e20428",
   "metadata": {},
   "outputs": [],
   "source": [
    "print(t.cuda.memory_allocated() / 1024**2, \"MB allocated\")\n",
    "print(t.cuda.memory_reserved() / 1024**2, \"MB reserved\")"
   ]
  }
 ],
 "metadata": {
  "kernelspec": {
   "display_name": "srf-env",
   "language": "python",
   "name": "python3"
  },
  "language_info": {
   "codemirror_mode": {
    "name": "ipython",
    "version": 3
   },
   "file_extension": ".py",
   "mimetype": "text/x-python",
   "name": "python",
   "nbconvert_exporter": "python",
   "pygments_lexer": "ipython3",
   "version": "3.11.13"
  }
 },
 "nbformat": 4,
 "nbformat_minor": 5
}
