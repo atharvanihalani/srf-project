{
 "cells": [
  {
   "cell_type": "markdown",
   "id": "73c1567d",
   "metadata": {},
   "source": [
    "## setup"
   ]
  },
  {
   "cell_type": "code",
   "execution_count": 6,
   "id": "b4417b7b",
   "metadata": {},
   "outputs": [],
   "source": [
    "from unsloth.chat_templates import standardize_sharegpt, get_chat_template, train_on_responses_only\n",
    "from unsloth import FastLanguageModel\n",
    "from transformers import TrainingArguments, DataCollatorForSeq2Seq, AutoTokenizer, AutoModelForCausalLM, Trainer, DataCollatorForLanguageModeling, BitsAndBytesConfig \n",
    "from huggingface_hub import login\n",
    "from dotenv import load_dotenv\n",
    "from datasets import load_dataset\n",
    "import os\n",
    "import wandb\n",
    "import json\n",
    "from trl import SFTTrainer #, SFTConfig\n",
    "from pipeline.main import run_eval\n",
    "from peft import LoraConfig, get_peft_model, PeftModel\n",
    "from pipeline.main import run_eval\n",
    "from IPython.display import display, HTML\n",
    "import torch as t\n",
    "from pipeline.constants import LANG_PREFIX, HUMANEVAL_PROMPT\n",
    "\n",
    "from inspect_ai.model import ModelAPI, GenerateConfig\n",
    "from inspect_ai.model._registry import modelapi\n",
    "from inspect_ai.model import get_model"
   ]
  },
  {
   "cell_type": "code",
   "execution_count": 3,
   "id": "7f4a4c6e",
   "metadata": {},
   "outputs": [
    {
     "name": "stderr",
     "output_type": "stream",
     "text": [
      "Note: Environment variable`HF_TOKEN` is set and is the current active token independently from the token you've just configured.\n",
      "\u001b[34m\u001b[1mwandb\u001b[0m: Currently logged in as: \u001b[33matharva_nihalani\u001b[0m (\u001b[33matharva_nihalani-brown-university\u001b[0m) to \u001b[32mhttps://api.wandb.ai\u001b[0m. Use \u001b[1m`wandb login --relogin`\u001b[0m to force relogin\n"
     ]
    },
    {
     "data": {
      "text/plain": [
       "True"
      ]
     },
     "execution_count": 3,
     "metadata": {},
     "output_type": "execute_result"
    }
   ],
   "source": [
    "load_dotenv()\n",
    "login(token = os.environ['HF_TOKEN'])\n",
    "wandb.login()"
   ]
  },
  {
   "cell_type": "markdown",
   "id": "d70310b8",
   "metadata": {},
   "source": [
    "## Monkey Patching Unsloth"
   ]
  },
  {
   "cell_type": "code",
   "execution_count": null,
   "id": "aaabe793",
   "metadata": {},
   "outputs": [
    {
     "ename": "AssertionError",
     "evalue": "tl_model is required in model_args",
     "output_type": "error",
     "traceback": [
      "\u001b[31m---------------------------------------------------------------------------\u001b[39m",
      "\u001b[31mAssertionError\u001b[39m                            Traceback (most recent call last)",
      "\u001b[36mCell\u001b[39m\u001b[36m \u001b[39m\u001b[32mIn[12]\u001b[39m\u001b[32m, line 3\u001b[39m\n\u001b[32m      1\u001b[39m \u001b[38;5;28;01mfrom\u001b[39;00m\u001b[38;5;250m \u001b[39m\u001b[34;01mtest_unsloth_patch\u001b[39;00m\u001b[38;5;250m \u001b[39m\u001b[38;5;28;01mimport\u001b[39;00m custom, providers\n\u001b[32m----> \u001b[39m\u001b[32m3\u001b[39m model = get_model(\u001b[33m\"\u001b[39m\u001b[33mcustom/my-model\u001b[39m\u001b[33m\"\u001b[39m)\n",
      "\u001b[36mFile \u001b[39m\u001b[32m~/miniconda3/envs/srf-env/lib/python3.11/site-packages/inspect_ai/model/_model.py:1023\u001b[39m, in \u001b[36mget_model\u001b[39m\u001b[34m(model, role, default, config, base_url, api_key, memoize, **model_args)\u001b[39m\n\u001b[32m   1021\u001b[39m init_hooks()\n\u001b[32m   1022\u001b[39m modelapi_type = cast(\u001b[38;5;28mtype\u001b[39m[ModelAPI], modelapi_types[\u001b[32m0\u001b[39m])\n\u001b[32m-> \u001b[39m\u001b[32m1023\u001b[39m modelapi_instance = modelapi_type(\n\u001b[32m   1024\u001b[39m     model_name=model,\n\u001b[32m   1025\u001b[39m     base_url=base_url,\n\u001b[32m   1026\u001b[39m     api_key=api_key,\n\u001b[32m   1027\u001b[39m     config=config,\n\u001b[32m   1028\u001b[39m     **model_args,\n\u001b[32m   1029\u001b[39m )\n\u001b[32m   1030\u001b[39m m = Model(modelapi_instance, config, model_args)\n\u001b[32m   1031\u001b[39m \u001b[38;5;28;01mif\u001b[39;00m role \u001b[38;5;129;01mis\u001b[39;00m \u001b[38;5;129;01mnot\u001b[39;00m \u001b[38;5;28;01mNone\u001b[39;00m:\n",
      "\u001b[36mFile \u001b[39m\u001b[32m~/miniconda3/envs/srf-env/lib/python3.11/site-packages/inspect_ai/model/_registry.py:56\u001b[39m, in \u001b[36mmodelapi.<locals>.create_model_wrapper.<locals>.model_wrapper\u001b[39m\u001b[34m(*args, **kwargs)\u001b[39m\n\u001b[32m     53\u001b[39m \u001b[38;5;28;01melse\u001b[39;00m:\n\u001b[32m     54\u001b[39m     model_type = wrapped\n\u001b[32m---> \u001b[39m\u001b[32m56\u001b[39m model = model_type(*args, **kwargs)\n\u001b[32m     57\u001b[39m registry_tag(\n\u001b[32m     58\u001b[39m     model_type,\n\u001b[32m     59\u001b[39m     model,\n\u001b[32m   (...)\u001b[39m\u001b[32m     65\u001b[39m     **kwargs,\n\u001b[32m     66\u001b[39m )\n\u001b[32m     67\u001b[39m \u001b[38;5;28;01mreturn\u001b[39;00m model\n",
      "\u001b[36mFile \u001b[39m\u001b[32m~/srf-project/playground/test_unsloth_patch/custom.py:28\u001b[39m, in \u001b[36mCustomModelAPI.__init__\u001b[39m\u001b[34m(self, model_name, config, **model_args)\u001b[39m\n\u001b[32m     21\u001b[39m \u001b[38;5;28msuper\u001b[39m().\u001b[34m__init__\u001b[39m(\n\u001b[32m     22\u001b[39m     model_name=model_name,\n\u001b[32m     23\u001b[39m     config=config,\n\u001b[32m     24\u001b[39m )\n\u001b[32m     26\u001b[39m \u001b[38;5;66;03m# Get the model from external code that initialized it\u001b[39;00m\n\u001b[32m     27\u001b[39m \u001b[38;5;66;03m# Using 'tl_model' to avoid conflict with get_model's 'model' parameter\u001b[39;00m\n\u001b[32m---> \u001b[39m\u001b[32m28\u001b[39m \u001b[38;5;28;01massert\u001b[39;00m \u001b[33m\"\u001b[39m\u001b[33mtl_model\u001b[39m\u001b[33m\"\u001b[39m \u001b[38;5;129;01min\u001b[39;00m model_args, \u001b[33m\"\u001b[39m\u001b[33mtl_model is required in model_args\u001b[39m\u001b[33m\"\u001b[39m\n\u001b[32m     29\u001b[39m \u001b[38;5;28;01massert\u001b[39;00m \u001b[38;5;28misinstance\u001b[39m(model_args[\u001b[33m\"\u001b[39m\u001b[33mtl_model\u001b[39m\u001b[33m\"\u001b[39m], HookedTransformer), (\n\u001b[32m     30\u001b[39m     \u001b[33m\"\u001b[39m\u001b[33mtl_model must be a transformer_lens.HookedTransformer\u001b[39m\u001b[33m\"\u001b[39m\n\u001b[32m     31\u001b[39m )\n\u001b[32m     33\u001b[39m \u001b[38;5;28mself\u001b[39m.model = model_args[\u001b[33m\"\u001b[39m\u001b[33mtl_model\u001b[39m\u001b[33m\"\u001b[39m]\n",
      "\u001b[31mAssertionError\u001b[39m: tl_model is required in model_args"
     ]
    }
   ],
   "source": [
    "from test_unsloth_patch import custom, providers\n",
    "\n",
    "model = get_model(\"custom/my-model\", )"
   ]
  },
  {
   "cell_type": "code",
   "execution_count": null,
   "id": "3e8cb06f",
   "metadata": {},
   "outputs": [],
   "source": [
    "from inspect_ai.model import ModelAPI, GenerateConfig\n",
    "from inspect_ai.model._registry import modelapi\n",
    "from typing import Any\n",
    "from transformers import PreTrainedTokenizerBase\n",
    "\n",
    "class UnslothModelAPI(ModelAPI):\n",
    "    # def __init__(self, model_name, tokenizer: PreTrainedTokenizerBase, device=\"cuda\"):\n",
    "    def __init(\n",
    "        self,\n",
    "        model_name: str,\n",
    "        base_url: str | None = None,\n",
    "        api_key: str | None = None,\n",
    "        api_key_vars: list[str] = [],\n",
    "        config: GenerateConfig = GenerateConfig(),\n",
    "        **model_args: Any\n",
    "    ):\n",
    "        super().__init__(model_name, base_url, api_key, api_key_vars, config)\n",
    "\n",
    "    def generate(self, prompts, **kwargs):\n",
    "        inputs = self.tokenizer(prompts, return_tensors=\"pt\", padding=True).to(self.device)\n",
    "        outputs = self.model.generate(**inputs, **kwargs)\n",
    "        return [\n",
    "            self.tokenizer.decode(output, skip_special_tokens=True)\n",
    "            for output in outputs\n",
    "        ]\n",
    "    \n",
    "class CustomModelAPI(ModelAPI):\n",
    "    def __init__(\n",
    "        self,\n",
    "        model_name: str,\n",
    "        base_url: str | None = None,\n",
    "        api_key: str | None = None,\n",
    "        api_key_vars: list[str] = [],\n",
    "        config: GenerateConfig = GenerateConfig(),\n",
    "        **model_args: Any\n",
    "    ) -> None:\n",
    "        super().__init__(model_name, base_url, api_key, api_key_vars, config)\n",
    "\n",
    "    async def generate(\n",
    "        self,\n",
    "        input: list[ChatMessage],\n",
    "        config: GenerateConfig,\n",
    "    ) -> ModelOutput:\n",
    "        ..."
   ]
  },
  {
   "cell_type": "code",
   "execution_count": null,
   "id": "591199db",
   "metadata": {},
   "outputs": [],
   "source": [
    "unsloth_model, unsloth_tokenizer = FastLanguageModel.from_pretrained(\n",
    "    model_name=\"unsloth/Meta-Llama-3.1-8B-Instruct\",\n",
    "    max_seq_length=32768,\n",
    "    dtype=None,\n",
    "    load_in_4bit=True,\n",
    ")"
   ]
  },
  {
   "cell_type": "code",
   "execution_count": null,
   "id": "ad44abb7",
   "metadata": {},
   "outputs": [],
   "source": [
    "@modelapi(name=\"custom\")\n",
    "def custom():\n",
    "    return UnslothModelAPI"
   ]
  },
  {
   "cell_type": "markdown",
   "id": "460aa69e",
   "metadata": {},
   "source": [
    "## Measure Loss"
   ]
  },
  {
   "cell_type": "code",
   "execution_count": null,
   "id": "62759f16",
   "metadata": {},
   "outputs": [],
   "source": [
    "# goal – understanding why humaneval performance is NOT increasing\n",
    "    # hypothesis – *something* is being lost between [the unsloth trainee model] and [the merged HF model]\n",
    "\n",
    "# want to calculate the eval loss for the merged model. confirm it's similar to the wandb metrics.\n",
    "# or actually... a quicker way to do so would be to compare the weights directly!"
   ]
  },
  {
   "cell_type": "code",
   "execution_count": null,
   "id": "80fc21cc",
   "metadata": {},
   "outputs": [],
   "source": [
    "# need to get two sets of weights\n",
    "    # model loaded from unsloth\n",
    "    # model from HF"
   ]
  },
  {
   "cell_type": "code",
   "execution_count": null,
   "id": "a6b6dcbb",
   "metadata": {},
   "outputs": [],
   "source": [
    "unsloth_model, unsloth_tokenizer = FastLanguageModel.from_pretrained(\n",
    "    model_name = \"unsloth/Meta-Llama-3.1-8B-Instruct\",\n",
    "    max_seq_length = 32768,\n",
    "    dtype = None,\n",
    "    load_in_4bit = True,\n",
    ")\n",
    "\n",
    "unsloth_model.save_pretrained('llama3_test_unsloth')\n",
    "unsloth_tokenizer.save_pretrained('llama3_test_unsloth')"
   ]
  },
  {
   "cell_type": "markdown",
   "id": "2a735291",
   "metadata": {},
   "source": [
    "## Unsloth FT"
   ]
  },
  {
   "cell_type": "markdown",
   "id": "7ada5e2d",
   "metadata": {},
   "source": [
    "### Load model"
   ]
  },
  {
   "cell_type": "code",
   "execution_count": null,
   "id": "623de4eb",
   "metadata": {},
   "outputs": [],
   "source": [
    "max_seq_length = 32768 # Choose any! We auto support RoPE Scaling internally!\n",
    "dtype = None # None for auto detection. Float16 for Tesla T4, V100, Bfloat16 for Ampere+\n",
    "load_in_4bit = True # Use 4bit quantization to reduce memory usage. Can be False.\n",
    "\n",
    "model, tokenizer = FastLanguageModel.from_pretrained(\n",
    "    model_name = \"unsloth/Meta-Llama-3.1-8B-Instruct\",\n",
    "    max_seq_length = max_seq_length,\n",
    "    dtype = dtype,\n",
    "    load_in_4bit = load_in_4bit,\n",
    ")"
   ]
  },
  {
   "cell_type": "code",
   "execution_count": null,
   "id": "d2884cfb",
   "metadata": {},
   "outputs": [],
   "source": [
    "model = FastLanguageModel.get_peft_model(\n",
    "    model,\n",
    "    r = 8, # Choose any number > 0 ! Suggested 8, 16, 32, 64, 128\n",
    "    target_modules = [\"q_proj\", \"k_proj\", \"v_proj\", \"o_proj\",\n",
    "                      \"gate_proj\", \"up_proj\", \"down_proj\",],\n",
    "    lora_alpha = 16,\n",
    "    lora_dropout = 0, # Supports any, but = 0 is optimized\n",
    "    bias = \"none\",    # Supports any, but = \"none\" is optimized\n",
    "    use_gradient_checkpointing = \"unsloth\", # True or \"unsloth\" for very long context\n",
    "    random_state = 3407,\n",
    ")\n",
    "\n",
    "tokenizer = get_chat_template(\n",
    "    tokenizer,\n",
    "    chat_template = \"llama-3.1\",\n",
    ")"
   ]
  },
  {
   "cell_type": "markdown",
   "id": "29c8d74b",
   "metadata": {},
   "source": [
    "### Load Data"
   ]
  },
  {
   "cell_type": "code",
   "execution_count": null,
   "id": "77567e21",
   "metadata": {},
   "outputs": [],
   "source": [
    "with open(\"/root/srf-project/data/codenet_questions/filtered_problem_descriptions.json\", \"r\") as f:\n",
    "    problem_descriptions = json.load(f)\n",
    "\n",
    "def get_filtered_dataset(lang):\n",
    "    dataset = load_dataset('iNeil77/CodeNet', lang, split='train')\n",
    "    dataset = dataset.select_columns(['p_id', 'language', 'status', 'code'])\n",
    "    dataset = dataset.filter(lambda x: x['status']=='Accepted')\n",
    "    dataset = dataset.filter(lambda x: x['p_id'] in problem_descriptions.keys())\n",
    "\n",
    "    return dataset\n",
    "\n",
    "def get_train_test(dataset, train_size=10000, test_size=500):\n",
    "    shuffled = dataset.shuffle(seed=47)\n",
    "    train_set = shuffled.select(range(train_size))\n",
    "    test_set = shuffled.select(range(train_size, train_size + test_size))\n",
    "\n",
    "    return train_set, test_set\n",
    "\n",
    "def add_conversations(row):\n",
    "    preface = 'Read the following problem description. Fully implement a solution in Java. Your response should only contain the code, no explanations.\\n\\n'\n",
    "    problem_description = problem_descriptions[row['p_id']]\n",
    "    code = row['code']\n",
    "\n",
    "    row['conversations'] = [\n",
    "        {\n",
    "            'role': 'user', \n",
    "            'content': preface + problem_description,\n",
    "        },\n",
    "        {\n",
    "            'role': 'assistant', \n",
    "            'content': code,\n",
    "        }\n",
    "    ]\n",
    "\n",
    "    return row\n",
    "\n",
    "def chat_format(row):\n",
    "    convos = row['conversations']\n",
    "    texts = [tokenizer.apply_chat_template(convo, tokenize = False, add_generation_prompt = False) for convo in convos]\n",
    "    return { 'text' : texts }"
   ]
  },
  {
   "cell_type": "code",
   "execution_count": null,
   "id": "08d36480",
   "metadata": {},
   "outputs": [],
   "source": [
    "codenet = get_filtered_dataset('Java')\n",
    "codenet_train, codenet_test = get_train_test(codenet, 40)\n",
    "\n",
    "codenet_train = codenet_train.map(add_conversations, remove_columns=['p_id', 'language', 'status', 'code'])\n",
    "codenet_test = codenet_test.map(add_conversations, remove_columns=['p_id', 'language', 'status', 'code'])\n",
    "\n",
    "codenet_train = codenet_train.map(chat_format, batched=True)\n",
    "codenet_test = codenet_test.map(chat_format, batched=True)"
   ]
  },
  {
   "cell_type": "code",
   "execution_count": null,
   "id": "50654c0b",
   "metadata": {},
   "outputs": [],
   "source": [
    "def humaneval_add_convs(row):\n",
    "    last_line = row['prompt'].splitlines()[-1]\n",
    "    final_code = last_line + '\\n' + row['canonical_solution']\n",
    "\n",
    "    row['conversations'] = [\n",
    "        {\n",
    "            'role': 'user', \n",
    "            'content': HUMANEVAL_PROMPT + LANG_PREFIX['cpp'] + '\\n' + row['prompt'] \n",
    "        },\n",
    "        {\n",
    "            'role': 'assistant', \n",
    "            'content': final_code,\n",
    "        }\n",
    "    ]\n",
    "\n",
    "    return row"
   ]
  },
  {
   "cell_type": "code",
   "execution_count": null,
   "id": "d0fb36ad",
   "metadata": {},
   "outputs": [],
   "source": [
    "humaneval = load_dataset('THUDM/humaneval-x', trust_remote_code=True, split='test', name='cpp')\n",
    "humaneval_train = humaneval.train_test_split(test_size=0.25)['train']\n",
    "humaneval_test = humaneval.train_test_split(test_size=0.25)['test']\n",
    "\n",
    "humaneval_train = humaneval_train.map(humaneval_add_convs, remove_columns=['task_id', 'prompt', 'declaration', 'canonical_solution', 'test', 'example_test'])\n",
    "humaneval_test = humaneval_test.map(humaneval_add_convs, remove_columns=['task_id', 'prompt', 'declaration', 'canonical_solution', 'test', 'example_test'])\n",
    "\n",
    "humaneval_train = humaneval_train.map(chat_format, batched=True)\n",
    "humaneval_test = humaneval_test.map(chat_format, batched=True)\n"
   ]
  },
  {
   "cell_type": "code",
   "execution_count": null,
   "id": "214a2213",
   "metadata": {},
   "outputs": [],
   "source": [
    "codenet_train"
   ]
  },
  {
   "cell_type": "markdown",
   "id": "4f19fba0",
   "metadata": {},
   "source": [
    "### Finetuning"
   ]
  },
  {
   "cell_type": "code",
   "execution_count": null,
   "id": "afe640e4",
   "metadata": {},
   "outputs": [],
   "source": [
    "def get_save_dir():\n",
    "    idx = 0\n",
    "    base_path = '/root/srf-project/playground/llama3-java-finetune-'\n",
    "    already_existing = True\n",
    "\n",
    "    while already_existing:\n",
    "        idx += 1\n",
    "        path = base_path + str(idx)\n",
    "        \n",
    "        if not os.path.exists(path):\n",
    "            already_existing = False\n",
    "            os.mkdir(path)\n",
    "            return path\n",
    "        \n",
    "output_path = get_save_dir()\n",
    "train_set = humaneval_train"
   ]
  },
  {
   "cell_type": "code",
   "execution_count": null,
   "id": "e3e93f2e",
   "metadata": {},
   "outputs": [],
   "source": [
    "training_args = TrainingArguments(\n",
    "    per_device_train_batch_size = 8,\n",
    "    # auto_find_batch_size = True,\n",
    "    gradient_accumulation_steps = 1,\n",
    "    warmup_ratio = 0.05,\n",
    "    num_train_epochs = 5,\n",
    "    # eval_strategy = 'steps',\n",
    "    # eval_steps = 0.05,\n",
    "    learning_rate = 2e-4,\n",
    "    bf16 = True,\n",
    "    logging_steps = 1,\n",
    "    # logging_first_step=True,\n",
    "    optim = \"adamw_8bit\",\n",
    "    weight_decay = 0.01,\n",
    "    lr_scheduler_type = \"linear\",\n",
    "    seed = 3407,\n",
    "    # save_steps = 0.2,\n",
    "    # save_total_limit = 3,\n",
    "    output_dir = output_path,\n",
    "    report_to = \"wandb\", \n",
    "    run_name = 'test_run'\n",
    ")\n",
    "\n",
    "trainer = SFTTrainer(\n",
    "    model = model,\n",
    "    tokenizer = tokenizer,\n",
    "    train_dataset = train_set,\n",
    "    # eval_dataset = test_set,\n",
    "    dataset_text_field = \"text\",\n",
    "    max_seq_length = max_seq_length,\n",
    "    data_collator = DataCollatorForSeq2Seq(tokenizer = tokenizer),\n",
    "    dataset_num_proc = 8,\n",
    "    args = training_args,\n",
    "    # packing = False, \n",
    ")"
   ]
  },
  {
   "cell_type": "code",
   "execution_count": null,
   "id": "f3c23ea5",
   "metadata": {},
   "outputs": [],
   "source": [
    "trainer = train_on_responses_only(\n",
    "    trainer,\n",
    "    instruction_part = \"<|start_header_id|>user<|end_header_id|>\\n\\n\",\n",
    "    response_part = \"<|start_header_id|>assistant<|end_header_id|>\\n\\n\",\n",
    ")"
   ]
  },
  {
   "cell_type": "code",
   "execution_count": null,
   "id": "4a0cb2d6",
   "metadata": {},
   "outputs": [],
   "source": [
    "trainer_stats = trainer.train()"
   ]
  },
  {
   "cell_type": "code",
   "execution_count": null,
   "id": "e920f153",
   "metadata": {},
   "outputs": [],
   "source": [
    "artifact = wandb.Artifact(name=\"final_model\", type=\"model\")\n",
    "artifact.add_dir(output_path)\n",
    "wandb.run.log_artifact(artifact)\n",
    "\n",
    "wandb.finish()"
   ]
  },
  {
   "cell_type": "markdown",
   "id": "e5357b02",
   "metadata": {},
   "source": [
    "## Previous FT Code"
   ]
  },
  {
   "cell_type": "markdown",
   "id": "310b3a1c",
   "metadata": {},
   "source": [
    "### Load Model / Dataset"
   ]
  },
  {
   "cell_type": "code",
   "execution_count": null,
   "id": "9be92a3d",
   "metadata": {},
   "outputs": [],
   "source": [
    "'''\n",
    "model_name = 'meta-llama/Llama-3.1-8B-Instruct'\n",
    "\n",
    "bnb_config = BitsAndBytesConfig(\n",
    "    load_in_4bit=True,\n",
    "    bnb_4bit_compute_dtype=t.float16,\n",
    "    bnb_4bit_use_double_quant=True,\n",
    "    llm_int8_threshold=6.0,\n",
    ")\n",
    "\n",
    "tokenizer = AutoTokenizer.from_pretrained(model_name, pad_side=\"left\")\n",
    "model = AutoModelForCausalLM.from_pretrained(\n",
    "    model_name, \n",
    "    device_map=\"auto\", \n",
    "    quantization_config=bnb_config,\n",
    ")\n",
    "tokenizer.pad_token = tokenizer.eos_token'''\n",
    "\n",
    "# model_name = 'unsloth/Meta-Llama-3.1-8B-Instruct'\n",
    "model_name = 'unsloth/Meta-Llama-3.1-8B-Instruct-bnb-4bit'\n",
    "\n",
    "\n",
    "tokenizer = AutoTokenizer.from_pretrained(model_name, pad_side=\"left\")\n",
    "tokenizer.pad_token = tokenizer.eos_token\n",
    "\n",
    "\n",
    "model = AutoModelForCausalLM.from_pretrained(\n",
    "    model_name, \n",
    "    device_map=\"auto\", \n",
    "    torch_dtype=\"auto\",\n",
    ")"
   ]
  },
  {
   "cell_type": "code",
   "execution_count": null,
   "id": "b63aeab8",
   "metadata": {},
   "outputs": [],
   "source": [
    "with open(\"/root/srf-project/data/codenet_questions/filtered_problem_descriptions.json\", \"r\") as f:\n",
    "    problem_descriptions = json.load(f)\n",
    "\n",
    "def get_filtered_dataset(lang):\n",
    "    dataset = load_dataset('iNeil77/CodeNet', lang, split='train')\n",
    "    dataset = dataset.select_columns(['p_id', 'language', 'status', 'code'])\n",
    "    dataset = dataset.filter(lambda x: x['status']=='Accepted')\n",
    "    dataset = dataset.filter(lambda x: x['p_id'] in problem_descriptions.keys())\n",
    "\n",
    "    return dataset\n",
    "\n",
    "def get_train_test(dataset, train_size=10000, test_size=500):\n",
    "    shuffled = dataset.shuffle(seed=47)\n",
    "    train_set = shuffled.select(range(train_size))\n",
    "    test_set = shuffled.select(range(train_size, train_size + test_size))\n",
    "\n",
    "    return train_set, test_set\n",
    "\n",
    "filtered = get_filtered_dataset('Java')\n",
    "train_set, test_set = get_train_test(filtered, test_size=8)"
   ]
  },
  {
   "cell_type": "code",
   "execution_count": null,
   "id": "47ba17f7",
   "metadata": {},
   "outputs": [],
   "source": [
    "def add_description(row):\n",
    "    description = problem_descriptions[row['p_id']]\n",
    "    row['description'] = description\n",
    "    return row\n",
    "\n",
    "train_set = train_set.map(add_description)\n",
    "test_set = test_set.map(add_description)"
   ]
  },
  {
   "cell_type": "code",
   "execution_count": null,
   "id": "18d91be1",
   "metadata": {},
   "outputs": [],
   "source": [
    "def add_final_prompt(row):\n",
    "    description = row['description'].strip()\n",
    "    code = row['code']\n",
    "\n",
    "    final_prompt = '\\n'.join([description, '<answer>', code, '</answer>'])\n",
    "    row['final_prompt'] = final_prompt\n",
    "\n",
    "    return row\n",
    "\n",
    "train_set = train_set.map(add_final_prompt)\n",
    "test_set = test_set.map(add_final_prompt)"
   ]
  },
  {
   "cell_type": "code",
   "execution_count": null,
   "id": "07bde88f",
   "metadata": {},
   "outputs": [],
   "source": [
    "def tokenize(record):\n",
    "    final_prompt = record['final_prompt']\n",
    "    msg = [\n",
    "        {'role': 'user', 'content': final_prompt}\n",
    "    ]\n",
    "\n",
    "    tokens = tokenizer.apply_chat_template(msg, add_generation_prompt=True, return_dict=True)\n",
    "\n",
    "    return tokens\n",
    "\n",
    "final_train_set = train_set.map(tokenize, num_proc=32)\n",
    "final_test_set = test_set.map(tokenize, num_proc=32)\n",
    "\n",
    "final_train_set = final_train_set.select_columns(['input_ids', 'attention_mask'])\n",
    "final_test_set = final_test_set.select_columns(['input_ids', 'attention_mask'])"
   ]
  },
  {
   "cell_type": "markdown",
   "id": "47594328",
   "metadata": {},
   "source": [
    "### FineTuning"
   ]
  },
  {
   "cell_type": "code",
   "execution_count": null,
   "id": "fcb7f5e8",
   "metadata": {},
   "outputs": [],
   "source": [
    "lora_config = LoraConfig(\n",
    "    r=16,\n",
    "    lora_alpha=64,\n",
    "    target_modules=[\"q_proj\", \"v_proj\"],  \n",
    "    lora_dropout=0.00,\n",
    "    bias=\"none\",\n",
    "    task_type=\"CAUSAL_LM\"\n",
    ")\n",
    "\n",
    "peft_model = get_peft_model(model, lora_config)"
   ]
  },
  {
   "cell_type": "code",
   "execution_count": null,
   "id": "81e45159",
   "metadata": {},
   "outputs": [],
   "source": [
    "def get_save_dir():\n",
    "    idx = 0\n",
    "    base_path = '/root/srf-project/playground/llama3-java-finetune-'\n",
    "    already_existing = True\n",
    "\n",
    "    while already_existing:\n",
    "        idx += 1\n",
    "        path = base_path + str(idx)\n",
    "        \n",
    "        if not os.path.exists(path):\n",
    "            already_existing = False\n",
    "            os.mkdir(path)\n",
    "            return path\n",
    "        \n",
    "output_path = get_save_dir()\n",
    "\n",
    "training_args = TrainingArguments(\n",
    "    output_dir=output_path,\n",
    "    # eval_strategy='steps',\n",
    "    # eval_steps=0.1,\n",
    "    # eval_on_start=True,\n",
    "    per_device_train_batch_size=1, \n",
    "    # auto_find_batch_size=True,\n",
    "    gradient_accumulation_steps=1,\n",
    "    # gradient_checkpointing=True,\n",
    "    torch_empty_cache_steps=1,\n",
    "    dataloader_num_workers=16,\n",
    "    dataloader_persistent_workers=True,\n",
    "    learning_rate=5e-4,\n",
    "    num_train_epochs=1,  \n",
    "    bf16=True,\n",
    "    save_steps=0.2,\n",
    "    save_total_limit=3,\n",
    "    logging_steps=0.02,\n",
    "    report_to=\"wandb\",\n",
    "    logging_first_step=True,\n",
    "    run_name='chat_template',\n",
    ")\n",
    "\n",
    "data_collator = DataCollatorForLanguageModeling(\n",
    "    tokenizer=tokenizer,\n",
    "    mlm=False,  # For causal LM\n",
    ")\n",
    "\n",
    "trainer = Trainer(\n",
    "    model=peft_model,\n",
    "    args=training_args,\n",
    "    train_dataset=final_train_set,\n",
    "    eval_dataset=final_test_set,\n",
    "    data_collator=data_collator,\n",
    ")"
   ]
  },
  {
   "cell_type": "code",
   "execution_count": null,
   "id": "3a7d3a4f",
   "metadata": {},
   "outputs": [],
   "source": [
    "trainer.train()"
   ]
  },
  {
   "cell_type": "code",
   "execution_count": null,
   "id": "b6d1a89c",
   "metadata": {},
   "outputs": [],
   "source": [
    "wandb.finish()"
   ]
  },
  {
   "cell_type": "markdown",
   "id": "5c90465e",
   "metadata": {},
   "source": [
    "### RunEval"
   ]
  },
  {
   "cell_type": "code",
   "execution_count": null,
   "id": "c20bd49d",
   "metadata": {},
   "outputs": [],
   "source": [
    "from pipeline.main import run_eval\n",
    "\n",
    "args = {\n",
    "    'model': 'hf/local',\n",
    "    'model_path': '/root/srf-project/playground/llama3-java-finetune-a/checkpoint-625',\n",
    "    'device': 'auto',\n",
    "    'torch_dtype': 'auto'\n",
    "}\n",
    "\n",
    "run_eval('java', args, samples=3)"
   ]
  },
  {
   "cell_type": "markdown",
   "id": "6a4ee715",
   "metadata": {},
   "source": [
    "## RunEval"
   ]
  },
  {
   "cell_type": "code",
   "execution_count": null,
   "id": "3165a895",
   "metadata": {},
   "outputs": [],
   "source": [
    "api = wandb.Api()\n",
    "artifact_name = 'atharva_nihalani-brown-university/unlearning-finetuning-trial/final_model:v1'\n",
    "\n",
    "my_artifact = api.artifact(artifact_name, 'model')\n",
    "my_artifact.download('llama3_adaptor_a')"
   ]
  },
  {
   "cell_type": "code",
   "execution_count": null,
   "id": "06e4ac6a",
   "metadata": {},
   "outputs": [],
   "source": [
    "base_1 = AutoModelForCausalLM.from_pretrained('unsloth/Meta-Llama-3.1-8B-Instruct', device_map=\"auto\", torch_dtype='auto')\n",
    "base_2 = AutoModelForCausalLM.from_pretrained('unsloth/Meta-Llama-3.1-8B-Instruct', device_map=\"auto\", load_in_4bit=True)\n",
    "tokenizer = AutoTokenizer.from_pretrained('unsloth/Meta-Llama-3.1-8B-Instruct')\n",
    "\n",
    "model_2 = PeftModel.from_pretrained(base_2, '/root/srf-project/playground/llama3_adaptor_a/checkpoint-80')\n",
    "model_1 = PeftModel.from_pretrained(base_1, '/root/srf-project/playground/llama3_adaptor_a/checkpoint-80')\n",
    "\n",
    "model_1 = model_1.merge_and_unload()\n",
    "model_2 = model_2.merge_and_unload()"
   ]
  },
  {
   "cell_type": "code",
   "execution_count": null,
   "id": "843a2983",
   "metadata": {},
   "outputs": [],
   "source": [
    "model_1.save_pretrained('llama3_model_a')\n",
    "tokenizer.save_pretrained('llama3_model_a')\n",
    "\n",
    "model_2.save_pretrained('llama3_model_4bnb_a')\n",
    "tokenizer.save_pretrained('llama3_model_4bnb_a')"
   ]
  },
  {
   "cell_type": "code",
   "execution_count": null,
   "id": "e033433f",
   "metadata": {},
   "outputs": [],
   "source": [
    "args = {\n",
    "    'model': 'hf/local',\n",
    "    'model_path': '/root/srf-project/playground/llama3_test_unsloth/',\n",
    "    'device': 'auto',\n",
    "    'torch_dtype': 'auto'\n",
    "}\n",
    "\n",
    "run_eval('cpp', args, samples=(0, 120))"
   ]
  },
  {
   "cell_type": "markdown",
   "id": "d416d07d",
   "metadata": {},
   "source": [
    "## GPU Deets"
   ]
  },
  {
   "cell_type": "code",
   "execution_count": null,
   "id": "940218bc",
   "metadata": {},
   "outputs": [],
   "source": [
    "import torch as t\n",
    "import gc\n",
    "\n",
    "free_memory, total_memory = t.cuda.mem_get_info()\n",
    "\n",
    "# Convert bytes to GB\n",
    "free_memory_gb = free_memory / (1024 * 1024 * 1024)\n",
    "total_memory_gb = total_memory / (1024 * 1024 * 1024)\n",
    "mem_used = t.cuda.device_memory_used() / (1024 ** 3)\n",
    "\n",
    "print(f\"Free GPU Memory: {free_memory_gb:.2f} GB\")\n",
    "print(f\"Total GPU Memory: {total_memory_gb:.2f} GB\")\n",
    "print(f'Memory Used: {mem_used:.2f} GB')"
   ]
  },
  {
   "cell_type": "code",
   "execution_count": null,
   "id": "58a458a8",
   "metadata": {},
   "outputs": [],
   "source": [
    "print(t.cuda.memory_allocated() / 1024**2, \"MB allocated\")\n",
    "print(t.cuda.memory_reserved() / 1024**2, \"MB reserved\")"
   ]
  },
  {
   "cell_type": "code",
   "execution_count": null,
   "id": "00e20428",
   "metadata": {},
   "outputs": [],
   "source": [
    "print(t.cuda.memory_allocated() / 1024**2, \"MB allocated\")\n",
    "print(t.cuda.memory_reserved() / 1024**2, \"MB reserved\")"
   ]
  }
 ],
 "metadata": {
  "kernelspec": {
   "display_name": "srf-env",
   "language": "python",
   "name": "python3"
  },
  "language_info": {
   "codemirror_mode": {
    "name": "ipython",
    "version": 3
   },
   "file_extension": ".py",
   "mimetype": "text/x-python",
   "name": "python",
   "nbconvert_exporter": "python",
   "pygments_lexer": "ipython3",
   "version": "3.11.13"
  }
 },
 "nbformat": 4,
 "nbformat_minor": 5
}
