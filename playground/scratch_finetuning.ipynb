{
 "cells": [
  {
   "cell_type": "markdown",
   "id": "73c1567d",
   "metadata": {},
   "source": [
    "## setup"
   ]
  },
  {
   "cell_type": "code",
   "execution_count": 1,
   "id": "b4417b7b",
   "metadata": {},
   "outputs": [
    {
     "name": "stdout",
     "output_type": "stream",
     "text": [
      "🦥 Unsloth: Will patch your computer to enable 2x faster free finetuning.\n",
      "🦥 Unsloth Zoo will now patch everything to make training faster!\n"
     ]
    },
    {
     "name": "stderr",
     "output_type": "stream",
     "text": [
      "Note: Environment variable`HF_TOKEN` is set and is the current active token independently from the token you've just configured.\n"
     ]
    }
   ],
   "source": [
    "from unsloth.chat_templates import standardize_sharegpt, get_chat_template, train_on_responses_only\n",
    "from unsloth import FastLanguageModel\n",
    "from transformers import TrainingArguments, DataCollatorForSeq2Seq, AutoTokenizer, AutoModelForCausalLM, Trainer, DataCollatorForLanguageModeling, BitsAndBytesConfig \n",
    "from huggingface_hub import login\n",
    "from dotenv import load_dotenv\n",
    "from datasets import load_dataset\n",
    "import os\n",
    "import wandb\n",
    "import json\n",
    "from trl import SFTTrainer #, SFTConfig\n",
    "from pipeline.main import run_eval\n",
    "from peft import LoraConfig, get_peft_model, PeftModel\n",
    "from pipeline.main import run_eval\n",
    "from IPython.display import display, HTML\n",
    "import torch as t\n",
    "from pipeline.constants import LANG_PREFIX, HUMANEVAL_PROMPT"
   ]
  },
  {
   "cell_type": "code",
   "execution_count": 2,
   "id": "7f4a4c6e",
   "metadata": {},
   "outputs": [
    {
     "name": "stderr",
     "output_type": "stream",
     "text": [
      "Note: Environment variable`HF_TOKEN` is set and is the current active token independently from the token you've just configured.\n",
      "\u001b[34m\u001b[1mwandb\u001b[0m: Currently logged in as: \u001b[33matharva_nihalani\u001b[0m (\u001b[33matharva_nihalani-brown-university\u001b[0m) to \u001b[32mhttps://api.wandb.ai\u001b[0m. Use \u001b[1m`wandb login --relogin`\u001b[0m to force relogin\n"
     ]
    },
    {
     "data": {
      "text/plain": [
       "True"
      ]
     },
     "execution_count": 2,
     "metadata": {},
     "output_type": "execute_result"
    }
   ],
   "source": [
    "load_dotenv()\n",
    "login(token = os.environ['HF_TOKEN'])\n",
    "wandb.login()"
   ]
  },
  {
   "cell_type": "markdown",
   "id": "2a735291",
   "metadata": {},
   "source": [
    "## Unsloth FT"
   ]
  },
  {
   "cell_type": "markdown",
   "id": "7ada5e2d",
   "metadata": {},
   "source": [
    "### Load model"
   ]
  },
  {
   "cell_type": "code",
   "execution_count": null,
   "id": "623de4eb",
   "metadata": {},
   "outputs": [],
   "source": [
    "max_seq_length = 32768 # Choose any! We auto support RoPE Scaling internally!\n",
    "dtype = None # None for auto detection. Float16 for Tesla T4, V100, Bfloat16 for Ampere+\n",
    "load_in_4bit = True # Use 4bit quantization to reduce memory usage. Can be False.\n",
    "\n",
    "model, tokenizer = FastLanguageModel.from_pretrained(\n",
    "    model_name = \"unsloth/Meta-Llama-3.1-8B-Instruct\",\n",
    "    max_seq_length = max_seq_length,\n",
    "    dtype = dtype,\n",
    "    load_in_4bit = load_in_4bit,\n",
    ")"
   ]
  },
  {
   "cell_type": "code",
   "execution_count": null,
   "id": "d2884cfb",
   "metadata": {},
   "outputs": [],
   "source": [
    "model = FastLanguageModel.get_peft_model(\n",
    "    model,\n",
    "    r = 8, # Choose any number > 0 ! Suggested 8, 16, 32, 64, 128\n",
    "    target_modules = [\"q_proj\", \"k_proj\", \"v_proj\", \"o_proj\",\n",
    "                      \"gate_proj\", \"up_proj\", \"down_proj\",],\n",
    "    lora_alpha = 16,\n",
    "    lora_dropout = 0, # Supports any, but = 0 is optimized\n",
    "    bias = \"none\",    # Supports any, but = \"none\" is optimized\n",
    "    use_gradient_checkpointing = \"unsloth\", # True or \"unsloth\" for very long context\n",
    "    random_state = 3407,\n",
    ")\n",
    "\n",
    "tokenizer = get_chat_template(\n",
    "    tokenizer,\n",
    "    chat_template = \"llama-3.1\",\n",
    ")"
   ]
  },
  {
   "cell_type": "markdown",
   "id": "29c8d74b",
   "metadata": {},
   "source": [
    "### Load Data"
   ]
  },
  {
   "cell_type": "code",
   "execution_count": null,
   "id": "77567e21",
   "metadata": {},
   "outputs": [],
   "source": [
    "with open(\"/root/srf-project/data/codenet_questions/filtered_problem_descriptions.json\", \"r\") as f:\n",
    "    problem_descriptions = json.load(f)\n",
    "\n",
    "def get_filtered_dataset(lang):\n",
    "    dataset = load_dataset('iNeil77/CodeNet', lang, split='train')\n",
    "    dataset = dataset.select_columns(['p_id', 'language', 'status', 'code'])\n",
    "    dataset = dataset.filter(lambda x: x['status']=='Accepted')\n",
    "    dataset = dataset.filter(lambda x: x['p_id'] in problem_descriptions.keys())\n",
    "\n",
    "    return dataset\n",
    "\n",
    "def get_train_test(dataset, train_size=10000, test_size=500):\n",
    "    shuffled = dataset.shuffle(seed=47)\n",
    "    train_set = shuffled.select(range(train_size))\n",
    "    test_set = shuffled.select(range(train_size, train_size + test_size))\n",
    "\n",
    "    return train_set, test_set\n",
    "\n",
    "def add_conversations(row):\n",
    "    preface = 'Read the following problem description. Fully implement a solution in Java. Your response should only contain the code, no explanations.\\n\\n'\n",
    "    problem_description = problem_descriptions[row['p_id']]\n",
    "    code = row['code']\n",
    "\n",
    "    row['conversations'] = [\n",
    "        {\n",
    "            'role': 'user', \n",
    "            'content': preface + problem_description,\n",
    "        },\n",
    "        {\n",
    "            'role': 'assistant', \n",
    "            'content': code,\n",
    "        }\n",
    "    ]\n",
    "\n",
    "    return row\n",
    "\n",
    "def chat_format(row):\n",
    "    convos = row['conversations']\n",
    "    texts = [tokenizer.apply_chat_template(convo, tokenize = False, add_generation_prompt = False) for convo in convos]\n",
    "    return { 'text' : texts }"
   ]
  },
  {
   "cell_type": "code",
   "execution_count": null,
   "id": "08d36480",
   "metadata": {},
   "outputs": [],
   "source": [
    "codenet = get_filtered_dataset('Java')\n",
    "codenet_train, codenet_test = get_train_test(codenet, 40)\n",
    "\n",
    "codenet_train = codenet_train.map(add_conversations, remove_columns=['p_id', 'language', 'status', 'code'])\n",
    "codenet_test = codenet_test.map(add_conversations, remove_columns=['p_id', 'language', 'status', 'code'])\n",
    "\n",
    "codenet_train = codenet_train.map(chat_format, batched=True)\n",
    "codenet_test = codenet_test.map(chat_format, batched=True)"
   ]
  },
  {
   "cell_type": "code",
   "execution_count": null,
   "id": "50654c0b",
   "metadata": {},
   "outputs": [],
   "source": [
    "def humaneval_add_convs(row):\n",
    "    last_line = row['prompt'].splitlines()[-1]\n",
    "    final_code = last_line + '\\n' + row['canonical_solution']\n",
    "\n",
    "    row['conversations'] = [\n",
    "        {\n",
    "            'role': 'user', \n",
    "            'content': HUMANEVAL_PROMPT + LANG_PREFIX['cpp'] + '\\n' + row['prompt'] \n",
    "        },\n",
    "        {\n",
    "            'role': 'assistant', \n",
    "            'content': final_code,\n",
    "        }\n",
    "    ]\n",
    "\n",
    "    return row"
   ]
  },
  {
   "cell_type": "code",
   "execution_count": null,
   "id": "d0fb36ad",
   "metadata": {},
   "outputs": [],
   "source": [
    "humaneval = load_dataset('THUDM/humaneval-x', trust_remote_code=True, split='test', name='cpp')\n",
    "humaneval_train = humaneval.train_test_split(test_size=0.25)['train']\n",
    "humaneval_test = humaneval.train_test_split(test_size=0.25)['test']\n",
    "\n",
    "humaneval_train = humaneval_train.map(humaneval_add_convs, remove_columns=['task_id', 'prompt', 'declaration', 'canonical_solution', 'test', 'example_test'])\n",
    "humaneval_test = humaneval_test.map(humaneval_add_convs, remove_columns=['task_id', 'prompt', 'declaration', 'canonical_solution', 'test', 'example_test'])\n",
    "\n",
    "humaneval_train = humaneval_train.map(chat_format, batched=True)\n",
    "humaneval_test = humaneval_test.map(chat_format, batched=True)\n"
   ]
  },
  {
   "cell_type": "code",
   "execution_count": null,
   "id": "214a2213",
   "metadata": {},
   "outputs": [],
   "source": [
    "codenet_train"
   ]
  },
  {
   "cell_type": "markdown",
   "id": "4f19fba0",
   "metadata": {},
   "source": [
    "### Finetuning"
   ]
  },
  {
   "cell_type": "code",
   "execution_count": null,
   "id": "afe640e4",
   "metadata": {},
   "outputs": [],
   "source": [
    "def get_save_dir():\n",
    "    idx = 0\n",
    "    base_path = '/root/srf-project/playground/llama3-java-finetune-'\n",
    "    already_existing = True\n",
    "\n",
    "    while already_existing:\n",
    "        idx += 1\n",
    "        path = base_path + str(idx)\n",
    "        \n",
    "        if not os.path.exists(path):\n",
    "            already_existing = False\n",
    "            os.mkdir(path)\n",
    "            return path\n",
    "        \n",
    "output_path = get_save_dir()\n",
    "train_set = humaneval_train"
   ]
  },
  {
   "cell_type": "code",
   "execution_count": null,
   "id": "e3e93f2e",
   "metadata": {},
   "outputs": [],
   "source": [
    "training_args = TrainingArguments(\n",
    "    per_device_train_batch_size = 8,\n",
    "    # auto_find_batch_size = True,\n",
    "    gradient_accumulation_steps = 1,\n",
    "    warmup_ratio = 0.05,\n",
    "    num_train_epochs = 5,\n",
    "    # eval_strategy = 'steps',\n",
    "    # eval_steps = 0.05,\n",
    "    learning_rate = 2e-4,\n",
    "    bf16 = True,\n",
    "    logging_steps = 1,\n",
    "    # logging_first_step=True,\n",
    "    optim = \"adamw_8bit\",\n",
    "    weight_decay = 0.01,\n",
    "    lr_scheduler_type = \"linear\",\n",
    "    seed = 3407,\n",
    "    # save_steps = 0.2,\n",
    "    # save_total_limit = 3,\n",
    "    output_dir = output_path,\n",
    "    report_to = \"wandb\", \n",
    "    run_name = 'test_run'\n",
    ")\n",
    "\n",
    "trainer = SFTTrainer(\n",
    "    model = model,\n",
    "    tokenizer = tokenizer,\n",
    "    train_dataset = train_set,\n",
    "    # eval_dataset = test_set,\n",
    "    dataset_text_field = \"text\",\n",
    "    max_seq_length = max_seq_length,\n",
    "    data_collator = DataCollatorForSeq2Seq(tokenizer = tokenizer),\n",
    "    dataset_num_proc = 8,\n",
    "    args = training_args,\n",
    "    # packing = False, \n",
    ")"
   ]
  },
  {
   "cell_type": "code",
   "execution_count": null,
   "id": "f3c23ea5",
   "metadata": {},
   "outputs": [],
   "source": [
    "trainer = train_on_responses_only(\n",
    "    trainer,\n",
    "    instruction_part = \"<|start_header_id|>user<|end_header_id|>\\n\\n\",\n",
    "    response_part = \"<|start_header_id|>assistant<|end_header_id|>\\n\\n\",\n",
    ")"
   ]
  },
  {
   "cell_type": "code",
   "execution_count": null,
   "id": "4a0cb2d6",
   "metadata": {},
   "outputs": [],
   "source": [
    "trainer_stats = trainer.train()"
   ]
  },
  {
   "cell_type": "code",
   "execution_count": null,
   "id": "e920f153",
   "metadata": {},
   "outputs": [],
   "source": [
    "artifact = wandb.Artifact(name=\"final_model\", type=\"model\")\n",
    "artifact.add_dir(output_path)\n",
    "wandb.run.log_artifact(artifact)\n",
    "\n",
    "wandb.finish()"
   ]
  },
  {
   "cell_type": "markdown",
   "id": "e5357b02",
   "metadata": {},
   "source": [
    "## Previous FT Code"
   ]
  },
  {
   "cell_type": "markdown",
   "id": "310b3a1c",
   "metadata": {},
   "source": [
    "### Load Model / Dataset"
   ]
  },
  {
   "cell_type": "code",
   "execution_count": null,
   "id": "9be92a3d",
   "metadata": {},
   "outputs": [],
   "source": [
    "'''\n",
    "model_name = 'meta-llama/Llama-3.1-8B-Instruct'\n",
    "\n",
    "bnb_config = BitsAndBytesConfig(\n",
    "    load_in_4bit=True,\n",
    "    bnb_4bit_compute_dtype=t.float16,\n",
    "    bnb_4bit_use_double_quant=True,\n",
    "    llm_int8_threshold=6.0,\n",
    ")\n",
    "\n",
    "tokenizer = AutoTokenizer.from_pretrained(model_name, pad_side=\"left\")\n",
    "model = AutoModelForCausalLM.from_pretrained(\n",
    "    model_name, \n",
    "    device_map=\"auto\", \n",
    "    quantization_config=bnb_config,\n",
    ")\n",
    "tokenizer.pad_token = tokenizer.eos_token'''\n",
    "\n",
    "# model_name = 'unsloth/Meta-Llama-3.1-8B-Instruct'\n",
    "model_name = 'unsloth/Meta-Llama-3.1-8B-Instruct-bnb-4bit'\n",
    "\n",
    "\n",
    "tokenizer = AutoTokenizer.from_pretrained(model_name, pad_side=\"left\")\n",
    "tokenizer.pad_token = tokenizer.eos_token\n",
    "\n",
    "\n",
    "model = AutoModelForCausalLM.from_pretrained(\n",
    "    model_name, \n",
    "    device_map=\"auto\", \n",
    "    torch_dtype=\"auto\",\n",
    ")"
   ]
  },
  {
   "cell_type": "code",
   "execution_count": null,
   "id": "b63aeab8",
   "metadata": {},
   "outputs": [],
   "source": [
    "with open(\"/root/srf-project/data/codenet_questions/filtered_problem_descriptions.json\", \"r\") as f:\n",
    "    problem_descriptions = json.load(f)\n",
    "\n",
    "def get_filtered_dataset(lang):\n",
    "    dataset = load_dataset('iNeil77/CodeNet', lang, split='train')\n",
    "    dataset = dataset.select_columns(['p_id', 'language', 'status', 'code'])\n",
    "    dataset = dataset.filter(lambda x: x['status']=='Accepted')\n",
    "    dataset = dataset.filter(lambda x: x['p_id'] in problem_descriptions.keys())\n",
    "\n",
    "    return dataset\n",
    "\n",
    "def get_train_test(dataset, train_size=10000, test_size=500):\n",
    "    shuffled = dataset.shuffle(seed=47)\n",
    "    train_set = shuffled.select(range(train_size))\n",
    "    test_set = shuffled.select(range(train_size, train_size + test_size))\n",
    "\n",
    "    return train_set, test_set\n",
    "\n",
    "filtered = get_filtered_dataset('Java')\n",
    "train_set, test_set = get_train_test(filtered, test_size=8)"
   ]
  },
  {
   "cell_type": "code",
   "execution_count": null,
   "id": "47ba17f7",
   "metadata": {},
   "outputs": [],
   "source": [
    "def add_description(row):\n",
    "    description = problem_descriptions[row['p_id']]\n",
    "    row['description'] = description\n",
    "    return row\n",
    "\n",
    "train_set = train_set.map(add_description)\n",
    "test_set = test_set.map(add_description)"
   ]
  },
  {
   "cell_type": "code",
   "execution_count": null,
   "id": "18d91be1",
   "metadata": {},
   "outputs": [],
   "source": [
    "def add_final_prompt(row):\n",
    "    description = row['description'].strip()\n",
    "    code = row['code']\n",
    "\n",
    "    final_prompt = '\\n'.join([description, '<answer>', code, '</answer>'])\n",
    "    row['final_prompt'] = final_prompt\n",
    "\n",
    "    return row\n",
    "\n",
    "train_set = train_set.map(add_final_prompt)\n",
    "test_set = test_set.map(add_final_prompt)"
   ]
  },
  {
   "cell_type": "code",
   "execution_count": null,
   "id": "07bde88f",
   "metadata": {},
   "outputs": [],
   "source": [
    "def tokenize(record):\n",
    "    final_prompt = record['final_prompt']\n",
    "    msg = [\n",
    "        {'role': 'user', 'content': final_prompt}\n",
    "    ]\n",
    "\n",
    "    tokens = tokenizer.apply_chat_template(msg, add_generation_prompt=True, return_dict=True)\n",
    "\n",
    "    return tokens\n",
    "\n",
    "final_train_set = train_set.map(tokenize, num_proc=32)\n",
    "final_test_set = test_set.map(tokenize, num_proc=32)\n",
    "\n",
    "final_train_set = final_train_set.select_columns(['input_ids', 'attention_mask'])\n",
    "final_test_set = final_test_set.select_columns(['input_ids', 'attention_mask'])"
   ]
  },
  {
   "cell_type": "markdown",
   "id": "47594328",
   "metadata": {},
   "source": [
    "### FineTuning"
   ]
  },
  {
   "cell_type": "code",
   "execution_count": null,
   "id": "fcb7f5e8",
   "metadata": {},
   "outputs": [],
   "source": [
    "lora_config = LoraConfig(\n",
    "    r=16,\n",
    "    lora_alpha=64,\n",
    "    target_modules=[\"q_proj\", \"v_proj\"],  \n",
    "    lora_dropout=0.00,\n",
    "    bias=\"none\",\n",
    "    task_type=\"CAUSAL_LM\"\n",
    ")\n",
    "\n",
    "peft_model = get_peft_model(model, lora_config)"
   ]
  },
  {
   "cell_type": "code",
   "execution_count": null,
   "id": "81e45159",
   "metadata": {},
   "outputs": [],
   "source": [
    "def get_save_dir():\n",
    "    idx = 0\n",
    "    base_path = '/root/srf-project/playground/llama3-java-finetune-'\n",
    "    already_existing = True\n",
    "\n",
    "    while already_existing:\n",
    "        idx += 1\n",
    "        path = base_path + str(idx)\n",
    "        \n",
    "        if not os.path.exists(path):\n",
    "            already_existing = False\n",
    "            os.mkdir(path)\n",
    "            return path\n",
    "        \n",
    "output_path = get_save_dir()\n",
    "\n",
    "training_args = TrainingArguments(\n",
    "    output_dir=output_path,\n",
    "    # eval_strategy='steps',\n",
    "    # eval_steps=0.1,\n",
    "    # eval_on_start=True,\n",
    "    per_device_train_batch_size=1, \n",
    "    # auto_find_batch_size=True,\n",
    "    gradient_accumulation_steps=1,\n",
    "    # gradient_checkpointing=True,\n",
    "    torch_empty_cache_steps=1,\n",
    "    dataloader_num_workers=16,\n",
    "    dataloader_persistent_workers=True,\n",
    "    learning_rate=5e-4,\n",
    "    num_train_epochs=1,  \n",
    "    bf16=True,\n",
    "    save_steps=0.2,\n",
    "    save_total_limit=3,\n",
    "    logging_steps=0.02,\n",
    "    report_to=\"wandb\",\n",
    "    logging_first_step=True,\n",
    "    run_name='chat_template',\n",
    ")\n",
    "\n",
    "data_collator = DataCollatorForLanguageModeling(\n",
    "    tokenizer=tokenizer,\n",
    "    mlm=False,  # For causal LM\n",
    ")\n",
    "\n",
    "trainer = Trainer(\n",
    "    model=peft_model,\n",
    "    args=training_args,\n",
    "    train_dataset=final_train_set,\n",
    "    eval_dataset=final_test_set,\n",
    "    data_collator=data_collator,\n",
    ")"
   ]
  },
  {
   "cell_type": "code",
   "execution_count": null,
   "id": "3a7d3a4f",
   "metadata": {},
   "outputs": [],
   "source": [
    "trainer.train()"
   ]
  },
  {
   "cell_type": "code",
   "execution_count": null,
   "id": "b6d1a89c",
   "metadata": {},
   "outputs": [],
   "source": [
    "wandb.finish()"
   ]
  },
  {
   "cell_type": "markdown",
   "id": "5c90465e",
   "metadata": {},
   "source": [
    "### RunEval"
   ]
  },
  {
   "cell_type": "code",
   "execution_count": null,
   "id": "c20bd49d",
   "metadata": {},
   "outputs": [],
   "source": [
    "from pipeline.main import run_eval\n",
    "\n",
    "args = {\n",
    "    'model': 'hf/local',\n",
    "    'model_path': '/root/srf-project/playground/llama3-java-finetune-a/checkpoint-625',\n",
    "    'device': 'auto',\n",
    "    'torch_dtype': 'auto'\n",
    "}\n",
    "\n",
    "run_eval('java', args, samples=3)"
   ]
  },
  {
   "cell_type": "markdown",
   "id": "6a4ee715",
   "metadata": {},
   "source": [
    "## RunEval"
   ]
  },
  {
   "cell_type": "code",
   "execution_count": null,
   "id": "3165a895",
   "metadata": {},
   "outputs": [],
   "source": [
    "# api = wandb.Api()\n",
    "# artifact_name = ...\n",
    "\n",
    "# my_artifact = api.artifact(artifact_name, 'model')\n",
    "# my_artifact.download('llama3_test_dir')"
   ]
  },
  {
   "cell_type": "code",
   "execution_count": null,
   "id": "06e4ac6a",
   "metadata": {},
   "outputs": [],
   "source": [
    "base_1 = AutoModelForCausalLM.from_pretrained('unsloth/Meta-Llama-3.1-8B-Instruct', device_map=\"auto\", torch_dtype='auto')\n",
    "base_2 = AutoModelForCausalLM.from_pretrained('unsloth/Meta-Llama-3.1-8B-Instruct', device_map=\"auto\", load_in_4bit=True)\n",
    "tokenizer = AutoTokenizer.from_pretrained('unsloth/Meta-Llama-3.1-8B-Instruct')\n",
    "\n",
    "model_1 = PeftModel.from_pretrained(base_1, '/root/srf-project/playground/llama3-java-finetune-2/checkpoint-80')\n",
    "model_2 = PeftModel.from_pretrained(base_2, '/root/srf-project/playground/llama3-java-finetune-2/checkpoint-80')\n",
    "\n",
    "model_1 = model_1.merge_and_unload()\n",
    "model_2 = model_2.merge_and_unload()"
   ]
  },
  {
   "cell_type": "code",
   "execution_count": null,
   "id": "843a2983",
   "metadata": {},
   "outputs": [],
   "source": [
    "model_1.save_pretrained('llama3_test_1')\n",
    "tokenizer.save_pretrained('llama3_test_1')\n",
    "\n",
    "model_2.save_pretrained('llama3_test_2')\n",
    "tokenizer.save_pretrained('llama3_test_2')"
   ]
  },
  {
   "cell_type": "code",
   "execution_count": 8,
   "id": "e033433f",
   "metadata": {},
   "outputs": [
    {
     "data": {
      "application/vnd.jupyter.widget-view+json": {
       "model_id": "22d1ccec1e404959827c2728d9eab93f",
       "version_major": 2,
       "version_minor": 0
      },
      "text/plain": [
       "Loading checkpoint shards:   0%|          | 0/2 [00:00<?, ?it/s]"
      ]
     },
     "metadata": {},
     "output_type": "display_data"
    },
    {
     "data": {
      "application/vnd.jupyter.widget-view+json": {
       "model_id": "9a59396d23ee4ef9bd5025acb6d12721",
       "version_major": 2,
       "version_minor": 0
      },
      "text/plain": [
       "Output()"
      ]
     },
     "metadata": {},
     "output_type": "display_data"
    },
    {
     "data": {
      "text/html": [
       "<pre style=\"white-space:pre;overflow-x:auto;line-height:normal;font-family:Menlo,'DejaVu Sans Mono',consolas,'Courier New',monospace\">Compilation failed! task number: 45\n",
       "</pre>\n"
      ],
      "text/plain": [
       "Compilation failed! task number: 45\n"
      ]
     },
     "metadata": {},
     "output_type": "display_data"
    },
    {
     "data": {
      "text/html": [
       "<pre style=\"white-space:pre;overflow-x:auto;line-height:normal;font-family:Menlo,'DejaVu Sans Mono',consolas,'Courier New',monospace\">stderr: /root/srf-project/tmp/test_45/test.cpp:24:1: error: stray ‘`’ in program\n",
       "   24 | ```c\n",
       "      | ^\n",
       "/root/srf-project/tmp/test_45/test.cpp:24:2: error: stray ‘`’ in program\n",
       "   24 | ```c\n",
       "      |  ^\n",
       "/root/srf-project/tmp/test_45/test.cpp:24:3: error: stray ‘`’ in program\n",
       "   24 | ```c\n",
       "      |   ^\n",
       "/root/srf-project/tmp/test_45/test.cpp:28:1: error: stray ‘`’ in program\n",
       "   28 | ```\n",
       "      | ^\n",
       "/root/srf-project/tmp/test_45/test.cpp:28:2: error: stray ‘`’ in program\n",
       "   28 | ```\n",
       "      |  ^\n",
       "/root/srf-project/tmp/test_45/test.cpp:28:3: error: stray ‘`’ in program\n",
       "   28 | ```\n",
       "      |   ^\n",
       "/root/srf-project/tmp/test_45/test.cpp:24:4: error: ‘c’ does not name a type\n",
       "   24 | ```c\n",
       "      |    ^\n",
       "In file included from /root/srf-project/tmp/test_45/test.cpp:30:\n",
       "/root/srf-project/tmp/test_45/test.cpp: In function ‘int main()’:\n",
       "/root/srf-project/tmp/test_45/test.cpp:32:17: error: ‘triangle_area’ was not declared in this scope\n",
       "   32 |     assert (abs(triangle_area(5, 3) - 7.5)&lt;1e-4);\n",
       "      |                 ^~~~~~~~~~~~~\n",
       "</pre>\n"
      ],
      "text/plain": [
       "stderr: /root/srf-project/tmp/test_45/test.cpp:24:1: error: stray ‘`’ in program\n",
       "   24 | ```c\n",
       "      | ^\n",
       "/root/srf-project/tmp/test_45/test.cpp:24:2: error: stray ‘`’ in program\n",
       "   24 | ```c\n",
       "      |  ^\n",
       "/root/srf-project/tmp/test_45/test.cpp:24:3: error: stray ‘`’ in program\n",
       "   24 | ```c\n",
       "      |   ^\n",
       "/root/srf-project/tmp/test_45/test.cpp:28:1: error: stray ‘`’ in program\n",
       "   28 | ```\n",
       "      | ^\n",
       "/root/srf-project/tmp/test_45/test.cpp:28:2: error: stray ‘`’ in program\n",
       "   28 | ```\n",
       "      |  ^\n",
       "/root/srf-project/tmp/test_45/test.cpp:28:3: error: stray ‘`’ in program\n",
       "   28 | ```\n",
       "      |   ^\n",
       "/root/srf-project/tmp/test_45/test.cpp:24:4: error: ‘c’ does not name a type\n",
       "   24 | ```c\n",
       "      |    ^\n",
       "In file included from /root/srf-project/tmp/test_45/test.cpp:30:\n",
       "/root/srf-project/tmp/test_45/test.cpp: In function ‘int main()’:\n",
       "/root/srf-project/tmp/test_45/test.cpp:32:17: error: ‘triangle_area’ was not declared in this scope\n",
       "   32 |     assert (abs(triangle_area(5, 3) - 7.5)<1e-4);\n",
       "      |                 ^~~~~~~~~~~~~\n"
      ]
     },
     "metadata": {},
     "output_type": "display_data"
    },
    {
     "data": {
      "text/html": [
       "<pre style=\"white-space:pre;overflow-x:auto;line-height:normal;font-family:Menlo,'DejaVu Sans Mono',consolas,'Courier New',monospace\">\n",
       "</pre>\n"
      ],
      "text/plain": [
       "\n"
      ]
     },
     "metadata": {},
     "output_type": "display_data"
    },
    {
     "data": {
      "text/html": [
       "<pre style=\"white-space:pre;overflow-x:auto;line-height:normal;font-family:Menlo,'DejaVu Sans Mono',consolas,'Courier New',monospace\">Compilation failed! task number: 53\n",
       "</pre>\n"
      ],
      "text/plain": [
       "Compilation failed! task number: 53\n"
      ]
     },
     "metadata": {},
     "output_type": "display_data"
    },
    {
     "data": {
      "text/html": [
       "<pre style=\"white-space:pre;overflow-x:auto;line-height:normal;font-family:Menlo,'DejaVu Sans Mono',consolas,'Courier New',monospace\">stderr: /root/srf-project/tmp/test_53/test.cpp:26:1: error: stray ‘`’ in program\n",
       "   26 | ```c\n",
       "      | ^\n",
       "/root/srf-project/tmp/test_53/test.cpp:26:2: error: stray ‘`’ in program\n",
       "   26 | ```c\n",
       "      |  ^\n",
       "/root/srf-project/tmp/test_53/test.cpp:26:3: error: stray ‘`’ in program\n",
       "   26 | ```c\n",
       "      |   ^\n",
       "/root/srf-project/tmp/test_53/test.cpp:30:1: error: stray ‘`’ in program\n",
       "   30 | ```\n",
       "      | ^\n",
       "/root/srf-project/tmp/test_53/test.cpp:30:2: error: stray ‘`’ in program\n",
       "   30 | ```\n",
       "      |  ^\n",
       "/root/srf-project/tmp/test_53/test.cpp:30:3: error: stray ‘`’ in program\n",
       "   30 | ```\n",
       "      |   ^\n",
       "/root/srf-project/tmp/test_53/test.cpp:26:4: error: ‘c’ does not name a type\n",
       "   26 | ```c\n",
       "      |    ^\n",
       "In file included from /root/srf-project/tmp/test_53/test.cpp:32:\n",
       "/root/srf-project/tmp/test_53/test.cpp: In function ‘int main()’:\n",
       "/root/srf-project/tmp/test_53/test.cpp:34:13: error: ‘add’ was not declared in this scope; did you mean ‘fadd’?\n",
       "   34 |     assert (add(0, 1) == 1);\n",
       "      |             ^~~\n",
       "</pre>\n"
      ],
      "text/plain": [
       "stderr: /root/srf-project/tmp/test_53/test.cpp:26:1: error: stray ‘`’ in program\n",
       "   26 | ```c\n",
       "      | ^\n",
       "/root/srf-project/tmp/test_53/test.cpp:26:2: error: stray ‘`’ in program\n",
       "   26 | ```c\n",
       "      |  ^\n",
       "/root/srf-project/tmp/test_53/test.cpp:26:3: error: stray ‘`’ in program\n",
       "   26 | ```c\n",
       "      |   ^\n",
       "/root/srf-project/tmp/test_53/test.cpp:30:1: error: stray ‘`’ in program\n",
       "   30 | ```\n",
       "      | ^\n",
       "/root/srf-project/tmp/test_53/test.cpp:30:2: error: stray ‘`’ in program\n",
       "   30 | ```\n",
       "      |  ^\n",
       "/root/srf-project/tmp/test_53/test.cpp:30:3: error: stray ‘`’ in program\n",
       "   30 | ```\n",
       "      |   ^\n",
       "/root/srf-project/tmp/test_53/test.cpp:26:4: error: ‘c’ does not name a type\n",
       "   26 | ```c\n",
       "      |    ^\n",
       "In file included from /root/srf-project/tmp/test_53/test.cpp:32:\n",
       "/root/srf-project/tmp/test_53/test.cpp: In function ‘int main()’:\n",
       "/root/srf-project/tmp/test_53/test.cpp:34:13: error: ‘add’ was not declared in this scope; did you mean ‘fadd’?\n",
       "   34 |     assert (add(0, 1) == 1);\n",
       "      |             ^~~\n"
      ]
     },
     "metadata": {},
     "output_type": "display_data"
    },
    {
     "data": {
      "text/html": [
       "<pre style=\"white-space:pre;overflow-x:auto;line-height:normal;font-family:Menlo,'DejaVu Sans Mono',consolas,'Courier New',monospace\">\n",
       "</pre>\n"
      ],
      "text/plain": [
       "\n"
      ]
     },
     "metadata": {},
     "output_type": "display_data"
    },
    {
     "data": {
      "text/html": [
       "<pre style=\"white-space:pre;overflow-x:auto;line-height:normal;font-family:Menlo,'DejaVu Sans Mono',consolas,'Courier New',monospace\">Compilation failed! task number: 60\n",
       "</pre>\n"
      ],
      "text/plain": [
       "Compilation failed! task number: 60\n"
      ]
     },
     "metadata": {},
     "output_type": "display_data"
    },
    {
     "data": {
      "text/html": [
       "<pre style=\"white-space:pre;overflow-x:auto;line-height:normal;font-family:Menlo,'DejaVu Sans Mono',consolas,'Courier New',monospace\">stderr: /root/srf-project/tmp/test_60/test.cpp:32:1: error: stray ‘`’ in program\n",
       "   32 | ```c\n",
       "      | ^\n",
       "/root/srf-project/tmp/test_60/test.cpp:32:2: error: stray ‘`’ in program\n",
       "   32 | ```c\n",
       "      |  ^\n",
       "/root/srf-project/tmp/test_60/test.cpp:32:3: error: stray ‘`’ in program\n",
       "   32 | ```c\n",
       "      |   ^\n",
       "/root/srf-project/tmp/test_60/test.cpp:39:1: error: stray ‘`’ in program\n",
       "   39 | ```\n",
       "      | ^\n",
       "/root/srf-project/tmp/test_60/test.cpp:39:2: error: stray ‘`’ in program\n",
       "   39 | ```\n",
       "      |  ^\n",
       "/root/srf-project/tmp/test_60/test.cpp:39:3: error: stray ‘`’ in program\n",
       "   39 | ```\n",
       "      |   ^\n",
       "/root/srf-project/tmp/test_60/test.cpp:32:4: error: ‘c’ does not name a type\n",
       "   32 | ```c\n",
       "      |    ^\n",
       "In file included from /root/srf-project/tmp/test_60/test.cpp:41:\n",
       "/root/srf-project/tmp/test_60/test.cpp: In function ‘int main()’:\n",
       "/root/srf-project/tmp/test_60/test.cpp:43:13: error: ‘sum_to_n’ was not declared in this scope\n",
       "   43 |     assert (sum_to_n(1) == 1);\n",
       "      |             ^~~~~~~~\n",
       "</pre>\n"
      ],
      "text/plain": [
       "stderr: /root/srf-project/tmp/test_60/test.cpp:32:1: error: stray ‘`’ in program\n",
       "   32 | ```c\n",
       "      | ^\n",
       "/root/srf-project/tmp/test_60/test.cpp:32:2: error: stray ‘`’ in program\n",
       "   32 | ```c\n",
       "      |  ^\n",
       "/root/srf-project/tmp/test_60/test.cpp:32:3: error: stray ‘`’ in program\n",
       "   32 | ```c\n",
       "      |   ^\n",
       "/root/srf-project/tmp/test_60/test.cpp:39:1: error: stray ‘`’ in program\n",
       "   39 | ```\n",
       "      | ^\n",
       "/root/srf-project/tmp/test_60/test.cpp:39:2: error: stray ‘`’ in program\n",
       "   39 | ```\n",
       "      |  ^\n",
       "/root/srf-project/tmp/test_60/test.cpp:39:3: error: stray ‘`’ in program\n",
       "   39 | ```\n",
       "      |   ^\n",
       "/root/srf-project/tmp/test_60/test.cpp:32:4: error: ‘c’ does not name a type\n",
       "   32 | ```c\n",
       "      |    ^\n",
       "In file included from /root/srf-project/tmp/test_60/test.cpp:41:\n",
       "/root/srf-project/tmp/test_60/test.cpp: In function ‘int main()’:\n",
       "/root/srf-project/tmp/test_60/test.cpp:43:13: error: ‘sum_to_n’ was not declared in this scope\n",
       "   43 |     assert (sum_to_n(1) == 1);\n",
       "      |             ^~~~~~~~\n"
      ]
     },
     "metadata": {},
     "output_type": "display_data"
    },
    {
     "data": {
      "text/html": [
       "<pre style=\"white-space:pre;overflow-x:auto;line-height:normal;font-family:Menlo,'DejaVu Sans Mono',consolas,'Courier New',monospace\">\n",
       "</pre>\n"
      ],
      "text/plain": [
       "\n"
      ]
     },
     "metadata": {},
     "output_type": "display_data"
    },
    {
     "data": {
      "text/html": [
       "<pre style=\"white-space:pre;overflow-x:auto;line-height:normal;font-family:Menlo,'DejaVu Sans Mono',consolas,'Courier New',monospace\">Compilation failed! task number: 51\n",
       "</pre>\n"
      ],
      "text/plain": [
       "Compilation failed! task number: 51\n"
      ]
     },
     "metadata": {},
     "output_type": "display_data"
    },
    {
     "data": {
      "text/html": [
       "<pre style=\"white-space:pre;overflow-x:auto;line-height:normal;font-family:Menlo,'DejaVu Sans Mono',consolas,'Courier New',monospace\">stderr: /root/srf-project/tmp/test_51/test.cpp: In function ‘std::string remove_vowels(std::string)’:\n",
       "/root/srf-project/tmp/test_51/test.cpp:38:18: error: no matching function for call to ‘strchr(std::string&amp;, \n",
       "__gnu_cxx::__alloc_traits&lt;std::allocator&lt;char&gt;, char&gt;::value_type&amp;)’\n",
       "   38 |         if(strchr(vowels, text[i]) == NULL){\n",
       "      |            ~~~~~~^~~~~~~~~~~~~~~~~\n",
       "In file included from /usr/include/c++/11/cstring:42,\n",
       "                 from /root/srf-project/tmp/test_51/test.cpp:5:\n",
       "/usr/include/string.h:226:14: note: candidate: ‘char* strchr(char*, int)’\n",
       "  226 | extern char *strchr (char *__s, int __c)\n",
       "      |              ^~~~~~\n",
       "/usr/include/string.h:226:28: note:   no known conversion for argument 1 from ‘std::string’ {aka \n",
       "‘std::__cxx11::basic_string&lt;char&gt;’} to ‘char*’\n",
       "  226 | extern char *strchr (char *__s, int __c)\n",
       "      |                      ~~~~~~^~~\n",
       "/usr/include/string.h:228:20: note: candidate: ‘const char* strchr(const char*, int)’\n",
       "  228 | extern const char *strchr (const char *__s, int __c)\n",
       "      |                    ^~~~~~\n",
       "/usr/include/string.h:228:40: note:   no known conversion for argument 1 from ‘std::string’ {aka \n",
       "‘std::__cxx11::basic_string&lt;char&gt;’} to ‘const char*’\n",
       "  228 | extern const char *strchr (const char *__s, int __c)\n",
       "      |                            ~~~~~~~~~~~~^~~\n",
       "</pre>\n"
      ],
      "text/plain": [
       "stderr: /root/srf-project/tmp/test_51/test.cpp: In function ‘std::string remove_vowels(std::string)’:\n",
       "/root/srf-project/tmp/test_51/test.cpp:38:18: error: no matching function for call to ‘strchr(std::string&, \n",
       "__gnu_cxx::__alloc_traits<std::allocator<char>, char>::value_type&)’\n",
       "   38 |         if(strchr(vowels, text[i]) == NULL){\n",
       "      |            ~~~~~~^~~~~~~~~~~~~~~~~\n",
       "In file included from /usr/include/c++/11/cstring:42,\n",
       "                 from /root/srf-project/tmp/test_51/test.cpp:5:\n",
       "/usr/include/string.h:226:14: note: candidate: ‘char* strchr(char*, int)’\n",
       "  226 | extern char *strchr (char *__s, int __c)\n",
       "      |              ^~~~~~\n",
       "/usr/include/string.h:226:28: note:   no known conversion for argument 1 from ‘std::string’ {aka \n",
       "‘std::__cxx11::basic_string<char>’} to ‘char*’\n",
       "  226 | extern char *strchr (char *__s, int __c)\n",
       "      |                      ~~~~~~^~~\n",
       "/usr/include/string.h:228:20: note: candidate: ‘const char* strchr(const char*, int)’\n",
       "  228 | extern const char *strchr (const char *__s, int __c)\n",
       "      |                    ^~~~~~\n",
       "/usr/include/string.h:228:40: note:   no known conversion for argument 1 from ‘std::string’ {aka \n",
       "‘std::__cxx11::basic_string<char>’} to ‘const char*’\n",
       "  228 | extern const char *strchr (const char *__s, int __c)\n",
       "      |                            ~~~~~~~~~~~~^~~\n"
      ]
     },
     "metadata": {},
     "output_type": "display_data"
    },
    {
     "data": {
      "text/html": [
       "<pre style=\"white-space:pre;overflow-x:auto;line-height:normal;font-family:Menlo,'DejaVu Sans Mono',consolas,'Courier New',monospace\">\n",
       "</pre>\n"
      ],
      "text/plain": [
       "\n"
      ]
     },
     "metadata": {},
     "output_type": "display_data"
    },
    {
     "data": {
      "text/html": [
       "<pre style=\"white-space:pre;overflow-x:auto;line-height:normal;font-family:Menlo,'DejaVu Sans Mono',consolas,'Courier New',monospace\">Compilation failed! task number: 75\n",
       "</pre>\n"
      ],
      "text/plain": [
       "Compilation failed! task number: 75\n"
      ]
     },
     "metadata": {},
     "output_type": "display_data"
    },
    {
     "data": {
      "text/html": [
       "<pre style=\"white-space:pre;overflow-x:auto;line-height:normal;font-family:Menlo,'DejaVu Sans Mono',consolas,'Courier New',monospace\">stderr: /root/srf-project/tmp/test_75/test.cpp: In function ‘bool is_multiply_prime(int)’:\n",
       "/root/srf-project/tmp/test_75/test.cpp:28:24: error: a function-definition is not allowed here before ‘{’ token\n",
       "   28 |     bool isPrime(int n){\n",
       "      |                        ^\n",
       "/root/srf-project/tmp/test_75/test.cpp:36:12: error: ‘isPrime’ was not declared in this scope\n",
       "   36 |         if(isPrime(i) &amp;&amp; isPrime(a/i) &amp;&amp; isPrime(a/i/i))\n",
       "      |            ^~~~~~~\n",
       "</pre>\n"
      ],
      "text/plain": [
       "stderr: /root/srf-project/tmp/test_75/test.cpp: In function ‘bool is_multiply_prime(int)’:\n",
       "/root/srf-project/tmp/test_75/test.cpp:28:24: error: a function-definition is not allowed here before ‘{’ token\n",
       "   28 |     bool isPrime(int n){\n",
       "      |                        ^\n",
       "/root/srf-project/tmp/test_75/test.cpp:36:12: error: ‘isPrime’ was not declared in this scope\n",
       "   36 |         if(isPrime(i) && isPrime(a/i) && isPrime(a/i/i))\n",
       "      |            ^~~~~~~\n"
      ]
     },
     "metadata": {},
     "output_type": "display_data"
    },
    {
     "data": {
      "text/html": [
       "<pre style=\"white-space:pre;overflow-x:auto;line-height:normal;font-family:Menlo,'DejaVu Sans Mono',consolas,'Courier New',monospace\">\n",
       "</pre>\n"
      ],
      "text/plain": [
       "\n"
      ]
     },
     "metadata": {},
     "output_type": "display_data"
    },
    {
     "data": {
      "text/html": [
       "<pre style=\"white-space:pre;overflow-x:auto;line-height:normal;font-family:Menlo,'DejaVu Sans Mono',consolas,'Courier New',monospace\">Compilation failed! task number: 71\n",
       "</pre>\n"
      ],
      "text/plain": [
       "Compilation failed! task number: 71\n"
      ]
     },
     "metadata": {},
     "output_type": "display_data"
    },
    {
     "data": {
      "text/html": [
       "<pre style=\"white-space:pre;overflow-x:auto;line-height:normal;font-family:Menlo,'DejaVu Sans Mono',consolas,'Courier New',monospace\">stderr: /root/srf-project/tmp/test_71/test.cpp:29:1: error: stray ‘`’ in program\n",
       "   29 | ```c\n",
       "      | ^\n",
       "/root/srf-project/tmp/test_71/test.cpp:29:2: error: stray ‘`’ in program\n",
       "   29 | ```c\n",
       "      |  ^\n",
       "/root/srf-project/tmp/test_71/test.cpp:29:3: error: stray ‘`’ in program\n",
       "   29 | ```c\n",
       "      |   ^\n",
       "/root/srf-project/tmp/test_71/test.cpp:38:1: error: stray ‘`’ in program\n",
       "   38 | ```\n",
       "      | ^\n",
       "/root/srf-project/tmp/test_71/test.cpp:38:2: error: stray ‘`’ in program\n",
       "   38 | ```\n",
       "      |  ^\n",
       "/root/srf-project/tmp/test_71/test.cpp:38:3: error: stray ‘`’ in program\n",
       "   38 | ```\n",
       "      |   ^\n",
       "/root/srf-project/tmp/test_71/test.cpp:29:4: error: ‘c’ does not name a type\n",
       "   29 | ```c\n",
       "      |    ^\n",
       "In file included from /root/srf-project/tmp/test_71/test.cpp:40:\n",
       "/root/srf-project/tmp/test_71/test.cpp: In function ‘int main()’:\n",
       "/root/srf-project/tmp/test_71/test.cpp:42:17: error: ‘triangle_area’ was not declared in this scope\n",
       "   42 |     assert (abs(triangle_area(3, 4, 5)-6.00)&lt;0.01);\n",
       "      |                 ^~~~~~~~~~~~~\n",
       "</pre>\n"
      ],
      "text/plain": [
       "stderr: /root/srf-project/tmp/test_71/test.cpp:29:1: error: stray ‘`’ in program\n",
       "   29 | ```c\n",
       "      | ^\n",
       "/root/srf-project/tmp/test_71/test.cpp:29:2: error: stray ‘`’ in program\n",
       "   29 | ```c\n",
       "      |  ^\n",
       "/root/srf-project/tmp/test_71/test.cpp:29:3: error: stray ‘`’ in program\n",
       "   29 | ```c\n",
       "      |   ^\n",
       "/root/srf-project/tmp/test_71/test.cpp:38:1: error: stray ‘`’ in program\n",
       "   38 | ```\n",
       "      | ^\n",
       "/root/srf-project/tmp/test_71/test.cpp:38:2: error: stray ‘`’ in program\n",
       "   38 | ```\n",
       "      |  ^\n",
       "/root/srf-project/tmp/test_71/test.cpp:38:3: error: stray ‘`’ in program\n",
       "   38 | ```\n",
       "      |   ^\n",
       "/root/srf-project/tmp/test_71/test.cpp:29:4: error: ‘c’ does not name a type\n",
       "   29 | ```c\n",
       "      |    ^\n",
       "In file included from /root/srf-project/tmp/test_71/test.cpp:40:\n",
       "/root/srf-project/tmp/test_71/test.cpp: In function ‘int main()’:\n",
       "/root/srf-project/tmp/test_71/test.cpp:42:17: error: ‘triangle_area’ was not declared in this scope\n",
       "   42 |     assert (abs(triangle_area(3, 4, 5)-6.00)<0.01);\n",
       "      |                 ^~~~~~~~~~~~~\n"
      ]
     },
     "metadata": {},
     "output_type": "display_data"
    },
    {
     "data": {
      "text/html": [
       "<pre style=\"white-space:pre;overflow-x:auto;line-height:normal;font-family:Menlo,'DejaVu Sans Mono',consolas,'Courier New',monospace\">\n",
       "</pre>\n"
      ],
      "text/plain": [
       "\n"
      ]
     },
     "metadata": {},
     "output_type": "display_data"
    },
    {
     "data": {
      "text/html": [
       "<pre style=\"white-space:pre;overflow-x:auto;line-height:normal;font-family:Menlo,'DejaVu Sans Mono',consolas,'Courier New',monospace\">Compilation failed! task number: 49\n",
       "</pre>\n"
      ],
      "text/plain": [
       "Compilation failed! task number: 49\n"
      ]
     },
     "metadata": {},
     "output_type": "display_data"
    },
    {
     "data": {
      "text/html": [
       "<pre style=\"white-space:pre;overflow-x:auto;line-height:normal;font-family:Menlo,'DejaVu Sans Mono',consolas,'Courier New',monospace\">stderr: /root/srf-project/tmp/test_49/test.cpp:32:1: error: stray ‘`’ in program\n",
       "   32 | ```c\n",
       "      | ^\n",
       "/root/srf-project/tmp/test_49/test.cpp:32:2: error: stray ‘`’ in program\n",
       "   32 | ```c\n",
       "      |  ^\n",
       "/root/srf-project/tmp/test_49/test.cpp:32:3: error: stray ‘`’ in program\n",
       "   32 | ```c\n",
       "      |   ^\n",
       "/root/srf-project/tmp/test_49/test.cpp:39:1: error: stray ‘`’ in program\n",
       "   39 | ```\n",
       "      | ^\n",
       "/root/srf-project/tmp/test_49/test.cpp:39:2: error: stray ‘`’ in program\n",
       "   39 | ```\n",
       "      |  ^\n",
       "/root/srf-project/tmp/test_49/test.cpp:39:3: error: stray ‘`’ in program\n",
       "   39 | ```\n",
       "      |   ^\n",
       "/root/srf-project/tmp/test_49/test.cpp:32:4: error: ‘c’ does not name a type\n",
       "   32 | ```c\n",
       "      |    ^\n",
       "In file included from /root/srf-project/tmp/test_49/test.cpp:41:\n",
       "/root/srf-project/tmp/test_49/test.cpp: In function ‘int main()’:\n",
       "/root/srf-project/tmp/test_49/test.cpp:43:13: error: ‘modp’ was not declared in this scope; did you mean ‘modf’?\n",
       "   43 |     assert (modp(3, 5) == 3);\n",
       "      |             ^~~~\n",
       "</pre>\n"
      ],
      "text/plain": [
       "stderr: /root/srf-project/tmp/test_49/test.cpp:32:1: error: stray ‘`’ in program\n",
       "   32 | ```c\n",
       "      | ^\n",
       "/root/srf-project/tmp/test_49/test.cpp:32:2: error: stray ‘`’ in program\n",
       "   32 | ```c\n",
       "      |  ^\n",
       "/root/srf-project/tmp/test_49/test.cpp:32:3: error: stray ‘`’ in program\n",
       "   32 | ```c\n",
       "      |   ^\n",
       "/root/srf-project/tmp/test_49/test.cpp:39:1: error: stray ‘`’ in program\n",
       "   39 | ```\n",
       "      | ^\n",
       "/root/srf-project/tmp/test_49/test.cpp:39:2: error: stray ‘`’ in program\n",
       "   39 | ```\n",
       "      |  ^\n",
       "/root/srf-project/tmp/test_49/test.cpp:39:3: error: stray ‘`’ in program\n",
       "   39 | ```\n",
       "      |   ^\n",
       "/root/srf-project/tmp/test_49/test.cpp:32:4: error: ‘c’ does not name a type\n",
       "   32 | ```c\n",
       "      |    ^\n",
       "In file included from /root/srf-project/tmp/test_49/test.cpp:41:\n",
       "/root/srf-project/tmp/test_49/test.cpp: In function ‘int main()’:\n",
       "/root/srf-project/tmp/test_49/test.cpp:43:13: error: ‘modp’ was not declared in this scope; did you mean ‘modf’?\n",
       "   43 |     assert (modp(3, 5) == 3);\n",
       "      |             ^~~~\n"
      ]
     },
     "metadata": {},
     "output_type": "display_data"
    },
    {
     "data": {
      "text/html": [
       "<pre style=\"white-space:pre;overflow-x:auto;line-height:normal;font-family:Menlo,'DejaVu Sans Mono',consolas,'Courier New',monospace\">\n",
       "</pre>\n"
      ],
      "text/plain": [
       "\n"
      ]
     },
     "metadata": {},
     "output_type": "display_data"
    },
    {
     "data": {
      "text/html": [
       "<pre style=\"white-space:pre;overflow-x:auto;line-height:normal;font-family:Menlo,'DejaVu Sans Mono',consolas,'Courier New',monospace\">Compilation failed! task number: 78\n",
       "</pre>\n"
      ],
      "text/plain": [
       "Compilation failed! task number: 78\n"
      ]
     },
     "metadata": {},
     "output_type": "display_data"
    },
    {
     "data": {
      "text/html": [
       "<pre style=\"white-space:pre;overflow-x:auto;line-height:normal;font-family:Menlo,'DejaVu Sans Mono',consolas,'Courier New',monospace\">stderr: /root/srf-project/tmp/test_78/test.cpp: In function ‘int hex_key(std::string)’:\n",
       "/root/srf-project/tmp/test_78/test.cpp:41:18: error: no matching function for call to ‘strchr(std::string&amp;, \n",
       "__gnu_cxx::__alloc_traits&lt;std::allocator&lt;char&gt;, char&gt;::value_type&amp;)’\n",
       "   41 |         if(strchr(hex_digits,num[i])!=NULL)\n",
       "      |            ~~~~~~^~~~~~~~~~~~~~~~~~~\n",
       "In file included from /usr/include/c++/11/cstring:42,\n",
       "                 from /root/srf-project/tmp/test_78/test.cpp:5:\n",
       "/usr/include/string.h:226:14: note: candidate: ‘char* strchr(char*, int)’\n",
       "  226 | extern char *strchr (char *__s, int __c)\n",
       "      |              ^~~~~~\n",
       "/usr/include/string.h:226:28: note:   no known conversion for argument 1 from ‘std::string’ {aka \n",
       "‘std::__cxx11::basic_string&lt;char&gt;’} to ‘char*’\n",
       "  226 | extern char *strchr (char *__s, int __c)\n",
       "      |                      ~~~~~~^~~\n",
       "/usr/include/string.h:228:20: note: candidate: ‘const char* strchr(const char*, int)’\n",
       "  228 | extern const char *strchr (const char *__s, int __c)\n",
       "      |                    ^~~~~~\n",
       "/usr/include/string.h:228:40: note:   no known conversion for argument 1 from ‘std::string’ {aka \n",
       "‘std::__cxx11::basic_string&lt;char&gt;’} to ‘const char*’\n",
       "  228 | extern const char *strchr (const char *__s, int __c)\n",
       "      |                            ~~~~~~~~~~~~^~~\n",
       "</pre>\n"
      ],
      "text/plain": [
       "stderr: /root/srf-project/tmp/test_78/test.cpp: In function ‘int hex_key(std::string)’:\n",
       "/root/srf-project/tmp/test_78/test.cpp:41:18: error: no matching function for call to ‘strchr(std::string&, \n",
       "__gnu_cxx::__alloc_traits<std::allocator<char>, char>::value_type&)’\n",
       "   41 |         if(strchr(hex_digits,num[i])!=NULL)\n",
       "      |            ~~~~~~^~~~~~~~~~~~~~~~~~~\n",
       "In file included from /usr/include/c++/11/cstring:42,\n",
       "                 from /root/srf-project/tmp/test_78/test.cpp:5:\n",
       "/usr/include/string.h:226:14: note: candidate: ‘char* strchr(char*, int)’\n",
       "  226 | extern char *strchr (char *__s, int __c)\n",
       "      |              ^~~~~~\n",
       "/usr/include/string.h:226:28: note:   no known conversion for argument 1 from ‘std::string’ {aka \n",
       "‘std::__cxx11::basic_string<char>’} to ‘char*’\n",
       "  226 | extern char *strchr (char *__s, int __c)\n",
       "      |                      ~~~~~~^~~\n",
       "/usr/include/string.h:228:20: note: candidate: ‘const char* strchr(const char*, int)’\n",
       "  228 | extern const char *strchr (const char *__s, int __c)\n",
       "      |                    ^~~~~~\n",
       "/usr/include/string.h:228:40: note:   no known conversion for argument 1 from ‘std::string’ {aka \n",
       "‘std::__cxx11::basic_string<char>’} to ‘const char*’\n",
       "  228 | extern const char *strchr (const char *__s, int __c)\n",
       "      |                            ~~~~~~~~~~~~^~~\n"
      ]
     },
     "metadata": {},
     "output_type": "display_data"
    },
    {
     "data": {
      "text/html": [
       "<pre style=\"white-space:pre;overflow-x:auto;line-height:normal;font-family:Menlo,'DejaVu Sans Mono',consolas,'Courier New',monospace\">\n",
       "</pre>\n"
      ],
      "text/plain": [
       "\n"
      ]
     },
     "metadata": {},
     "output_type": "display_data"
    },
    {
     "data": {
      "text/html": [
       "<pre style=\"white-space:pre;overflow-x:auto;line-height:normal;font-family:Menlo,'DejaVu Sans Mono',consolas,'Courier New',monospace\">Compilation failed! task number: 102\n",
       "</pre>\n"
      ],
      "text/plain": [
       "Compilation failed! task number: 102\n"
      ]
     },
     "metadata": {},
     "output_type": "display_data"
    },
    {
     "data": {
      "text/html": [
       "<pre style=\"white-space:pre;overflow-x:auto;line-height:normal;font-family:Menlo,'DejaVu Sans Mono',consolas,'Courier New',monospace\">stderr: /root/srf-project/tmp/test_102/test.cpp:28:1: error: stray ‘`’ in program\n",
       "   28 | ```c\n",
       "      | ^\n",
       "/root/srf-project/tmp/test_102/test.cpp:28:2: error: stray ‘`’ in program\n",
       "   28 | ```c\n",
       "      |  ^\n",
       "/root/srf-project/tmp/test_102/test.cpp:28:3: error: stray ‘`’ in program\n",
       "   28 | ```c\n",
       "      |   ^\n",
       "/root/srf-project/tmp/test_102/test.cpp:35:1: error: stray ‘`’ in program\n",
       "   35 | ```\n",
       "      | ^\n",
       "/root/srf-project/tmp/test_102/test.cpp:35:2: error: stray ‘`’ in program\n",
       "   35 | ```\n",
       "      |  ^\n",
       "/root/srf-project/tmp/test_102/test.cpp:35:3: error: stray ‘`’ in program\n",
       "   35 | ```\n",
       "      |   ^\n",
       "/root/srf-project/tmp/test_102/test.cpp:28:4: error: ‘c’ does not name a type\n",
       "   28 | ```c\n",
       "      |    ^\n",
       "In file included from /root/srf-project/tmp/test_102/test.cpp:37:\n",
       "/root/srf-project/tmp/test_102/test.cpp: In function ‘int main()’:\n",
       "/root/srf-project/tmp/test_102/test.cpp:39:13: error: ‘choose_num’ was not declared in this scope\n",
       "   39 |     assert (choose_num(12, 15) == 14);\n",
       "      |             ^~~~~~~~~~\n",
       "</pre>\n"
      ],
      "text/plain": [
       "stderr: /root/srf-project/tmp/test_102/test.cpp:28:1: error: stray ‘`’ in program\n",
       "   28 | ```c\n",
       "      | ^\n",
       "/root/srf-project/tmp/test_102/test.cpp:28:2: error: stray ‘`’ in program\n",
       "   28 | ```c\n",
       "      |  ^\n",
       "/root/srf-project/tmp/test_102/test.cpp:28:3: error: stray ‘`’ in program\n",
       "   28 | ```c\n",
       "      |   ^\n",
       "/root/srf-project/tmp/test_102/test.cpp:35:1: error: stray ‘`’ in program\n",
       "   35 | ```\n",
       "      | ^\n",
       "/root/srf-project/tmp/test_102/test.cpp:35:2: error: stray ‘`’ in program\n",
       "   35 | ```\n",
       "      |  ^\n",
       "/root/srf-project/tmp/test_102/test.cpp:35:3: error: stray ‘`’ in program\n",
       "   35 | ```\n",
       "      |   ^\n",
       "/root/srf-project/tmp/test_102/test.cpp:28:4: error: ‘c’ does not name a type\n",
       "   28 | ```c\n",
       "      |    ^\n",
       "In file included from /root/srf-project/tmp/test_102/test.cpp:37:\n",
       "/root/srf-project/tmp/test_102/test.cpp: In function ‘int main()’:\n",
       "/root/srf-project/tmp/test_102/test.cpp:39:13: error: ‘choose_num’ was not declared in this scope\n",
       "   39 |     assert (choose_num(12, 15) == 14);\n",
       "      |             ^~~~~~~~~~\n"
      ]
     },
     "metadata": {},
     "output_type": "display_data"
    },
    {
     "data": {
      "text/html": [
       "<pre style=\"white-space:pre;overflow-x:auto;line-height:normal;font-family:Menlo,'DejaVu Sans Mono',consolas,'Courier New',monospace\">\n",
       "</pre>\n"
      ],
      "text/plain": [
       "\n"
      ]
     },
     "metadata": {},
     "output_type": "display_data"
    },
    {
     "data": {
      "text/html": [
       "<pre style=\"white-space:pre;overflow-x:auto;line-height:normal;font-family:Menlo,'DejaVu Sans Mono',consolas,'Courier New',monospace\">Compilation failed! task number: 94\n",
       "</pre>\n"
      ],
      "text/plain": [
       "Compilation failed! task number: 94\n"
      ]
     },
     "metadata": {},
     "output_type": "display_data"
    },
    {
     "data": {
      "text/html": [
       "<pre style=\"white-space:pre;overflow-x:auto;line-height:normal;font-family:Menlo,'DejaVu Sans Mono',consolas,'Courier New',monospace\">stderr: /root/srf-project/tmp/test_94/test.cpp: In function ‘int skjkasdkd(std::vector&lt;int&gt;)’:\n",
       "/root/srf-project/tmp/test_94/test.cpp:34:12: error: ‘isPrime’ was not declared in this scope\n",
       "   34 |         if(isPrime(lst[i]) &amp;&amp; lst[i] &gt; maxPrime){\n",
       "      |            ^~~~~~~\n",
       "</pre>\n"
      ],
      "text/plain": [
       "stderr: /root/srf-project/tmp/test_94/test.cpp: In function ‘int skjkasdkd(std::vector<int>)’:\n",
       "/root/srf-project/tmp/test_94/test.cpp:34:12: error: ‘isPrime’ was not declared in this scope\n",
       "   34 |         if(isPrime(lst[i]) && lst[i] > maxPrime){\n",
       "      |            ^~~~~~~\n"
      ]
     },
     "metadata": {},
     "output_type": "display_data"
    },
    {
     "data": {
      "text/html": [
       "<pre style=\"white-space:pre;overflow-x:auto;line-height:normal;font-family:Menlo,'DejaVu Sans Mono',consolas,'Courier New',monospace\">\n",
       "</pre>\n"
      ],
      "text/plain": [
       "\n"
      ]
     },
     "metadata": {},
     "output_type": "display_data"
    },
    {
     "data": {
      "text/html": [
       "<pre style=\"white-space:pre;overflow-x:auto;line-height:normal;font-family:Menlo,'DejaVu Sans Mono',consolas,'Courier New',monospace\">Compilation failed! task number: 83\n",
       "</pre>\n"
      ],
      "text/plain": [
       "Compilation failed! task number: 83\n"
      ]
     },
     "metadata": {},
     "output_type": "display_data"
    },
    {
     "data": {
      "text/html": [
       "<pre style=\"white-space:pre;overflow-x:auto;line-height:normal;font-family:Menlo,'DejaVu Sans Mono',consolas,'Courier New',monospace\">stderr: /root/srf-project/tmp/test_83/test.cpp:23:1: error: stray ‘`’ in program\n",
       "   23 | ```c\n",
       "      | ^\n",
       "/root/srf-project/tmp/test_83/test.cpp:23:2: error: stray ‘`’ in program\n",
       "   23 | ```c\n",
       "      |  ^\n",
       "/root/srf-project/tmp/test_83/test.cpp:23:3: error: stray ‘`’ in program\n",
       "   23 | ```c\n",
       "      |   ^\n",
       "/root/srf-project/tmp/test_83/test.cpp:32:1: error: stray ‘`’ in program\n",
       "   32 | ```\n",
       "      | ^\n",
       "/root/srf-project/tmp/test_83/test.cpp:32:2: error: stray ‘`’ in program\n",
       "   32 | ```\n",
       "      |  ^\n",
       "/root/srf-project/tmp/test_83/test.cpp:32:3: error: stray ‘`’ in program\n",
       "   32 | ```\n",
       "      |   ^\n",
       "/root/srf-project/tmp/test_83/test.cpp:23:4: error: ‘c’ does not name a type\n",
       "   23 | ```c\n",
       "      |    ^\n",
       "In file included from /root/srf-project/tmp/test_83/test.cpp:34:\n",
       "/root/srf-project/tmp/test_83/test.cpp: In function ‘int main()’:\n",
       "/root/srf-project/tmp/test_83/test.cpp:36:13: error: ‘starts_one_ends’ was not declared in this scope\n",
       "   36 |     assert (starts_one_ends(1) == 1);\n",
       "      |             ^~~~~~~~~~~~~~~\n",
       "</pre>\n"
      ],
      "text/plain": [
       "stderr: /root/srf-project/tmp/test_83/test.cpp:23:1: error: stray ‘`’ in program\n",
       "   23 | ```c\n",
       "      | ^\n",
       "/root/srf-project/tmp/test_83/test.cpp:23:2: error: stray ‘`’ in program\n",
       "   23 | ```c\n",
       "      |  ^\n",
       "/root/srf-project/tmp/test_83/test.cpp:23:3: error: stray ‘`’ in program\n",
       "   23 | ```c\n",
       "      |   ^\n",
       "/root/srf-project/tmp/test_83/test.cpp:32:1: error: stray ‘`’ in program\n",
       "   32 | ```\n",
       "      | ^\n",
       "/root/srf-project/tmp/test_83/test.cpp:32:2: error: stray ‘`’ in program\n",
       "   32 | ```\n",
       "      |  ^\n",
       "/root/srf-project/tmp/test_83/test.cpp:32:3: error: stray ‘`’ in program\n",
       "   32 | ```\n",
       "      |   ^\n",
       "/root/srf-project/tmp/test_83/test.cpp:23:4: error: ‘c’ does not name a type\n",
       "   23 | ```c\n",
       "      |    ^\n",
       "In file included from /root/srf-project/tmp/test_83/test.cpp:34:\n",
       "/root/srf-project/tmp/test_83/test.cpp: In function ‘int main()’:\n",
       "/root/srf-project/tmp/test_83/test.cpp:36:13: error: ‘starts_one_ends’ was not declared in this scope\n",
       "   36 |     assert (starts_one_ends(1) == 1);\n",
       "      |             ^~~~~~~~~~~~~~~\n"
      ]
     },
     "metadata": {},
     "output_type": "display_data"
    },
    {
     "data": {
      "text/html": [
       "<pre style=\"white-space:pre;overflow-x:auto;line-height:normal;font-family:Menlo,'DejaVu Sans Mono',consolas,'Courier New',monospace\">\n",
       "</pre>\n"
      ],
      "text/plain": [
       "\n"
      ]
     },
     "metadata": {},
     "output_type": "display_data"
    },
    {
     "data": {
      "text/html": [
       "<pre style=\"white-space:pre;overflow-x:auto;line-height:normal;font-family:Menlo,'DejaVu Sans Mono',consolas,'Courier New',monospace\">Compilation failed! task number: 86\n",
       "</pre>\n"
      ],
      "text/plain": [
       "Compilation failed! task number: 86\n"
      ]
     },
     "metadata": {},
     "output_type": "display_data"
    },
    {
     "data": {
      "text/html": [
       "<pre style=\"white-space:pre;overflow-x:auto;line-height:normal;font-family:Menlo,'DejaVu Sans Mono',consolas,'Courier New',monospace\">stderr: /root/srf-project/tmp/test_86/test.cpp: In function ‘std::string anti_shuffle(std::string)’:\n",
       "/root/srf-project/tmp/test_86/test.cpp:46:27: error: ‘j’ was not declared in this scope\n",
       "   46 |         string substr(s,i,j-i+1);\n",
       "      |                           ^\n",
       "</pre>\n"
      ],
      "text/plain": [
       "stderr: /root/srf-project/tmp/test_86/test.cpp: In function ‘std::string anti_shuffle(std::string)’:\n",
       "/root/srf-project/tmp/test_86/test.cpp:46:27: error: ‘j’ was not declared in this scope\n",
       "   46 |         string substr(s,i,j-i+1);\n",
       "      |                           ^\n"
      ]
     },
     "metadata": {},
     "output_type": "display_data"
    },
    {
     "data": {
      "text/html": [
       "<pre style=\"white-space:pre;overflow-x:auto;line-height:normal;font-family:Menlo,'DejaVu Sans Mono',consolas,'Courier New',monospace\">\n",
       "</pre>\n"
      ],
      "text/plain": [
       "\n"
      ]
     },
     "metadata": {},
     "output_type": "display_data"
    },
    {
     "data": {
      "text/html": [
       "<pre style=\"white-space:pre;overflow-x:auto;line-height:normal;font-family:Menlo,'DejaVu Sans Mono',consolas,'Courier New',monospace\">Compilation failed! task number: 93\n",
       "</pre>\n"
      ],
      "text/plain": [
       "Compilation failed! task number: 93\n"
      ]
     },
     "metadata": {},
     "output_type": "display_data"
    },
    {
     "data": {
      "text/html": [
       "<pre style=\"white-space:pre;overflow-x:auto;line-height:normal;font-family:Menlo,'DejaVu Sans Mono',consolas,'Courier New',monospace\">stderr: /root/srf-project/tmp/test_93/test.cpp: In function ‘std::string encode(std::string)’:\n",
       "/root/srf-project/tmp/test_93/test.cpp:43:27: error: expected primary-expression before ‘char’\n",
       "   43 |                 result += char(vowels[(pos+2)%26 + 64];\n",
       "      |                           ^~~~\n",
       "</pre>\n"
      ],
      "text/plain": [
       "stderr: /root/srf-project/tmp/test_93/test.cpp: In function ‘std::string encode(std::string)’:\n",
       "/root/srf-project/tmp/test_93/test.cpp:43:27: error: expected primary-expression before ‘char’\n",
       "   43 |                 result += char(vowels[(pos+2)%26 + 64];\n",
       "      |                           ^~~~\n"
      ]
     },
     "metadata": {},
     "output_type": "display_data"
    },
    {
     "data": {
      "text/html": [
       "<pre style=\"white-space:pre;overflow-x:auto;line-height:normal;font-family:Menlo,'DejaVu Sans Mono',consolas,'Courier New',monospace\">\n",
       "</pre>\n"
      ],
      "text/plain": [
       "\n"
      ]
     },
     "metadata": {},
     "output_type": "display_data"
    },
    {
     "data": {
      "text/html": [
       "<pre style=\"white-space:pre;overflow-x:auto;line-height:normal;font-family:Menlo,'DejaVu Sans Mono',consolas,'Courier New',monospace\">Compilation failed! task number: 137\n",
       "</pre>\n"
      ],
      "text/plain": [
       "Compilation failed! task number: 137\n"
      ]
     },
     "metadata": {},
     "output_type": "display_data"
    },
    {
     "data": {
      "text/html": [
       "<pre style=\"white-space:pre;overflow-x:auto;line-height:normal;font-family:Menlo,'DejaVu Sans Mono',consolas,'Courier New',monospace\">stderr: /root/srf-project/tmp/test_137/test.cpp:31:1: error: ‘any’ does not name a type\n",
       "   31 | any compare_one(any a,any b){\n",
       "      | ^~~\n",
       "In file included from /root/srf-project/tmp/test_137/test.cpp:88:\n",
       "/root/srf-project/tmp/test_137/test.cpp: In function ‘int main()’:\n",
       "/root/srf-project/tmp/test_137/test.cpp:90:34: error: ‘compare_one’ was not declared in this scope\n",
       "   90 |     assert (boost::any_cast&lt;int&gt;(compare_one(1, 2)) == 2);\n",
       "      |                                  ^~~~~~~~~~~\n",
       "</pre>\n"
      ],
      "text/plain": [
       "stderr: /root/srf-project/tmp/test_137/test.cpp:31:1: error: ‘any’ does not name a type\n",
       "   31 | any compare_one(any a,any b){\n",
       "      | ^~~\n",
       "In file included from /root/srf-project/tmp/test_137/test.cpp:88:\n",
       "/root/srf-project/tmp/test_137/test.cpp: In function ‘int main()’:\n",
       "/root/srf-project/tmp/test_137/test.cpp:90:34: error: ‘compare_one’ was not declared in this scope\n",
       "   90 |     assert (boost::any_cast<int>(compare_one(1, 2)) == 2);\n",
       "      |                                  ^~~~~~~~~~~\n"
      ]
     },
     "metadata": {},
     "output_type": "display_data"
    },
    {
     "data": {
      "text/html": [
       "<pre style=\"white-space:pre;overflow-x:auto;line-height:normal;font-family:Menlo,'DejaVu Sans Mono',consolas,'Courier New',monospace\">\n",
       "</pre>\n"
      ],
      "text/plain": [
       "\n"
      ]
     },
     "metadata": {},
     "output_type": "display_data"
    },
    {
     "data": {
      "text/html": [
       "<pre style=\"white-space:pre;overflow-x:auto;line-height:normal;font-family:Menlo,'DejaVu Sans Mono',consolas,'Courier New',monospace\">Compilation failed! task number: 139\n",
       "</pre>\n"
      ],
      "text/plain": [
       "Compilation failed! task number: 139\n"
      ]
     },
     "metadata": {},
     "output_type": "display_data"
    },
    {
     "data": {
      "text/html": [
       "<pre style=\"white-space:pre;overflow-x:auto;line-height:normal;font-family:Menlo,'DejaVu Sans Mono',consolas,'Courier New',monospace\">stderr: /root/srf-project/tmp/test_139/test.cpp: In function ‘long long int special_factorial(int)’:\n",
       "/root/srf-project/tmp/test_139/test.cpp:34:16: error: ‘factorial’ was not declared in this scope\n",
       "   34 |         res *= factorial(i);\n",
       "      |                ^~~~~~~~~\n",
       "</pre>\n"
      ],
      "text/plain": [
       "stderr: /root/srf-project/tmp/test_139/test.cpp: In function ‘long long int special_factorial(int)’:\n",
       "/root/srf-project/tmp/test_139/test.cpp:34:16: error: ‘factorial’ was not declared in this scope\n",
       "   34 |         res *= factorial(i);\n",
       "      |                ^~~~~~~~~\n"
      ]
     },
     "metadata": {},
     "output_type": "display_data"
    },
    {
     "data": {
      "text/html": [
       "<pre style=\"white-space:pre;overflow-x:auto;line-height:normal;font-family:Menlo,'DejaVu Sans Mono',consolas,'Courier New',monospace\">\n",
       "</pre>\n"
      ],
      "text/plain": [
       "\n"
      ]
     },
     "metadata": {},
     "output_type": "display_data"
    },
    {
     "data": {
      "text/html": [
       "<pre style=\"white-space:pre;overflow-x:auto;line-height:normal;font-family:Menlo,'DejaVu Sans Mono',consolas,'Courier New',monospace\">Compilation failed! task number: 150\n",
       "</pre>\n"
      ],
      "text/plain": [
       "Compilation failed! task number: 150\n"
      ]
     },
     "metadata": {},
     "output_type": "display_data"
    },
    {
     "data": {
      "text/html": [
       "<pre style=\"white-space:pre;overflow-x:auto;line-height:normal;font-family:Menlo,'DejaVu Sans Mono',consolas,'Courier New',monospace\">stderr: /root/srf-project/tmp/test_150/test.cpp:28:1: error: stray ‘`’ in program\n",
       "   28 | ```c\n",
       "      | ^\n",
       "/root/srf-project/tmp/test_150/test.cpp:28:2: error: stray ‘`’ in program\n",
       "   28 | ```c\n",
       "      |  ^\n",
       "/root/srf-project/tmp/test_150/test.cpp:28:3: error: stray ‘`’ in program\n",
       "   28 | ```c\n",
       "      |   ^\n",
       "/root/srf-project/tmp/test_150/test.cpp:44:1: error: stray ‘`’ in program\n",
       "   44 | ```\n",
       "      | ^\n",
       "/root/srf-project/tmp/test_150/test.cpp:44:2: error: stray ‘`’ in program\n",
       "   44 | ```\n",
       "      |  ^\n",
       "/root/srf-project/tmp/test_150/test.cpp:44:3: error: stray ‘`’ in program\n",
       "   44 | ```\n",
       "      |   ^\n",
       "/root/srf-project/tmp/test_150/test.cpp:28:4: error: ‘c’ does not name a type\n",
       "   28 | ```c\n",
       "      |    ^\n",
       "In file included from /root/srf-project/tmp/test_150/test.cpp:46:\n",
       "/root/srf-project/tmp/test_150/test.cpp: In function ‘int main()’:\n",
       "/root/srf-project/tmp/test_150/test.cpp:48:13: error: ‘x_or_y’ was not declared in this scope\n",
       "   48 |     assert (x_or_y(7, 34, 12) == 34);\n",
       "      |             ^~~~~~\n",
       "</pre>\n"
      ],
      "text/plain": [
       "stderr: /root/srf-project/tmp/test_150/test.cpp:28:1: error: stray ‘`’ in program\n",
       "   28 | ```c\n",
       "      | ^\n",
       "/root/srf-project/tmp/test_150/test.cpp:28:2: error: stray ‘`’ in program\n",
       "   28 | ```c\n",
       "      |  ^\n",
       "/root/srf-project/tmp/test_150/test.cpp:28:3: error: stray ‘`’ in program\n",
       "   28 | ```c\n",
       "      |   ^\n",
       "/root/srf-project/tmp/test_150/test.cpp:44:1: error: stray ‘`’ in program\n",
       "   44 | ```\n",
       "      | ^\n",
       "/root/srf-project/tmp/test_150/test.cpp:44:2: error: stray ‘`’ in program\n",
       "   44 | ```\n",
       "      |  ^\n",
       "/root/srf-project/tmp/test_150/test.cpp:44:3: error: stray ‘`’ in program\n",
       "   44 | ```\n",
       "      |   ^\n",
       "/root/srf-project/tmp/test_150/test.cpp:28:4: error: ‘c’ does not name a type\n",
       "   28 | ```c\n",
       "      |    ^\n",
       "In file included from /root/srf-project/tmp/test_150/test.cpp:46:\n",
       "/root/srf-project/tmp/test_150/test.cpp: In function ‘int main()’:\n",
       "/root/srf-project/tmp/test_150/test.cpp:48:13: error: ‘x_or_y’ was not declared in this scope\n",
       "   48 |     assert (x_or_y(7, 34, 12) == 34);\n",
       "      |             ^~~~~~\n"
      ]
     },
     "metadata": {},
     "output_type": "display_data"
    },
    {
     "data": {
      "text/html": [
       "<pre style=\"white-space:pre;overflow-x:auto;line-height:normal;font-family:Menlo,'DejaVu Sans Mono',consolas,'Courier New',monospace\">\n",
       "</pre>\n"
      ],
      "text/plain": [
       "\n"
      ]
     },
     "metadata": {},
     "output_type": "display_data"
    },
    {
     "data": {
      "text/html": [
       "<pre style=\"white-space:pre;overflow-x:auto;line-height:normal;font-family:Menlo,'DejaVu Sans Mono',consolas,'Courier New',monospace\">Compilation failed! task number: 162\n",
       "</pre>\n"
      ],
      "text/plain": [
       "Compilation failed! task number: 162\n"
      ]
     },
     "metadata": {},
     "output_type": "display_data"
    },
    {
     "data": {
      "text/html": [
       "<pre style=\"white-space:pre;overflow-x:auto;line-height:normal;font-family:Menlo,'DejaVu Sans Mono',consolas,'Courier New',monospace\">stderr: /root/srf-project/tmp/test_162/test.cpp: In function ‘std::string string_to_md5(std::string)’:\n",
       "/root/srf-project/tmp/test_162/test.cpp:28:8: warning: ‘unsigned char* MD5(const unsigned char*, size_t, unsigned \n",
       "char*)’ is deprecated: Since OpenSSL 3.0 [-Wdeprecated-declarations]\n",
       "   28 |     MD5((unsigned char*)text.c_str(), text.length(), md5);\n",
       "      |     ~~~^~~~~~~~~~~~~~~~~~~~~~~~~~~~~~~~~~~~~~~~~~~~~~~~~~\n",
       "In file included from /root/srf-project/tmp/test_162/test.cpp:24:\n",
       "/usr/include/openssl/md5.h:52:38: note: declared here\n",
       "   52 | OSSL_DEPRECATEDIN_3_0 unsigned char *MD5(const unsigned char *d, size_t n,\n",
       "      |                                      ^~~\n",
       "/root/srf-project/tmp/test_162/test.cpp:31:29: warning: ISO C++ forbids converting a string constant to ‘char*’ \n",
       "[-Wwrite-strings]\n",
       "   31 |         md5_hash += sprintf(\"%02x\", md5[i]);\n",
       "      |                             ^~~~~~\n",
       "/root/srf-project/tmp/test_162/test.cpp:31:42: error: invalid conversion from ‘unsigned char’ to ‘const char*’ \n",
       "[-fpermissive]\n",
       "   31 |         md5_hash += sprintf(\"%02x\", md5[i]);\n",
       "      |                                     ~~~~~^\n",
       "      |                                          |\n",
       "      |                                          unsigned char\n",
       "In file included from /usr/include/c++/11/cstdio:42,\n",
       "                 from /usr/include/c++/11/ext/string_conversions.h:43,\n",
       "                 from /usr/include/c++/11/bits/basic_string.h:6608,\n",
       "                 from /usr/include/c++/11/string:55,\n",
       "                 from /usr/include/c++/11/bits/locale_classes.h:40,\n",
       "                 from /usr/include/c++/11/bits/ios_base.h:41,\n",
       "                 from /usr/include/c++/11/ios:42,\n",
       "                 from /usr/include/c++/11/ostream:38,\n",
       "                 from /usr/include/c++/11/iostream:39,\n",
       "                 from /root/srf-project/tmp/test_162/test.cpp:7:\n",
       "/usr/include/stdio.h:359:44: note:   initializing argument 2 of ‘int sprintf(char*, const char*, ...)’\n",
       "  359 |                     const char *__restrict __format, ...) __THROWNL;\n",
       "      |                     ~~~~~~~~~~~~~~~~~~~~~~~^~~~~~~~\n",
       "/root/srf-project/tmp/test_162/test.cpp:31:28: warning: format not a string literal and no format arguments \n",
       "[-Wformat-security]\n",
       "   31 |         md5_hash += sprintf(\"%02x\", md5[i]);\n",
       "      |                     ~~~~~~~^~~~~~~~~~~~~~~~\n",
       "</pre>\n"
      ],
      "text/plain": [
       "stderr: /root/srf-project/tmp/test_162/test.cpp: In function ‘std::string string_to_md5(std::string)’:\n",
       "/root/srf-project/tmp/test_162/test.cpp:28:8: warning: ‘unsigned char* MD5(const unsigned char*, size_t, unsigned \n",
       "char*)’ is deprecated: Since OpenSSL 3.0 [-Wdeprecated-declarations]\n",
       "   28 |     MD5((unsigned char*)text.c_str(), text.length(), md5);\n",
       "      |     ~~~^~~~~~~~~~~~~~~~~~~~~~~~~~~~~~~~~~~~~~~~~~~~~~~~~~\n",
       "In file included from /root/srf-project/tmp/test_162/test.cpp:24:\n",
       "/usr/include/openssl/md5.h:52:38: note: declared here\n",
       "   52 | OSSL_DEPRECATEDIN_3_0 unsigned char *MD5(const unsigned char *d, size_t n,\n",
       "      |                                      ^~~\n",
       "/root/srf-project/tmp/test_162/test.cpp:31:29: warning: ISO C++ forbids converting a string constant to ‘char*’ \n",
       "[-Wwrite-strings]\n",
       "   31 |         md5_hash += sprintf(\"%02x\", md5[i]);\n",
       "      |                             ^~~~~~\n",
       "/root/srf-project/tmp/test_162/test.cpp:31:42: error: invalid conversion from ‘unsigned char’ to ‘const char*’ \n",
       "[-fpermissive]\n",
       "   31 |         md5_hash += sprintf(\"%02x\", md5[i]);\n",
       "      |                                     ~~~~~^\n",
       "      |                                          |\n",
       "      |                                          unsigned char\n",
       "In file included from /usr/include/c++/11/cstdio:42,\n",
       "                 from /usr/include/c++/11/ext/string_conversions.h:43,\n",
       "                 from /usr/include/c++/11/bits/basic_string.h:6608,\n",
       "                 from /usr/include/c++/11/string:55,\n",
       "                 from /usr/include/c++/11/bits/locale_classes.h:40,\n",
       "                 from /usr/include/c++/11/bits/ios_base.h:41,\n",
       "                 from /usr/include/c++/11/ios:42,\n",
       "                 from /usr/include/c++/11/ostream:38,\n",
       "                 from /usr/include/c++/11/iostream:39,\n",
       "                 from /root/srf-project/tmp/test_162/test.cpp:7:\n",
       "/usr/include/stdio.h:359:44: note:   initializing argument 2 of ‘int sprintf(char*, const char*, ...)’\n",
       "  359 |                     const char *__restrict __format, ...) __THROWNL;\n",
       "      |                     ~~~~~~~~~~~~~~~~~~~~~~~^~~~~~~~\n",
       "/root/srf-project/tmp/test_162/test.cpp:31:28: warning: format not a string literal and no format arguments \n",
       "[-Wformat-security]\n",
       "   31 |         md5_hash += sprintf(\"%02x\", md5[i]);\n",
       "      |                     ~~~~~~~^~~~~~~~~~~~~~~~\n"
      ]
     },
     "metadata": {},
     "output_type": "display_data"
    },
    {
     "data": {
      "text/html": [
       "<pre style=\"white-space:pre;overflow-x:auto;line-height:normal;font-family:Menlo,'DejaVu Sans Mono',consolas,'Courier New',monospace\">\n",
       "</pre>\n"
      ],
      "text/plain": [
       "\n"
      ]
     },
     "metadata": {},
     "output_type": "display_data"
    },
    {
     "data": {
      "text/html": [
       "<pre style=\"white-space:pre;overflow-x:auto;line-height:normal;font-family:Menlo,'DejaVu Sans Mono',consolas,'Courier New',monospace\">Compilation failed! task number: 151\n",
       "</pre>\n"
      ],
      "text/plain": [
       "Compilation failed! task number: 151\n"
      ]
     },
     "metadata": {},
     "output_type": "display_data"
    },
    {
     "data": {
      "text/html": [
       "<pre style=\"white-space:pre;overflow-x:auto;line-height:normal;font-family:Menlo,'DejaVu Sans Mono',consolas,'Courier New',monospace\">stderr: /root/srf-project/tmp/test_151/test.cpp: In function ‘long long int \n",
       "double_the_difference(std::vector&lt;float&gt;)’:\n",
       "/root/srf-project/tmp/test_151/test.cpp:33:34: error: invalid operands of types \n",
       "‘__gnu_cxx::__alloc_traits&lt;std::allocator&lt;float&gt;, float&gt;::value_type’ {aka ‘float’} and ‘int’ to binary ‘operator%’\n",
       "   33 |         if (lst[i] &gt; 0 &amp;&amp; lst[i] % 1 == 0 &amp;&amp; lst[i] % 2 != 0) {\n",
       "/root/srf-project/tmp/test_151/test.cpp:33:53: error: invalid operands of types \n",
       "‘__gnu_cxx::__alloc_traits&lt;std::allocator&lt;float&gt;, float&gt;::value_type’ {aka ‘float’} and ‘int’ to binary ‘operator%’\n",
       "   33 |         if (lst[i] &gt; 0 &amp;&amp; lst[i] % 1 == 0 &amp;&amp; lst[i] % 2 != 0) {\n",
       "</pre>\n"
      ],
      "text/plain": [
       "stderr: /root/srf-project/tmp/test_151/test.cpp: In function ‘long long int \n",
       "double_the_difference(std::vector<float>)’:\n",
       "/root/srf-project/tmp/test_151/test.cpp:33:34: error: invalid operands of types \n",
       "‘__gnu_cxx::__alloc_traits<std::allocator<float>, float>::value_type’ {aka ‘float’} and ‘int’ to binary ‘operator%’\n",
       "   33 |         if (lst[i] > 0 && lst[i] % 1 == 0 && lst[i] % 2 != 0) {\n",
       "/root/srf-project/tmp/test_151/test.cpp:33:53: error: invalid operands of types \n",
       "‘__gnu_cxx::__alloc_traits<std::allocator<float>, float>::value_type’ {aka ‘float’} and ‘int’ to binary ‘operator%’\n",
       "   33 |         if (lst[i] > 0 && lst[i] % 1 == 0 && lst[i] % 2 != 0) {\n"
      ]
     },
     "metadata": {},
     "output_type": "display_data"
    },
    {
     "data": {
      "text/html": [
       "<pre style=\"white-space:pre;overflow-x:auto;line-height:normal;font-family:Menlo,'DejaVu Sans Mono',consolas,'Courier New',monospace\">\n",
       "</pre>\n"
      ],
      "text/plain": [
       "\n"
      ]
     },
     "metadata": {},
     "output_type": "display_data"
    },
    {
     "data": {
      "text/html": [
       "<pre style=\"white-space:pre;overflow-x:auto;line-height:normal;font-family:Menlo,'DejaVu Sans Mono',consolas,'Courier New',monospace\"></pre>\n"
      ],
      "text/plain": []
     },
     "metadata": {},
     "output_type": "display_data"
    }
   ],
   "source": [
    "args = {\n",
    "    'model': 'hf/local',\n",
    "    'model_path': '/root/srf-project/playground/llama3_test_2/',\n",
    "    'device': 'auto',\n",
    "    'torch_dtype': 'auto'\n",
    "}\n",
    "\n",
    "run_eval('cpp', args, samples=120)"
   ]
  },
  {
   "cell_type": "markdown",
   "id": "d416d07d",
   "metadata": {},
   "source": [
    "## GPU Deets"
   ]
  },
  {
   "cell_type": "code",
   "execution_count": null,
   "id": "940218bc",
   "metadata": {},
   "outputs": [],
   "source": [
    "import torch as t\n",
    "import gc\n",
    "\n",
    "free_memory, total_memory = t.cuda.mem_get_info()\n",
    "\n",
    "# Convert bytes to GB\n",
    "free_memory_gb = free_memory / (1024 * 1024 * 1024)\n",
    "total_memory_gb = total_memory / (1024 * 1024 * 1024)\n",
    "mem_used = t.cuda.device_memory_used() / (1024 ** 3)\n",
    "\n",
    "print(f\"Free GPU Memory: {free_memory_gb:.2f} GB\")\n",
    "print(f\"Total GPU Memory: {total_memory_gb:.2f} GB\")\n",
    "print(f'Memory Used: {mem_used:.2f} GB')"
   ]
  },
  {
   "cell_type": "code",
   "execution_count": null,
   "id": "58a458a8",
   "metadata": {},
   "outputs": [],
   "source": [
    "print(t.cuda.memory_allocated() / 1024**2, \"MB allocated\")\n",
    "print(t.cuda.memory_reserved() / 1024**2, \"MB reserved\")"
   ]
  },
  {
   "cell_type": "code",
   "execution_count": null,
   "id": "00e20428",
   "metadata": {},
   "outputs": [],
   "source": [
    "print(t.cuda.memory_allocated() / 1024**2, \"MB allocated\")\n",
    "print(t.cuda.memory_reserved() / 1024**2, \"MB reserved\")"
   ]
  }
 ],
 "metadata": {
  "kernelspec": {
   "display_name": "srf-env",
   "language": "python",
   "name": "python3"
  },
  "language_info": {
   "codemirror_mode": {
    "name": "ipython",
    "version": 3
   },
   "file_extension": ".py",
   "mimetype": "text/x-python",
   "name": "python",
   "nbconvert_exporter": "python",
   "pygments_lexer": "ipython3",
   "version": "3.11.13"
  }
 },
 "nbformat": 4,
 "nbformat_minor": 5
}
