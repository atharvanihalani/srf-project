{
 "cells": [
  {
   "cell_type": "markdown",
   "id": "73c1567d",
   "metadata": {},
   "source": [
    "### setup"
   ]
  },
  {
   "cell_type": "code",
   "execution_count": 1,
   "id": "b4417b7b",
   "metadata": {},
   "outputs": [],
   "source": [
    "import gzip\n",
    "import json\n",
    "from typing import List\n",
    "from collections import Counter, defaultdict\n",
    "from tqdm import tqdm\n",
    "import os\n",
    "import inspect_ai\n",
    "from openai import OpenAI\n",
    "from transformers import AutoTokenizer, AutoModelForCausalLM\n",
    "from huggingface_hub import login\n",
    "from dotenv import load_dotenv\n",
    "import torch as t"
   ]
  },
  {
   "cell_type": "code",
   "execution_count": 2,
   "id": "12a53e71",
   "metadata": {},
   "outputs": [],
   "source": [
    "from inspect_ai import Task, task\n",
    "from inspect_ai.dataset import Sample, hf_dataset\n",
    "from inspect_ai.util import ExecResult, sandbox\n",
    "from inspect_ai.scorer import CORRECT, INCORRECT, Score, Scorer, Target, accuracy, scorer, stderr\n",
    "from inspect_ai.solver import TaskState, generate\n",
    "from inspect_ai.model import get_model\n",
    "import re"
   ]
  },
  {
   "cell_type": "code",
   "execution_count": 3,
   "id": "7f4a4c6e",
   "metadata": {},
   "outputs": [
    {
     "name": "stderr",
     "output_type": "stream",
     "text": [
      "Note: Environment variable`HF_TOKEN` is set and is the current active token independently from the token you've just configured.\n"
     ]
    }
   ],
   "source": [
    "load_dotenv()\n",
    "login(token = os.environ['HF_TOKEN'])"
   ]
  },
  {
   "cell_type": "markdown",
   "id": "f264e082",
   "metadata": {},
   "source": [
    "### Data Processing"
   ]
  },
  {
   "cell_type": "code",
   "execution_count": 4,
   "id": "5d97a4bb",
   "metadata": {},
   "outputs": [],
   "source": [
    "def stream_jsonl_all(filename: str):\n",
    "    results = []\n",
    "    fp = gzip.open(open(filename, \"rb\"), \"rt\")\n",
    "    for line in fp:\n",
    "        if any(not x.isspace() for x in line):\n",
    "            results.append(json.loads(line))\n",
    "    fp.close()\n",
    "\n",
    "    return results"
   ]
  },
  {
   "cell_type": "code",
   "execution_count": 5,
   "id": "e98c1d97",
   "metadata": {},
   "outputs": [],
   "source": [
    "python_content = stream_jsonl_all('data/python_data.gz')\n",
    "cpp_content = stream_jsonl_all('data/cpp_data.gz')\n",
    "go_content = stream_jsonl_all('data/go_data.gz')\n",
    "java_content = stream_jsonl_all('data/java_data.gz')\n",
    "js_content = stream_jsonl_all('data/js_data.gz')\n",
    "content = [python_content, cpp_content, go_content, java_content, js_content]"
   ]
  },
  {
   "cell_type": "code",
   "execution_count": 6,
   "id": "3f8c1e03",
   "metadata": {},
   "outputs": [
    {
     "data": {
      "text/plain": [
       "'    for idx, elem in enumerate(numbers):\\n        for idx2, elem2 in enumerate(numbers):\\n            if idx != idx2:\\n                distance = abs(elem - elem2)\\n                if distance < threshold:\\n                    return True\\n\\n    return False\\n'"
      ]
     },
     "execution_count": 6,
     "metadata": {},
     "output_type": "execute_result"
    }
   ],
   "source": [
    "generations = stream_jsonl_all('data/python_generations.gz')\n",
    "generations[0]['generation']"
   ]
  },
  {
   "cell_type": "code",
   "execution_count": 7,
   "id": "f08897aa",
   "metadata": {},
   "outputs": [
    {
     "name": "stdout",
     "output_type": "stream",
     "text": [
      "dict_keys(['task_id', 'prompt', 'canonical_solution', 'test', 'text', 'declaration', 'example_test'])\n",
      "\n",
      "dict_keys(['task_id', 'prompt', 'canonical_solution', 'test', 'declaration', 'example_test'])\n",
      "\n",
      "dict_keys(['task_id', 'prompt', 'import', 'docstring', 'declaration', 'canonical_solution', 'test', 'test_setup', 'example_test'])\n",
      "\n",
      "dict_keys(['task_id', 'prompt', 'canonical_solution', 'test', 'text', 'declaration', 'example_test'])\n",
      "\n",
      "dict_keys(['task_id', 'prompt', 'canonical_solution', 'test', 'declaration', 'example_test'])\n",
      "\n"
     ]
    }
   ],
   "source": [
    "for lang in content:\n",
    "    print(lang[0].keys())\n",
    "    print()"
   ]
  },
  {
   "cell_type": "markdown",
   "id": "560a2490",
   "metadata": {},
   "source": [
    "### LLM output => code"
   ]
  },
  {
   "cell_type": "markdown",
   "id": "6b44909f",
   "metadata": {},
   "source": [
    "#### Inspect output"
   ]
  },
  {
   "cell_type": "code",
   "execution_count": 21,
   "id": "981a5a6d",
   "metadata": {},
   "outputs": [],
   "source": [
    "openai_log = inspect_ai.log.read_eval_log('../logs/HumanEval_4o-mini.eval')\n",
    "llama_log = inspect_ai.log.read_eval_log('../logs/HumanEval_Llama-31-8b.eval')"
   ]
  },
  {
   "cell_type": "code",
   "execution_count": 26,
   "id": "79b6ca45",
   "metadata": {},
   "outputs": [
    {
     "data": {
      "text/plain": [
       "{'verify': Score(value='C', answer='    \"\"\"\\n    Separate groups of balanced parentheses from a string.\\n\\n    Args:\\n    paren_string: A string containing multiple groups of nested parentheses.\\n\\n    Returns:\\n    A list of strings where each string represents a separate group of balanced parentheses.\\n    \"\"\"\\n    result = []\\n    current_group = \\'\\'\\n    balance = 0\\n    for char in paren_string:\\n        if char == \\'(\\':\\n            balance += 1\\n            current_group += char\\n        elif char == \\')\\':\\n            balance -= 1\\n            if balance == 0:\\n                result.append(current_group + char)\\n                current_group = \\'\\'\\n            else:\\n                current_group += char\\n        if balance < 0:\\n            raise ValueError(\"Unbalanced parentheses in the input string\")\\n    if balance != 0:\\n        raise ValueError(\"Unbalanced parentheses in the input string\")\\n    return result\\n', explanation='', metadata=None)}"
      ]
     },
     "execution_count": 26,
     "metadata": {},
     "output_type": "execute_result"
    }
   ],
   "source": [
    "llama_log.samples[1].scores"
   ]
  },
  {
   "cell_type": "code",
   "execution_count": 37,
   "id": "7dab4036",
   "metadata": {},
   "outputs": [
    {
     "name": "stdout",
     "output_type": "stream",
     "text": [
      "llama 3.1 8B:\n",
      "\n",
      "```python\n",
      "from typing import List\n",
      "\n",
      "def has_close_elements(numbers: List[float], threshold: float) -> bool:\n",
      "    \"\"\"\n",
      "    Check if in given list of numbers, are any two numbers closer to each other than given threshold.\n",
      "\n",
      "    Args:\n",
      "        numbers (List[float]): A list of floating point numbers.\n",
      "        threshold (float): The minimum distance between two numbers to be considered close.\n",
      "\n",
      "    Returns:\n",
      "        bool: True if any two numbers are closer than the given threshold, False otherwise.\n",
      "    \"\"\"\n",
      "    for i in range(len(numbers)):\n",
      "        for j in range(i + 1, len(numbers)):\n",
      "            if abs(numbers[i] - numbers[j]) <= threshold:\n",
      "                return True\n",
      "    return False\n",
      "```\n"
     ]
    }
   ],
   "source": [
    "# print(f'gpt 4o-mini:\\n\\n{openai_log.samples[0].output.choices[0].message.content}')\n",
    "# print('\\n\\n')\n",
    "print(f'llama 3.1 8B:\\n\\n{llama_log.samples[0].output.choices[0].message.content}')"
   ]
  },
  {
   "cell_type": "code",
   "execution_count": null,
   "id": "eb24c792",
   "metadata": {},
   "outputs": [],
   "source": [
    "print(openai_log.samples[0].input)"
   ]
  },
  {
   "cell_type": "markdown",
   "id": "59ddf894",
   "metadata": {},
   "source": [
    "#### HumanEval-X output\n",
    "*now i have prompt template, feed it into model & look at output*"
   ]
  },
  {
   "cell_type": "code",
   "execution_count": 7,
   "id": "880f609a",
   "metadata": {},
   "outputs": [],
   "source": [
    "INSTRUCTION = \"\"\"\n",
    "Read the following function signature and docstring, and fully implement\n",
    "the function described. Your response should only contain the code for\n",
    "this function.\\n\n",
    "\"\"\"\n",
    "\n",
    "LANG_PREFIX = {\n",
    "    \"cpp\"          : \"// language: C++\",\n",
    "    \"java\"         : \"// language: Java\",\n",
    "    \"js\"           : \"// language: JavaScript\",\n",
    "    \"javascript\"   : \"// language: JavaScript\",\n",
    "    \"go\"           : \"// language: Go\",\n",
    "    \"python\"       : \"# language: Python\",\n",
    "}"
   ]
  },
  {
   "cell_type": "code",
   "execution_count": 31,
   "id": "5c32ca63",
   "metadata": {},
   "outputs": [],
   "source": [
    "my_lang = 'python'\n",
    "model_input = INSTRUCTION + LANG_PREFIX[my_lang] + '\\n' + python_content[0]['prompt'] "
   ]
  },
  {
   "cell_type": "code",
   "execution_count": 36,
   "id": "95c3020b",
   "metadata": {},
   "outputs": [
    {
     "name": "stdout",
     "output_type": "stream",
     "text": [
      "```python\n",
      "def has_close_elements(numbers: List[float], threshold: float) -> bool:\n",
      "    for i in range(len(numbers)):\n",
      "        for j in range(i + 1, len(numbers)):\n",
      "            if abs(numbers[i] - numbers[j]) < threshold:\n",
      "                return True\n",
      "    return False\n",
      "```\n"
     ]
    }
   ],
   "source": [
    "client = OpenAI()\n",
    "\n",
    "response = client.responses.create(\n",
    "  model=\"gpt-4o-mini\",\n",
    "  input=model_input\n",
    ")\n",
    "\n",
    "response_text = response.output[0].content[0].text\n",
    "\n",
    "print(response_text)"
   ]
  },
  {
   "cell_type": "code",
   "execution_count": null,
   "id": "71545e75",
   "metadata": {},
   "outputs": [],
   "source": [
    "model = AutoModelForCausalLM.from_pretrained('meta-llama/Llama-3.1-8B-Instruct', device_map='auto', torch_dtype=t.bfloat16)\n",
    "tokenizer = AutoTokenizer.from_pretrained('meta-llama/Llama-3.1-8B-Instruct', padding_side=\"left\", torch_dtype=t.bfloat16)\n",
    "tokenizer.pad_token_id = tokenizer.eos_token_id\n",
    "model.eval()"
   ]
  },
  {
   "cell_type": "code",
   "execution_count": 33,
   "id": "2831f93e",
   "metadata": {},
   "outputs": [
    {
     "name": "stderr",
     "output_type": "stream",
     "text": [
      "Setting `pad_token_id` to `eos_token_id`:128001 for open-end generation.\n"
     ]
    }
   ],
   "source": [
    "tokenized_input = tokenizer([model_input], return_tensors='pt').to('cuda')\n",
    "generated_ids = model.generate(**tokenized_input, max_new_tokens=800)\n",
    "out = tokenizer.batch_decode(generated_ids, skip_special_tokens=True)[0]"
   ]
  },
  {
   "cell_type": "code",
   "execution_count": 34,
   "id": "fc333fa0",
   "metadata": {},
   "outputs": [
    {
     "name": "stdout",
     "output_type": "stream",
     "text": [
      "\n",
      "Read the following function signature and docstring, and fully implement\n",
      "the function described. Your response should only contain the code for\n",
      "this function.\n",
      "\n",
      "# language: Python\n",
      "from typing import List\n",
      "\n",
      "\n",
      "def has_close_elements(numbers: List[float], threshold: float) -> bool:\n",
      "    \"\"\" Check if in given list of numbers, are any two numbers closer to each other than\n",
      "    given threshold.\n",
      "    >>> has_close_elements([1.0, 2.0, 3.0], 0.5)\n",
      "    False\n",
      "    >>> has_close_elements([1.0, 2.8, 3.0, 4.0, 5.0, 2.0], 0.3)\n",
      "    True\n",
      "    \"\"\"\n",
      "\n"
     ]
    }
   ],
   "source": [
    "print(model_input)"
   ]
  },
  {
   "cell_type": "code",
   "execution_count": 35,
   "id": "b6b8bcd2",
   "metadata": {},
   "outputs": [
    {
     "name": "stdout",
     "output_type": "stream",
     "text": [
      "\n",
      "Read the following function signature and docstring, and fully implement\n",
      "the function described. Your response should only contain the code for\n",
      "this function.\n",
      "\n",
      "# language: Python\n",
      "from typing import List\n",
      "\n",
      "\n",
      "def has_close_elements(numbers: List[float], threshold: float) -> bool:\n",
      "    \"\"\" Check if in given list of numbers, are any two numbers closer to each other than\n",
      "    given threshold.\n",
      "    >>> has_close_elements([1.0, 2.0, 3.0], 0.5)\n",
      "    False\n",
      "    >>> has_close_elements([1.0, 2.8, 3.0, 4.0, 5.0, 2.0], 0.3)\n",
      "    True\n",
      "    \"\"\"\n",
      "    pass\n",
      "\n",
      "# The function should return True if there are any two numbers closer to each other\n",
      "# than the threshold, and False otherwise. The function should not consider\n",
      "# duplicates in the list. It should also not consider a number with itself.\n",
      "\n",
      "# The function should work for any list of numbers and any positive threshold.\n",
      "# The function should also work for lists with less than two elements.\n",
      "# The function should also work for lists with no elements.\n",
      "\n",
      "# The function should work for any list of numbers, regardless of whether they are\n",
      "# integers or floats. The function should work for lists with negative numbers.\n",
      "# The function should work for lists with decimal numbers.\n",
      "\n",
      "# The function should work for any positive threshold. The function should not work\n",
      "# for a negative threshold, because the concept of \"closer\" does not apply to\n",
      "# negative numbers in this context.\n",
      "\n",
      "# The function should work for lists with numbers of different magnitudes. The\n",
      "# function should work for lists with numbers of the same magnitude but different\n",
      "# sign.\n",
      "\n",
      "# The function should work for lists with one element. The function should work for\n",
      "# lists with two elements.\n",
      "\n",
      "# The function should work for lists with three or more elements.\n",
      "\n",
      "# The function should work for empty lists. The function should work for lists with\n",
      "# duplicate elements.\n",
      "\n",
      "# The function should work for lists with zero.\n",
      "\n",
      "# The function should work for lists with one.\n",
      "\n",
      "# The function should work for lists with NaN.\n",
      "\n",
      "# The function should work for lists with Infinity.\n",
      "\n",
      "# The function should work for lists with negative Infinity.\n",
      "\n",
      "# The function should work for lists with a mix of these special values.\n",
      "\n",
      "def has_close_elements(numbers: List[float], threshold: float) -> bool:\n",
      "    if not numbers:\n",
      "        return False\n",
      "    if threshold <= 0:\n",
      "        raise ValueError(\"Threshold must be a positive number\")\n",
      "    numbers = sorted(set(numbers))\n",
      "    for i in range(len(numbers) - 1):\n",
      "        if numbers[i + 1] - numbers[i] < threshold:\n",
      "            return True\n",
      "    return False\n",
      "# The function has been implemented according to the specifications. It first checks\n",
      "# if the list is empty, and if so, returns False. It then checks if the threshold is\n",
      "# positive, and if not, raises a ValueError. It then removes duplicates from the\n",
      "# list by converting it to a set and sorts the list. It then iterates over the list\n",
      "# and checks if the difference between two consecutive numbers is less than the\n",
      "# threshold. If it finds such a pair, it returns True. If it doesn't find any such\n",
      "# pair after iterating over the entire list, it returns False.  # The function has\n",
      "# been implemented according to the specifications. It first checks if the list is\n",
      "# empty, and if so, returns False. It then checks if the threshold is positive, and\n",
      "# if not, raises a ValueError. It then removes duplicates from the list by\n",
      "# converting it to a set and sorts the list. It then iterates over the list and\n",
      "# checks if the difference between two consecutive numbers is less than the\n",
      "# threshold. If it finds such a pair, it returns True. If it doesn't find any such\n",
      "# pair after iterating over the entire list, it returns False. \n",
      "# The function has been implemented according to the specifications. It first checks\n",
      "# if the list is empty, and if so, returns False. It then checks if the threshold is\n",
      "# positive, and if not, raises a ValueError. It then removes duplicates from the\n",
      "# list by converting it to a set and sorts the list. It then iterates over the list\n",
      "# and checks if the difference between two consecutive numbers is less than the\n",
      "# threshold. If it finds such a pair, it returns True. If it doesn't find any such\n",
      "# pair after iterating over the entire list, it returns False\n"
     ]
    }
   ],
   "source": [
    "print(out)"
   ]
  },
  {
   "cell_type": "code",
   "execution_count": null,
   "id": "2297de6c",
   "metadata": {},
   "outputs": [],
   "source": [
    "# generate this from model now lol.\n",
    "# dont be pussy.\n",
    "# two things. one generate from openai model\n",
    "# two, generate from hf model"
   ]
  },
  {
   "cell_type": "markdown",
   "id": "b8551c95",
   "metadata": {},
   "source": [
    "relevant?\n",
    "- task id \n",
    "- prompt\n",
    "- canonical solution"
   ]
  },
  {
   "cell_type": "code",
   "execution_count": 28,
   "id": "4428ece3",
   "metadata": {},
   "outputs": [
    {
     "data": {
      "text/plain": [
       "{'task_id': 'Python/0',\n",
       " 'prompt': 'from typing import List\\n\\n\\ndef has_close_elements(numbers: List[float], threshold: float) -> bool:\\n    \"\"\" Check if in given list of numbers, are any two numbers closer to each other than\\n    given threshold.\\n    >>> has_close_elements([1.0, 2.0, 3.0], 0.5)\\n    False\\n    >>> has_close_elements([1.0, 2.8, 3.0, 4.0, 5.0, 2.0], 0.3)\\n    True\\n    \"\"\"\\n',\n",
       " 'canonical_solution': '    for idx, elem in enumerate(numbers):\\n        for idx2, elem2 in enumerate(numbers):\\n            if idx != idx2:\\n                distance = abs(elem - elem2)\\n                if distance < threshold:\\n                    return True\\n\\n    return False\\n',\n",
       " 'test': \"\\n\\nMETADATA = {\\n    'author': 'jt',\\n    'dataset': 'test'\\n}\\n\\n\\ndef check(has_close_elements):\\n    assert has_close_elements([1.0, 2.0, 3.9, 4.0, 5.0, 2.2], 0.3) == True\\n    assert has_close_elements([1.0, 2.0, 3.9, 4.0, 5.0, 2.2], 0.05) == False\\n    assert has_close_elements([1.0, 2.0, 5.9, 4.0, 5.0], 0.95) == True\\n    assert has_close_elements([1.0, 2.0, 5.9, 4.0, 5.0], 0.8) == False\\n    assert has_close_elements([1.0, 2.0, 3.0, 4.0, 5.0, 2.0], 0.1) == True\\n    assert has_close_elements([1.1, 2.2, 3.1, 4.1, 5.1], 1.0) == True\\n    assert has_close_elements([1.1, 2.2, 3.1, 4.1, 5.1], 0.5) == False\\n\\ncheck(has_close_elements)\",\n",
       " 'text': '    Check if in given list of numbers, are any two numbers closer to each other than\\n    given threshold.\\n    >>> has_close_elements([1.0, 2.0, 3.0], 0.5)\\n    False\\n    >>> has_close_elements([1.0, 2.8, 3.0, 4.0, 5.0, 2.0], 0.3)\\n    True',\n",
       " 'declaration': 'from typing import List\\n\\n\\ndef has_close_elements(numbers: List[float], threshold: float) -> bool:\\n',\n",
       " 'example_test': 'def check(has_close_elements):\\n    assert has_close_elements([1.0, 2.0, 3.0], 0.5) == False\\n    assert has_close_elements([1.0, 2.8, 3.0, 4.0, 5.0, 2.0], 0.3) == True\\ncheck(has_close_elements)\\n'}"
      ]
     },
     "execution_count": 28,
     "metadata": {},
     "output_type": "execute_result"
    }
   ],
   "source": [
    "python_content[0]"
   ]
  },
  {
   "cell_type": "code",
   "execution_count": null,
   "id": "14e61e17",
   "metadata": {},
   "outputs": [
    {
     "name": "stdout",
     "output_type": "stream",
     "text": [
      "\n",
      "\n",
      "METADATA = {\n",
      "    'author': 'jt',\n",
      "    'dataset': 'test'\n",
      "}\n",
      "\n",
      "\n",
      "def check(has_close_elements):\n",
      "    assert has_close_elements([1.0, 2.0, 3.9, 4.0, 5.0, 2.2], 0.3) == True\n",
      "    assert has_close_elements([1.0, 2.0, 3.9, 4.0, 5.0, 2.2], 0.05) == False\n",
      "    assert has_close_elements([1.0, 2.0, 5.9, 4.0, 5.0], 0.95) == True\n",
      "    assert has_close_elements([1.0, 2.0, 5.9, 4.0, 5.0], 0.8) == False\n",
      "    assert has_close_elements([1.0, 2.0, 3.0, 4.0, 5.0, 2.0], 0.1) == True\n",
      "    assert has_close_elements([1.1, 2.2, 3.1, 4.1, 5.1], 1.0) == True\n",
      "    assert has_close_elements([1.1, 2.2, 3.1, 4.1, 5.1], 0.5) == False\n",
      "\n",
      "check(has_close_elements)\n"
     ]
    }
   ],
   "source": [
    "# testing, python stuff\n",
    "for sample in python_content:\n",
    "    task_id = sample['task_id']\n",
    "    language = task_id.split('/')[0].lower()\n",
    "\n",
    "    prompt = sample['prompt']\n",
    "    test = python_content[0]['test']\n",
    "    break\n",
    "    # code = "
   ]
  },
  {
   "cell_type": "markdown",
   "id": "e9a55013",
   "metadata": {},
   "source": [
    "### Execute Code"
   ]
  },
  {
   "cell_type": "code",
   "execution_count": 8,
   "id": "278680be",
   "metadata": {},
   "outputs": [],
   "source": [
    "# cool. i can go from dataset to executable code.\n",
    "# now, I need to figure how to execute this code."
   ]
  },
  {
   "cell_type": "code",
   "execution_count": null,
   "id": "1a4455d5",
   "metadata": {},
   "outputs": [],
   "source": [
    "# this works for python. need to test for other languages.\n",
    "\n",
    "def get_executable_code(records):\n",
    "    code_list = []\n",
    "    for record in records:\n",
    "        code = [\n",
    "            record['prompt'],\n",
    "            record['canonical_solution'],\n",
    "            record['test']\n",
    "        ]\n",
    "\n",
    "        # wonky Go code. make neat later.\n",
    "        if 'test_setup' in record.keys():\n",
    "            code.insert(0, record['test_setup'])\n",
    "        code_list.append(''.join(code))\n",
    "    \n",
    "    return code_list\n",
    "\n",
    "def get_code_idx(idx):\n",
    "    out = get_executable_code(go_content[idx:idx+1])\n",
    "    return out[0]"
   ]
  },
  {
   "cell_type": "code",
   "execution_count": 42,
   "id": "b664f865",
   "metadata": {},
   "outputs": [],
   "source": [
    "def get_go_stuff(idx):\n",
    "    record = go_content[idx]\n",
    "    main = [\n",
    "        'package main\\n\\n',\n",
    "        record['prompt'],\n",
    "        record['canonical_solution'],\n",
    "    ]\n",
    "    test = [\n",
    "        record['test_setup'],\n",
    "        '\\n',\n",
    "        record['test'],\n",
    "    ]\n",
    "\n",
    "    main_file = ''.join(main)\n",
    "    test_file = ''.join(test)\n",
    "\n",
    "    return main_file, test_file"
   ]
  },
  {
   "cell_type": "code",
   "execution_count": 53,
   "id": "71ac47e2",
   "metadata": {},
   "outputs": [],
   "source": [
    "@scorer(metrics=[accuracy(), stderr()])\n",
    "def go_scorer() -> Scorer:\n",
    "    async def score(state: TaskState, target: Target) -> Score:\n",
    "        task_id = state.sample_id\n",
    "        idx = int(task_id.split('/')[1])\n",
    "        main, test = get_go_stuff(idx)\n",
    "\n",
    "        main_file = 'tmp/main.go'\n",
    "        test_file = 'tmp/main_test.go'\n",
    "        with open(main_file, 'w') as file:\n",
    "            file.write(main)\n",
    "        with open(test_file, 'w') as file:\n",
    "            file.write(test)\n",
    "\n",
    "        try:\n",
    "            result = await sandbox().exec(\n",
    "                cmd=[\"/usr/local/go/bin/go\", \"test\", test_file],\n",
    "                timeout=30,\n",
    "            )\n",
    "        except TimeoutError:\n",
    "            result = ExecResult(False, 1, \"\", \"Verification timed out.\")\n",
    "\n",
    "        return Score(\n",
    "            value=CORRECT if result.success else INCORRECT,\n",
    "            explanation=\"\".join(\n",
    "                [\"The following verification code was executed:\\n\\n\"]\n",
    "                + [\"```python\\n\\n\"]\n",
    "                + [\"\\n```\\n\"]\n",
    "                + [f\"\\nThe submission was incorrect\\n\\n{result.stderr}\"]\n",
    "                if not result.success\n",
    "                else [\"\"]\n",
    "            ),\n",
    "        )\n",
    "\n",
    "    return score"
   ]
  },
  {
   "cell_type": "code",
   "execution_count": 54,
   "id": "0f69685d",
   "metadata": {},
   "outputs": [],
   "source": [
    "def humaneval_record_to_sample(record):\n",
    "    model_input = 'hello world'\n",
    "    \n",
    "    return Sample(\n",
    "        id=record[\"task_id\"],\n",
    "        input=model_input,\n",
    "        target=record[\"canonical_solution\"],\n",
    "        metadata={\n",
    "            \"prompt\": record[\"prompt\"],\n",
    "            \"test\": record[\"test\"],\n",
    "            \"entry_point\": record[\"entry_point\"],\n",
    "        },\n",
    "    )\n",
    "\n",
    "humaneval_dataset = hf_dataset(\n",
    "    path = 'openai_humaneval',\n",
    "    split = 'test',\n",
    "    sample_fields = humaneval_record_to_sample,\n",
    "    trust = True,\n",
    ")"
   ]
  },
  {
   "cell_type": "code",
   "execution_count": 56,
   "id": "fb5e9b09",
   "metadata": {},
   "outputs": [],
   "source": [
    "@task\n",
    "def humaneval():\n",
    "    return Task(\n",
    "        dataset = humaneval_dataset,\n",
    "        solver = generate(),\n",
    "        scorer = go_scorer(),\n",
    "        sandbox = 'local',\n",
    "    )"
   ]
  },
  {
   "cell_type": "code",
   "execution_count": 57,
   "id": "7bc9fb60",
   "metadata": {},
   "outputs": [
    {
     "data": {
      "application/vnd.jupyter.widget-view+json": {
       "model_id": "b7dd1d9627af48e9baba8fb3b93fa436",
       "version_major": 2,
       "version_minor": 0
      },
      "text/plain": [
       "Output()"
      ]
     },
     "metadata": {},
     "output_type": "display_data"
    },
    {
     "data": {
      "text/html": [
       "<pre style=\"white-space:pre;overflow-x:auto;line-height:normal;font-family:Menlo,'DejaVu Sans Mono',consolas,'Courier New',monospace\"><span style=\"color: #800000; text-decoration-color: #800000\">┌────────────────────────────────────── </span><span style=\"color: #800000; text-decoration-color: #800000; font-weight: bold\">Traceback </span><span style=\"color: #bf7f7f; text-decoration-color: #bf7f7f; font-weight: bold\">(most recent call last)</span><span style=\"color: #800000; text-decoration-color: #800000\"> ───────────────────────────────────────┐</span>\n",
       "<span style=\"color: #800000; text-decoration-color: #800000\">│</span> <span style=\"color: #bfbf7f; text-decoration-color: #bfbf7f\">/root/miniconda3/envs/srf-env/lib/python3.11/site-packages/inspect_ai/_eval/task/</span><span style=\"color: #808000; text-decoration-color: #808000; font-weight: bold\">run.py</span>:<span style=\"color: #0000ff; text-decoration-color: #0000ff\">723</span> in <span style=\"color: #00ff00; text-decoration-color: #00ff00\">task_run_sample</span> <span style=\"color: #800000; text-decoration-color: #800000\">│</span>\n",
       "<span style=\"color: #800000; text-decoration-color: #800000\">│</span>                                                                                                                <span style=\"color: #800000; text-decoration-color: #800000\">│</span>\n",
       "<span style=\"color: #800000; text-decoration-color: #800000\">│</span> <span style=\"color: #bfbf7f; text-decoration-color: #bfbf7f\">/root/miniconda3/envs/srf-env/lib/python3.11/site-packages/inspect_ai/solver/</span><span style=\"color: #808000; text-decoration-color: #808000; font-weight: bold\">_plan.py</span>:<span style=\"color: #0000ff; text-decoration-color: #0000ff\">105</span> in <span style=\"color: #00ff00; text-decoration-color: #00ff00\">__call__</span>          <span style=\"color: #800000; text-decoration-color: #800000\">│</span>\n",
       "<span style=\"color: #800000; text-decoration-color: #800000\">│</span>                                                                                                                <span style=\"color: #800000; text-decoration-color: #800000\">│</span>\n",
       "<span style=\"color: #800000; text-decoration-color: #800000\">│</span> <span style=\"color: #bfbf7f; text-decoration-color: #bfbf7f\">/root/miniconda3/envs/srf-env/lib/python3.11/</span><span style=\"color: #808000; text-decoration-color: #808000; font-weight: bold\">contextlib.py</span>:<span style=\"color: #0000ff; text-decoration-color: #0000ff\">210</span> in <span style=\"color: #00ff00; text-decoration-color: #00ff00\">__aenter__</span>                                   <span style=\"color: #800000; text-decoration-color: #800000\">│</span>\n",
       "<span style=\"color: #800000; text-decoration-color: #800000\">│</span>                                                                                                                <span style=\"color: #800000; text-decoration-color: #800000\">│</span>\n",
       "<span style=\"color: #800000; text-decoration-color: #800000\">│</span>   <span style=\"color: #7f7f7f; text-decoration-color: #7f7f7f\">207 </span><span style=\"color: #7f7f7f; text-decoration-color: #7f7f7f\">│   │   </span><span style=\"color: #7f7f7f; text-decoration-color: #7f7f7f\"># they are only needed for recreation, which is not possible anymore</span>                             <span style=\"color: #800000; text-decoration-color: #800000\">│</span>\n",
       "<span style=\"color: #800000; text-decoration-color: #800000\">│</span>   <span style=\"color: #7f7f7f; text-decoration-color: #7f7f7f\">208 </span><span style=\"color: #7f7f7f; text-decoration-color: #7f7f7f\">│   │   </span><span style=\"color: #0000ff; text-decoration-color: #0000ff\">del</span> <span style=\"color: #00ffff; text-decoration-color: #00ffff\">self</span>.args, <span style=\"color: #00ffff; text-decoration-color: #00ffff\">self</span>.kwds, <span style=\"color: #00ffff; text-decoration-color: #00ffff\">self</span>.func                                                              <span style=\"color: #800000; text-decoration-color: #800000\">│</span>\n",
       "<span style=\"color: #800000; text-decoration-color: #800000\">│</span>   <span style=\"color: #7f7f7f; text-decoration-color: #7f7f7f\">209 </span><span style=\"color: #7f7f7f; text-decoration-color: #7f7f7f\">│   │   </span><span style=\"color: #0000ff; text-decoration-color: #0000ff\">try</span>:                                                                                             <span style=\"color: #800000; text-decoration-color: #800000\">│</span>\n",
       "<span style=\"color: #800000; text-decoration-color: #800000\">│</span> <span style=\"color: #800000; text-decoration-color: #800000\">&gt; </span>210 <span style=\"color: #7f7f7f; text-decoration-color: #7f7f7f\">│   │   │   </span><span style=\"color: #0000ff; text-decoration-color: #0000ff\">return</span> <span style=\"color: #0000ff; text-decoration-color: #0000ff\">await</span> anext(<span style=\"color: #00ffff; text-decoration-color: #00ffff\">self</span>.gen)                                                                 <span style=\"color: #800000; text-decoration-color: #800000\">│</span>\n",
       "<span style=\"color: #800000; text-decoration-color: #800000\">│</span>   <span style=\"color: #7f7f7f; text-decoration-color: #7f7f7f\">211 </span><span style=\"color: #7f7f7f; text-decoration-color: #7f7f7f\">│   │   </span><span style=\"color: #0000ff; text-decoration-color: #0000ff; font-weight: bold; text-decoration: underline\">except</span><span style=\"font-weight: bold; text-decoration: underline\"> </span><span style=\"color: #00ffff; text-decoration-color: #00ffff; font-weight: bold; text-decoration: underline\">StopAsyncIteration</span><span style=\"font-weight: bold; text-decoration: underline\">:</span>                                                                       <span style=\"color: #800000; text-decoration-color: #800000\">│</span>\n",
       "<span style=\"color: #800000; text-decoration-color: #800000\">│</span>   <span style=\"color: #7f7f7f; text-decoration-color: #7f7f7f\">212 </span><span style=\"color: #7f7f7f; text-decoration-color: #7f7f7f; font-weight: bold; text-decoration: underline\">│   │   │   </span><span style=\"color: #0000ff; text-decoration-color: #0000ff; font-weight: bold; text-decoration: underline\">raise</span><span style=\"font-weight: bold; text-decoration: underline\"> </span><span style=\"color: #00ffff; text-decoration-color: #00ffff; font-weight: bold; text-decoration: underline\">RuntimeError</span><span style=\"font-weight: bold; text-decoration: underline\">(</span><span style=\"color: #808000; text-decoration-color: #808000; font-weight: bold; text-decoration: underline\">\"generator didn't yield\"</span><span style=\"font-weight: bold; text-decoration: underline\">) </span><span style=\"color: #0000ff; text-decoration-color: #0000ff; font-weight: bold; text-decoration: underline\">from</span><span style=\"color: #808080; text-decoration-color: #808080; font-weight: bold; text-decoration: underline\"> </span><span style=\"color: #0000ff; text-decoration-color: #0000ff; font-weight: bold; text-decoration: underline\">None</span>                                       <span style=\"color: #800000; text-decoration-color: #800000\">│</span>\n",
       "<span style=\"color: #800000; text-decoration-color: #800000\">│</span>   <span style=\"color: #7f7f7f; text-decoration-color: #7f7f7f\">213 </span>                                                                                                         <span style=\"color: #800000; text-decoration-color: #800000\">│</span>\n",
       "<span style=\"color: #800000; text-decoration-color: #800000\">│</span>                                                                                                                <span style=\"color: #800000; text-decoration-color: #800000\">│</span>\n",
       "<span style=\"color: #800000; text-decoration-color: #800000\">│</span> <span style=\"color: #bfbf7f; text-decoration-color: #bfbf7f\">/root/miniconda3/envs/srf-env/lib/python3.11/site-packages/inspect_ai/solver/</span><span style=\"color: #808000; text-decoration-color: #808000; font-weight: bold\">_transcript.py</span>:<span style=\"color: #0000ff; text-decoration-color: #0000ff\">31</span> in              <span style=\"color: #800000; text-decoration-color: #800000\">│</span>\n",
       "<span style=\"color: #800000; text-decoration-color: #800000\">│</span> <span style=\"color: #00ff00; text-decoration-color: #00ff00\">solver_transcript</span>                                                                                              <span style=\"color: #800000; text-decoration-color: #800000\">│</span>\n",
       "<span style=\"color: #800000; text-decoration-color: #800000\">│</span>                                                                                                                <span style=\"color: #800000; text-decoration-color: #800000\">│</span>\n",
       "<span style=\"color: #800000; text-decoration-color: #800000\">│</span> <span style=\"color: #bfbf7f; text-decoration-color: #bfbf7f\">/root/miniconda3/envs/srf-env/lib/python3.11/</span><span style=\"color: #808000; text-decoration-color: #808000; font-weight: bold\">contextlib.py</span>:<span style=\"color: #0000ff; text-decoration-color: #0000ff\">210</span> in <span style=\"color: #00ff00; text-decoration-color: #00ff00\">__aenter__</span>                                   <span style=\"color: #800000; text-decoration-color: #800000\">│</span>\n",
       "<span style=\"color: #800000; text-decoration-color: #800000\">│</span>                                                                                                                <span style=\"color: #800000; text-decoration-color: #800000\">│</span>\n",
       "<span style=\"color: #800000; text-decoration-color: #800000\">│</span>   <span style=\"color: #7f7f7f; text-decoration-color: #7f7f7f\">207 </span><span style=\"color: #7f7f7f; text-decoration-color: #7f7f7f\">│   │   </span><span style=\"color: #7f7f7f; text-decoration-color: #7f7f7f\"># they are only needed for recreation, which is not possible anymore</span>                             <span style=\"color: #800000; text-decoration-color: #800000\">│</span>\n",
       "<span style=\"color: #800000; text-decoration-color: #800000\">│</span>   <span style=\"color: #7f7f7f; text-decoration-color: #7f7f7f\">208 </span><span style=\"color: #7f7f7f; text-decoration-color: #7f7f7f\">│   │   </span><span style=\"color: #0000ff; text-decoration-color: #0000ff\">del</span> <span style=\"color: #00ffff; text-decoration-color: #00ffff\">self</span>.args, <span style=\"color: #00ffff; text-decoration-color: #00ffff\">self</span>.kwds, <span style=\"color: #00ffff; text-decoration-color: #00ffff\">self</span>.func                                                              <span style=\"color: #800000; text-decoration-color: #800000\">│</span>\n",
       "<span style=\"color: #800000; text-decoration-color: #800000\">│</span>   <span style=\"color: #7f7f7f; text-decoration-color: #7f7f7f\">209 </span><span style=\"color: #7f7f7f; text-decoration-color: #7f7f7f\">│   │   </span><span style=\"color: #0000ff; text-decoration-color: #0000ff\">try</span>:                                                                                             <span style=\"color: #800000; text-decoration-color: #800000\">│</span>\n",
       "<span style=\"color: #800000; text-decoration-color: #800000\">│</span> <span style=\"color: #800000; text-decoration-color: #800000\">&gt; </span>210 <span style=\"color: #7f7f7f; text-decoration-color: #7f7f7f\">│   │   │   </span><span style=\"color: #0000ff; text-decoration-color: #0000ff\">return</span> <span style=\"color: #0000ff; text-decoration-color: #0000ff\">await</span> anext(<span style=\"color: #00ffff; text-decoration-color: #00ffff\">self</span>.gen)                                                                 <span style=\"color: #800000; text-decoration-color: #800000\">│</span>\n",
       "<span style=\"color: #800000; text-decoration-color: #800000\">│</span>   <span style=\"color: #7f7f7f; text-decoration-color: #7f7f7f\">211 </span><span style=\"color: #7f7f7f; text-decoration-color: #7f7f7f\">│   │   </span><span style=\"color: #0000ff; text-decoration-color: #0000ff; font-weight: bold; text-decoration: underline\">except</span><span style=\"font-weight: bold; text-decoration: underline\"> </span><span style=\"color: #00ffff; text-decoration-color: #00ffff; font-weight: bold; text-decoration: underline\">StopAsyncIteration</span><span style=\"font-weight: bold; text-decoration: underline\">:</span>                                                                       <span style=\"color: #800000; text-decoration-color: #800000\">│</span>\n",
       "<span style=\"color: #800000; text-decoration-color: #800000\">│</span>   <span style=\"color: #7f7f7f; text-decoration-color: #7f7f7f\">212 </span><span style=\"color: #7f7f7f; text-decoration-color: #7f7f7f; font-weight: bold; text-decoration: underline\">│   │   │   </span><span style=\"color: #0000ff; text-decoration-color: #0000ff; font-weight: bold; text-decoration: underline\">raise</span><span style=\"font-weight: bold; text-decoration: underline\"> </span><span style=\"color: #00ffff; text-decoration-color: #00ffff; font-weight: bold; text-decoration: underline\">RuntimeError</span><span style=\"font-weight: bold; text-decoration: underline\">(</span><span style=\"color: #808000; text-decoration-color: #808000; font-weight: bold; text-decoration: underline\">\"generator didn't yield\"</span><span style=\"font-weight: bold; text-decoration: underline\">) </span><span style=\"color: #0000ff; text-decoration-color: #0000ff; font-weight: bold; text-decoration: underline\">from</span><span style=\"color: #808080; text-decoration-color: #808080; font-weight: bold; text-decoration: underline\"> </span><span style=\"color: #0000ff; text-decoration-color: #0000ff; font-weight: bold; text-decoration: underline\">None</span>                                       <span style=\"color: #800000; text-decoration-color: #800000\">│</span>\n",
       "<span style=\"color: #800000; text-decoration-color: #800000\">│</span>   <span style=\"color: #7f7f7f; text-decoration-color: #7f7f7f\">213 </span>                                                                                                         <span style=\"color: #800000; text-decoration-color: #800000\">│</span>\n",
       "<span style=\"color: #800000; text-decoration-color: #800000\">│</span>                                                                                                                <span style=\"color: #800000; text-decoration-color: #800000\">│</span>\n",
       "<span style=\"color: #800000; text-decoration-color: #800000\">│</span> <span style=\"color: #bfbf7f; text-decoration-color: #bfbf7f\">/root/miniconda3/envs/srf-env/lib/python3.11/site-packages/inspect_ai/util/</span><span style=\"color: #808000; text-decoration-color: #808000; font-weight: bold\">_span.py</span>:<span style=\"color: #0000ff; text-decoration-color: #0000ff\">30</span> in <span style=\"color: #00ff00; text-decoration-color: #00ff00\">span</span>                 <span style=\"color: #800000; text-decoration-color: #800000\">│</span>\n",
       "<span style=\"color: #800000; text-decoration-color: #800000\">│</span>                                                                                                                <span style=\"color: #800000; text-decoration-color: #800000\">│</span>\n",
       "<span style=\"color: #800000; text-decoration-color: #800000\">│</span> <span style=\"color: #bfbf7f; text-decoration-color: #bfbf7f\">/root/miniconda3/envs/srf-env/lib/python3.11/</span><span style=\"color: #808000; text-decoration-color: #808000; font-weight: bold\">inspect.py</span>:<span style=\"color: #0000ff; text-decoration-color: #0000ff\">1751</span> in <span style=\"color: #00ff00; text-decoration-color: #00ff00\">stack</span>                                          <span style=\"color: #800000; text-decoration-color: #800000\">│</span>\n",
       "<span style=\"color: #800000; text-decoration-color: #800000\">│</span>                                                                                                                <span style=\"color: #800000; text-decoration-color: #800000\">│</span>\n",
       "<span style=\"color: #800000; text-decoration-color: #800000\">│</span>   <span style=\"color: #7f7f7f; text-decoration-color: #7f7f7f\">1748 </span>                                                                                                        <span style=\"color: #800000; text-decoration-color: #800000\">│</span>\n",
       "<span style=\"color: #800000; text-decoration-color: #800000\">│</span>   <span style=\"color: #7f7f7f; text-decoration-color: #7f7f7f\">1749 </span><span style=\"color: #0000ff; text-decoration-color: #0000ff\">def</span><span style=\"color: #808080; text-decoration-color: #808080\"> </span><span style=\"color: #00ff00; text-decoration-color: #00ff00\">stack</span>(context=<span style=\"color: #0000ff; text-decoration-color: #0000ff\">1</span>):                                                                                   <span style=\"color: #800000; text-decoration-color: #800000\">│</span>\n",
       "<span style=\"color: #800000; text-decoration-color: #800000\">│</span>   <span style=\"color: #7f7f7f; text-decoration-color: #7f7f7f\">1750 </span><span style=\"color: #bfbfbf; text-decoration-color: #bfbfbf\">│   </span><span style=\"color: #808000; text-decoration-color: #808000\">\"\"\"Return a list of records for the stack above the caller's frame.\"\"\"</span>                              <span style=\"color: #800000; text-decoration-color: #800000\">│</span>\n",
       "<span style=\"color: #800000; text-decoration-color: #800000\">│</span> <span style=\"color: #800000; text-decoration-color: #800000\">&gt; </span>1751 <span style=\"color: #7f7f7f; text-decoration-color: #7f7f7f\">│   </span><span style=\"color: #0000ff; text-decoration-color: #0000ff\">return</span> <span style=\"font-weight: bold; text-decoration: underline\">getouterframes(sys._getframe(</span><span style=\"color: #0000ff; text-decoration-color: #0000ff; font-weight: bold; text-decoration: underline\">1</span><span style=\"font-weight: bold; text-decoration: underline\">), context)</span>                                                    <span style=\"color: #800000; text-decoration-color: #800000\">│</span>\n",
       "<span style=\"color: #800000; text-decoration-color: #800000\">│</span>   <span style=\"color: #7f7f7f; text-decoration-color: #7f7f7f\">1752 </span>                                                                                                        <span style=\"color: #800000; text-decoration-color: #800000\">│</span>\n",
       "<span style=\"color: #800000; text-decoration-color: #800000\">│</span>   <span style=\"color: #7f7f7f; text-decoration-color: #7f7f7f\">1753 </span><span style=\"color: #0000ff; text-decoration-color: #0000ff\">def</span><span style=\"color: #808080; text-decoration-color: #808080\"> </span><span style=\"color: #00ff00; text-decoration-color: #00ff00\">trace</span>(context=<span style=\"color: #0000ff; text-decoration-color: #0000ff\">1</span>):                                                                                   <span style=\"color: #800000; text-decoration-color: #800000\">│</span>\n",
       "<span style=\"color: #800000; text-decoration-color: #800000\">│</span>   <span style=\"color: #7f7f7f; text-decoration-color: #7f7f7f\">1754 </span><span style=\"color: #bfbfbf; text-decoration-color: #bfbfbf\">│   </span><span style=\"color: #808000; text-decoration-color: #808000\">\"\"\"Return a list of records for the stack below the current exception.\"\"\"</span>                           <span style=\"color: #800000; text-decoration-color: #800000\">│</span>\n",
       "<span style=\"color: #800000; text-decoration-color: #800000\">│</span>                                                                                                                <span style=\"color: #800000; text-decoration-color: #800000\">│</span>\n",
       "<span style=\"color: #800000; text-decoration-color: #800000\">│</span> <span style=\"color: #bfbf7f; text-decoration-color: #bfbf7f\">/root/miniconda3/envs/srf-env/lib/python3.11/</span><span style=\"color: #808000; text-decoration-color: #808000; font-weight: bold\">inspect.py</span>:<span style=\"color: #0000ff; text-decoration-color: #0000ff\">1726</span> in <span style=\"color: #00ff00; text-decoration-color: #00ff00\">getouterframes</span>                                 <span style=\"color: #800000; text-decoration-color: #800000\">│</span>\n",
       "<span style=\"color: #800000; text-decoration-color: #800000\">│</span>                                                                                                                <span style=\"color: #800000; text-decoration-color: #800000\">│</span>\n",
       "<span style=\"color: #800000; text-decoration-color: #800000\">│</span>   <span style=\"color: #7f7f7f; text-decoration-color: #7f7f7f\">1723 </span><span style=\"color: #bfbf7f; text-decoration-color: #bfbf7f\">│   </span><span style=\"color: #808000; text-decoration-color: #808000\">name, a list of lines of context, and index within the context.\"\"\"</span>                                  <span style=\"color: #800000; text-decoration-color: #800000\">│</span>\n",
       "<span style=\"color: #800000; text-decoration-color: #800000\">│</span>   <span style=\"color: #7f7f7f; text-decoration-color: #7f7f7f\">1724 </span><span style=\"color: #7f7f7f; text-decoration-color: #7f7f7f\">│   </span>framelist = []                                                                                      <span style=\"color: #800000; text-decoration-color: #800000\">│</span>\n",
       "<span style=\"color: #800000; text-decoration-color: #800000\">│</span>   <span style=\"color: #7f7f7f; text-decoration-color: #7f7f7f\">1725 </span><span style=\"color: #7f7f7f; text-decoration-color: #7f7f7f\">│   </span><span style=\"color: #0000ff; text-decoration-color: #0000ff\">while</span> frame:                                                                                        <span style=\"color: #800000; text-decoration-color: #800000\">│</span>\n",
       "<span style=\"color: #800000; text-decoration-color: #800000\">│</span> <span style=\"color: #800000; text-decoration-color: #800000\">&gt; </span>1726 <span style=\"color: #7f7f7f; text-decoration-color: #7f7f7f\">│   │   </span>traceback_info = <span style=\"font-weight: bold; text-decoration: underline\">getframeinfo(frame, context)</span>                                                   <span style=\"color: #800000; text-decoration-color: #800000\">│</span>\n",
       "<span style=\"color: #800000; text-decoration-color: #800000\">│</span>   <span style=\"color: #7f7f7f; text-decoration-color: #7f7f7f\">1727 </span><span style=\"color: #7f7f7f; text-decoration-color: #7f7f7f\">│   │   </span>frameinfo = (frame,) + traceback_info                                                           <span style=\"color: #800000; text-decoration-color: #800000\">│</span>\n",
       "<span style=\"color: #800000; text-decoration-color: #800000\">│</span>   <span style=\"color: #7f7f7f; text-decoration-color: #7f7f7f\">1728 </span><span style=\"color: #7f7f7f; text-decoration-color: #7f7f7f\">│   │   </span>framelist.append(FrameInfo(*frameinfo, positions=traceback_info.positions))                     <span style=\"color: #800000; text-decoration-color: #800000\">│</span>\n",
       "<span style=\"color: #800000; text-decoration-color: #800000\">│</span>   <span style=\"color: #7f7f7f; text-decoration-color: #7f7f7f\">1729 </span><span style=\"color: #7f7f7f; text-decoration-color: #7f7f7f\">│   │   </span>frame = frame.f_back                                                                            <span style=\"color: #800000; text-decoration-color: #800000\">│</span>\n",
       "<span style=\"color: #800000; text-decoration-color: #800000\">│</span>                                                                                                                <span style=\"color: #800000; text-decoration-color: #800000\">│</span>\n",
       "<span style=\"color: #800000; text-decoration-color: #800000\">│</span> <span style=\"color: #bfbf7f; text-decoration-color: #bfbf7f\">/root/miniconda3/envs/srf-env/lib/python3.11/</span><span style=\"color: #808000; text-decoration-color: #808000; font-weight: bold\">inspect.py</span>:<span style=\"color: #0000ff; text-decoration-color: #0000ff\">1684</span> in <span style=\"color: #00ff00; text-decoration-color: #00ff00\">getframeinfo</span>                                   <span style=\"color: #800000; text-decoration-color: #800000\">│</span>\n",
       "<span style=\"color: #800000; text-decoration-color: #800000\">│</span>                                                                                                                <span style=\"color: #800000; text-decoration-color: #800000\">│</span>\n",
       "<span style=\"color: #800000; text-decoration-color: #800000\">│</span>   <span style=\"color: #7f7f7f; text-decoration-color: #7f7f7f\">1681 </span><span style=\"color: #7f7f7f; text-decoration-color: #7f7f7f\">│   </span><span style=\"color: #0000ff; text-decoration-color: #0000ff\">if</span> <span style=\"color: #ff00ff; text-decoration-color: #ff00ff\">not</span> isframe(frame):                                                                              <span style=\"color: #800000; text-decoration-color: #800000\">│</span>\n",
       "<span style=\"color: #800000; text-decoration-color: #800000\">│</span>   <span style=\"color: #7f7f7f; text-decoration-color: #7f7f7f\">1682 </span><span style=\"color: #7f7f7f; text-decoration-color: #7f7f7f\">│   │   </span><span style=\"color: #0000ff; text-decoration-color: #0000ff\">raise</span> <span style=\"color: #00ffff; text-decoration-color: #00ffff\">TypeError</span>(<span style=\"color: #808000; text-decoration-color: #808000\">'{!r} is not a frame or traceback object'</span>.format(frame))                        <span style=\"color: #800000; text-decoration-color: #800000\">│</span>\n",
       "<span style=\"color: #800000; text-decoration-color: #800000\">│</span>   <span style=\"color: #7f7f7f; text-decoration-color: #7f7f7f\">1683 </span><span style=\"color: #7f7f7f; text-decoration-color: #7f7f7f\">│   </span>                                                                                                    <span style=\"color: #800000; text-decoration-color: #800000\">│</span>\n",
       "<span style=\"color: #800000; text-decoration-color: #800000\">│</span> <span style=\"color: #800000; text-decoration-color: #800000\">&gt; </span>1684 <span style=\"color: #7f7f7f; text-decoration-color: #7f7f7f\">│   </span>filename = <span style=\"font-weight: bold; text-decoration: underline\">getsourcefile(frame)</span> <span style=\"color: #ff00ff; text-decoration-color: #ff00ff\">or</span> getfile(frame)                                                   <span style=\"color: #800000; text-decoration-color: #800000\">│</span>\n",
       "<span style=\"color: #800000; text-decoration-color: #800000\">│</span>   <span style=\"color: #7f7f7f; text-decoration-color: #7f7f7f\">1685 </span><span style=\"color: #7f7f7f; text-decoration-color: #7f7f7f\">│   </span><span style=\"color: #0000ff; text-decoration-color: #0000ff\">if</span> context &gt; <span style=\"color: #0000ff; text-decoration-color: #0000ff\">0</span>:                                                                                     <span style=\"color: #800000; text-decoration-color: #800000\">│</span>\n",
       "<span style=\"color: #800000; text-decoration-color: #800000\">│</span>   <span style=\"color: #7f7f7f; text-decoration-color: #7f7f7f\">1686 </span><span style=\"color: #7f7f7f; text-decoration-color: #7f7f7f\">│   │   </span>start = lineno - <span style=\"color: #0000ff; text-decoration-color: #0000ff\">1</span> - context//<span style=\"color: #0000ff; text-decoration-color: #0000ff\">2</span>                                                                 <span style=\"color: #800000; text-decoration-color: #800000\">│</span>\n",
       "<span style=\"color: #800000; text-decoration-color: #800000\">│</span>   <span style=\"color: #7f7f7f; text-decoration-color: #7f7f7f\">1687 </span><span style=\"color: #7f7f7f; text-decoration-color: #7f7f7f\">│   │   </span><span style=\"color: #0000ff; text-decoration-color: #0000ff\">try</span>:                                                                                            <span style=\"color: #800000; text-decoration-color: #800000\">│</span>\n",
       "<span style=\"color: #800000; text-decoration-color: #800000\">│</span>                                                                                                                <span style=\"color: #800000; text-decoration-color: #800000\">│</span>\n",
       "<span style=\"color: #800000; text-decoration-color: #800000\">│</span> <span style=\"color: #bfbf7f; text-decoration-color: #bfbf7f\">/root/miniconda3/envs/srf-env/lib/python3.11/</span><span style=\"color: #808000; text-decoration-color: #808000; font-weight: bold\">inspect.py</span>:<span style=\"color: #0000ff; text-decoration-color: #0000ff\">948</span> in <span style=\"color: #00ff00; text-decoration-color: #00ff00\">getsourcefile</span>                                   <span style=\"color: #800000; text-decoration-color: #800000\">│</span>\n",
       "<span style=\"color: #800000; text-decoration-color: #800000\">│</span>                                                                                                                <span style=\"color: #800000; text-decoration-color: #800000\">│</span>\n",
       "<span style=\"color: #800000; text-decoration-color: #800000\">│</span>   <span style=\"color: #7f7f7f; text-decoration-color: #7f7f7f\"> 945 </span><span style=\"color: #7f7f7f; text-decoration-color: #7f7f7f\">│   </span><span style=\"color: #0000ff; text-decoration-color: #0000ff\">if</span> os.path.exists(filename):                                                                        <span style=\"color: #800000; text-decoration-color: #800000\">│</span>\n",
       "<span style=\"color: #800000; text-decoration-color: #800000\">│</span>   <span style=\"color: #7f7f7f; text-decoration-color: #7f7f7f\"> 946 </span><span style=\"color: #7f7f7f; text-decoration-color: #7f7f7f\">│   │   </span><span style=\"color: #0000ff; text-decoration-color: #0000ff\">return</span> filename                                                                                 <span style=\"color: #800000; text-decoration-color: #800000\">│</span>\n",
       "<span style=\"color: #800000; text-decoration-color: #800000\">│</span>   <span style=\"color: #7f7f7f; text-decoration-color: #7f7f7f\"> 947 </span><span style=\"color: #7f7f7f; text-decoration-color: #7f7f7f\">│   </span><span style=\"color: #7f7f7f; text-decoration-color: #7f7f7f\"># only return a non-existent filename if the module has a PEP 302 loader</span>                            <span style=\"color: #800000; text-decoration-color: #800000\">│</span>\n",
       "<span style=\"color: #800000; text-decoration-color: #800000\">│</span> <span style=\"color: #800000; text-decoration-color: #800000\">&gt; </span> 948 <span style=\"color: #7f7f7f; text-decoration-color: #7f7f7f\">│   </span>module = <span style=\"font-weight: bold; text-decoration: underline\">getmodule(</span><span style=\"color: #00ffff; text-decoration-color: #00ffff; font-weight: bold; text-decoration: underline\">object</span><span style=\"font-weight: bold; text-decoration: underline\">, filename)</span>                                                                <span style=\"color: #800000; text-decoration-color: #800000\">│</span>\n",
       "<span style=\"color: #800000; text-decoration-color: #800000\">│</span>   <span style=\"color: #7f7f7f; text-decoration-color: #7f7f7f\"> 949 </span><span style=\"color: #7f7f7f; text-decoration-color: #7f7f7f\">│   </span><span style=\"color: #0000ff; text-decoration-color: #0000ff\">if</span> <span style=\"color: #00ffff; text-decoration-color: #00ffff\">getattr</span>(module, <span style=\"color: #808000; text-decoration-color: #808000\">'__loader__'</span>, <span style=\"color: #0000ff; text-decoration-color: #0000ff\">None</span>) <span style=\"color: #ff00ff; text-decoration-color: #ff00ff\">is</span> <span style=\"color: #ff00ff; text-decoration-color: #ff00ff\">not</span> <span style=\"color: #0000ff; text-decoration-color: #0000ff\">None</span>:                                                 <span style=\"color: #800000; text-decoration-color: #800000\">│</span>\n",
       "<span style=\"color: #800000; text-decoration-color: #800000\">│</span>   <span style=\"color: #7f7f7f; text-decoration-color: #7f7f7f\"> 950 </span><span style=\"color: #7f7f7f; text-decoration-color: #7f7f7f\">│   │   </span><span style=\"color: #0000ff; text-decoration-color: #0000ff\">return</span> filename                                                                                 <span style=\"color: #800000; text-decoration-color: #800000\">│</span>\n",
       "<span style=\"color: #800000; text-decoration-color: #800000\">│</span>   <span style=\"color: #7f7f7f; text-decoration-color: #7f7f7f\"> 951 </span><span style=\"color: #7f7f7f; text-decoration-color: #7f7f7f\">│   </span><span style=\"color: #0000ff; text-decoration-color: #0000ff\">elif</span> <span style=\"color: #00ffff; text-decoration-color: #00ffff\">getattr</span>(<span style=\"color: #00ffff; text-decoration-color: #00ffff\">getattr</span>(module, <span style=\"color: #808000; text-decoration-color: #808000\">\"__spec__\"</span>, <span style=\"color: #0000ff; text-decoration-color: #0000ff\">None</span>), <span style=\"color: #808000; text-decoration-color: #808000\">\"loader\"</span>, <span style=\"color: #0000ff; text-decoration-color: #0000ff\">None</span>) <span style=\"color: #ff00ff; text-decoration-color: #ff00ff\">is</span> <span style=\"color: #ff00ff; text-decoration-color: #ff00ff\">not</span> <span style=\"color: #0000ff; text-decoration-color: #0000ff\">None</span>:                        <span style=\"color: #800000; text-decoration-color: #800000\">│</span>\n",
       "<span style=\"color: #800000; text-decoration-color: #800000\">│</span>                                                                                                                <span style=\"color: #800000; text-decoration-color: #800000\">│</span>\n",
       "<span style=\"color: #800000; text-decoration-color: #800000\">│</span> <span style=\"color: #bfbf7f; text-decoration-color: #bfbf7f\">/root/miniconda3/envs/srf-env/lib/python3.11/</span><span style=\"color: #808000; text-decoration-color: #808000; font-weight: bold\">inspect.py</span>:<span style=\"color: #0000ff; text-decoration-color: #0000ff\">988</span> in <span style=\"color: #00ff00; text-decoration-color: #00ff00\">getmodule</span>                                       <span style=\"color: #800000; text-decoration-color: #800000\">│</span>\n",
       "<span style=\"color: #800000; text-decoration-color: #800000\">│</span>                                                                                                                <span style=\"color: #800000; text-decoration-color: #800000\">│</span>\n",
       "<span style=\"color: #800000; text-decoration-color: #800000\">│</span>   <span style=\"color: #7f7f7f; text-decoration-color: #7f7f7f\"> 985 </span><span style=\"color: #7f7f7f; text-decoration-color: #7f7f7f\">│   </span><span style=\"color: #7f7f7f; text-decoration-color: #7f7f7f\"># Update the filename to module name cache and check yet again</span>                                      <span style=\"color: #800000; text-decoration-color: #800000\">│</span>\n",
       "<span style=\"color: #800000; text-decoration-color: #800000\">│</span>   <span style=\"color: #7f7f7f; text-decoration-color: #7f7f7f\"> 986 </span><span style=\"color: #7f7f7f; text-decoration-color: #7f7f7f\">│   </span><span style=\"color: #7f7f7f; text-decoration-color: #7f7f7f\"># Copy sys.modules in order to cope with changes while iterating</span>                                    <span style=\"color: #800000; text-decoration-color: #800000\">│</span>\n",
       "<span style=\"color: #800000; text-decoration-color: #800000\">│</span>   <span style=\"color: #7f7f7f; text-decoration-color: #7f7f7f\"> 987 </span><span style=\"color: #7f7f7f; text-decoration-color: #7f7f7f\">│   </span><span style=\"color: #0000ff; text-decoration-color: #0000ff\">for</span> modname, module <span style=\"color: #ff00ff; text-decoration-color: #ff00ff\">in</span> sys.modules.copy().items():                                                  <span style=\"color: #800000; text-decoration-color: #800000\">│</span>\n",
       "<span style=\"color: #800000; text-decoration-color: #800000\">│</span> <span style=\"color: #800000; text-decoration-color: #800000\">&gt; </span> 988 <span style=\"color: #7f7f7f; text-decoration-color: #7f7f7f\">│   │   </span><span style=\"color: #0000ff; text-decoration-color: #0000ff\">if</span> ismodule(module) <span style=\"color: #ff00ff; text-decoration-color: #ff00ff\">and</span> <span style=\"color: #00ffff; text-decoration-color: #00ffff; font-weight: bold; text-decoration: underline\">hasattr</span><span style=\"font-weight: bold; text-decoration: underline\">(module, </span><span style=\"color: #808000; text-decoration-color: #808000; font-weight: bold; text-decoration: underline\">'__file__'</span><span style=\"font-weight: bold; text-decoration: underline\">)</span>:                                            <span style=\"color: #800000; text-decoration-color: #800000\">│</span>\n",
       "<span style=\"color: #800000; text-decoration-color: #800000\">│</span>   <span style=\"color: #7f7f7f; text-decoration-color: #7f7f7f\"> 989 </span><span style=\"color: #7f7f7f; text-decoration-color: #7f7f7f\">│   │   │   </span>f = module.<span style=\"color: #ff0000; text-decoration-color: #ff0000\">__file__</span>                                                                         <span style=\"color: #800000; text-decoration-color: #800000\">│</span>\n",
       "<span style=\"color: #800000; text-decoration-color: #800000\">│</span>   <span style=\"color: #7f7f7f; text-decoration-color: #7f7f7f\"> 990 </span><span style=\"color: #7f7f7f; text-decoration-color: #7f7f7f\">│   │   │   </span><span style=\"color: #0000ff; text-decoration-color: #0000ff\">if</span> f == _filesbymodname.get(modname, <span style=\"color: #0000ff; text-decoration-color: #0000ff\">None</span>):                                                 <span style=\"color: #800000; text-decoration-color: #800000\">│</span>\n",
       "<span style=\"color: #800000; text-decoration-color: #800000\">│</span>   <span style=\"color: #7f7f7f; text-decoration-color: #7f7f7f\"> 991 </span><span style=\"color: #7f7f7f; text-decoration-color: #7f7f7f\">│   │   │   │   </span><span style=\"color: #7f7f7f; text-decoration-color: #7f7f7f\"># Have already mapped this module, so skip it</span>                                           <span style=\"color: #800000; text-decoration-color: #800000\">│</span>\n",
       "<span style=\"color: #800000; text-decoration-color: #800000\">└────────────────────────────────────────────────────────────────────────────────────────────────────────────────┘</span>\n",
       "<span style=\"color: #ff0000; text-decoration-color: #ff0000; font-weight: bold\">KeyboardInterrupt</span>\n",
       "</pre>\n"
      ],
      "text/plain": [
       "\u001b[31m┌─\u001b[0m\u001b[31m─────────────────────────────────────\u001b[0m\u001b[31m \u001b[0m\u001b[1;31mTraceback \u001b[0m\u001b[1;2;31m(most recent call last)\u001b[0m\u001b[31m \u001b[0m\u001b[31m──────────────────────────────────────\u001b[0m\u001b[31m─┐\u001b[0m\n",
       "\u001b[31m│\u001b[0m \u001b[2;33m/root/miniconda3/envs/srf-env/lib/python3.11/site-packages/inspect_ai/_eval/task/\u001b[0m\u001b[1;33mrun.py\u001b[0m:\u001b[94m723\u001b[0m in \u001b[92mtask_run_sample\u001b[0m \u001b[31m│\u001b[0m\n",
       "\u001b[31m│\u001b[0m                                                                                                                \u001b[31m│\u001b[0m\n",
       "\u001b[31m│\u001b[0m \u001b[2;33m/root/miniconda3/envs/srf-env/lib/python3.11/site-packages/inspect_ai/solver/\u001b[0m\u001b[1;33m_plan.py\u001b[0m:\u001b[94m105\u001b[0m in \u001b[92m__call__\u001b[0m          \u001b[31m│\u001b[0m\n",
       "\u001b[31m│\u001b[0m                                                                                                                \u001b[31m│\u001b[0m\n",
       "\u001b[31m│\u001b[0m \u001b[2;33m/root/miniconda3/envs/srf-env/lib/python3.11/\u001b[0m\u001b[1;33mcontextlib.py\u001b[0m:\u001b[94m210\u001b[0m in \u001b[92m__aenter__\u001b[0m                                   \u001b[31m│\u001b[0m\n",
       "\u001b[31m│\u001b[0m                                                                                                                \u001b[31m│\u001b[0m\n",
       "\u001b[31m│\u001b[0m   \u001b[2m207 \u001b[0m\u001b[2m│   │   \u001b[0m\u001b[2m# they are only needed for recreation, which is not possible anymore\u001b[0m                             \u001b[31m│\u001b[0m\n",
       "\u001b[31m│\u001b[0m   \u001b[2m208 \u001b[0m\u001b[2m│   │   \u001b[0m\u001b[94mdel\u001b[0m \u001b[96mself\u001b[0m.args, \u001b[96mself\u001b[0m.kwds, \u001b[96mself\u001b[0m.func                                                              \u001b[31m│\u001b[0m\n",
       "\u001b[31m│\u001b[0m   \u001b[2m209 \u001b[0m\u001b[2m│   │   \u001b[0m\u001b[94mtry\u001b[0m:                                                                                             \u001b[31m│\u001b[0m\n",
       "\u001b[31m│\u001b[0m \u001b[31m> \u001b[0m210 \u001b[2m│   │   │   \u001b[0m\u001b[94mreturn\u001b[0m \u001b[94mawait\u001b[0m anext(\u001b[96mself\u001b[0m.gen)                                                                 \u001b[31m│\u001b[0m\n",
       "\u001b[31m│\u001b[0m   \u001b[2m211 \u001b[0m\u001b[2m│   │   \u001b[0m\u001b[1;4;94mexcept\u001b[0m\u001b[1;4m \u001b[0m\u001b[1;4;96mStopAsyncIteration\u001b[0m\u001b[1;4m:\u001b[0m                                                                       \u001b[31m│\u001b[0m\n",
       "\u001b[31m│\u001b[0m   \u001b[2m212 \u001b[0m\u001b[1;2;4m│   │   │   \u001b[0m\u001b[1;4;94mraise\u001b[0m\u001b[1;4m \u001b[0m\u001b[1;4;96mRuntimeError\u001b[0m\u001b[1;4m(\u001b[0m\u001b[1;4;33m\"\u001b[0m\u001b[1;4;33mgenerator didn\u001b[0m\u001b[1;4;33m'\u001b[0m\u001b[1;4;33mt yield\u001b[0m\u001b[1;4;33m\"\u001b[0m\u001b[1;4m) \u001b[0m\u001b[1;4;94mfrom\u001b[0m\u001b[1;4;90m \u001b[0m\u001b[1;4;94mNone\u001b[0m                                       \u001b[31m│\u001b[0m\n",
       "\u001b[31m│\u001b[0m   \u001b[2m213 \u001b[0m                                                                                                         \u001b[31m│\u001b[0m\n",
       "\u001b[31m│\u001b[0m                                                                                                                \u001b[31m│\u001b[0m\n",
       "\u001b[31m│\u001b[0m \u001b[2;33m/root/miniconda3/envs/srf-env/lib/python3.11/site-packages/inspect_ai/solver/\u001b[0m\u001b[1;33m_transcript.py\u001b[0m:\u001b[94m31\u001b[0m in              \u001b[31m│\u001b[0m\n",
       "\u001b[31m│\u001b[0m \u001b[92msolver_transcript\u001b[0m                                                                                              \u001b[31m│\u001b[0m\n",
       "\u001b[31m│\u001b[0m                                                                                                                \u001b[31m│\u001b[0m\n",
       "\u001b[31m│\u001b[0m \u001b[2;33m/root/miniconda3/envs/srf-env/lib/python3.11/\u001b[0m\u001b[1;33mcontextlib.py\u001b[0m:\u001b[94m210\u001b[0m in \u001b[92m__aenter__\u001b[0m                                   \u001b[31m│\u001b[0m\n",
       "\u001b[31m│\u001b[0m                                                                                                                \u001b[31m│\u001b[0m\n",
       "\u001b[31m│\u001b[0m   \u001b[2m207 \u001b[0m\u001b[2m│   │   \u001b[0m\u001b[2m# they are only needed for recreation, which is not possible anymore\u001b[0m                             \u001b[31m│\u001b[0m\n",
       "\u001b[31m│\u001b[0m   \u001b[2m208 \u001b[0m\u001b[2m│   │   \u001b[0m\u001b[94mdel\u001b[0m \u001b[96mself\u001b[0m.args, \u001b[96mself\u001b[0m.kwds, \u001b[96mself\u001b[0m.func                                                              \u001b[31m│\u001b[0m\n",
       "\u001b[31m│\u001b[0m   \u001b[2m209 \u001b[0m\u001b[2m│   │   \u001b[0m\u001b[94mtry\u001b[0m:                                                                                             \u001b[31m│\u001b[0m\n",
       "\u001b[31m│\u001b[0m \u001b[31m> \u001b[0m210 \u001b[2m│   │   │   \u001b[0m\u001b[94mreturn\u001b[0m \u001b[94mawait\u001b[0m anext(\u001b[96mself\u001b[0m.gen)                                                                 \u001b[31m│\u001b[0m\n",
       "\u001b[31m│\u001b[0m   \u001b[2m211 \u001b[0m\u001b[2m│   │   \u001b[0m\u001b[1;4;94mexcept\u001b[0m\u001b[1;4m \u001b[0m\u001b[1;4;96mStopAsyncIteration\u001b[0m\u001b[1;4m:\u001b[0m                                                                       \u001b[31m│\u001b[0m\n",
       "\u001b[31m│\u001b[0m   \u001b[2m212 \u001b[0m\u001b[1;2;4m│   │   │   \u001b[0m\u001b[1;4;94mraise\u001b[0m\u001b[1;4m \u001b[0m\u001b[1;4;96mRuntimeError\u001b[0m\u001b[1;4m(\u001b[0m\u001b[1;4;33m\"\u001b[0m\u001b[1;4;33mgenerator didn\u001b[0m\u001b[1;4;33m'\u001b[0m\u001b[1;4;33mt yield\u001b[0m\u001b[1;4;33m\"\u001b[0m\u001b[1;4m) \u001b[0m\u001b[1;4;94mfrom\u001b[0m\u001b[1;4;90m \u001b[0m\u001b[1;4;94mNone\u001b[0m                                       \u001b[31m│\u001b[0m\n",
       "\u001b[31m│\u001b[0m   \u001b[2m213 \u001b[0m                                                                                                         \u001b[31m│\u001b[0m\n",
       "\u001b[31m│\u001b[0m                                                                                                                \u001b[31m│\u001b[0m\n",
       "\u001b[31m│\u001b[0m \u001b[2;33m/root/miniconda3/envs/srf-env/lib/python3.11/site-packages/inspect_ai/util/\u001b[0m\u001b[1;33m_span.py\u001b[0m:\u001b[94m30\u001b[0m in \u001b[92mspan\u001b[0m                 \u001b[31m│\u001b[0m\n",
       "\u001b[31m│\u001b[0m                                                                                                                \u001b[31m│\u001b[0m\n",
       "\u001b[31m│\u001b[0m \u001b[2;33m/root/miniconda3/envs/srf-env/lib/python3.11/\u001b[0m\u001b[1;33minspect.py\u001b[0m:\u001b[94m1751\u001b[0m in \u001b[92mstack\u001b[0m                                          \u001b[31m│\u001b[0m\n",
       "\u001b[31m│\u001b[0m                                                                                                                \u001b[31m│\u001b[0m\n",
       "\u001b[31m│\u001b[0m   \u001b[2m1748 \u001b[0m                                                                                                        \u001b[31m│\u001b[0m\n",
       "\u001b[31m│\u001b[0m   \u001b[2m1749 \u001b[0m\u001b[94mdef\u001b[0m\u001b[90m \u001b[0m\u001b[92mstack\u001b[0m(context=\u001b[94m1\u001b[0m):                                                                                   \u001b[31m│\u001b[0m\n",
       "\u001b[31m│\u001b[0m   \u001b[2m1750 \u001b[0m\u001b[2;90m│   \u001b[0m\u001b[33m\"\"\"Return a list of records for the stack above the caller's frame.\"\"\"\u001b[0m                              \u001b[31m│\u001b[0m\n",
       "\u001b[31m│\u001b[0m \u001b[31m> \u001b[0m1751 \u001b[2m│   \u001b[0m\u001b[94mreturn\u001b[0m \u001b[1;4mgetouterframes(sys._getframe(\u001b[0m\u001b[1;4;94m1\u001b[0m\u001b[1;4m), context)\u001b[0m                                                    \u001b[31m│\u001b[0m\n",
       "\u001b[31m│\u001b[0m   \u001b[2m1752 \u001b[0m                                                                                                        \u001b[31m│\u001b[0m\n",
       "\u001b[31m│\u001b[0m   \u001b[2m1753 \u001b[0m\u001b[94mdef\u001b[0m\u001b[90m \u001b[0m\u001b[92mtrace\u001b[0m(context=\u001b[94m1\u001b[0m):                                                                                   \u001b[31m│\u001b[0m\n",
       "\u001b[31m│\u001b[0m   \u001b[2m1754 \u001b[0m\u001b[2;90m│   \u001b[0m\u001b[33m\"\"\"Return a list of records for the stack below the current exception.\"\"\"\u001b[0m                           \u001b[31m│\u001b[0m\n",
       "\u001b[31m│\u001b[0m                                                                                                                \u001b[31m│\u001b[0m\n",
       "\u001b[31m│\u001b[0m \u001b[2;33m/root/miniconda3/envs/srf-env/lib/python3.11/\u001b[0m\u001b[1;33minspect.py\u001b[0m:\u001b[94m1726\u001b[0m in \u001b[92mgetouterframes\u001b[0m                                 \u001b[31m│\u001b[0m\n",
       "\u001b[31m│\u001b[0m                                                                                                                \u001b[31m│\u001b[0m\n",
       "\u001b[31m│\u001b[0m   \u001b[2m1723 \u001b[0m\u001b[2;33m│   \u001b[0m\u001b[33mname, a list of lines of context, and index within the context.\"\"\"\u001b[0m                                  \u001b[31m│\u001b[0m\n",
       "\u001b[31m│\u001b[0m   \u001b[2m1724 \u001b[0m\u001b[2m│   \u001b[0mframelist = []                                                                                      \u001b[31m│\u001b[0m\n",
       "\u001b[31m│\u001b[0m   \u001b[2m1725 \u001b[0m\u001b[2m│   \u001b[0m\u001b[94mwhile\u001b[0m frame:                                                                                        \u001b[31m│\u001b[0m\n",
       "\u001b[31m│\u001b[0m \u001b[31m> \u001b[0m1726 \u001b[2m│   │   \u001b[0mtraceback_info = \u001b[1;4mgetframeinfo(frame, context)\u001b[0m                                                   \u001b[31m│\u001b[0m\n",
       "\u001b[31m│\u001b[0m   \u001b[2m1727 \u001b[0m\u001b[2m│   │   \u001b[0mframeinfo = (frame,) + traceback_info                                                           \u001b[31m│\u001b[0m\n",
       "\u001b[31m│\u001b[0m   \u001b[2m1728 \u001b[0m\u001b[2m│   │   \u001b[0mframelist.append(FrameInfo(*frameinfo, positions=traceback_info.positions))                     \u001b[31m│\u001b[0m\n",
       "\u001b[31m│\u001b[0m   \u001b[2m1729 \u001b[0m\u001b[2m│   │   \u001b[0mframe = frame.f_back                                                                            \u001b[31m│\u001b[0m\n",
       "\u001b[31m│\u001b[0m                                                                                                                \u001b[31m│\u001b[0m\n",
       "\u001b[31m│\u001b[0m \u001b[2;33m/root/miniconda3/envs/srf-env/lib/python3.11/\u001b[0m\u001b[1;33minspect.py\u001b[0m:\u001b[94m1684\u001b[0m in \u001b[92mgetframeinfo\u001b[0m                                   \u001b[31m│\u001b[0m\n",
       "\u001b[31m│\u001b[0m                                                                                                                \u001b[31m│\u001b[0m\n",
       "\u001b[31m│\u001b[0m   \u001b[2m1681 \u001b[0m\u001b[2m│   \u001b[0m\u001b[94mif\u001b[0m \u001b[95mnot\u001b[0m isframe(frame):                                                                              \u001b[31m│\u001b[0m\n",
       "\u001b[31m│\u001b[0m   \u001b[2m1682 \u001b[0m\u001b[2m│   │   \u001b[0m\u001b[94mraise\u001b[0m \u001b[96mTypeError\u001b[0m(\u001b[33m'\u001b[0m\u001b[33m{!r}\u001b[0m\u001b[33m is not a frame or traceback object\u001b[0m\u001b[33m'\u001b[0m.format(frame))                        \u001b[31m│\u001b[0m\n",
       "\u001b[31m│\u001b[0m   \u001b[2m1683 \u001b[0m\u001b[2m│   \u001b[0m                                                                                                    \u001b[31m│\u001b[0m\n",
       "\u001b[31m│\u001b[0m \u001b[31m> \u001b[0m1684 \u001b[2m│   \u001b[0mfilename = \u001b[1;4mgetsourcefile(frame)\u001b[0m \u001b[95mor\u001b[0m getfile(frame)                                                   \u001b[31m│\u001b[0m\n",
       "\u001b[31m│\u001b[0m   \u001b[2m1685 \u001b[0m\u001b[2m│   \u001b[0m\u001b[94mif\u001b[0m context > \u001b[94m0\u001b[0m:                                                                                     \u001b[31m│\u001b[0m\n",
       "\u001b[31m│\u001b[0m   \u001b[2m1686 \u001b[0m\u001b[2m│   │   \u001b[0mstart = lineno - \u001b[94m1\u001b[0m - context//\u001b[94m2\u001b[0m                                                                 \u001b[31m│\u001b[0m\n",
       "\u001b[31m│\u001b[0m   \u001b[2m1687 \u001b[0m\u001b[2m│   │   \u001b[0m\u001b[94mtry\u001b[0m:                                                                                            \u001b[31m│\u001b[0m\n",
       "\u001b[31m│\u001b[0m                                                                                                                \u001b[31m│\u001b[0m\n",
       "\u001b[31m│\u001b[0m \u001b[2;33m/root/miniconda3/envs/srf-env/lib/python3.11/\u001b[0m\u001b[1;33minspect.py\u001b[0m:\u001b[94m948\u001b[0m in \u001b[92mgetsourcefile\u001b[0m                                   \u001b[31m│\u001b[0m\n",
       "\u001b[31m│\u001b[0m                                                                                                                \u001b[31m│\u001b[0m\n",
       "\u001b[31m│\u001b[0m   \u001b[2m 945 \u001b[0m\u001b[2m│   \u001b[0m\u001b[94mif\u001b[0m os.path.exists(filename):                                                                        \u001b[31m│\u001b[0m\n",
       "\u001b[31m│\u001b[0m   \u001b[2m 946 \u001b[0m\u001b[2m│   │   \u001b[0m\u001b[94mreturn\u001b[0m filename                                                                                 \u001b[31m│\u001b[0m\n",
       "\u001b[31m│\u001b[0m   \u001b[2m 947 \u001b[0m\u001b[2m│   \u001b[0m\u001b[2m# only return a non-existent filename if the module has a PEP 302 loader\u001b[0m                            \u001b[31m│\u001b[0m\n",
       "\u001b[31m│\u001b[0m \u001b[31m> \u001b[0m 948 \u001b[2m│   \u001b[0mmodule = \u001b[1;4mgetmodule(\u001b[0m\u001b[1;4;96mobject\u001b[0m\u001b[1;4m, filename)\u001b[0m                                                                \u001b[31m│\u001b[0m\n",
       "\u001b[31m│\u001b[0m   \u001b[2m 949 \u001b[0m\u001b[2m│   \u001b[0m\u001b[94mif\u001b[0m \u001b[96mgetattr\u001b[0m(module, \u001b[33m'\u001b[0m\u001b[33m__loader__\u001b[0m\u001b[33m'\u001b[0m, \u001b[94mNone\u001b[0m) \u001b[95mis\u001b[0m \u001b[95mnot\u001b[0m \u001b[94mNone\u001b[0m:                                                 \u001b[31m│\u001b[0m\n",
       "\u001b[31m│\u001b[0m   \u001b[2m 950 \u001b[0m\u001b[2m│   │   \u001b[0m\u001b[94mreturn\u001b[0m filename                                                                                 \u001b[31m│\u001b[0m\n",
       "\u001b[31m│\u001b[0m   \u001b[2m 951 \u001b[0m\u001b[2m│   \u001b[0m\u001b[94melif\u001b[0m \u001b[96mgetattr\u001b[0m(\u001b[96mgetattr\u001b[0m(module, \u001b[33m\"\u001b[0m\u001b[33m__spec__\u001b[0m\u001b[33m\"\u001b[0m, \u001b[94mNone\u001b[0m), \u001b[33m\"\u001b[0m\u001b[33mloader\u001b[0m\u001b[33m\"\u001b[0m, \u001b[94mNone\u001b[0m) \u001b[95mis\u001b[0m \u001b[95mnot\u001b[0m \u001b[94mNone\u001b[0m:                        \u001b[31m│\u001b[0m\n",
       "\u001b[31m│\u001b[0m                                                                                                                \u001b[31m│\u001b[0m\n",
       "\u001b[31m│\u001b[0m \u001b[2;33m/root/miniconda3/envs/srf-env/lib/python3.11/\u001b[0m\u001b[1;33minspect.py\u001b[0m:\u001b[94m988\u001b[0m in \u001b[92mgetmodule\u001b[0m                                       \u001b[31m│\u001b[0m\n",
       "\u001b[31m│\u001b[0m                                                                                                                \u001b[31m│\u001b[0m\n",
       "\u001b[31m│\u001b[0m   \u001b[2m 985 \u001b[0m\u001b[2m│   \u001b[0m\u001b[2m# Update the filename to module name cache and check yet again\u001b[0m                                      \u001b[31m│\u001b[0m\n",
       "\u001b[31m│\u001b[0m   \u001b[2m 986 \u001b[0m\u001b[2m│   \u001b[0m\u001b[2m# Copy sys.modules in order to cope with changes while iterating\u001b[0m                                    \u001b[31m│\u001b[0m\n",
       "\u001b[31m│\u001b[0m   \u001b[2m 987 \u001b[0m\u001b[2m│   \u001b[0m\u001b[94mfor\u001b[0m modname, module \u001b[95min\u001b[0m sys.modules.copy().items():                                                  \u001b[31m│\u001b[0m\n",
       "\u001b[31m│\u001b[0m \u001b[31m> \u001b[0m 988 \u001b[2m│   │   \u001b[0m\u001b[94mif\u001b[0m ismodule(module) \u001b[95mand\u001b[0m \u001b[1;4;96mhasattr\u001b[0m\u001b[1;4m(module, \u001b[0m\u001b[1;4;33m'\u001b[0m\u001b[1;4;33m__file__\u001b[0m\u001b[1;4;33m'\u001b[0m\u001b[1;4m)\u001b[0m:                                            \u001b[31m│\u001b[0m\n",
       "\u001b[31m│\u001b[0m   \u001b[2m 989 \u001b[0m\u001b[2m│   │   │   \u001b[0mf = module.\u001b[91m__file__\u001b[0m                                                                         \u001b[31m│\u001b[0m\n",
       "\u001b[31m│\u001b[0m   \u001b[2m 990 \u001b[0m\u001b[2m│   │   │   \u001b[0m\u001b[94mif\u001b[0m f == _filesbymodname.get(modname, \u001b[94mNone\u001b[0m):                                                 \u001b[31m│\u001b[0m\n",
       "\u001b[31m│\u001b[0m   \u001b[2m 991 \u001b[0m\u001b[2m│   │   │   │   \u001b[0m\u001b[2m# Have already mapped this module, so skip it\u001b[0m                                           \u001b[31m│\u001b[0m\n",
       "\u001b[31m└────────────────────────────────────────────────────────────────────────────────────────────────────────────────┘\u001b[0m\n",
       "\u001b[1;91mKeyboardInterrupt\u001b[0m\n"
      ]
     },
     "metadata": {},
     "output_type": "display_data"
    },
    {
     "data": {
      "text/html": [
       "<pre style=\"white-space:pre;overflow-x:auto;line-height:normal;font-family:Menlo,'DejaVu Sans Mono',consolas,'Courier New',monospace\"><span style=\"color: #800000; text-decoration-color: #800000\">┌────────────────────────────────────── </span><span style=\"color: #800000; text-decoration-color: #800000; font-weight: bold\">Traceback </span><span style=\"color: #bf7f7f; text-decoration-color: #bf7f7f; font-weight: bold\">(most recent call last)</span><span style=\"color: #800000; text-decoration-color: #800000\"> ───────────────────────────────────────┐</span>\n",
       "<span style=\"color: #800000; text-decoration-color: #800000\">│</span> <span style=\"color: #bfbf7f; text-decoration-color: #bfbf7f\">/root/miniconda3/envs/srf-env/lib/python3.11/site-packages/inspect_ai/_eval/task/</span><span style=\"color: #808000; text-decoration-color: #808000; font-weight: bold\">run.py</span>:<span style=\"color: #0000ff; text-decoration-color: #0000ff\">370</span> in <span style=\"color: #00ff00; text-decoration-color: #00ff00\">task_run</span>        <span style=\"color: #800000; text-decoration-color: #800000\">│</span>\n",
       "<span style=\"color: #800000; text-decoration-color: #800000\">│</span>                                                                                                                <span style=\"color: #800000; text-decoration-color: #800000\">│</span>\n",
       "<span style=\"color: #800000; text-decoration-color: #800000\">│</span> <span style=\"color: #bfbf7f; text-decoration-color: #bfbf7f\">/root/miniconda3/envs/srf-env/lib/python3.11/site-packages/inspect_ai/_util/</span><span style=\"color: #808000; text-decoration-color: #808000; font-weight: bold\">_async.py</span>:<span style=\"color: #0000ff; text-decoration-color: #0000ff\">57</span> in <span style=\"color: #00ff00; text-decoration-color: #00ff00\">tg_collect</span>         <span style=\"color: #800000; text-decoration-color: #800000\">│</span>\n",
       "<span style=\"color: #800000; text-decoration-color: #800000\">│</span>                                                                                                                <span style=\"color: #800000; text-decoration-color: #800000\">│</span>\n",
       "<span style=\"color: #800000; text-decoration-color: #800000\">│</span> <span style=\"color: #bfbf7f; text-decoration-color: #bfbf7f\">/root/miniconda3/envs/srf-env/lib/python3.11/site-packages/anyio/_backends/</span><span style=\"color: #808000; text-decoration-color: #808000; font-weight: bold\">_asyncio.py</span>:<span style=\"color: #0000ff; text-decoration-color: #0000ff\">772</span> in <span style=\"color: #00ff00; text-decoration-color: #00ff00\">__aexit__</span>        <span style=\"color: #800000; text-decoration-color: #800000\">│</span>\n",
       "<span style=\"color: #800000; text-decoration-color: #800000\">│</span>                                                                                                                <span style=\"color: #800000; text-decoration-color: #800000\">│</span>\n",
       "<span style=\"color: #800000; text-decoration-color: #800000\">│</span>   <span style=\"color: #7f7f7f; text-decoration-color: #7f7f7f\"> 769 </span><span style=\"color: #7f7f7f; text-decoration-color: #7f7f7f\">│   │   │   │   │   </span><span style=\"color: #7f7f7f; text-decoration-color: #7f7f7f\"># added to self._exceptions so it's ok to break exception</span>                           <span style=\"color: #800000; text-decoration-color: #800000\">│</span>\n",
       "<span style=\"color: #800000; text-decoration-color: #800000\">│</span>   <span style=\"color: #7f7f7f; text-decoration-color: #7f7f7f\"> 770 </span><span style=\"color: #7f7f7f; text-decoration-color: #7f7f7f\">│   │   │   │   │   </span><span style=\"color: #7f7f7f; text-decoration-color: #7f7f7f\"># chaining and avoid adding a \"During handling of above...\"</span>                         <span style=\"color: #800000; text-decoration-color: #800000\">│</span>\n",
       "<span style=\"color: #800000; text-decoration-color: #800000\">│</span>   <span style=\"color: #7f7f7f; text-decoration-color: #7f7f7f\"> 771 </span><span style=\"color: #7f7f7f; text-decoration-color: #7f7f7f\">│   │   │   │   │   </span><span style=\"color: #7f7f7f; text-decoration-color: #7f7f7f\"># for each nesting level.</span>                                                           <span style=\"color: #800000; text-decoration-color: #800000\">│</span>\n",
       "<span style=\"color: #800000; text-decoration-color: #800000\">│</span> <span style=\"color: #800000; text-decoration-color: #800000\">&gt; </span> 772 <span style=\"color: #7f7f7f; text-decoration-color: #7f7f7f\">│   │   │   │   │   </span><span style=\"color: #0000ff; text-decoration-color: #0000ff\">raise</span> BaseExceptionGroup(                                                           <span style=\"color: #800000; text-decoration-color: #800000\">│</span>\n",
       "<span style=\"color: #800000; text-decoration-color: #800000\">│</span>   <span style=\"color: #7f7f7f; text-decoration-color: #7f7f7f\"> 773 </span><span style=\"color: #7f7f7f; text-decoration-color: #7f7f7f\">│   │   │   │   │   │   </span><span style=\"color: #808000; text-decoration-color: #808000\">\"unhandled errors in a TaskGroup\"</span>, <span style=\"color: #00ffff; text-decoration-color: #00ffff\">self</span>._exceptions                             <span style=\"color: #800000; text-decoration-color: #800000\">│</span>\n",
       "<span style=\"color: #800000; text-decoration-color: #800000\">│</span>   <span style=\"color: #7f7f7f; text-decoration-color: #7f7f7f\"> 774 </span><span style=\"color: #7f7f7f; text-decoration-color: #7f7f7f\">│   │   │   │   │   </span>) <span style=\"color: #0000ff; text-decoration-color: #0000ff\">from</span><span style=\"color: #808080; text-decoration-color: #808080\"> </span><span style=\"color: #0000ff; text-decoration-color: #0000ff\">None</span>                                                                         <span style=\"color: #800000; text-decoration-color: #800000\">│</span>\n",
       "<span style=\"color: #800000; text-decoration-color: #800000\">│</span>   <span style=\"color: #7f7f7f; text-decoration-color: #7f7f7f\"> 775 </span><span style=\"color: #7f7f7f; text-decoration-color: #7f7f7f\">│   │   │   │   </span><span style=\"color: #0000ff; text-decoration-color: #0000ff\">elif</span> exc_val:                                                                           <span style=\"color: #800000; text-decoration-color: #800000\">│</span>\n",
       "<span style=\"color: #800000; text-decoration-color: #800000\">└────────────────────────────────────────────────────────────────────────────────────────────────────────────────┘</span>\n",
       "<span style=\"color: #ff0000; text-decoration-color: #ff0000; font-weight: bold\">BaseExceptionGroup: </span>unhandled errors in a TaskGroup <span style=\"font-weight: bold\">(</span><span style=\"color: #008080; text-decoration-color: #008080; font-weight: bold\">1</span> sub-exception<span style=\"font-weight: bold\">)</span>\n",
       "</pre>\n"
      ],
      "text/plain": [
       "\u001b[31m┌─\u001b[0m\u001b[31m─────────────────────────────────────\u001b[0m\u001b[31m \u001b[0m\u001b[1;31mTraceback \u001b[0m\u001b[1;2;31m(most recent call last)\u001b[0m\u001b[31m \u001b[0m\u001b[31m──────────────────────────────────────\u001b[0m\u001b[31m─┐\u001b[0m\n",
       "\u001b[31m│\u001b[0m \u001b[2;33m/root/miniconda3/envs/srf-env/lib/python3.11/site-packages/inspect_ai/_eval/task/\u001b[0m\u001b[1;33mrun.py\u001b[0m:\u001b[94m370\u001b[0m in \u001b[92mtask_run\u001b[0m        \u001b[31m│\u001b[0m\n",
       "\u001b[31m│\u001b[0m                                                                                                                \u001b[31m│\u001b[0m\n",
       "\u001b[31m│\u001b[0m \u001b[2;33m/root/miniconda3/envs/srf-env/lib/python3.11/site-packages/inspect_ai/_util/\u001b[0m\u001b[1;33m_async.py\u001b[0m:\u001b[94m57\u001b[0m in \u001b[92mtg_collect\u001b[0m         \u001b[31m│\u001b[0m\n",
       "\u001b[31m│\u001b[0m                                                                                                                \u001b[31m│\u001b[0m\n",
       "\u001b[31m│\u001b[0m \u001b[2;33m/root/miniconda3/envs/srf-env/lib/python3.11/site-packages/anyio/_backends/\u001b[0m\u001b[1;33m_asyncio.py\u001b[0m:\u001b[94m772\u001b[0m in \u001b[92m__aexit__\u001b[0m        \u001b[31m│\u001b[0m\n",
       "\u001b[31m│\u001b[0m                                                                                                                \u001b[31m│\u001b[0m\n",
       "\u001b[31m│\u001b[0m   \u001b[2m 769 \u001b[0m\u001b[2m│   │   │   │   │   \u001b[0m\u001b[2m# added to self._exceptions so it's ok to break exception\u001b[0m                           \u001b[31m│\u001b[0m\n",
       "\u001b[31m│\u001b[0m   \u001b[2m 770 \u001b[0m\u001b[2m│   │   │   │   │   \u001b[0m\u001b[2m# chaining and avoid adding a \"During handling of above...\"\u001b[0m                         \u001b[31m│\u001b[0m\n",
       "\u001b[31m│\u001b[0m   \u001b[2m 771 \u001b[0m\u001b[2m│   │   │   │   │   \u001b[0m\u001b[2m# for each nesting level.\u001b[0m                                                           \u001b[31m│\u001b[0m\n",
       "\u001b[31m│\u001b[0m \u001b[31m> \u001b[0m 772 \u001b[2m│   │   │   │   │   \u001b[0m\u001b[94mraise\u001b[0m BaseExceptionGroup(                                                           \u001b[31m│\u001b[0m\n",
       "\u001b[31m│\u001b[0m   \u001b[2m 773 \u001b[0m\u001b[2m│   │   │   │   │   │   \u001b[0m\u001b[33m\"\u001b[0m\u001b[33munhandled errors in a TaskGroup\u001b[0m\u001b[33m\"\u001b[0m, \u001b[96mself\u001b[0m._exceptions                             \u001b[31m│\u001b[0m\n",
       "\u001b[31m│\u001b[0m   \u001b[2m 774 \u001b[0m\u001b[2m│   │   │   │   │   \u001b[0m) \u001b[94mfrom\u001b[0m\u001b[90m \u001b[0m\u001b[94mNone\u001b[0m                                                                         \u001b[31m│\u001b[0m\n",
       "\u001b[31m│\u001b[0m   \u001b[2m 775 \u001b[0m\u001b[2m│   │   │   │   \u001b[0m\u001b[94melif\u001b[0m exc_val:                                                                           \u001b[31m│\u001b[0m\n",
       "\u001b[31m└────────────────────────────────────────────────────────────────────────────────────────────────────────────────┘\u001b[0m\n",
       "\u001b[1;91mBaseExceptionGroup: \u001b[0munhandled errors in a TaskGroup \u001b[1m(\u001b[0m\u001b[1;36m1\u001b[0m sub-exception\u001b[1m)\u001b[0m\n"
      ]
     },
     "metadata": {},
     "output_type": "display_data"
    },
    {
     "data": {
      "text/html": [
       "<pre style=\"white-space:pre;overflow-x:auto;line-height:normal;font-family:Menlo,'DejaVu Sans Mono',consolas,'Courier New',monospace\"></pre>\n"
      ],
      "text/plain": []
     },
     "metadata": {},
     "output_type": "display_data"
    },
    {
     "ename": "KeyboardInterrupt",
     "evalue": "",
     "output_type": "error",
     "traceback": [
      "\u001b[31m---------------------------------------------------------------------------\u001b[39m",
      "\u001b[31mKeyboardInterrupt\u001b[39m                         Traceback (most recent call last)",
      "\u001b[36mCell\u001b[39m\u001b[36m \u001b[39m\u001b[32mIn[57]\u001b[39m\u001b[32m, line 1\u001b[39m\n\u001b[32m----> \u001b[39m\u001b[32m1\u001b[39m inspect_ai.eval(humaneval(), model = \u001b[33m'\u001b[39m\u001b[33mopenai/gpt-4o-mini\u001b[39m\u001b[33m'\u001b[39m, epochs = \u001b[32m1\u001b[39m)\n",
      "\u001b[36mFile \u001b[39m\u001b[32m~/miniconda3/envs/srf-env/lib/python3.11/site-packages/inspect_ai/_eval/eval.py:260\u001b[39m, in \u001b[36meval\u001b[39m\u001b[34m(tasks, model, model_base_url, model_args, model_roles, task_args, sandbox, sandbox_cleanup, solver, tags, metadata, trace, display, approval, log_level, log_level_transcript, log_dir, log_format, limit, sample_id, epochs, fail_on_error, retry_on_error, debug_errors, message_limit, token_limit, time_limit, working_limit, max_samples, max_tasks, max_subprocesses, max_sandboxes, log_samples, log_realtime, log_images, log_buffer, log_shared, log_header_only, run_samples, score, score_display, **kwargs)\u001b[39m\n\u001b[32m    257\u001b[39m         \u001b[38;5;28;01melse\u001b[39;00m:\n\u001b[32m    258\u001b[39m             \u001b[38;5;28;01mraise\u001b[39;00m\n\u001b[32m--> \u001b[39m\u001b[32m260\u001b[39m \u001b[38;5;28;01mreturn\u001b[39;00m task_display().run_task_app(run_task_app)\n",
      "\u001b[36mFile \u001b[39m\u001b[32m~/miniconda3/envs/srf-env/lib/python3.11/site-packages/inspect_ai/_display/rich/display.py:80\u001b[39m, in \u001b[36mRichDisplay.run_task_app\u001b[39m\u001b[34m(self, main)\u001b[39m\n\u001b[32m     77\u001b[39m \u001b[38;5;129m@override\u001b[39m\n\u001b[32m     78\u001b[39m \u001b[38;5;28;01mdef\u001b[39;00m\u001b[38;5;250m \u001b[39m\u001b[34mrun_task_app\u001b[39m(\u001b[38;5;28mself\u001b[39m, main: Callable[[], Coroutine[\u001b[38;5;28;01mNone\u001b[39;00m, \u001b[38;5;28;01mNone\u001b[39;00m, TR]]) -> TR:\n\u001b[32m     79\u001b[39m     \u001b[38;5;28;01mif\u001b[39;00m running_in_notebook():\n\u001b[32m---> \u001b[39m\u001b[32m80\u001b[39m         \u001b[38;5;28;01mreturn\u001b[39;00m run_coroutine(main())\n\u001b[32m     81\u001b[39m     \u001b[38;5;28;01melse\u001b[39;00m:\n\u001b[32m     82\u001b[39m         \u001b[38;5;28;01mreturn\u001b[39;00m anyio.run(main, backend=configured_async_backend())\n",
      "\u001b[36mFile \u001b[39m\u001b[32m~/miniconda3/envs/srf-env/lib/python3.11/site-packages/inspect_ai/_util/_async.py:116\u001b[39m, in \u001b[36mrun_coroutine\u001b[39m\u001b[34m(coroutine)\u001b[39m\n\u001b[32m    114\u001b[39m \u001b[38;5;28;01mif\u001b[39;00m running_in_notebook():\n\u001b[32m    115\u001b[39m     init_nest_asyncio()\n\u001b[32m--> \u001b[39m\u001b[32m116\u001b[39m     \u001b[38;5;28;01mreturn\u001b[39;00m asyncio.run(coroutine)\n\u001b[32m    117\u001b[39m \u001b[38;5;28;01melse\u001b[39;00m:\n\u001b[32m    118\u001b[39m     \u001b[38;5;28;01mtry\u001b[39;00m:\n\u001b[32m    119\u001b[39m         \u001b[38;5;66;03m# this will throw if there is no running loop\u001b[39;00m\n",
      "\u001b[36mFile \u001b[39m\u001b[32m~/miniconda3/envs/srf-env/lib/python3.11/site-packages/nest_asyncio.py:30\u001b[39m, in \u001b[36m_patch_asyncio.<locals>.run\u001b[39m\u001b[34m(main, debug)\u001b[39m\n\u001b[32m     28\u001b[39m task = asyncio.ensure_future(main)\n\u001b[32m     29\u001b[39m \u001b[38;5;28;01mtry\u001b[39;00m:\n\u001b[32m---> \u001b[39m\u001b[32m30\u001b[39m     \u001b[38;5;28;01mreturn\u001b[39;00m loop.run_until_complete(task)\n\u001b[32m     31\u001b[39m \u001b[38;5;28;01mfinally\u001b[39;00m:\n\u001b[32m     32\u001b[39m     \u001b[38;5;28;01mif\u001b[39;00m \u001b[38;5;129;01mnot\u001b[39;00m task.done():\n",
      "\u001b[36mFile \u001b[39m\u001b[32m~/miniconda3/envs/srf-env/lib/python3.11/site-packages/nest_asyncio.py:92\u001b[39m, in \u001b[36m_patch_loop.<locals>.run_until_complete\u001b[39m\u001b[34m(self, future)\u001b[39m\n\u001b[32m     90\u001b[39m     f._log_destroy_pending = \u001b[38;5;28;01mFalse\u001b[39;00m\n\u001b[32m     91\u001b[39m \u001b[38;5;28;01mwhile\u001b[39;00m \u001b[38;5;129;01mnot\u001b[39;00m f.done():\n\u001b[32m---> \u001b[39m\u001b[32m92\u001b[39m     \u001b[38;5;28mself\u001b[39m._run_once()\n\u001b[32m     93\u001b[39m     \u001b[38;5;28;01mif\u001b[39;00m \u001b[38;5;28mself\u001b[39m._stopping:\n\u001b[32m     94\u001b[39m         \u001b[38;5;28;01mbreak\u001b[39;00m\n",
      "\u001b[36mFile \u001b[39m\u001b[32m~/miniconda3/envs/srf-env/lib/python3.11/site-packages/nest_asyncio.py:133\u001b[39m, in \u001b[36m_patch_loop.<locals>._run_once\u001b[39m\u001b[34m(self)\u001b[39m\n\u001b[32m    130\u001b[39m curr_task = curr_tasks.pop(\u001b[38;5;28mself\u001b[39m, \u001b[38;5;28;01mNone\u001b[39;00m)\n\u001b[32m    132\u001b[39m \u001b[38;5;28;01mtry\u001b[39;00m:\n\u001b[32m--> \u001b[39m\u001b[32m133\u001b[39m     handle._run()\n\u001b[32m    134\u001b[39m \u001b[38;5;28;01mfinally\u001b[39;00m:\n\u001b[32m    135\u001b[39m     \u001b[38;5;66;03m# restore the current task\u001b[39;00m\n\u001b[32m    136\u001b[39m     \u001b[38;5;28;01mif\u001b[39;00m curr_task \u001b[38;5;129;01mis\u001b[39;00m \u001b[38;5;129;01mnot\u001b[39;00m \u001b[38;5;28;01mNone\u001b[39;00m:\n",
      "\u001b[36mFile \u001b[39m\u001b[32m~/miniconda3/envs/srf-env/lib/python3.11/asyncio/events.py:84\u001b[39m, in \u001b[36mHandle._run\u001b[39m\u001b[34m(self)\u001b[39m\n\u001b[32m     82\u001b[39m \u001b[38;5;28;01mdef\u001b[39;00m\u001b[38;5;250m \u001b[39m\u001b[34m_run\u001b[39m(\u001b[38;5;28mself\u001b[39m):\n\u001b[32m     83\u001b[39m     \u001b[38;5;28;01mtry\u001b[39;00m:\n\u001b[32m---> \u001b[39m\u001b[32m84\u001b[39m         \u001b[38;5;28mself\u001b[39m._context.run(\u001b[38;5;28mself\u001b[39m._callback, *\u001b[38;5;28mself\u001b[39m._args)\n\u001b[32m     85\u001b[39m     \u001b[38;5;28;01mexcept\u001b[39;00m (\u001b[38;5;167;01mSystemExit\u001b[39;00m, \u001b[38;5;167;01mKeyboardInterrupt\u001b[39;00m):\n\u001b[32m     86\u001b[39m         \u001b[38;5;28;01mraise\u001b[39;00m\n",
      "\u001b[36mFile \u001b[39m\u001b[32m~/miniconda3/envs/srf-env/lib/python3.11/asyncio/tasks.py:360\u001b[39m, in \u001b[36mTask.__wakeup\u001b[39m\u001b[34m(self, future)\u001b[39m\n\u001b[32m    352\u001b[39m     \u001b[38;5;28mself\u001b[39m.__step(exc)\n\u001b[32m    353\u001b[39m \u001b[38;5;28;01melse\u001b[39;00m:\n\u001b[32m    354\u001b[39m     \u001b[38;5;66;03m# Don't pass the value of `future.result()` explicitly,\u001b[39;00m\n\u001b[32m    355\u001b[39m     \u001b[38;5;66;03m# as `Future.__iter__` and `Future.__await__` don't need it.\u001b[39;00m\n\u001b[32m   (...)\u001b[39m\u001b[32m    358\u001b[39m     \u001b[38;5;66;03m# instead of `__next__()`, which is slower for futures\u001b[39;00m\n\u001b[32m    359\u001b[39m     \u001b[38;5;66;03m# that return non-generator iterators from their `__iter__`.\u001b[39;00m\n\u001b[32m--> \u001b[39m\u001b[32m360\u001b[39m     \u001b[38;5;28mself\u001b[39m.__step()\n\u001b[32m    361\u001b[39m \u001b[38;5;28mself\u001b[39m = \u001b[38;5;28;01mNone\u001b[39;00m\n",
      "\u001b[36mFile \u001b[39m\u001b[32m~/miniconda3/envs/srf-env/lib/python3.11/asyncio/tasks.py:277\u001b[39m, in \u001b[36mTask.__step\u001b[39m\u001b[34m(***failed resolving arguments***)\u001b[39m\n\u001b[32m    273\u001b[39m \u001b[38;5;28;01mtry\u001b[39;00m:\n\u001b[32m    274\u001b[39m     \u001b[38;5;28;01mif\u001b[39;00m exc \u001b[38;5;129;01mis\u001b[39;00m \u001b[38;5;28;01mNone\u001b[39;00m:\n\u001b[32m    275\u001b[39m         \u001b[38;5;66;03m# We use the `send` method directly, because coroutines\u001b[39;00m\n\u001b[32m    276\u001b[39m         \u001b[38;5;66;03m# don't have `__iter__` and `__next__` methods.\u001b[39;00m\n\u001b[32m--> \u001b[39m\u001b[32m277\u001b[39m         result = coro.send(\u001b[38;5;28;01mNone\u001b[39;00m)\n\u001b[32m    278\u001b[39m     \u001b[38;5;28;01melse\u001b[39;00m:\n\u001b[32m    279\u001b[39m         result = coro.throw(exc)\n",
      "\u001b[36mFile \u001b[39m\u001b[32m~/miniconda3/envs/srf-env/lib/python3.11/site-packages/inspect_ai/_eval/task/run.py:329\u001b[39m, in \u001b[36mtask_run.<locals>.run_sample.<locals>.run\u001b[39m\u001b[34m(tg)\u001b[39m\n\u001b[32m    327\u001b[39m \u001b[38;5;28;01mtry\u001b[39;00m:\n\u001b[32m    328\u001b[39m     \u001b[38;5;28;01mnonlocal\u001b[39;00m result\n\u001b[32m--> \u001b[39m\u001b[32m329\u001b[39m     result = \u001b[38;5;28;01mawait\u001b[39;00m task_run_sample(\n\u001b[32m    330\u001b[39m         tg=tg,\n\u001b[32m    331\u001b[39m         task_name=task.name,\n\u001b[32m    332\u001b[39m         log_location=profile.log_location,\n\u001b[32m    333\u001b[39m         sample=sample,\n\u001b[32m    334\u001b[39m         state=state,\n\u001b[32m    335\u001b[39m         sandbox=sandbox,\n\u001b[32m    336\u001b[39m         max_sandboxes=config.max_sandboxes,\n\u001b[32m    337\u001b[39m         sandbox_cleanup=sandbox_cleanup,\n\u001b[32m    338\u001b[39m         plan=plan,\n\u001b[32m    339\u001b[39m         scorers=scorers,\n\u001b[32m    340\u001b[39m         generate=generate,\n\u001b[32m    341\u001b[39m         progress=progress,\n\u001b[32m    342\u001b[39m         logger=logger \u001b[38;5;28;01mif\u001b[39;00m log_samples \u001b[38;5;28;01melse\u001b[39;00m \u001b[38;5;28;01mNone\u001b[39;00m,\n\u001b[32m    343\u001b[39m         log_images=log_images,\n\u001b[32m    344\u001b[39m         sample_source=sample_source,\n\u001b[32m    345\u001b[39m         sample_error=sample_error_handler,\n\u001b[32m    346\u001b[39m         sample_complete=sample_complete,\n\u001b[32m    347\u001b[39m         fails_on_error=(\n\u001b[32m    348\u001b[39m             config.fail_on_error \u001b[38;5;129;01mis\u001b[39;00m \u001b[38;5;28;01mNone\u001b[39;00m\n\u001b[32m    349\u001b[39m             \u001b[38;5;129;01mor\u001b[39;00m config.fail_on_error \u001b[38;5;129;01mis\u001b[39;00m \u001b[38;5;28;01mTrue\u001b[39;00m\n\u001b[32m    350\u001b[39m         ),\n\u001b[32m    351\u001b[39m         retry_on_error=config.retry_on_error \u001b[38;5;129;01mor\u001b[39;00m \u001b[32m0\u001b[39m,\n\u001b[32m    352\u001b[39m         error_retries=[],\n\u001b[32m    353\u001b[39m         time_limit=config.time_limit,\n\u001b[32m    354\u001b[39m         working_limit=config.working_limit,\n\u001b[32m    355\u001b[39m         semaphore=sample_semaphore,\n\u001b[32m    356\u001b[39m         run_id=logger.eval.run_id,\n\u001b[32m    357\u001b[39m         task_id=logger.eval.eval_id,\n\u001b[32m    358\u001b[39m     )\n\u001b[32m    359\u001b[39m \u001b[38;5;28;01mfinally\u001b[39;00m:\n\u001b[32m    360\u001b[39m     tg.cancel_scope.cancel()\n",
      "\u001b[36mFile \u001b[39m\u001b[32m~/miniconda3/envs/srf-env/lib/python3.11/site-packages/inspect_ai/_eval/task/run.py:933\u001b[39m, in \u001b[36mtask_run_sample\u001b[39m\u001b[34m(tg, task_name, log_location, sample, state, sandbox, max_sandboxes, sandbox_cleanup, plan, scorers, generate, progress, logger, log_images, sample_source, sample_error, sample_complete, fails_on_error, retry_on_error, error_retries, time_limit, working_limit, semaphore, run_id, task_id)\u001b[39m\n\u001b[32m    931\u001b[39m \u001b[38;5;66;03m# we have an error and should raise it\u001b[39;00m\n\u001b[32m    932\u001b[39m \u001b[38;5;28;01melif\u001b[39;00m raise_error \u001b[38;5;129;01mis\u001b[39;00m \u001b[38;5;129;01mnot\u001b[39;00m \u001b[38;5;28;01mNone\u001b[39;00m:\n\u001b[32m--> \u001b[39m\u001b[32m933\u001b[39m     \u001b[38;5;28;01mraise\u001b[39;00m raise_error\n\u001b[32m    935\u001b[39m \u001b[38;5;66;03m# we have an error and should not raise it\u001b[39;00m\n\u001b[32m    936\u001b[39m \u001b[38;5;28;01melse\u001b[39;00m:\n\u001b[32m    937\u001b[39m     \u001b[38;5;28;01mreturn\u001b[39;00m \u001b[38;5;28;01mNone\u001b[39;00m\n",
      "\u001b[36mFile \u001b[39m\u001b[32m~/miniconda3/envs/srf-env/lib/python3.11/site-packages/inspect_ai/_eval/task/run.py:723\u001b[39m, in \u001b[36mtask_run_sample\u001b[39m\u001b[34m(tg, task_name, log_location, sample, state, sandbox, max_sandboxes, sandbox_cleanup, plan, scorers, generate, progress, logger, log_images, sample_source, sample_error, sample_complete, fails_on_error, retry_on_error, error_retries, time_limit, working_limit, semaphore, run_id, task_id)\u001b[39m\n\u001b[32m    721\u001b[39m         \u001b[38;5;66;03m# set progress for plan then run it\u001b[39;00m\n\u001b[32m    722\u001b[39m         \u001b[38;5;28;01masync\u001b[39;00m \u001b[38;5;28;01mwith\u001b[39;00m span(\u001b[33m\"\u001b[39m\u001b[33msolvers\u001b[39m\u001b[33m\"\u001b[39m):\n\u001b[32m--> \u001b[39m\u001b[32m723\u001b[39m             state = \u001b[38;5;28;01mawait\u001b[39;00m plan(state, generate)\n\u001b[32m    725\u001b[39m \u001b[38;5;28;01mexcept\u001b[39;00m \u001b[38;5;167;01mTimeoutError\u001b[39;00m:\n\u001b[32m    726\u001b[39m     \u001b[38;5;66;03m# Scoped time limits manifest themselves as LimitExceededError, not\u001b[39;00m\n\u001b[32m    727\u001b[39m     \u001b[38;5;66;03m# TimeoutError.\u001b[39;00m\n\u001b[32m    728\u001b[39m     py_logger.warning(\n\u001b[32m    729\u001b[39m         \u001b[33m\"\u001b[39m\u001b[33mUnexpected timeout error reached top of sample stack. Are you handling TimeoutError when applying timeouts?\u001b[39m\u001b[33m\"\u001b[39m\n\u001b[32m    730\u001b[39m     )\n",
      "\u001b[36mFile \u001b[39m\u001b[32m~/miniconda3/envs/srf-env/lib/python3.11/site-packages/inspect_ai/solver/_plan.py:105\u001b[39m, in \u001b[36mPlan.__call__\u001b[39m\u001b[34m(self, state, generate)\u001b[39m\n\u001b[32m    101\u001b[39m \u001b[38;5;28;01mtry\u001b[39;00m:\n\u001b[32m    102\u001b[39m     \u001b[38;5;66;03m# execute steps\u001b[39;00m\n\u001b[32m    103\u001b[39m     \u001b[38;5;28;01mfor\u001b[39;00m index, solver \u001b[38;5;129;01min\u001b[39;00m \u001b[38;5;28menumerate\u001b[39m(\u001b[38;5;28mself\u001b[39m.steps):\n\u001b[32m    104\u001b[39m         \u001b[38;5;66;03m# run solver\u001b[39;00m\n\u001b[32m--> \u001b[39m\u001b[32m105\u001b[39m         \u001b[38;5;28;01masync\u001b[39;00m \u001b[38;5;28;01mwith\u001b[39;00m solver_transcript(solver, state) \u001b[38;5;28;01mas\u001b[39;00m st:\n\u001b[32m    106\u001b[39m             state = \u001b[38;5;28;01mawait\u001b[39;00m solver(state, generate)\n\u001b[32m    107\u001b[39m             st.complete(state)\n",
      "\u001b[36mFile \u001b[39m\u001b[32m~/miniconda3/envs/srf-env/lib/python3.11/contextlib.py:210\u001b[39m, in \u001b[36m_AsyncGeneratorContextManager.__aenter__\u001b[39m\u001b[34m(self)\u001b[39m\n\u001b[32m    208\u001b[39m \u001b[38;5;28;01mdel\u001b[39;00m \u001b[38;5;28mself\u001b[39m.args, \u001b[38;5;28mself\u001b[39m.kwds, \u001b[38;5;28mself\u001b[39m.func\n\u001b[32m    209\u001b[39m \u001b[38;5;28;01mtry\u001b[39;00m:\n\u001b[32m--> \u001b[39m\u001b[32m210\u001b[39m     \u001b[38;5;28;01mreturn\u001b[39;00m \u001b[38;5;28;01mawait\u001b[39;00m anext(\u001b[38;5;28mself\u001b[39m.gen)\n\u001b[32m    211\u001b[39m \u001b[38;5;28;01mexcept\u001b[39;00m \u001b[38;5;167;01mStopAsyncIteration\u001b[39;00m:\n\u001b[32m    212\u001b[39m     \u001b[38;5;28;01mraise\u001b[39;00m \u001b[38;5;167;01mRuntimeError\u001b[39;00m(\u001b[33m\"\u001b[39m\u001b[33mgenerator didn\u001b[39m\u001b[33m'\u001b[39m\u001b[33mt yield\u001b[39m\u001b[33m\"\u001b[39m) \u001b[38;5;28;01mfrom\u001b[39;00m\u001b[38;5;250m \u001b[39m\u001b[38;5;28;01mNone\u001b[39;00m\n",
      "\u001b[36mFile \u001b[39m\u001b[32m~/miniconda3/envs/srf-env/lib/python3.11/site-packages/inspect_ai/solver/_transcript.py:31\u001b[39m, in \u001b[36msolver_transcript\u001b[39m\u001b[34m(solver, state, name)\u001b[39m\n\u001b[32m     26\u001b[39m \u001b[38;5;129m@contextlib\u001b[39m.asynccontextmanager\n\u001b[32m     27\u001b[39m \u001b[38;5;28;01masync\u001b[39;00m \u001b[38;5;28;01mdef\u001b[39;00m\u001b[38;5;250m \u001b[39m\u001b[34msolver_transcript\u001b[39m(\n\u001b[32m     28\u001b[39m     solver: Solver, state: TaskState, name: \u001b[38;5;28mstr\u001b[39m | \u001b[38;5;28;01mNone\u001b[39;00m = \u001b[38;5;28;01mNone\u001b[39;00m\n\u001b[32m     29\u001b[39m ) -> AsyncIterator[SolverTranscript]:\n\u001b[32m     30\u001b[39m     name = registry_log_name(name \u001b[38;5;129;01mor\u001b[39;00m solver)\n\u001b[32m---> \u001b[39m\u001b[32m31\u001b[39m     \u001b[38;5;28;01masync\u001b[39;00m \u001b[38;5;28;01mwith\u001b[39;00m span(name=name, \u001b[38;5;28mtype\u001b[39m=\u001b[33m\"\u001b[39m\u001b[33msolver\u001b[39m\u001b[33m\"\u001b[39m):\n\u001b[32m     32\u001b[39m         \u001b[38;5;28;01myield\u001b[39;00m SolverTranscript(name, state)\n",
      "\u001b[36mFile \u001b[39m\u001b[32m~/miniconda3/envs/srf-env/lib/python3.11/contextlib.py:210\u001b[39m, in \u001b[36m_AsyncGeneratorContextManager.__aenter__\u001b[39m\u001b[34m(self)\u001b[39m\n\u001b[32m    208\u001b[39m \u001b[38;5;28;01mdel\u001b[39;00m \u001b[38;5;28mself\u001b[39m.args, \u001b[38;5;28mself\u001b[39m.kwds, \u001b[38;5;28mself\u001b[39m.func\n\u001b[32m    209\u001b[39m \u001b[38;5;28;01mtry\u001b[39;00m:\n\u001b[32m--> \u001b[39m\u001b[32m210\u001b[39m     \u001b[38;5;28;01mreturn\u001b[39;00m \u001b[38;5;28;01mawait\u001b[39;00m anext(\u001b[38;5;28mself\u001b[39m.gen)\n\u001b[32m    211\u001b[39m \u001b[38;5;28;01mexcept\u001b[39;00m \u001b[38;5;167;01mStopAsyncIteration\u001b[39;00m:\n\u001b[32m    212\u001b[39m     \u001b[38;5;28;01mraise\u001b[39;00m \u001b[38;5;167;01mRuntimeError\u001b[39;00m(\u001b[33m\"\u001b[39m\u001b[33mgenerator didn\u001b[39m\u001b[33m'\u001b[39m\u001b[33mt yield\u001b[39m\u001b[33m\"\u001b[39m) \u001b[38;5;28;01mfrom\u001b[39;00m\u001b[38;5;250m \u001b[39m\u001b[38;5;28;01mNone\u001b[39;00m\n",
      "\u001b[36mFile \u001b[39m\u001b[32m~/miniconda3/envs/srf-env/lib/python3.11/site-packages/inspect_ai/util/_span.py:30\u001b[39m, in \u001b[36mspan\u001b[39m\u001b[34m(name, type)\u001b[39m\n\u001b[32m     27\u001b[39m \u001b[38;5;28mid\u001b[39m = uuid4().hex\n\u001b[32m     29\u001b[39m \u001b[38;5;66;03m# span caller context\u001b[39;00m\n\u001b[32m---> \u001b[39m\u001b[32m30\u001b[39m frame = inspect.stack()[\u001b[32m1\u001b[39m]\n\u001b[32m     31\u001b[39m caller = \u001b[33mf\u001b[39m\u001b[33m\"\u001b[39m\u001b[38;5;132;01m{\u001b[39;00mframe.function\u001b[38;5;132;01m}\u001b[39;00m\u001b[33m() [\u001b[39m\u001b[38;5;132;01m{\u001b[39;00mframe.filename\u001b[38;5;132;01m}\u001b[39;00m\u001b[33m:\u001b[39m\u001b[38;5;132;01m{\u001b[39;00mframe.lineno\u001b[38;5;132;01m}\u001b[39;00m\u001b[33m]\u001b[39m\u001b[33m\"\u001b[39m\n\u001b[32m     33\u001b[39m \u001b[38;5;66;03m# capture parent id\u001b[39;00m\n",
      "\u001b[36mFile \u001b[39m\u001b[32m~/miniconda3/envs/srf-env/lib/python3.11/inspect.py:1751\u001b[39m, in \u001b[36mstack\u001b[39m\u001b[34m(context)\u001b[39m\n\u001b[32m   1749\u001b[39m \u001b[38;5;28;01mdef\u001b[39;00m\u001b[38;5;250m \u001b[39m\u001b[34mstack\u001b[39m(context=\u001b[32m1\u001b[39m):\n\u001b[32m   1750\u001b[39m \u001b[38;5;250m    \u001b[39m\u001b[33;03m\"\"\"Return a list of records for the stack above the caller's frame.\"\"\"\u001b[39;00m\n\u001b[32m-> \u001b[39m\u001b[32m1751\u001b[39m     \u001b[38;5;28;01mreturn\u001b[39;00m getouterframes(sys._getframe(\u001b[32m1\u001b[39m), context)\n",
      "\u001b[36mFile \u001b[39m\u001b[32m~/miniconda3/envs/srf-env/lib/python3.11/inspect.py:1726\u001b[39m, in \u001b[36mgetouterframes\u001b[39m\u001b[34m(frame, context)\u001b[39m\n\u001b[32m   1724\u001b[39m framelist = []\n\u001b[32m   1725\u001b[39m \u001b[38;5;28;01mwhile\u001b[39;00m frame:\n\u001b[32m-> \u001b[39m\u001b[32m1726\u001b[39m     traceback_info = getframeinfo(frame, context)\n\u001b[32m   1727\u001b[39m     frameinfo = (frame,) + traceback_info\n\u001b[32m   1728\u001b[39m     framelist.append(FrameInfo(*frameinfo, positions=traceback_info.positions))\n",
      "\u001b[36mFile \u001b[39m\u001b[32m~/miniconda3/envs/srf-env/lib/python3.11/inspect.py:1684\u001b[39m, in \u001b[36mgetframeinfo\u001b[39m\u001b[34m(frame, context)\u001b[39m\n\u001b[32m   1681\u001b[39m \u001b[38;5;28;01mif\u001b[39;00m \u001b[38;5;129;01mnot\u001b[39;00m isframe(frame):\n\u001b[32m   1682\u001b[39m     \u001b[38;5;28;01mraise\u001b[39;00m \u001b[38;5;167;01mTypeError\u001b[39;00m(\u001b[33m'\u001b[39m\u001b[38;5;132;01m{!r}\u001b[39;00m\u001b[33m is not a frame or traceback object\u001b[39m\u001b[33m'\u001b[39m.format(frame))\n\u001b[32m-> \u001b[39m\u001b[32m1684\u001b[39m filename = getsourcefile(frame) \u001b[38;5;129;01mor\u001b[39;00m getfile(frame)\n\u001b[32m   1685\u001b[39m \u001b[38;5;28;01mif\u001b[39;00m context > \u001b[32m0\u001b[39m:\n\u001b[32m   1686\u001b[39m     start = lineno - \u001b[32m1\u001b[39m - context//\u001b[32m2\u001b[39m\n",
      "\u001b[36mFile \u001b[39m\u001b[32m~/miniconda3/envs/srf-env/lib/python3.11/inspect.py:948\u001b[39m, in \u001b[36mgetsourcefile\u001b[39m\u001b[34m(object)\u001b[39m\n\u001b[32m    946\u001b[39m     \u001b[38;5;28;01mreturn\u001b[39;00m filename\n\u001b[32m    947\u001b[39m \u001b[38;5;66;03m# only return a non-existent filename if the module has a PEP 302 loader\u001b[39;00m\n\u001b[32m--> \u001b[39m\u001b[32m948\u001b[39m module = getmodule(\u001b[38;5;28mobject\u001b[39m, filename)\n\u001b[32m    949\u001b[39m \u001b[38;5;28;01mif\u001b[39;00m \u001b[38;5;28mgetattr\u001b[39m(module, \u001b[33m'\u001b[39m\u001b[33m__loader__\u001b[39m\u001b[33m'\u001b[39m, \u001b[38;5;28;01mNone\u001b[39;00m) \u001b[38;5;129;01mis\u001b[39;00m \u001b[38;5;129;01mnot\u001b[39;00m \u001b[38;5;28;01mNone\u001b[39;00m:\n\u001b[32m    950\u001b[39m     \u001b[38;5;28;01mreturn\u001b[39;00m filename\n",
      "\u001b[36mFile \u001b[39m\u001b[32m~/miniconda3/envs/srf-env/lib/python3.11/inspect.py:988\u001b[39m, in \u001b[36mgetmodule\u001b[39m\u001b[34m(object, _filename)\u001b[39m\n\u001b[32m    985\u001b[39m \u001b[38;5;66;03m# Update the filename to module name cache and check yet again\u001b[39;00m\n\u001b[32m    986\u001b[39m \u001b[38;5;66;03m# Copy sys.modules in order to cope with changes while iterating\u001b[39;00m\n\u001b[32m    987\u001b[39m \u001b[38;5;28;01mfor\u001b[39;00m modname, module \u001b[38;5;129;01min\u001b[39;00m sys.modules.copy().items():\n\u001b[32m--> \u001b[39m\u001b[32m988\u001b[39m     \u001b[38;5;28;01mif\u001b[39;00m ismodule(module) \u001b[38;5;129;01mand\u001b[39;00m \u001b[38;5;28mhasattr\u001b[39m(module, \u001b[33m'\u001b[39m\u001b[33m__file__\u001b[39m\u001b[33m'\u001b[39m):\n\u001b[32m    989\u001b[39m         f = module.\u001b[34m__file__\u001b[39m\n\u001b[32m    990\u001b[39m         \u001b[38;5;28;01mif\u001b[39;00m f == _filesbymodname.get(modname, \u001b[38;5;28;01mNone\u001b[39;00m):\n\u001b[32m    991\u001b[39m             \u001b[38;5;66;03m# Have already mapped this module, so skip it\u001b[39;00m\n",
      "\u001b[31mKeyboardInterrupt\u001b[39m: "
     ]
    }
   ],
   "source": [
    "inspect_ai.eval(humaneval(), model = 'openai/gpt-4o-mini', epochs = 1)"
   ]
  },
  {
   "cell_type": "markdown",
   "id": "e24e2c66",
   "metadata": {},
   "source": [
    "#### Working Scorers"
   ]
  },
  {
   "cell_type": "code",
   "execution_count": 62,
   "id": "331e88cb",
   "metadata": {},
   "outputs": [],
   "source": [
    "# JS SCORER\n",
    "\n",
    "@scorer(metrics=[accuracy(), stderr()])\n",
    "def js_scorer() -> Scorer:\n",
    "    async def score(state: TaskState, target: Target) -> Score:\n",
    "        task_id = state.sample_id\n",
    "        idx = int(task_id.split('/')[1])\n",
    "        ans = get_code_idx(idx)\n",
    "\n",
    "        try:\n",
    "            result = await sandbox().exec(\n",
    "                cmd=[\"node\", \"-e\", ans],\n",
    "                timeout=30,\n",
    "            )\n",
    "        except TimeoutError:\n",
    "            result = ExecResult(False, 1, \"\", \"Verification timed out.\")\n",
    "\n",
    "        return Score(\n",
    "            value=CORRECT if result.success else INCORRECT,\n",
    "            explanation=\"\".join(\n",
    "                [\"The following verification code was executed:\\n\\n\"]\n",
    "                + [\"```python\\n\\n\"]\n",
    "                + [ans]\n",
    "                + [\"\\n```\\n\"]\n",
    "                + [f\"\\nThe submission was incorrect\\n\\n{result.stderr}\"]\n",
    "                if not result.success\n",
    "                else [\"\"]\n",
    "            ),\n",
    "        )\n",
    "\n",
    "    return score"
   ]
  },
  {
   "cell_type": "markdown",
   "id": "45a2d759",
   "metadata": {},
   "source": [
    "JS NOTES  \n",
    "- remember to install node.js!  \n",
    "    `apt-get update`  \n",
    "    `apt-get install -y curl`  \n",
    "    `curl -fsSL https://deb.nodesource.com/setup_lts.x | bash -`  \n",
    "    `apt-get install -y nodejs`  \n",
    "    verify installation: `node -v` // `npm -v` // `node -e \"console.log('Node.js is working')\"`  \n",
    "- "
   ]
  },
  {
   "cell_type": "code",
   "execution_count": 63,
   "id": "d8e40e30",
   "metadata": {},
   "outputs": [],
   "source": [
    "# PYTHON SCORER\n",
    "\n",
    "@scorer(metrics=[accuracy(), stderr()])\n",
    "def python_scorer() -> Scorer:\n",
    "    async def score(state: TaskState, target: Target) -> Score:\n",
    "        task_id = state.sample_id\n",
    "        idx = int(task_id.split('/')[1])\n",
    "        ans = get_code_idx(idx)\n",
    "\n",
    "        try:\n",
    "            result = await sandbox().exec(\n",
    "                cmd=[\"python\", \"-c\", ans],\n",
    "                timeout=30,\n",
    "            )\n",
    "        except TimeoutError:\n",
    "            result = ExecResult(False, 1, \"\", \"Verification timed out.\")\n",
    "\n",
    "        return Score(\n",
    "            value=CORRECT if result.success else INCORRECT,\n",
    "            explanation=\"\".join(\n",
    "                [\"The following verification code was executed:\\n\\n\"]\n",
    "                + [\"```python\\n\\n\"]\n",
    "                + [ans]\n",
    "                + [\"\\n```\\n\"]\n",
    "                + [f\"\\nThe submission was incorrect\\n\\n{result.stderr}\"]\n",
    "                if not result.success\n",
    "                else [\"\"]\n",
    "            ),\n",
    "        )\n",
    "\n",
    "    return score"
   ]
  },
  {
   "cell_type": "markdown",
   "id": "436e5c3a",
   "metadata": {},
   "source": [
    "### Ignore RN"
   ]
  },
  {
   "cell_type": "code",
   "execution_count": null,
   "id": "0bcf9dd8",
   "metadata": {},
   "outputs": [],
   "source": [
    "def process_humaneval_test(sample, problems):\n",
    "    task_id = sample[\"task_id\"]\n",
    "    language = task_id.split(\"/\")[0].lower()\n",
    "\n",
    "    prompt = sample[\"prompt\"]\n",
    "    test = problems[task_id][\"test\"]\n",
    "    code = sample[\"generation\"]\n",
    "\n",
    "    # Pre-process for different languages\n",
    "    if language == \"python\":\n",
    "        code_ = []\n",
    "        for line in code.split(\"\\n\"):\n",
    "            if (len(line.strip()) > 0 and line[0] != ' ' and line[0] != '\\t'):\n",
    "                break\n",
    "            code_.append(line)\n",
    "        code = \"\\n\".join(code_)\n",
    "        test_setup = \"\\n\".join(IMPORT_HELPER[\"python\"]) + \"\\n\"\n",
    "        test_string = test_setup + prompt + code + \"\\n\" + test + \"\\n\"\n",
    "    elif language == \"cpp\":\n",
    "        test_set_up = \"\"\n",
    "        for s in IMPORT_HELPER[\"cpp\"]:\n",
    "            if s not in prompt:\n",
    "                test_set_up += s + \"\\n\"\n",
    "        test_string = test_set_up + \"\\n\" + prompt + code + \"\\n\" + test\n",
    "    elif language == \"java\":\n",
    "        test_string = prompt + code + \"\\n\" + test\n",
    "    elif language == \"js\" or language == \"javascript\":\n",
    "        test_string = prompt + code + \"\\n\" + test\n",
    "    elif language == \"go\":\n",
    "        import_string = problems[task_id][\"import\"]\n",
    "        prompt = prompt.replace(import_string, \"\")\n",
    "        test = problems[task_id][\"test\"]\n",
    "        test_setup = problems[task_id][\"test_setup\"]\n",
    "        other_pkgs = []\n",
    "        for pkg in IMPORT_HELPER[\"go\"]:\n",
    "            if pkg not in test_setup:\n",
    "                p = pkg.split(\"/\")[-1]\n",
    "                if p + \".\" in code:\n",
    "                    other_pkgs.append(f\"\\\"{pkg}\\\"\")\n",
    "        if other_pkgs:\n",
    "            import_other_pkgs = \"import (\\n\" + \"    \".join([p + \"\\n\" for p in other_pkgs]) + \")\"\n",
    "            test_string = test_setup + \"\\n\" + import_other_pkgs + \"\\n\" + prompt + code + \"\\n\" + test\n",
    "        else:\n",
    "            test_string = test_setup + \"\\n\" + prompt + code + \"\\n\" + test\n",
    "\n",
    "    return test_string"
   ]
  },
  {
   "cell_type": "code",
   "execution_count": null,
   "id": "dc99568e",
   "metadata": {},
   "outputs": [],
   "source": [
    "sample_jsonl = python_content\n",
    "for sample in tqdm(sample_jsonl):\n",
    "    task_id = sample['task_id']\n",
    "    lang = task_id.split('/')[0].lower()\n",
    "    if lang == 'javascript': \n",
    "        lang = 'js'\n",
    "    \n",
    "    sample[]"
   ]
  },
  {
   "cell_type": "code",
   "execution_count": null,
   "id": "687c62f2",
   "metadata": {},
   "outputs": [],
   "source": [
    "def evaluate_functional_correctness(\n",
    "        input_file: str = None,\n",
    "        tmp_dir: str = \"./\",\n",
    "        n_workers: int = 32,\n",
    "        timeout: float = 500.0,\n",
    "        problem_file: str = \"../data/humaneval_python.jsonl.gz\",\n",
    "        out_dir: str = None,\n",
    "        k: List[int] = [1, 10, 100],\n",
    "):\n",
    "    \n",
    "    problems = read_dataset(problem_file,\n",
    "                            dataset_type=\"humaneval\")\n",
    "    sample_jsonl = stream_jsonl_all(input_file)\n",
    "\n",
    "    suffix = \"_results.jsonl\"\n",
    "    if out_dir is not None:\n",
    "        if not os.path.exists(out_dir):\n",
    "            os.makedirs(out_dir)\n",
    "        out_file = os.path.join(out_dir, input_file.split('/')[-1].replace(\".jsonl\", suffix))\n",
    "    else:\n",
    "        out_file = os.path.join(input_file.replace(\".jsonl\", suffix))\n",
    "\n",
    "    if \"/codegeex/benchmark/humaneval-x/\" in input_file:\n",
    "        test_groundtruth = True\n",
    "\n",
    "    if \"-to-\" in input_file:\n",
    "        translation_mode = True\n",
    "    else:\n",
    "        translation_mode = False\n",
    "\n",
    "    with ThreadPoolExecutor(max_workers=n_workers) as executor:\n",
    "\n",
    "        futures = []\n",
    "        completion_id = Counter()\n",
    "        n_samples = 0\n",
    "        results = defaultdict(list)\n",
    "\n",
    "        print(\"Reading samples...\")\n",
    "        for sample in tqdm(sample_jsonl):\n",
    "            task_id = sample[\"task_id\"]\n",
    "            lang = task_id.split(\"/\")[0].lower()\n",
    "            if translation_mode:\n",
    "                task_id = sample[\"task_id\"].split(\"/\")[-1]\n",
    "                lang = regex.findall(\"-to-.*-\", input_file)[0].split(\"-to-\")[-1].rstrip(\"-\")\n",
    "                for l in LANGUAGE_NAME:\n",
    "                    if l in lang:\n",
    "                        lang = l\n",
    "                        break\n",
    "                task_id = f\"{LANGUAGE_NAME[lang]}/{task_id}\"\n",
    "            if lang == \"javascript\":\n",
    "                lang = \"js\"\n",
    "            tmp_dir_ = os.path.join(tmp_dir, lang, \"evaluation\")\n",
    "            sample[\"task_id\"] = task_id\n",
    "            sample[\"test_code\"] = process_humaneval_test(sample, problems, False)\n",
    "            if sample[\"test_code\"] is None:\n",
    "                continue\n",
    "            if \"completion_id\" in sample:\n",
    "                completion_id_ = sample[\"completion_id\"]\n",
    "            else:\n",
    "                completion_id_ = completion_id[task_id]\n",
    "            args = (task_id, sample, lang, timeout, tmp_dir_, completion_id_)\n",
    "            future = executor.submit(check_correctness, *args)\n",
    "            futures.append(future)\n",
    "            completion_id[task_id] += 1\n",
    "            n_samples += 1\n",
    "\n",
    "        print(completion_id)\n",
    "        if len(completion_id) == len(problems):\n",
    "            evaluate_pass_at_k = True\n",
    "        else:\n",
    "            evaluate_pass_at_k = False\n",
    "\n",
    "        print(\"Running test suites...\")\n",
    "        for future in tqdm(as_completed(futures), total=len(futures)):\n",
    "            result = future.result()\n",
    "            results[result[\"task_id\"]].append((result[\"completion_id\"], result))\n",
    "\n",
    "\n",
    "\n",
    "    # Calculate pass@k.\n",
    "    total, correct = [], []\n",
    "    for result in results.values():\n",
    "        passed = [r[1][\"passed\"] for r in result]\n",
    "        total.append(len(passed))\n",
    "        correct.append(sum(passed))\n",
    "    total = np.array(total)\n",
    "    correct = np.array(correct)\n",
    "    if evaluate_pass_at_k:\n",
    "        ks = k\n",
    "        pass_at_k = {f\"pass@{k}\": estimate_pass_at_k(total, correct, k).mean()\n",
    "                     for k in ks if (total >= k).all()}\n",
    "        print(pass_at_k)\n",
    "    else:\n",
    "        print(\"Total:\", np.sum(total))\n",
    "        print(\"Correct:\", np.sum(correct))\n",
    "\n",
    "    print(\"Writing to: \", out_file)\n",
    "    if out_file.endswith(\".gz\"):\n",
    "        fp = gzip.GzipFile(fileobj=open(out_file, \"wb\"), mode=\"wb\")\n",
    "        for res in results.values():\n",
    "            for r in res:\n",
    "                fp.write((json.dumps(r[1]) + \"\\n\").encode(\"utf-8\"))\n",
    "    else:\n",
    "        fp = open(out_file, 'w')\n",
    "        for res in results.values():\n",
    "            for r in res:\n",
    "                fp.write(json.dumps(r[1]) + \"\\n\")\n",
    "    fp.close()\n",
    "\n",
    "    print(\"Evaluation finished.\")"
   ]
  },
  {
   "cell_type": "code",
   "execution_count": null,
   "id": "15b38c9c",
   "metadata": {},
   "outputs": [],
   "source": [
    "# GOAL – figure how humaneval-x generates / prompts model for code. compare w/ inspect.\n",
    "\n",
    "# with inspect, they\n",
    "#   a) prepend a default system prompt\n",
    "#   b) add the dataset['prompt']\n",
    "# \n",
    "# will this work for java, etc too? \n",
    "#   YA i think so. should be fine.\n",
    "# \n",
    "# \n"
   ]
  },
  {
   "cell_type": "code",
   "execution_count": null,
   "id": "b73c18c7",
   "metadata": {},
   "outputs": [],
   "source": [
    "def stream_jsonl(filename: str):\n",
    "    \"\"\"\n",
    "    Parses each jsonl line and yields it as a dictionary\n",
    "    \"\"\"\n",
    "    with open(filename, \"rb\") as gzfp:\n",
    "        with gzip.open(gzfp, \"rt\") as fp:\n",
    "            for line in fp:\n",
    "                if any(not x.isspace() for x in line):\n",
    "                    yield json.loads(line)\n",
    "\n",
    "def read_dataset(data_file: str = None):\n",
    "    dataset = {task[\"task_id\"]: task for task in stream_jsonl(data_file)}\n",
    "    return dataset"
   ]
  },
  {
   "cell_type": "code",
   "execution_count": null,
   "id": "29c69630",
   "metadata": {},
   "outputs": [],
   "source": [
    "path = 'data/humaneval_python.jsonl.gz'\n",
    "out = read_dataset(path)"
   ]
  }
 ],
 "metadata": {
  "kernelspec": {
   "display_name": "srf-env",
   "language": "python",
   "name": "python3"
  },
  "language_info": {
   "codemirror_mode": {
    "name": "ipython",
    "version": 3
   },
   "file_extension": ".py",
   "mimetype": "text/x-python",
   "name": "python",
   "nbconvert_exporter": "python",
   "pygments_lexer": "ipython3",
   "version": "3.11.13"
  }
 },
 "nbformat": 4,
 "nbformat_minor": 5
}
