{
 "cells": [
  {
   "cell_type": "markdown",
   "id": "73c1567d",
   "metadata": {},
   "source": [
    "### setup"
   ]
  },
  {
   "cell_type": "code",
   "execution_count": 1,
   "id": "b4417b7b",
   "metadata": {},
   "outputs": [],
   "source": [
    "import gzip\n",
    "import json\n",
    "from typing import List\n",
    "from collections import Counter, defaultdict\n",
    "from tqdm import tqdm\n",
    "import os\n",
    "import inspect_ai\n",
    "from openai import OpenAI\n",
    "from transformers import AutoTokenizer, AutoModelForCausalLM\n",
    "from huggingface_hub import login\n",
    "from dotenv import load_dotenv\n",
    "import torch as t\n",
    "import subprocess\n",
    "import contextlib\n",
    "import shutil\n",
    "import ast\n",
    "import textwrap"
   ]
  },
  {
   "cell_type": "code",
   "execution_count": 2,
   "id": "12a53e71",
   "metadata": {},
   "outputs": [],
   "source": [
    "from inspect_ai import Task, task\n",
    "from inspect_ai.dataset import Sample, hf_dataset\n",
    "from inspect_ai.util import ExecResult, sandbox\n",
    "from inspect_ai.scorer import CORRECT, INCORRECT, Score, Scorer, Target, accuracy, scorer, stderr\n",
    "from inspect_ai.solver import TaskState, generate\n",
    "from inspect_ai.model import get_model\n",
    "from inspect_ai.log import read_eval_log\n",
    "import re"
   ]
  },
  {
   "cell_type": "code",
   "execution_count": 3,
   "id": "7f4a4c6e",
   "metadata": {},
   "outputs": [
    {
     "ename": "KeyError",
     "evalue": "'HF_TOKEN'",
     "output_type": "error",
     "traceback": [
      "\u001b[31m---------------------------------------------------------------------------\u001b[39m",
      "\u001b[31mKeyError\u001b[39m                                  Traceback (most recent call last)",
      "\u001b[36mCell\u001b[39m\u001b[36m \u001b[39m\u001b[32mIn[3]\u001b[39m\u001b[32m, line 2\u001b[39m\n\u001b[32m      1\u001b[39m load_dotenv()\n\u001b[32m----> \u001b[39m\u001b[32m2\u001b[39m login(token = os.environ[\u001b[33m'\u001b[39m\u001b[33mHF_TOKEN\u001b[39m\u001b[33m'\u001b[39m])\n",
      "\u001b[36mFile \u001b[39m\u001b[32m<frozen os>:679\u001b[39m, in \u001b[36m__getitem__\u001b[39m\u001b[34m(self, key)\u001b[39m\n",
      "\u001b[31mKeyError\u001b[39m: 'HF_TOKEN'"
     ]
    }
   ],
   "source": [
    "load_dotenv()\n",
    "login(token = os.environ['HF_TOKEN'])"
   ]
  },
  {
   "cell_type": "code",
   "execution_count": null,
   "id": "e34683c4",
   "metadata": {},
   "outputs": [],
   "source": [
    "IMPORT_HELPER = {\n",
    "    \"python\": [\n",
    "        \"import math\",\n",
    "        \"import re\",\n",
    "        \"import sys\",\n",
    "        \"import copy\",\n",
    "        \"import datetime\",\n",
    "        \"import itertools\",\n",
    "        \"import collections\",\n",
    "        \"import heapq\",\n",
    "        \"import statistics\",\n",
    "        \"import functools\",\n",
    "        \"import hashlib\",\n",
    "        \"import numpy\",\n",
    "        \"import numpy as np\",\n",
    "        \"import string\",\n",
    "        \"from typing import *\",\n",
    "        \"from collections import *\",\n",
    "    ],\n",
    "    \"go\"    : [\n",
    "        \"math\",\n",
    "        \"strings\",\n",
    "        \"fmt\",\n",
    "        \"strconv\",\n",
    "        \"time\",\n",
    "        \"bytes\",\n",
    "        \"regexp\",\n",
    "        \"sort\",\n",
    "        \"math/rand\",\n",
    "        \"crypto/md5\",\n",
    "    ],\n",
    "    \"cpp\"   : [\n",
    "        \"#include<stdlib.h>\",\n",
    "        \"#include<algorithm>\",\n",
    "        \"#include<math.h>\",\n",
    "        \"#include<stdio.h>\",\n",
    "        \"#include<vector>\",\n",
    "        \"#include<string>\",\n",
    "        \"#include<climits>\",\n",
    "        \"#include<cstring>\",\n",
    "        \"#include<iostream>\",\n",
    "    ],\n",
    "}\n",
    "\n",
    "# instruction prepended to code problem\n",
    "HUMANEVAL_INSTRUCTION = \"\"\"\n",
    "Read the following function signature and docstring, and fully implement\n",
    "the function described. Your response should only contain the code for\n",
    "this function.\\n\n",
    "\"\"\"\n",
    "\n",
    "LANG_PREFIX = {\n",
    "    \"cpp\"          : \"// language: C++\",\n",
    "    \"java\"         : \"// language: Java\",\n",
    "    \"js\"           : \"// language: JavaScript\",\n",
    "    \"javascript\"   : \"// language: JavaScript\",\n",
    "    \"go\"           : \"// language: Go\",\n",
    "    \"python\"       : \"# language: Python\",\n",
    "}"
   ]
  },
  {
   "cell_type": "code",
   "execution_count": null,
   "id": "46096290",
   "metadata": {},
   "outputs": [],
   "source": [
    "# model = get_model(\n",
    "#         'hf/meta-llama/Llama-3.1-8B-Instruct', \n",
    "#         device = 'auto',\n",
    "#         torch_dtype=t.bfloat16,\n",
    "# )"
   ]
  },
  {
   "cell_type": "markdown",
   "id": "f264e082",
   "metadata": {},
   "source": [
    "### Data Processing"
   ]
  },
  {
   "cell_type": "code",
   "execution_count": 4,
   "id": "5d97a4bb",
   "metadata": {},
   "outputs": [],
   "source": [
    "def stream_jsonl_all(filename: str):\n",
    "    results = []\n",
    "    fp = gzip.open(open(filename, \"rb\"), \"rt\")\n",
    "    for line in fp:\n",
    "        if any(not x.isspace() for x in line):\n",
    "            results.append(json.loads(line))\n",
    "    fp.close()\n",
    "\n",
    "    return results"
   ]
  },
  {
   "cell_type": "code",
   "execution_count": 5,
   "id": "e98c1d97",
   "metadata": {},
   "outputs": [],
   "source": [
    "python_content = stream_jsonl_all('data/python_data.gz')\n",
    "cpp_content = stream_jsonl_all('data/cpp_data.gz')\n",
    "go_content = stream_jsonl_all('data/go_data.gz')\n",
    "java_content = stream_jsonl_all('data/java_data.gz')\n",
    "js_content = stream_jsonl_all('data/js_data.gz')\n",
    "content = [python_content, cpp_content, go_content, java_content, js_content]"
   ]
  },
  {
   "cell_type": "code",
   "execution_count": 6,
   "id": "3f8c1e03",
   "metadata": {},
   "outputs": [
    {
     "data": {
      "text/plain": [
       "'    for idx, elem in enumerate(numbers):\\n        for idx2, elem2 in enumerate(numbers):\\n            if idx != idx2:\\n                distance = abs(elem - elem2)\\n                if distance < threshold:\\n                    return True\\n\\n    return False\\n'"
      ]
     },
     "execution_count": 6,
     "metadata": {},
     "output_type": "execute_result"
    }
   ],
   "source": [
    "generations = stream_jsonl_all('data/python_generations.gz')\n",
    "generations[0]['generation']"
   ]
  },
  {
   "cell_type": "code",
   "execution_count": 7,
   "id": "f08897aa",
   "metadata": {},
   "outputs": [
    {
     "name": "stdout",
     "output_type": "stream",
     "text": [
      "dict_keys(['task_id', 'prompt', 'canonical_solution', 'test', 'text', 'declaration', 'example_test'])\n",
      "\n",
      "dict_keys(['task_id', 'prompt', 'canonical_solution', 'test', 'declaration', 'example_test'])\n",
      "\n",
      "dict_keys(['task_id', 'prompt', 'import', 'docstring', 'declaration', 'canonical_solution', 'test', 'test_setup', 'example_test'])\n",
      "\n",
      "dict_keys(['task_id', 'prompt', 'canonical_solution', 'test', 'text', 'declaration', 'example_test'])\n",
      "\n",
      "dict_keys(['task_id', 'prompt', 'canonical_solution', 'test', 'declaration', 'example_test'])\n",
      "\n"
     ]
    }
   ],
   "source": [
    "for lang in content:\n",
    "    print(lang[0].keys())\n",
    "    print()"
   ]
  },
  {
   "cell_type": "markdown",
   "id": "560a2490",
   "metadata": {},
   "source": [
    "### LLM output => code  \n",
    "*I need to see LLM output & transform that into code*"
   ]
  },
  {
   "cell_type": "markdown",
   "id": "5b5693bf",
   "metadata": {},
   "source": [
    "#### Running Eval"
   ]
  },
  {
   "cell_type": "code",
   "execution_count": 8,
   "id": "ce73ce2d",
   "metadata": {},
   "outputs": [],
   "source": [
    "# FIND CODE\n",
    "\n",
    "def find_code_new(completion: str) -> str:\n",
    "    pattern_1 = re.compile(r\"```python\\n(.*?)```\", re.DOTALL)\n",
    "    pattern_2 = re.compile(r\"```\\n(.*?)```\", re.DOTALL)\n",
    "    matches = pattern_1.findall(completion) + pattern_2.findall(completion)\n",
    "    if matches:\n",
    "        extracted_answer = matches[0]\n",
    "        extracted_answer = extract_function_body_new(extracted_answer)\n",
    "    else:\n",
    "        extracted_answer = completion\n",
    "    return str(extracted_answer)\n",
    "\n",
    "\n",
    "def extract_function_body_new(code: str) -> str:\n",
    "    try:\n",
    "        tree = ast.parse(code)\n",
    "        for node in tree.body:\n",
    "            if not isinstance(node, ast.FunctionDef):\n",
    "                continue\n",
    "            code_lines = code.splitlines()\n",
    "            start = node.body[0].lineno - 1\n",
    "            end = node.body[-1].end_lineno\n",
    "            body_lines = code_lines[start:end]\n",
    "            return \"\\n\".join(body_lines)\n",
    "\n",
    "    except Exception as e:\n",
    "        print(f\"Error extracting function body: {e}\")\n",
    "        return \"errormsg\""
   ]
  },
  {
   "cell_type": "code",
   "execution_count": null,
   "id": "f96eacc6",
   "metadata": {},
   "outputs": [],
   "source": [
    "def get_final_python(state, completion):\n",
    "    imports = \"\\n\".join(IMPORT_HELPER[\"python\"]) + \"\\n\"\n",
    "    final_code = imports + state.metadata['prompt'] + completion + \"\\n\" + state.metadata['test'] + \"\\n\"\n",
    "    return final_code"
   ]
  },
  {
   "cell_type": "code",
   "execution_count": null,
   "id": "922904de",
   "metadata": {},
   "outputs": [],
   "source": [
    "@scorer(metrics=[accuracy(), stderr()])\n",
    "def python_scorer() -> Scorer:\n",
    "    async def score(state: TaskState, target: Target) -> Score:\n",
    "        idx = state.sample_id\n",
    "        model_completion = state.output.completion\n",
    "        processed_completion = find_code_new(model_completion)\n",
    "        final_code = get_final_python(state, processed_completion)\n",
    "\n",
    "        if 'errormsg' in processed_completion:\n",
    "            print(f'error in sample: {idx}')\n",
    "\n",
    "        try:\n",
    "            result = await sandbox().exec(\n",
    "                cmd=[\"python\", \"-c\", final_code],\n",
    "                timeout=30,\n",
    "            )\n",
    "        except TimeoutError:\n",
    "            result = ExecResult(False, 1, \"\", \"Verification timed out.\")\n",
    "\n",
    "        return Score(\n",
    "            value=CORRECT if result.success else INCORRECT,\n",
    "            explanation=\"\".join(\n",
    "                [\"The following verification code was executed:\\n\\n\"]\n",
    "                + [final_code]\n",
    "                + [f\"\\n\\nThe submission was incorrect\\n\\n{result.stderr}\"]\n",
    "                if not result.success\n",
    "                else [\"\"]\n",
    "            ),\n",
    "            metadata={\n",
    "                'completion': model_completion,\n",
    "                'processed': processed_completion,\n",
    "                'final_code': final_code,\n",
    "            }\n",
    "        )\n",
    "\n",
    "    return score\n"
   ]
  },
  {
   "cell_type": "code",
   "execution_count": null,
   "id": "0d552c05",
   "metadata": {},
   "outputs": [],
   "source": [
    "lang = 'python'\n",
    "\n",
    "def humaneval_record_to_sample(record):\n",
    "    model_input = HUMANEVAL_INSTRUCTION + LANG_PREFIX[lang] + '\\n' + record['prompt'] \n",
    "    \n",
    "    return Sample(\n",
    "        id=record[\"task_id\"],\n",
    "        input=model_input,\n",
    "        target=record[\"canonical_solution\"],\n",
    "        metadata={\n",
    "            \"prompt\": record[\"prompt\"],\n",
    "            \"test\": record[\"test\"],\n",
    "        },\n",
    "    )\n",
    "\n",
    "humaneval_dataset = hf_dataset(\n",
    "    path = 'THUDM/humaneval-x',\n",
    "    name = lang,\n",
    "    split = 'test',\n",
    "    sample_fields = humaneval_record_to_sample,\n",
    "    trust = True,\n",
    ")"
   ]
  },
  {
   "cell_type": "code",
   "execution_count": null,
   "id": "6d44cecd",
   "metadata": {},
   "outputs": [],
   "source": [
    "samples = 164\n",
    "\n",
    "@task\n",
    "def humaneval():\n",
    "    return Task(\n",
    "        dataset = humaneval_dataset[:samples],\n",
    "        solver = generate(),\n",
    "        scorer = python_scorer(),\n",
    "        sandbox = 'local',\n",
    "    )"
   ]
  },
  {
   "cell_type": "code",
   "execution_count": null,
   "id": "18ebd63a",
   "metadata": {},
   "outputs": [],
   "source": [
    "epochs = 1\n",
    "inspect_ai.eval(humaneval(), model = model, epochs = epochs)"
   ]
  },
  {
   "cell_type": "markdown",
   "id": "33c1b7de",
   "metadata": {},
   "source": [
    "#### Checking outputs"
   ]
  },
  {
   "cell_type": "code",
   "execution_count": 35,
   "id": "0dfb94f6",
   "metadata": {},
   "outputs": [],
   "source": [
    "def find_code_test(completion: str) -> str:\n",
    "    # lang = 'python'\n",
    "\n",
    "    pattern_1 = re.compile(r\"```(?:python|javascript|java|cpp|go)\\n(.*?)```\", re.DOTALL)\n",
    "    pattern_2 = re.compile(r\"```\\n(.*?)```\", re.DOTALL)\n",
    "    matches = pattern_1.findall(completion) + pattern_2.findall(completion)\n",
    "    if matches:\n",
    "        extracted_answer = matches[0]\n",
    "    else:\n",
    "        extracted_answer = completion\n",
    "    return extracted_answer"
   ]
  },
  {
   "cell_type": "code",
   "execution_count": 36,
   "id": "3e5b712b",
   "metadata": {},
   "outputs": [
    {
     "name": "stdout",
     "output_type": "stream",
     "text": [
      "```python\n",
      "from typing import List\n",
      "\n",
      "def has_close_elements(numbers: List[float], threshold: float) -> bool:\n",
      "    \"\"\"\n",
      "    Check if in given list of numbers, are any two numbers closer to each other than given threshold.\n",
      "\n",
      "    Args:\n",
      "        numbers (List[float]): A list of floating point numbers.\n",
      "        threshold (float): The minimum distance between two numbers to be considered close.\n",
      "\n",
      "    Returns:\n",
      "        bool: True if any two numbers are closer than the threshold, False otherwise.\n",
      "    \"\"\"\n",
      "    for i in range(len(numbers)):\n",
      "        for j in range(i + 1, len(numbers)):\n",
      "            if abs(numbers[i] - numbers[j]) < threshold:\n",
      "                return True\n",
      "    return False\n",
      "```\n"
     ]
    }
   ],
   "source": [
    "idx = 0\n",
    "\n",
    "log = read_eval_log('/root/srf-project/test_humaneval-x/logs/python/python_llama-8b_1.eval')\n",
    "model_out = log.samples[idx].messages[-1].content\n",
    "\n",
    "print(model_out)"
   ]
  },
  {
   "cell_type": "code",
   "execution_count": 39,
   "id": "2bbaf038",
   "metadata": {},
   "outputs": [
    {
     "name": "stdout",
     "output_type": "stream",
     "text": [
      "from typing import List\n",
      "\n",
      "def has_close_elements(numbers: List[float], threshold: float) -> bool:\n",
      "    \"\"\"\n",
      "    Check if in given list of numbers, are any two numbers closer to each other than given threshold.\n",
      "\n",
      "    Args:\n",
      "        numbers (List[float]): A list of floating point numbers.\n",
      "        threshold (float): The minimum distance between two numbers to be considered close.\n",
      "\n",
      "    Returns:\n",
      "        bool: True if any two numbers are closer than the threshold, False otherwise.\n",
      "    \"\"\"\n",
      "    for i in range(len(numbers)):\n",
      "        for j in range(i + 1, len(numbers)):\n",
      "            if abs(numbers[i] - numbers[j]) < threshold:\n",
      "                return True\n",
      "    return False\n",
      "\n"
     ]
    }
   ],
   "source": [
    "out = find_code_test(model_out)\n",
    "print(out)"
   ]
  },
  {
   "cell_type": "code",
   "execution_count": null,
   "id": "0a933743",
   "metadata": {},
   "outputs": [],
   "source": [
    "target_id = 145\n",
    "idx = 0\n",
    "model_out = ''\n",
    "\n",
    "for i, sample in enumerate(log.samples):\n",
    "    id = int(sample.id.split('/')[-1])\n",
    "    if id == target_id:\n",
    "        idx = i\n",
    "        model_out = sample.messages[-1].content\n",
    "        print(i)\n",
    "        print()\n",
    "        print(model_out)\n",
    "        break\n"
   ]
  },
  {
   "cell_type": "code",
   "execution_count": null,
   "id": "df5b1934",
   "metadata": {},
   "outputs": [],
   "source": [
    "print(find_code_new(model_out))"
   ]
  }
 ],
 "metadata": {
  "kernelspec": {
   "display_name": "srf-env",
   "language": "python",
   "name": "python3"
  },
  "language_info": {
   "codemirror_mode": {
    "name": "ipython",
    "version": 3
   },
   "file_extension": ".py",
   "mimetype": "text/x-python",
   "name": "python",
   "nbconvert_exporter": "python",
   "pygments_lexer": "ipython3",
   "version": "3.11.13"
  }
 },
 "nbformat": 4,
 "nbformat_minor": 5
}
