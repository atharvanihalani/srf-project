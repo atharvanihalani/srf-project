{
 "cells": [
  {
   "cell_type": "markdown",
   "id": "73c1567d",
   "metadata": {},
   "source": [
    "## setup"
   ]
  },
  {
   "cell_type": "code",
   "execution_count": null,
   "id": "b4417b7b",
   "metadata": {},
   "outputs": [],
   "source": [
    "from openai import OpenAI, AsyncOpenAI\n",
    "from transformers import AutoTokenizer, AutoModelForCausalLM, TrainingArguments, Trainer, AutoModelForSequenceClassification, DataCollatorForLanguageModeling, BitsAndBytesConfig\n",
    "from huggingface_hub import login\n",
    "from dotenv import load_dotenv\n",
    "from datasets import load_dataset\n",
    "import torch as t\n",
    "import asyncio\n",
    "import os\n",
    "from peft import LoraConfig, TaskType, get_peft_model\n",
    "import evaluate\n",
    "import numpy as np\n",
    "import wandb\n",
    "from peft import LoraConfig, get_peft_model, TaskType\n",
    "from pipeline.main import run_eval"
   ]
  },
  {
   "cell_type": "code",
   "execution_count": 3,
   "id": "7f4a4c6e",
   "metadata": {},
   "outputs": [
    {
     "name": "stderr",
     "output_type": "stream",
     "text": [
      "Note: Environment variable`HF_TOKEN` is set and is the current active token independently from the token you've just configured.\n",
      "\u001b[34m\u001b[1mwandb\u001b[0m: Currently logged in as: \u001b[33matharva_nihalani\u001b[0m (\u001b[33matharva_nihalani-brown-university\u001b[0m) to \u001b[32mhttps://api.wandb.ai\u001b[0m. Use \u001b[1m`wandb login --relogin`\u001b[0m to force relogin\n"
     ]
    },
    {
     "data": {
      "text/plain": [
       "True"
      ]
     },
     "execution_count": 3,
     "metadata": {},
     "output_type": "execute_result"
    }
   ],
   "source": [
    "load_dotenv()\n",
    "login(token = os.environ['HF_TOKEN'])\n",
    "wandb.login()"
   ]
  },
  {
   "cell_type": "markdown",
   "id": "2a735291",
   "metadata": {},
   "source": [
    "## FT Dataset"
   ]
  },
  {
   "cell_type": "markdown",
   "id": "bc68c133",
   "metadata": {},
   "source": [
    "### Load Dataset"
   ]
  },
  {
   "cell_type": "code",
   "execution_count": 4,
   "id": "b63aeab8",
   "metadata": {},
   "outputs": [],
   "source": [
    "def get_dataset(lang):\n",
    "    dataset = load_dataset('iNeil77/CodeNet', lang, split='train')\n",
    "    dataset = dataset.select_columns(['p_id', 'language', 'status', 'code'])\n",
    "    dataset = dataset.filter(lambda x: x['status']=='Accepted')\n",
    "    return dataset\n",
    "\n",
    "my_dataset = get_dataset('Java')"
   ]
  },
  {
   "cell_type": "code",
   "execution_count": 5,
   "id": "251d8287",
   "metadata": {},
   "outputs": [],
   "source": [
    "# for i in range(10):\n",
    "#     idx = random.randint(0, dataset_cpp.num_rows)\n",
    "#     code = dataset_cpp[idx]['code']\n",
    "#     print(code)\n",
    "#     print('--x---x---x--\\n')"
   ]
  },
  {
   "cell_type": "code",
   "execution_count": 6,
   "id": "91fe347b",
   "metadata": {},
   "outputs": [],
   "source": [
    "# api = wandb.Api()\n",
    "# run = api.run(\"atharva_nihalani-brown-university/huggingface/diw9fexc\")\n",
    "# metrics_dataframe = run.history()\n",
    "# # metrics_dataframe.to_csv(\"metrics.csv\")"
   ]
  },
  {
   "cell_type": "code",
   "execution_count": 7,
   "id": "4239795a",
   "metadata": {},
   "outputs": [],
   "source": [
    "# # Access the GPU metrics\n",
    "# gpu_memory_util = metrics_dataframe.get(\"gpu.0.memory\")  # For the first GPU\n",
    "# gpu_memory_alloc = metrics_dataframe.get(\"gpu.0.memoryAllocated\")\n",
    "# print(gpu_memory_util)\n",
    "# print(gpu_memory_alloc)"
   ]
  },
  {
   "cell_type": "code",
   "execution_count": 8,
   "id": "a86cc1ef",
   "metadata": {},
   "outputs": [],
   "source": [
    "# print(metrics_dataframe.columns)"
   ]
  },
  {
   "cell_type": "markdown",
   "id": "eb41a11c",
   "metadata": {},
   "source": [
    "### Fine-tune"
   ]
  },
  {
   "cell_type": "code",
   "execution_count": 9,
   "id": "f64568b6",
   "metadata": {},
   "outputs": [
    {
     "data": {
      "application/vnd.jupyter.widget-view+json": {
       "model_id": "c87a27afaf2b4a10adbcd8b8a161c5eb",
       "version_major": 2,
       "version_minor": 0
      },
      "text/plain": [
       "Loading checkpoint shards:   0%|          | 0/4 [00:00<?, ?it/s]"
      ]
     },
     "metadata": {},
     "output_type": "display_data"
    }
   ],
   "source": [
    "'''\n",
    "model_name = 'meta-llama/Llama-3.1-8B-Instruct'\n",
    "\n",
    "bnb_config = BitsAndBytesConfig(\n",
    "    load_in_4bit=True,\n",
    "    bnb_4bit_compute_dtype=t.float16,\n",
    "    bnb_4bit_use_double_quant=True,\n",
    "    llm_int8_threshold=6.0,\n",
    ")\n",
    "\n",
    "tokenizer = AutoTokenizer.from_pretrained(model_name, pad_side=\"left\")\n",
    "model = AutoModelForCausalLM.from_pretrained(\n",
    "    model_name, \n",
    "    device_map=\"auto\", \n",
    "    quantization_config=bnb_config,\n",
    ")\n",
    "tokenizer.pad_token = tokenizer.eos_token'''\n",
    "\n",
    "model_name = 'unsloth/Meta-Llama-3.1-8B-Instruct'\n",
    "# model_name = 'unsloth/Meta-Llama-3.1-8B-Instruct-bnb-4bit'\n",
    "\n",
    "tokenizer = AutoTokenizer.from_pretrained(model_name, pad_side=\"left\")\n",
    "model = AutoModelForCausalLM.from_pretrained(\n",
    "    model_name, \n",
    "    device_map=\"auto\", \n",
    "    torch_dtype=\"auto\",\n",
    ")\n",
    "tokenizer.pad_token = tokenizer.eos_token"
   ]
  },
  {
   "cell_type": "code",
   "execution_count": 10,
   "id": "07bde88f",
   "metadata": {},
   "outputs": [],
   "source": [
    "def tokenize(record):\n",
    "    code = record['code']\n",
    "    tokens = tokenizer(\n",
    "        code, \n",
    "        truncation=True,\n",
    "        max_length=1024,\n",
    "    )\n",
    "\n",
    "    return tokens\n",
    "\n",
    "tokenized_dataset = my_dataset.map(tokenize, batched=True, num_proc=32)\n",
    "tokenized_dataset = tokenized_dataset.select_columns(['input_ids', 'attention_mask'])\n"
   ]
  },
  {
   "cell_type": "code",
   "execution_count": 11,
   "id": "4db25e6d",
   "metadata": {},
   "outputs": [],
   "source": [
    "n_samples = 10000\n",
    "final_dataset = tokenized_dataset.shuffle(seed=42).select(range(n_samples))"
   ]
  },
  {
   "cell_type": "code",
   "execution_count": 12,
   "id": "4dfa152f",
   "metadata": {},
   "outputs": [],
   "source": [
    "lora_config = LoraConfig(\n",
    "    r=8,\n",
    "    lora_alpha=32,\n",
    "    target_modules=[\"q_proj\", \"v_proj\"],  # Adjust for Llama 3.1 if needed\n",
    "    lora_dropout=0.05,\n",
    "    bias=\"none\",\n",
    "    task_type=\"CAUSAL_LM\"\n",
    ")\n",
    "\n",
    "model = get_peft_model(model, lora_config)"
   ]
  },
  {
   "cell_type": "code",
   "execution_count": 13,
   "id": "031387f8",
   "metadata": {},
   "outputs": [
    {
     "name": "stderr",
     "output_type": "stream",
     "text": [
      "No label_names provided for model class `PeftModelForCausalLM`. Since `PeftModel` hides base models input arguments, if label_names is not given, label_names can't be set automatically within `Trainer`. Note that empty label_names list will be used instead.\n"
     ]
    }
   ],
   "source": [
    "training_args = TrainingArguments(\n",
    "    output_dir=\"./llama3-java-finetune\",\n",
    "    per_device_train_batch_size=8,  # Adjust based on GPU memory\n",
    "    gradient_accumulation_steps=1,\n",
    "    dataloader_num_workers=16,\n",
    "    dataloader_persistent_workers=True,\n",
    "    num_train_epochs=1,  \n",
    "    learning_rate=2e-4,\n",
    "    bf16=True,\n",
    "    save_steps=0.2,\n",
    "    save_total_limit=3,\n",
    "    logging_steps=0.01,\n",
    "    report_to=\"wandb\",\n",
    "    logging_first_step=True,\n",
    "    run_name='temp_run_qlora',\n",
    ")\n",
    "\n",
    "data_collator = DataCollatorForLanguageModeling(\n",
    "    tokenizer=tokenizer,\n",
    "    mlm=False,  # For causal LM\n",
    ")\n",
    "\n",
    "trainer = Trainer(\n",
    "    model=model,\n",
    "    args=training_args,\n",
    "    train_dataset=final_dataset,\n",
    "    data_collator=data_collator\n",
    ")"
   ]
  },
  {
   "cell_type": "markdown",
   "id": "a8a2d234",
   "metadata": {},
   "source": [
    "### Train"
   ]
  },
  {
   "cell_type": "code",
   "execution_count": 14,
   "id": "c31a9816",
   "metadata": {},
   "outputs": [
    {
     "data": {
      "text/html": [
       "Tracking run with wandb version 0.21.0"
      ],
      "text/plain": [
       "<IPython.core.display.HTML object>"
      ]
     },
     "metadata": {},
     "output_type": "display_data"
    },
    {
     "data": {
      "text/html": [
       "Run data is saved locally in <code>/root/srf-project/test_humaneval-x/wandb/run-20250805_213758-9qpjd94m</code>"
      ],
      "text/plain": [
       "<IPython.core.display.HTML object>"
      ]
     },
     "metadata": {},
     "output_type": "display_data"
    },
    {
     "data": {
      "text/html": [
       "Syncing run <strong><a href='https://wandb.ai/atharva_nihalani-brown-university/unlearning-finetuning-trial/runs/9qpjd94m' target=\"_blank\">temp_run_qlora</a></strong> to <a href='https://wandb.ai/atharva_nihalani-brown-university/unlearning-finetuning-trial' target=\"_blank\">Weights & Biases</a> (<a href='https://wandb.me/developer-guide' target=\"_blank\">docs</a>)<br>"
      ],
      "text/plain": [
       "<IPython.core.display.HTML object>"
      ]
     },
     "metadata": {},
     "output_type": "display_data"
    },
    {
     "data": {
      "text/html": [
       " View project at <a href='https://wandb.ai/atharva_nihalani-brown-university/unlearning-finetuning-trial' target=\"_blank\">https://wandb.ai/atharva_nihalani-brown-university/unlearning-finetuning-trial</a>"
      ],
      "text/plain": [
       "<IPython.core.display.HTML object>"
      ]
     },
     "metadata": {},
     "output_type": "display_data"
    },
    {
     "data": {
      "text/html": [
       " View run at <a href='https://wandb.ai/atharva_nihalani-brown-university/unlearning-finetuning-trial/runs/9qpjd94m' target=\"_blank\">https://wandb.ai/atharva_nihalani-brown-university/unlearning-finetuning-trial/runs/9qpjd94m</a>"
      ],
      "text/plain": [
       "<IPython.core.display.HTML object>"
      ]
     },
     "metadata": {},
     "output_type": "display_data"
    },
    {
     "data": {
      "text/html": [
       "\n",
       "    <div>\n",
       "      \n",
       "      <progress value='1250' max='1250' style='width:300px; height:20px; vertical-align: middle;'></progress>\n",
       "      [1250/1250 21:28, Epoch 1/1]\n",
       "    </div>\n",
       "    <table border=\"1\" class=\"dataframe\">\n",
       "  <thead>\n",
       " <tr style=\"text-align: left;\">\n",
       "      <th>Step</th>\n",
       "      <th>Training Loss</th>\n",
       "    </tr>\n",
       "  </thead>\n",
       "  <tbody>\n",
       "    <tr>\n",
       "      <td>1</td>\n",
       "      <td>0.535100</td>\n",
       "    </tr>\n",
       "    <tr>\n",
       "      <td>13</td>\n",
       "      <td>0.606900</td>\n",
       "    </tr>\n",
       "    <tr>\n",
       "      <td>26</td>\n",
       "      <td>0.604500</td>\n",
       "    </tr>\n",
       "    <tr>\n",
       "      <td>39</td>\n",
       "      <td>0.595000</td>\n",
       "    </tr>\n",
       "    <tr>\n",
       "      <td>52</td>\n",
       "      <td>0.533000</td>\n",
       "    </tr>\n",
       "    <tr>\n",
       "      <td>65</td>\n",
       "      <td>0.499800</td>\n",
       "    </tr>\n",
       "    <tr>\n",
       "      <td>78</td>\n",
       "      <td>0.571200</td>\n",
       "    </tr>\n",
       "    <tr>\n",
       "      <td>91</td>\n",
       "      <td>0.533800</td>\n",
       "    </tr>\n",
       "    <tr>\n",
       "      <td>104</td>\n",
       "      <td>0.565200</td>\n",
       "    </tr>\n",
       "    <tr>\n",
       "      <td>117</td>\n",
       "      <td>0.577500</td>\n",
       "    </tr>\n",
       "    <tr>\n",
       "      <td>130</td>\n",
       "      <td>0.557800</td>\n",
       "    </tr>\n",
       "    <tr>\n",
       "      <td>143</td>\n",
       "      <td>0.551300</td>\n",
       "    </tr>\n",
       "    <tr>\n",
       "      <td>156</td>\n",
       "      <td>0.533500</td>\n",
       "    </tr>\n",
       "    <tr>\n",
       "      <td>169</td>\n",
       "      <td>0.498300</td>\n",
       "    </tr>\n",
       "    <tr>\n",
       "      <td>182</td>\n",
       "      <td>0.539500</td>\n",
       "    </tr>\n",
       "    <tr>\n",
       "      <td>195</td>\n",
       "      <td>0.568500</td>\n",
       "    </tr>\n",
       "    <tr>\n",
       "      <td>208</td>\n",
       "      <td>0.535600</td>\n",
       "    </tr>\n",
       "    <tr>\n",
       "      <td>221</td>\n",
       "      <td>0.508500</td>\n",
       "    </tr>\n",
       "    <tr>\n",
       "      <td>234</td>\n",
       "      <td>0.510500</td>\n",
       "    </tr>\n",
       "    <tr>\n",
       "      <td>247</td>\n",
       "      <td>0.542100</td>\n",
       "    </tr>\n",
       "    <tr>\n",
       "      <td>260</td>\n",
       "      <td>0.517200</td>\n",
       "    </tr>\n",
       "    <tr>\n",
       "      <td>273</td>\n",
       "      <td>0.570300</td>\n",
       "    </tr>\n",
       "    <tr>\n",
       "      <td>286</td>\n",
       "      <td>0.537100</td>\n",
       "    </tr>\n",
       "    <tr>\n",
       "      <td>299</td>\n",
       "      <td>0.543800</td>\n",
       "    </tr>\n",
       "    <tr>\n",
       "      <td>312</td>\n",
       "      <td>0.560300</td>\n",
       "    </tr>\n",
       "    <tr>\n",
       "      <td>325</td>\n",
       "      <td>0.556000</td>\n",
       "    </tr>\n",
       "    <tr>\n",
       "      <td>338</td>\n",
       "      <td>0.528400</td>\n",
       "    </tr>\n",
       "    <tr>\n",
       "      <td>351</td>\n",
       "      <td>0.493200</td>\n",
       "    </tr>\n",
       "    <tr>\n",
       "      <td>364</td>\n",
       "      <td>0.574700</td>\n",
       "    </tr>\n",
       "    <tr>\n",
       "      <td>377</td>\n",
       "      <td>0.571200</td>\n",
       "    </tr>\n",
       "    <tr>\n",
       "      <td>390</td>\n",
       "      <td>0.481900</td>\n",
       "    </tr>\n",
       "    <tr>\n",
       "      <td>403</td>\n",
       "      <td>0.506700</td>\n",
       "    </tr>\n",
       "    <tr>\n",
       "      <td>416</td>\n",
       "      <td>0.562900</td>\n",
       "    </tr>\n",
       "    <tr>\n",
       "      <td>429</td>\n",
       "      <td>0.495500</td>\n",
       "    </tr>\n",
       "    <tr>\n",
       "      <td>442</td>\n",
       "      <td>0.597800</td>\n",
       "    </tr>\n",
       "    <tr>\n",
       "      <td>455</td>\n",
       "      <td>0.505700</td>\n",
       "    </tr>\n",
       "    <tr>\n",
       "      <td>468</td>\n",
       "      <td>0.516300</td>\n",
       "    </tr>\n",
       "    <tr>\n",
       "      <td>481</td>\n",
       "      <td>0.539000</td>\n",
       "    </tr>\n",
       "    <tr>\n",
       "      <td>494</td>\n",
       "      <td>0.533100</td>\n",
       "    </tr>\n",
       "    <tr>\n",
       "      <td>507</td>\n",
       "      <td>0.532400</td>\n",
       "    </tr>\n",
       "    <tr>\n",
       "      <td>520</td>\n",
       "      <td>0.527300</td>\n",
       "    </tr>\n",
       "    <tr>\n",
       "      <td>533</td>\n",
       "      <td>0.566400</td>\n",
       "    </tr>\n",
       "    <tr>\n",
       "      <td>546</td>\n",
       "      <td>0.499400</td>\n",
       "    </tr>\n",
       "    <tr>\n",
       "      <td>559</td>\n",
       "      <td>0.510000</td>\n",
       "    </tr>\n",
       "    <tr>\n",
       "      <td>572</td>\n",
       "      <td>0.540100</td>\n",
       "    </tr>\n",
       "    <tr>\n",
       "      <td>585</td>\n",
       "      <td>0.534000</td>\n",
       "    </tr>\n",
       "    <tr>\n",
       "      <td>598</td>\n",
       "      <td>0.528600</td>\n",
       "    </tr>\n",
       "    <tr>\n",
       "      <td>611</td>\n",
       "      <td>0.547500</td>\n",
       "    </tr>\n",
       "    <tr>\n",
       "      <td>624</td>\n",
       "      <td>0.558400</td>\n",
       "    </tr>\n",
       "    <tr>\n",
       "      <td>637</td>\n",
       "      <td>0.480800</td>\n",
       "    </tr>\n",
       "    <tr>\n",
       "      <td>650</td>\n",
       "      <td>0.536900</td>\n",
       "    </tr>\n",
       "    <tr>\n",
       "      <td>663</td>\n",
       "      <td>0.517500</td>\n",
       "    </tr>\n",
       "    <tr>\n",
       "      <td>676</td>\n",
       "      <td>0.515100</td>\n",
       "    </tr>\n",
       "    <tr>\n",
       "      <td>689</td>\n",
       "      <td>0.519800</td>\n",
       "    </tr>\n",
       "    <tr>\n",
       "      <td>702</td>\n",
       "      <td>0.598100</td>\n",
       "    </tr>\n",
       "    <tr>\n",
       "      <td>715</td>\n",
       "      <td>0.545200</td>\n",
       "    </tr>\n",
       "    <tr>\n",
       "      <td>728</td>\n",
       "      <td>0.533200</td>\n",
       "    </tr>\n",
       "    <tr>\n",
       "      <td>741</td>\n",
       "      <td>0.540700</td>\n",
       "    </tr>\n",
       "    <tr>\n",
       "      <td>754</td>\n",
       "      <td>0.483200</td>\n",
       "    </tr>\n",
       "    <tr>\n",
       "      <td>767</td>\n",
       "      <td>0.526200</td>\n",
       "    </tr>\n",
       "    <tr>\n",
       "      <td>780</td>\n",
       "      <td>0.525900</td>\n",
       "    </tr>\n",
       "    <tr>\n",
       "      <td>793</td>\n",
       "      <td>0.536300</td>\n",
       "    </tr>\n",
       "    <tr>\n",
       "      <td>806</td>\n",
       "      <td>0.556000</td>\n",
       "    </tr>\n",
       "    <tr>\n",
       "      <td>819</td>\n",
       "      <td>0.510400</td>\n",
       "    </tr>\n",
       "    <tr>\n",
       "      <td>832</td>\n",
       "      <td>0.495100</td>\n",
       "    </tr>\n",
       "    <tr>\n",
       "      <td>845</td>\n",
       "      <td>0.528900</td>\n",
       "    </tr>\n",
       "    <tr>\n",
       "      <td>858</td>\n",
       "      <td>0.536400</td>\n",
       "    </tr>\n",
       "    <tr>\n",
       "      <td>871</td>\n",
       "      <td>0.551900</td>\n",
       "    </tr>\n",
       "    <tr>\n",
       "      <td>884</td>\n",
       "      <td>0.500800</td>\n",
       "    </tr>\n",
       "    <tr>\n",
       "      <td>897</td>\n",
       "      <td>0.498800</td>\n",
       "    </tr>\n",
       "    <tr>\n",
       "      <td>910</td>\n",
       "      <td>0.534900</td>\n",
       "    </tr>\n",
       "    <tr>\n",
       "      <td>923</td>\n",
       "      <td>0.592700</td>\n",
       "    </tr>\n",
       "    <tr>\n",
       "      <td>936</td>\n",
       "      <td>0.508400</td>\n",
       "    </tr>\n",
       "    <tr>\n",
       "      <td>949</td>\n",
       "      <td>0.531500</td>\n",
       "    </tr>\n",
       "    <tr>\n",
       "      <td>962</td>\n",
       "      <td>0.550600</td>\n",
       "    </tr>\n",
       "    <tr>\n",
       "      <td>975</td>\n",
       "      <td>0.597600</td>\n",
       "    </tr>\n",
       "    <tr>\n",
       "      <td>988</td>\n",
       "      <td>0.558400</td>\n",
       "    </tr>\n",
       "    <tr>\n",
       "      <td>1001</td>\n",
       "      <td>0.521700</td>\n",
       "    </tr>\n",
       "    <tr>\n",
       "      <td>1014</td>\n",
       "      <td>0.472800</td>\n",
       "    </tr>\n",
       "    <tr>\n",
       "      <td>1027</td>\n",
       "      <td>0.495500</td>\n",
       "    </tr>\n",
       "    <tr>\n",
       "      <td>1040</td>\n",
       "      <td>0.561700</td>\n",
       "    </tr>\n",
       "    <tr>\n",
       "      <td>1053</td>\n",
       "      <td>0.505100</td>\n",
       "    </tr>\n",
       "    <tr>\n",
       "      <td>1066</td>\n",
       "      <td>0.579100</td>\n",
       "    </tr>\n",
       "    <tr>\n",
       "      <td>1079</td>\n",
       "      <td>0.512600</td>\n",
       "    </tr>\n",
       "    <tr>\n",
       "      <td>1092</td>\n",
       "      <td>0.496600</td>\n",
       "    </tr>\n",
       "    <tr>\n",
       "      <td>1105</td>\n",
       "      <td>0.518400</td>\n",
       "    </tr>\n",
       "    <tr>\n",
       "      <td>1118</td>\n",
       "      <td>0.536800</td>\n",
       "    </tr>\n",
       "    <tr>\n",
       "      <td>1131</td>\n",
       "      <td>0.569200</td>\n",
       "    </tr>\n",
       "    <tr>\n",
       "      <td>1144</td>\n",
       "      <td>0.532300</td>\n",
       "    </tr>\n",
       "    <tr>\n",
       "      <td>1157</td>\n",
       "      <td>0.462100</td>\n",
       "    </tr>\n",
       "    <tr>\n",
       "      <td>1170</td>\n",
       "      <td>0.510300</td>\n",
       "    </tr>\n",
       "    <tr>\n",
       "      <td>1183</td>\n",
       "      <td>0.487800</td>\n",
       "    </tr>\n",
       "    <tr>\n",
       "      <td>1196</td>\n",
       "      <td>0.490100</td>\n",
       "    </tr>\n",
       "    <tr>\n",
       "      <td>1209</td>\n",
       "      <td>0.559100</td>\n",
       "    </tr>\n",
       "    <tr>\n",
       "      <td>1222</td>\n",
       "      <td>0.459100</td>\n",
       "    </tr>\n",
       "    <tr>\n",
       "      <td>1235</td>\n",
       "      <td>0.546000</td>\n",
       "    </tr>\n",
       "    <tr>\n",
       "      <td>1248</td>\n",
       "      <td>0.515600</td>\n",
       "    </tr>\n",
       "  </tbody>\n",
       "</table><p>"
      ],
      "text/plain": [
       "<IPython.core.display.HTML object>"
      ]
     },
     "metadata": {},
     "output_type": "display_data"
    },
    {
     "data": {
      "text/plain": [
       "TrainOutput(global_step=1250, training_loss=0.5334401029586792, metrics={'train_runtime': 1291.3976, 'train_samples_per_second': 7.744, 'train_steps_per_second': 0.968, 'total_flos': 3.954946292225802e+17, 'train_loss': 0.5334401029586792, 'epoch': 1.0})"
      ]
     },
     "execution_count": 14,
     "metadata": {},
     "output_type": "execute_result"
    }
   ],
   "source": [
    "trainer.train()"
   ]
  },
  {
   "cell_type": "code",
   "execution_count": 17,
   "id": "8c3341af",
   "metadata": {},
   "outputs": [
    {
     "name": "stdout",
     "output_type": "stream",
     "text": [
      "Loading dataset THUDM/humaneval-x from Hugging Face...\n"
     ]
    },
    {
     "data": {
      "application/vnd.jupyter.widget-view+json": {
       "model_id": "10daf60b22ed4d1abc834c59537d84d5",
       "version_major": 2,
       "version_minor": 0
      },
      "text/plain": [
       "humaneval.jsonl: 0.00B [00:00, ?B/s]"
      ]
     },
     "metadata": {},
     "output_type": "display_data"
    },
    {
     "data": {
      "application/vnd.jupyter.widget-view+json": {
       "model_id": "9f5011c187734c2b864d0fb1f4c09359",
       "version_major": 2,
       "version_minor": 0
      },
      "text/plain": [
       "Generating test split: 0 examples [00:00, ? examples/s]"
      ]
     },
     "metadata": {},
     "output_type": "display_data"
    },
    {
     "data": {
      "application/vnd.jupyter.widget-view+json": {
       "model_id": "ffbf22603f224cb8b53bec80a596c690",
       "version_major": 2,
       "version_minor": 0
      },
      "text/plain": [
       "Saving the dataset (0/1 shards):   0%|          | 0/164 [00:00<?, ? examples/s]"
      ]
     },
     "metadata": {},
     "output_type": "display_data"
    },
    {
     "data": {
      "application/vnd.jupyter.widget-view+json": {
       "model_id": "2bc59d16b3094314b8439685db255fc4",
       "version_major": 2,
       "version_minor": 0
      },
      "text/plain": [
       "Output()"
      ]
     },
     "metadata": {},
     "output_type": "display_data"
    },
    {
     "data": {
      "text/html": [
       "<pre style=\"white-space:pre;overflow-x:auto;line-height:normal;font-family:Menlo,'DejaVu Sans Mono',consolas,'Courier New',monospace\">Compilation failed! Idx: 22\n",
       "</pre>\n"
      ],
      "text/plain": [
       "Compilation failed! Idx: 22\n"
      ]
     },
     "metadata": {},
     "output_type": "display_data"
    },
    {
     "data": {
      "text/html": [
       "<pre style=\"white-space:pre;overflow-x:auto;line-height:normal;font-family:Menlo,'DejaVu Sans Mono',consolas,'Courier New',monospace\">stderr: Main.java:21: error: cannot find symbol\n",
       "                s.filterIntergers(new ArrayList&lt;&gt;(List.of())).equals(List.of()),\n",
       "                 ^\n",
       "  symbol:   method filterIntergers(ArrayList&lt;Object&gt;)\n",
       "  location: variable s of type Solution\n",
       "Main.java:22: error: cannot find symbol\n",
       "                s.filterIntergers(new ArrayList&lt;&gt;(Arrays.asList(4, Map.of(), List.of(), 23.2, 9, \n",
       "\"adasd\"))).equals(Arrays.asList(4, 9)),\n",
       "                 ^\n",
       "  symbol:   method filterIntergers(ArrayList&lt;Object&gt;)\n",
       "  location: variable s of type Solution\n",
       "Main.java:23: error: cannot find symbol\n",
       "                s.filterIntergers(new ArrayList&lt;&gt;(Arrays.asList(3, 'c', 3, 3, 'a', 'b'))).equals(Arrays.asList(3, \n",
       "3, 3))\n",
       "                 ^\n",
       "  symbol:   method filterIntergers(ArrayList&lt;INT#1&gt;)\n",
       "  location: variable s of type Solution\n",
       "  where INT#1,INT#2 are intersection types:\n",
       "    INT#1 extends Object,Serializable,Comparable&lt;? extends INT#2&gt;,Constable\n",
       "    INT#2 extends Object,Serializable,Comparable&lt;?&gt;,Constable\n",
       "3 errors\n",
       "</pre>\n"
      ],
      "text/plain": [
       "stderr: Main.java:21: error: cannot find symbol\n",
       "                s.filterIntergers(new ArrayList<>(List.of())).equals(List.of()),\n",
       "                 ^\n",
       "  symbol:   method filterIntergers(ArrayList<Object>)\n",
       "  location: variable s of type Solution\n",
       "Main.java:22: error: cannot find symbol\n",
       "                s.filterIntergers(new ArrayList<>(Arrays.asList(4, Map.of(), List.of(), 23.2, 9, \n",
       "\"adasd\"))).equals(Arrays.asList(4, 9)),\n",
       "                 ^\n",
       "  symbol:   method filterIntergers(ArrayList<Object>)\n",
       "  location: variable s of type Solution\n",
       "Main.java:23: error: cannot find symbol\n",
       "                s.filterIntergers(new ArrayList<>(Arrays.asList(3, 'c', 3, 3, 'a', 'b'))).equals(Arrays.asList(3, \n",
       "3, 3))\n",
       "                 ^\n",
       "  symbol:   method filterIntergers(ArrayList<INT#1>)\n",
       "  location: variable s of type Solution\n",
       "  where INT#1,INT#2 are intersection types:\n",
       "    INT#1 extends Object,Serializable,Comparable<? extends INT#2>,Constable\n",
       "    INT#2 extends Object,Serializable,Comparable<?>,Constable\n",
       "3 errors\n"
      ]
     },
     "metadata": {},
     "output_type": "display_data"
    },
    {
     "data": {
      "text/html": [
       "<pre style=\"white-space:pre;overflow-x:auto;line-height:normal;font-family:Menlo,'DejaVu Sans Mono',consolas,'Courier New',monospace\">\n",
       "</pre>\n"
      ],
      "text/plain": [
       "\n"
      ]
     },
     "metadata": {},
     "output_type": "display_data"
    },
    {
     "data": {
      "text/html": [
       "<pre style=\"white-space:pre;overflow-x:auto;line-height:normal;font-family:Menlo,'DejaVu Sans Mono',consolas,'Courier New',monospace\">Compilation failed! Idx: 50\n",
       "</pre>\n"
      ],
      "text/plain": [
       "Compilation failed! Idx: 50\n"
      ]
     },
     "metadata": {},
     "output_type": "display_data"
    },
    {
     "data": {
      "text/html": [
       "<pre style=\"white-space:pre;overflow-x:auto;line-height:normal;font-family:Menlo,'DejaVu Sans Mono',consolas,'Courier New',monospace\">stderr: Main.java:33: error: cannot find symbol\n",
       "            String encode_str = s.encodeShift(str);\n",
       "                                 ^\n",
       "  symbol:   method encodeShift(String)\n",
       "  location: variable s of type Solution\n",
       "1 error\n",
       "</pre>\n"
      ],
      "text/plain": [
       "stderr: Main.java:33: error: cannot find symbol\n",
       "            String encode_str = s.encodeShift(str);\n",
       "                                 ^\n",
       "  symbol:   method encodeShift(String)\n",
       "  location: variable s of type Solution\n",
       "1 error\n"
      ]
     },
     "metadata": {},
     "output_type": "display_data"
    },
    {
     "data": {
      "text/html": [
       "<pre style=\"white-space:pre;overflow-x:auto;line-height:normal;font-family:Menlo,'DejaVu Sans Mono',consolas,'Courier New',monospace\">\n",
       "</pre>\n"
      ],
      "text/plain": [
       "\n"
      ]
     },
     "metadata": {},
     "output_type": "display_data"
    },
    {
     "data": {
      "text/html": [
       "<pre style=\"white-space:pre;overflow-x:auto;line-height:normal;font-family:Menlo,'DejaVu Sans Mono',consolas,'Courier New',monospace\">Compilation failed! Idx: 38\n",
       "</pre>\n"
      ],
      "text/plain": [
       "Compilation failed! Idx: 38\n"
      ]
     },
     "metadata": {},
     "output_type": "display_data"
    },
    {
     "data": {
      "text/html": [
       "<pre style=\"white-space:pre;overflow-x:auto;line-height:normal;font-family:Menlo,'DejaVu Sans Mono',consolas,'Courier New',monospace\">stderr: Main.java:40: error: cannot find symbol\n",
       "            String encode_str = s.encodeCyclic(str);\n",
       "                                 ^\n",
       "  symbol:   method encodeCyclic(String)\n",
       "  location: variable s of type Solution\n",
       "1 error\n",
       "</pre>\n"
      ],
      "text/plain": [
       "stderr: Main.java:40: error: cannot find symbol\n",
       "            String encode_str = s.encodeCyclic(str);\n",
       "                                 ^\n",
       "  symbol:   method encodeCyclic(String)\n",
       "  location: variable s of type Solution\n",
       "1 error\n"
      ]
     },
     "metadata": {},
     "output_type": "display_data"
    },
    {
     "data": {
      "text/html": [
       "<pre style=\"white-space:pre;overflow-x:auto;line-height:normal;font-family:Menlo,'DejaVu Sans Mono',consolas,'Courier New',monospace\">\n",
       "</pre>\n"
      ],
      "text/plain": [
       "\n"
      ]
     },
     "metadata": {},
     "output_type": "display_data"
    },
    {
     "data": {
      "text/html": [
       "<pre style=\"white-space:pre;overflow-x:auto;line-height:normal;font-family:Menlo,'DejaVu Sans Mono',consolas,'Courier New',monospace\">Compilation failed! Idx: 83\n",
       "</pre>\n"
      ],
      "text/plain": [
       "Compilation failed! Idx: 83\n"
      ]
     },
     "metadata": {},
     "output_type": "display_data"
    },
    {
     "data": {
      "text/html": [
       "<pre style=\"white-space:pre;overflow-x:auto;line-height:normal;font-family:Menlo,'DejaVu Sans Mono',consolas,'Courier New',monospace\">stderr: Main.java:6: error: incompatible types: possible lossy conversion from long to int\n",
       "        return 9 * (long) (Math.pow(10, n - 2) - 1) + 10 * (long) (Math.pow(10, n - 1) - 1);\n",
       "                                                    ^\n",
       "1 error\n",
       "</pre>\n"
      ],
      "text/plain": [
       "stderr: Main.java:6: error: incompatible types: possible lossy conversion from long to int\n",
       "        return 9 * (long) (Math.pow(10, n - 2) - 1) + 10 * (long) (Math.pow(10, n - 1) - 1);\n",
       "                                                    ^\n",
       "1 error\n"
      ]
     },
     "metadata": {},
     "output_type": "display_data"
    },
    {
     "data": {
      "text/html": [
       "<pre style=\"white-space:pre;overflow-x:auto;line-height:normal;font-family:Menlo,'DejaVu Sans Mono',consolas,'Courier New',monospace\">\n",
       "</pre>\n"
      ],
      "text/plain": [
       "\n"
      ]
     },
     "metadata": {},
     "output_type": "display_data"
    },
    {
     "data": {
      "text/html": [
       "<pre style=\"white-space:pre;overflow-x:auto;line-height:normal;font-family:Menlo,'DejaVu Sans Mono',consolas,'Courier New',monospace\">Compilation failed! Idx: 67\n",
       "</pre>\n"
      ],
      "text/plain": [
       "Compilation failed! Idx: 67\n"
      ]
     },
     "metadata": {},
     "output_type": "display_data"
    },
    {
     "data": {
      "text/html": [
       "<pre style=\"white-space:pre;overflow-x:auto;line-height:normal;font-family:Menlo,'DejaVu Sans Mono',consolas,'Courier New',monospace\">stderr: Main.java:6: error: cannot find symbol\n",
       "        Pattern pattern = Pattern.compile(\"\\\\d+\");\n",
       "        ^\n",
       "  symbol:   class Pattern\n",
       "  location: class Solution\n",
       "Main.java:6: error: cannot find symbol\n",
       "        Pattern pattern = Pattern.compile(\"\\\\d+\");\n",
       "                          ^\n",
       "  symbol:   variable Pattern\n",
       "  location: class Solution\n",
       "Main.java:7: error: cannot find symbol\n",
       "        Matcher matcher = pattern.matcher(s);\n",
       "        ^\n",
       "  symbol:   class Matcher\n",
       "  location: class Solution\n",
       "3 errors\n",
       "</pre>\n"
      ],
      "text/plain": [
       "stderr: Main.java:6: error: cannot find symbol\n",
       "        Pattern pattern = Pattern.compile(\"\\\\d+\");\n",
       "        ^\n",
       "  symbol:   class Pattern\n",
       "  location: class Solution\n",
       "Main.java:6: error: cannot find symbol\n",
       "        Pattern pattern = Pattern.compile(\"\\\\d+\");\n",
       "                          ^\n",
       "  symbol:   variable Pattern\n",
       "  location: class Solution\n",
       "Main.java:7: error: cannot find symbol\n",
       "        Matcher matcher = pattern.matcher(s);\n",
       "        ^\n",
       "  symbol:   class Matcher\n",
       "  location: class Solution\n",
       "3 errors\n"
      ]
     },
     "metadata": {},
     "output_type": "display_data"
    },
    {
     "data": {
      "text/html": [
       "<pre style=\"white-space:pre;overflow-x:auto;line-height:normal;font-family:Menlo,'DejaVu Sans Mono',consolas,'Courier New',monospace\">\n",
       "</pre>\n"
      ],
      "text/plain": [
       "\n"
      ]
     },
     "metadata": {},
     "output_type": "display_data"
    },
    {
     "data": {
      "text/html": [
       "<pre style=\"white-space:pre;overflow-x:auto;line-height:normal;font-family:Menlo,'DejaVu Sans Mono',consolas,'Courier New',monospace\">Compilation failed! Idx: 87\n",
       "</pre>\n"
      ],
      "text/plain": [
       "Compilation failed! Idx: 87\n"
      ]
     },
     "metadata": {},
     "output_type": "display_data"
    },
    {
     "data": {
      "text/html": [
       "<pre style=\"white-space:pre;overflow-x:auto;line-height:normal;font-family:Menlo,'DejaVu Sans Mono',consolas,'Courier New',monospace\">stderr: Main.java:21: error: cannot find symbol\n",
       "        Collections.sort(result, Comparator.comparingInt(a -&gt; a.get(1)).reversed());\n",
       "                                                               ^\n",
       "  symbol:   method get(int)\n",
       "  location: variable a of type Object\n",
       "1 error\n",
       "</pre>\n"
      ],
      "text/plain": [
       "stderr: Main.java:21: error: cannot find symbol\n",
       "        Collections.sort(result, Comparator.comparingInt(a -> a.get(1)).reversed());\n",
       "                                                               ^\n",
       "  symbol:   method get(int)\n",
       "  location: variable a of type Object\n",
       "1 error\n"
      ]
     },
     "metadata": {},
     "output_type": "display_data"
    },
    {
     "data": {
      "text/html": [
       "<pre style=\"white-space:pre;overflow-x:auto;line-height:normal;font-family:Menlo,'DejaVu Sans Mono',consolas,'Courier New',monospace\">\n",
       "</pre>\n"
      ],
      "text/plain": [
       "\n"
      ]
     },
     "metadata": {},
     "output_type": "display_data"
    },
    {
     "data": {
      "text/html": [
       "<pre style=\"white-space:pre;overflow-x:auto;line-height:normal;font-family:Menlo,'DejaVu Sans Mono',consolas,'Courier New',monospace\">Compilation failed! Idx: 141\n",
       "</pre>\n"
      ],
      "text/plain": [
       "Compilation failed! Idx: 141\n"
      ]
     },
     "metadata": {},
     "output_type": "display_data"
    },
    {
     "data": {
      "text/html": [
       "<pre style=\"white-space:pre;overflow-x:auto;line-height:normal;font-family:Menlo,'DejaVu Sans Mono',consolas,'Courier New',monospace\">stderr: Main.java:12: error: cannot find symbol\n",
       "        if (!Character.isLetter(beforeDot.charAt(0)) || beforeDot.length() &gt; 0 &amp;&amp; Pattern.matches(\"[0-9]\", \n",
       "beforeDot.substring(1))) {\n",
       "                                                                                  ^\n",
       "  symbol:   variable Pattern\n",
       "  location: class Solution\n",
       "Main.java:15: error: cannot find symbol\n",
       "        if (Pattern.matches(\"[0-9]{4,}\", beforeDot)) {\n",
       "            ^\n",
       "  symbol:   variable Pattern\n",
       "  location: class Solution\n",
       "2 errors\n",
       "</pre>\n"
      ],
      "text/plain": [
       "stderr: Main.java:12: error: cannot find symbol\n",
       "        if (!Character.isLetter(beforeDot.charAt(0)) || beforeDot.length() > 0 && Pattern.matches(\"[0-9]\", \n",
       "beforeDot.substring(1))) {\n",
       "                                                                                  ^\n",
       "  symbol:   variable Pattern\n",
       "  location: class Solution\n",
       "Main.java:15: error: cannot find symbol\n",
       "        if (Pattern.matches(\"[0-9]{4,}\", beforeDot)) {\n",
       "            ^\n",
       "  symbol:   variable Pattern\n",
       "  location: class Solution\n",
       "2 errors\n"
      ]
     },
     "metadata": {},
     "output_type": "display_data"
    },
    {
     "data": {
      "text/html": [
       "<pre style=\"white-space:pre;overflow-x:auto;line-height:normal;font-family:Menlo,'DejaVu Sans Mono',consolas,'Courier New',monospace\">\n",
       "</pre>\n"
      ],
      "text/plain": [
       "\n"
      ]
     },
     "metadata": {},
     "output_type": "display_data"
    },
    {
     "data": {
      "text/html": [
       "<pre style=\"white-space:pre;overflow-x:auto;line-height:normal;font-family:Menlo,'DejaVu Sans Mono',consolas,'Courier New',monospace\">Compilation failed! Idx: 149\n",
       "</pre>\n"
      ],
      "text/plain": [
       "Compilation failed! Idx: 149\n"
      ]
     },
     "metadata": {},
     "output_type": "display_data"
    },
    {
     "data": {
      "text/html": [
       "<pre style=\"white-space:pre;overflow-x:auto;line-height:normal;font-family:Menlo,'DejaVu Sans Mono',consolas,'Courier New',monospace\">stderr: Main.java:12: error: no suitable method found for thenComparing(no arguments)\n",
       "        Collections.sort(filteredList, Comparator.comparingInt(String::length).thenComparing());\n",
       "                                                                              ^\n",
       "    method Comparator.&lt;U#1&gt;thenComparing(Function&lt;? super String,? extends U#1&gt;,Comparator&lt;? super U#1&gt;) is not \n",
       "applicable\n",
       "      (cannot infer type-variable(s) U#1\n",
       "        (actual and formal argument lists differ in length))\n",
       "    method Comparator.&lt;U#2&gt;thenComparing(Function&lt;? super String,? extends U#2&gt;) is not applicable\n",
       "      (cannot infer type-variable(s) U#2\n",
       "        (actual and formal argument lists differ in length))\n",
       "  where U#1,T,U#2 are type-variables:\n",
       "    U#1 extends Object declared in method &lt;U#1&gt;thenComparing(Function&lt;? super T,? extends U#1&gt;,Comparator&lt;? super \n",
       "U#1&gt;)\n",
       "    T extends Object declared in interface Comparator\n",
       "    U#2 extends Comparable&lt;? super U#2&gt; declared in method &lt;U#2&gt;thenComparing(Function&lt;? super T,? extends U#2&gt;)\n",
       "Note: Some messages have been simplified; recompile with -Xdiags:verbose to get full output\n",
       "1 error\n",
       "</pre>\n"
      ],
      "text/plain": [
       "stderr: Main.java:12: error: no suitable method found for thenComparing(no arguments)\n",
       "        Collections.sort(filteredList, Comparator.comparingInt(String::length).thenComparing());\n",
       "                                                                              ^\n",
       "    method Comparator.<U#1>thenComparing(Function<? super String,? extends U#1>,Comparator<? super U#1>) is not \n",
       "applicable\n",
       "      (cannot infer type-variable(s) U#1\n",
       "        (actual and formal argument lists differ in length))\n",
       "    method Comparator.<U#2>thenComparing(Function<? super String,? extends U#2>) is not applicable\n",
       "      (cannot infer type-variable(s) U#2\n",
       "        (actual and formal argument lists differ in length))\n",
       "  where U#1,T,U#2 are type-variables:\n",
       "    U#1 extends Object declared in method <U#1>thenComparing(Function<? super T,? extends U#1>,Comparator<? super \n",
       "U#1>)\n",
       "    T extends Object declared in interface Comparator\n",
       "    U#2 extends Comparable<? super U#2> declared in method <U#2>thenComparing(Function<? super T,? extends U#2>)\n",
       "Note: Some messages have been simplified; recompile with -Xdiags:verbose to get full output\n",
       "1 error\n"
      ]
     },
     "metadata": {},
     "output_type": "display_data"
    },
    {
     "data": {
      "text/html": [
       "<pre style=\"white-space:pre;overflow-x:auto;line-height:normal;font-family:Menlo,'DejaVu Sans Mono',consolas,'Courier New',monospace\">\n",
       "</pre>\n"
      ],
      "text/plain": [
       "\n"
      ]
     },
     "metadata": {},
     "output_type": "display_data"
    },
    {
     "data": {
      "text/html": [
       "<pre style=\"white-space:pre;overflow-x:auto;line-height:normal;font-family:Menlo,'DejaVu Sans Mono',consolas,'Courier New',monospace\">Compilation failed! Idx: 129\n",
       "</pre>\n"
      ],
      "text/plain": [
       "Compilation failed! Idx: 129\n"
      ]
     },
     "metadata": {},
     "output_type": "display_data"
    },
    {
     "data": {
      "text/html": [
       "<pre style=\"white-space:pre;overflow-x:auto;line-height:normal;font-family:Menlo,'DejaVu Sans Mono',consolas,'Courier New',monospace\">stderr: Main.java:20: error: cannot find symbol\n",
       "            if (k == 0) return \n",
       "Arrays.stream(grid.get(x).get(y).toString().split(\",\")).mapToInt(Integer::parseInt).boxed().collect(Collectors.toLi\n",
       "st());\n",
       "                                                                                                                   \n",
       "                ^\n",
       "  symbol:   variable Collectors\n",
       "  location: class Solution\n",
       "1 error\n",
       "</pre>\n"
      ],
      "text/plain": [
       "stderr: Main.java:20: error: cannot find symbol\n",
       "            if (k == 0) return \n",
       "Arrays.stream(grid.get(x).get(y).toString().split(\",\")).mapToInt(Integer::parseInt).boxed().collect(Collectors.toLi\n",
       "st());\n",
       "                                                                                                                   \n",
       "                ^\n",
       "  symbol:   variable Collectors\n",
       "  location: class Solution\n",
       "1 error\n"
      ]
     },
     "metadata": {},
     "output_type": "display_data"
    },
    {
     "data": {
      "text/html": [
       "<pre style=\"white-space:pre;overflow-x:auto;line-height:normal;font-family:Menlo,'DejaVu Sans Mono',consolas,'Courier New',monospace\">\n",
       "</pre>\n"
      ],
      "text/plain": [
       "\n"
      ]
     },
     "metadata": {},
     "output_type": "display_data"
    },
    {
     "data": {
      "text/html": [
       "<pre style=\"white-space:pre;overflow-x:auto;line-height:normal;font-family:Menlo,'DejaVu Sans Mono',consolas,'Courier New',monospace\">Compilation failed! Idx: 137\n",
       "</pre>\n"
      ],
      "text/plain": [
       "Compilation failed! Idx: 137\n"
      ]
     },
     "metadata": {},
     "output_type": "display_data"
    },
    {
     "data": {
      "text/html": [
       "<pre style=\"white-space:pre;overflow-x:auto;line-height:normal;font-family:Menlo,'DejaVu Sans Mono',consolas,'Courier New',monospace\">stderr: Main.java:41: error: cannot find symbol\n",
       "            } else if (b instanceof BigInteger) {\n",
       "                                    ^\n",
       "  symbol:   class BigInteger\n",
       "  location: class Solution\n",
       "Main.java:42: error: cannot find symbol\n",
       "                if ((Integer)a &gt; (BigInteger)b) {\n",
       "                                  ^\n",
       "  symbol:   class BigInteger\n",
       "  location: class Solution\n",
       "Main.java:44: error: cannot find symbol\n",
       "                } else if ((Integer)a &lt; (BigInteger)b) {\n",
       "                                         ^\n",
       "  symbol:   class BigInteger\n",
       "  location: class Solution\n",
       "Main.java:87: error: cannot find symbol\n",
       "            } else if (b instanceof BigInteger) {\n",
       "                                    ^\n",
       "  symbol:   class BigInteger\n",
       "  location: class Solution\n",
       "Main.java:88: error: cannot find symbol\n",
       "                if ((Float)a &gt; (BigInteger)b) {\n",
       "                                ^\n",
       "  symbol:   class BigInteger\n",
       "  location: class Solution\n",
       "Main.java:90: error: cannot find symbol\n",
       "                } else if ((Float)a &lt; (BigInteger)b) {\n",
       "                                       ^\n",
       "  symbol:   class BigInteger\n",
       "  location: class Solution\n",
       "Main.java:133: error: cannot find symbol\n",
       "            } else if (b instanceof BigInteger) {\n",
       "                                    ^\n",
       "  symbol:   class BigInteger\n",
       "  location: class Solution\n",
       "Main.java:134: error: cannot find symbol\n",
       "                if ((Double)a &gt; (BigInteger)b) {\n",
       "                                 ^\n",
       "  symbol:   class BigInteger\n",
       "  location: class Solution\n",
       "Main.java:136: error: cannot find symbol\n",
       "                } else if ((Double)a &lt; (BigInteger)b) {\n",
       "                                        ^\n",
       "  symbol:   class BigInteger\n",
       "  location: class Solution\n",
       "Main.java:152: error: cannot find symbol\n",
       "                if (((String)a).replace(\",\", \".\").compareTo((String)b.replace(\",\", \".\")) &gt; 0) {\n",
       "                                                                     ^\n",
       "  symbol:   method replace(String,String)\n",
       "  location: variable b of type Object\n",
       "Main.java:154: error: cannot find symbol\n",
       "                } else if (((String)a).replace(\",\", \".\").compareTo((String)b.replace(\",\", \".\")) &lt; 0) {\n",
       "                                                                            ^\n",
       "  symbol:   method replace(String,String)\n",
       "  location: variable b of type Object\n",
       "Main.java:161: error: cannot find symbol\n",
       "            } else if (b instanceof BigInteger) {\n",
       "                                    ^\n",
       "  symbol:   class BigInteger\n",
       "  location: class Solution\n",
       "Main.java:201: error: cannot find symbol\n",
       "            } else if (b instanceof BigInteger) {\n",
       "                                    ^\n",
       "  symbol:   class BigInteger\n",
       "  location: class Solution\n",
       "Main.java:202: error: cannot find symbol\n",
       "                if ((Long)a &gt; (BigInteger)b) {\n",
       "                               ^\n",
       "  symbol:   class BigInteger\n",
       "  location: class Solution\n",
       "Main.java:204: error: cannot find symbol\n",
       "                } else if ((Long)a &lt; (BigInteger)b) {\n",
       "                                      ^\n",
       "  symbol:   class BigInteger\n",
       "  location: class Solution\n",
       "Main.java:212: error: cannot find symbol\n",
       "        } else if (a instanceof BigInteger) {\n",
       "                                ^\n",
       "  symbol:   class BigInteger\n",
       "  location: class Solution\n",
       "Main.java:214: error: cannot find symbol\n",
       "                if ((BigInteger)a &gt; (Integer)b) {\n",
       "                     ^\n",
       "  symbol:   class BigInteger\n",
       "  location: class Solution\n",
       "Main.java:216: error: cannot find symbol\n",
       "                } else if ((BigInteger)a &lt; (Integer)b) {\n",
       "                            ^\n",
       "  symbol:   class BigInteger\n",
       "  location: class Solution\n",
       "Main.java:222: error: cannot find symbol\n",
       "                if ((BigInteger)a &gt; (Float)b) {\n",
       "                     ^\n",
       "  symbol:   class BigInteger\n",
       "  location: class Solution\n",
       "Main.java:224: error: cannot find symbol\n",
       "                } else if ((BigInteger)a &lt; (Float)b) {\n",
       "                            ^\n",
       "  symbol:   class BigInteger\n",
       "  location: class Solution\n",
       "Main.java:230: error: cannot find symbol\n",
       "                if ((BigInteger)a &gt; (Double)b) {\n",
       "                     ^\n",
       "  symbol:   class BigInteger\n",
       "  location: class Solution\n",
       "Main.java:232: error: cannot find symbol\n",
       "                } else if ((BigInteger)a &lt; (Double)b) {\n",
       "                            ^\n",
       "  symbol:   class BigInteger\n",
       "  location: class Solution\n",
       "Main.java:240: error: cannot find symbol\n",
       "                if ((BigInteger)a &gt; (Long)b) {\n",
       "                     ^\n",
       "  symbol:   class BigInteger\n",
       "  location: class Solution\n",
       "Main.java:242: error: cannot find symbol\n",
       "                } else if ((BigInteger)a &lt; (Long)b) {\n",
       "                            ^\n",
       "  symbol:   class BigInteger\n",
       "  location: class Solution\n",
       "Main.java:247: error: cannot find symbol\n",
       "            } else if (b instanceof BigInteger) {\n",
       "                                    ^\n",
       "  symbol:   class BigInteger\n",
       "  location: class Solution\n",
       "Main.java:248: error: cannot find symbol\n",
       "                if ((BigInteger)a.compareTo((BigInteger)b) &gt; 0) {\n",
       "                     ^\n",
       "  symbol:   class BigInteger\n",
       "  location: class Solution\n",
       "Main.java:248: error: cannot find symbol\n",
       "                if ((BigInteger)a.compareTo((BigInteger)b) &gt; 0) {\n",
       "                                             ^\n",
       "  symbol:   class BigInteger\n",
       "  location: class Solution\n",
       "Main.java:250: error: cannot find symbol\n",
       "                } else if ((BigInteger)a.compareTo((BigInteger)b) &lt; 0) {\n",
       "                            ^\n",
       "  symbol:   class BigInteger\n",
       "  location: class Solution\n",
       "Main.java:250: error: cannot find symbol\n",
       "                } else if ((BigInteger)a.compareTo((BigInteger)b) &lt; 0) {\n",
       "                                                    ^\n",
       "  symbol:   class BigInteger\n",
       "  location: class Solution\n",
       "29 errors\n",
       "</pre>\n"
      ],
      "text/plain": [
       "stderr: Main.java:41: error: cannot find symbol\n",
       "            } else if (b instanceof BigInteger) {\n",
       "                                    ^\n",
       "  symbol:   class BigInteger\n",
       "  location: class Solution\n",
       "Main.java:42: error: cannot find symbol\n",
       "                if ((Integer)a > (BigInteger)b) {\n",
       "                                  ^\n",
       "  symbol:   class BigInteger\n",
       "  location: class Solution\n",
       "Main.java:44: error: cannot find symbol\n",
       "                } else if ((Integer)a < (BigInteger)b) {\n",
       "                                         ^\n",
       "  symbol:   class BigInteger\n",
       "  location: class Solution\n",
       "Main.java:87: error: cannot find symbol\n",
       "            } else if (b instanceof BigInteger) {\n",
       "                                    ^\n",
       "  symbol:   class BigInteger\n",
       "  location: class Solution\n",
       "Main.java:88: error: cannot find symbol\n",
       "                if ((Float)a > (BigInteger)b) {\n",
       "                                ^\n",
       "  symbol:   class BigInteger\n",
       "  location: class Solution\n",
       "Main.java:90: error: cannot find symbol\n",
       "                } else if ((Float)a < (BigInteger)b) {\n",
       "                                       ^\n",
       "  symbol:   class BigInteger\n",
       "  location: class Solution\n",
       "Main.java:133: error: cannot find symbol\n",
       "            } else if (b instanceof BigInteger) {\n",
       "                                    ^\n",
       "  symbol:   class BigInteger\n",
       "  location: class Solution\n",
       "Main.java:134: error: cannot find symbol\n",
       "                if ((Double)a > (BigInteger)b) {\n",
       "                                 ^\n",
       "  symbol:   class BigInteger\n",
       "  location: class Solution\n",
       "Main.java:136: error: cannot find symbol\n",
       "                } else if ((Double)a < (BigInteger)b) {\n",
       "                                        ^\n",
       "  symbol:   class BigInteger\n",
       "  location: class Solution\n",
       "Main.java:152: error: cannot find symbol\n",
       "                if (((String)a).replace(\",\", \".\").compareTo((String)b.replace(\",\", \".\")) > 0) {\n",
       "                                                                     ^\n",
       "  symbol:   method replace(String,String)\n",
       "  location: variable b of type Object\n",
       "Main.java:154: error: cannot find symbol\n",
       "                } else if (((String)a).replace(\",\", \".\").compareTo((String)b.replace(\",\", \".\")) < 0) {\n",
       "                                                                            ^\n",
       "  symbol:   method replace(String,String)\n",
       "  location: variable b of type Object\n",
       "Main.java:161: error: cannot find symbol\n",
       "            } else if (b instanceof BigInteger) {\n",
       "                                    ^\n",
       "  symbol:   class BigInteger\n",
       "  location: class Solution\n",
       "Main.java:201: error: cannot find symbol\n",
       "            } else if (b instanceof BigInteger) {\n",
       "                                    ^\n",
       "  symbol:   class BigInteger\n",
       "  location: class Solution\n",
       "Main.java:202: error: cannot find symbol\n",
       "                if ((Long)a > (BigInteger)b) {\n",
       "                               ^\n",
       "  symbol:   class BigInteger\n",
       "  location: class Solution\n",
       "Main.java:204: error: cannot find symbol\n",
       "                } else if ((Long)a < (BigInteger)b) {\n",
       "                                      ^\n",
       "  symbol:   class BigInteger\n",
       "  location: class Solution\n",
       "Main.java:212: error: cannot find symbol\n",
       "        } else if (a instanceof BigInteger) {\n",
       "                                ^\n",
       "  symbol:   class BigInteger\n",
       "  location: class Solution\n",
       "Main.java:214: error: cannot find symbol\n",
       "                if ((BigInteger)a > (Integer)b) {\n",
       "                     ^\n",
       "  symbol:   class BigInteger\n",
       "  location: class Solution\n",
       "Main.java:216: error: cannot find symbol\n",
       "                } else if ((BigInteger)a < (Integer)b) {\n",
       "                            ^\n",
       "  symbol:   class BigInteger\n",
       "  location: class Solution\n",
       "Main.java:222: error: cannot find symbol\n",
       "                if ((BigInteger)a > (Float)b) {\n",
       "                     ^\n",
       "  symbol:   class BigInteger\n",
       "  location: class Solution\n",
       "Main.java:224: error: cannot find symbol\n",
       "                } else if ((BigInteger)a < (Float)b) {\n",
       "                            ^\n",
       "  symbol:   class BigInteger\n",
       "  location: class Solution\n",
       "Main.java:230: error: cannot find symbol\n",
       "                if ((BigInteger)a > (Double)b) {\n",
       "                     ^\n",
       "  symbol:   class BigInteger\n",
       "  location: class Solution\n",
       "Main.java:232: error: cannot find symbol\n",
       "                } else if ((BigInteger)a < (Double)b) {\n",
       "                            ^\n",
       "  symbol:   class BigInteger\n",
       "  location: class Solution\n",
       "Main.java:240: error: cannot find symbol\n",
       "                if ((BigInteger)a > (Long)b) {\n",
       "                     ^\n",
       "  symbol:   class BigInteger\n",
       "  location: class Solution\n",
       "Main.java:242: error: cannot find symbol\n",
       "                } else if ((BigInteger)a < (Long)b) {\n",
       "                            ^\n",
       "  symbol:   class BigInteger\n",
       "  location: class Solution\n",
       "Main.java:247: error: cannot find symbol\n",
       "            } else if (b instanceof BigInteger) {\n",
       "                                    ^\n",
       "  symbol:   class BigInteger\n",
       "  location: class Solution\n",
       "Main.java:248: error: cannot find symbol\n",
       "                if ((BigInteger)a.compareTo((BigInteger)b) > 0) {\n",
       "                     ^\n",
       "  symbol:   class BigInteger\n",
       "  location: class Solution\n",
       "Main.java:248: error: cannot find symbol\n",
       "                if ((BigInteger)a.compareTo((BigInteger)b) > 0) {\n",
       "                                             ^\n",
       "  symbol:   class BigInteger\n",
       "  location: class Solution\n",
       "Main.java:250: error: cannot find symbol\n",
       "                } else if ((BigInteger)a.compareTo((BigInteger)b) < 0) {\n",
       "                            ^\n",
       "  symbol:   class BigInteger\n",
       "  location: class Solution\n",
       "Main.java:250: error: cannot find symbol\n",
       "                } else if ((BigInteger)a.compareTo((BigInteger)b) < 0) {\n",
       "                                                    ^\n",
       "  symbol:   class BigInteger\n",
       "  location: class Solution\n",
       "29 errors\n"
      ]
     },
     "metadata": {},
     "output_type": "display_data"
    },
    {
     "data": {
      "text/html": [
       "<pre style=\"white-space:pre;overflow-x:auto;line-height:normal;font-family:Menlo,'DejaVu Sans Mono',consolas,'Courier New',monospace\">\n",
       "</pre>\n"
      ],
      "text/plain": [
       "\n"
      ]
     },
     "metadata": {},
     "output_type": "display_data"
    },
    {
     "data": {
      "text/html": [
       "<pre style=\"white-space:pre;overflow-x:auto;line-height:normal;font-family:Menlo,'DejaVu Sans Mono',consolas,'Courier New',monospace\">Compilation failed! Idx: 22\n",
       "</pre>\n"
      ],
      "text/plain": [
       "Compilation failed! Idx: 22\n"
      ]
     },
     "metadata": {},
     "output_type": "display_data"
    },
    {
     "data": {
      "text/html": [
       "<pre style=\"white-space:pre;overflow-x:auto;line-height:normal;font-family:Menlo,'DejaVu Sans Mono',consolas,'Courier New',monospace\">stderr: Main.java:21: error: cannot find symbol\n",
       "                s.filterIntergers(new ArrayList&lt;&gt;(List.of())).equals(List.of()),\n",
       "                 ^\n",
       "  symbol:   method filterIntergers(ArrayList&lt;Object&gt;)\n",
       "  location: variable s of type Solution\n",
       "Main.java:22: error: cannot find symbol\n",
       "                s.filterIntergers(new ArrayList&lt;&gt;(Arrays.asList(4, Map.of(), List.of(), 23.2, 9, \n",
       "\"adasd\"))).equals(Arrays.asList(4, 9)),\n",
       "                 ^\n",
       "  symbol:   method filterIntergers(ArrayList&lt;Object&gt;)\n",
       "  location: variable s of type Solution\n",
       "Main.java:23: error: cannot find symbol\n",
       "                s.filterIntergers(new ArrayList&lt;&gt;(Arrays.asList(3, 'c', 3, 3, 'a', 'b'))).equals(Arrays.asList(3, \n",
       "3, 3))\n",
       "                 ^\n",
       "  symbol:   method filterIntergers(ArrayList&lt;INT#1&gt;)\n",
       "  location: variable s of type Solution\n",
       "  where INT#1,INT#2 are intersection types:\n",
       "    INT#1 extends Object,Serializable,Comparable&lt;? extends INT#2&gt;,Constable\n",
       "    INT#2 extends Object,Serializable,Comparable&lt;?&gt;,Constable\n",
       "3 errors\n",
       "</pre>\n"
      ],
      "text/plain": [
       "stderr: Main.java:21: error: cannot find symbol\n",
       "                s.filterIntergers(new ArrayList<>(List.of())).equals(List.of()),\n",
       "                 ^\n",
       "  symbol:   method filterIntergers(ArrayList<Object>)\n",
       "  location: variable s of type Solution\n",
       "Main.java:22: error: cannot find symbol\n",
       "                s.filterIntergers(new ArrayList<>(Arrays.asList(4, Map.of(), List.of(), 23.2, 9, \n",
       "\"adasd\"))).equals(Arrays.asList(4, 9)),\n",
       "                 ^\n",
       "  symbol:   method filterIntergers(ArrayList<Object>)\n",
       "  location: variable s of type Solution\n",
       "Main.java:23: error: cannot find symbol\n",
       "                s.filterIntergers(new ArrayList<>(Arrays.asList(3, 'c', 3, 3, 'a', 'b'))).equals(Arrays.asList(3, \n",
       "3, 3))\n",
       "                 ^\n",
       "  symbol:   method filterIntergers(ArrayList<INT#1>)\n",
       "  location: variable s of type Solution\n",
       "  where INT#1,INT#2 are intersection types:\n",
       "    INT#1 extends Object,Serializable,Comparable<? extends INT#2>,Constable\n",
       "    INT#2 extends Object,Serializable,Comparable<?>,Constable\n",
       "3 errors\n"
      ]
     },
     "metadata": {},
     "output_type": "display_data"
    },
    {
     "data": {
      "text/html": [
       "<pre style=\"white-space:pre;overflow-x:auto;line-height:normal;font-family:Menlo,'DejaVu Sans Mono',consolas,'Courier New',monospace\">\n",
       "</pre>\n"
      ],
      "text/plain": [
       "\n"
      ]
     },
     "metadata": {},
     "output_type": "display_data"
    },
    {
     "data": {
      "text/html": [
       "<pre style=\"white-space:pre;overflow-x:auto;line-height:normal;font-family:Menlo,'DejaVu Sans Mono',consolas,'Courier New',monospace\">Compilation failed! Idx: 10\n",
       "</pre>\n"
      ],
      "text/plain": [
       "Compilation failed! Idx: 10\n"
      ]
     },
     "metadata": {},
     "output_type": "display_data"
    },
    {
     "data": {
      "text/html": [
       "<pre style=\"white-space:pre;overflow-x:auto;line-height:normal;font-family:Menlo,'DejaVu Sans Mono',consolas,'Courier New',monospace\">stderr: Main.java:30: error: cannot find symbol\n",
       "        return string + string.substring(i, j + 1).reverse();\n",
       "                                                  ^\n",
       "  symbol:   method reverse()\n",
       "  location: class String\n",
       "1 error\n",
       "</pre>\n"
      ],
      "text/plain": [
       "stderr: Main.java:30: error: cannot find symbol\n",
       "        return string + string.substring(i, j + 1).reverse();\n",
       "                                                  ^\n",
       "  symbol:   method reverse()\n",
       "  location: class String\n",
       "1 error\n"
      ]
     },
     "metadata": {},
     "output_type": "display_data"
    },
    {
     "data": {
      "text/html": [
       "<pre style=\"white-space:pre;overflow-x:auto;line-height:normal;font-family:Menlo,'DejaVu Sans Mono',consolas,'Courier New',monospace\">\n",
       "</pre>\n"
      ],
      "text/plain": [
       "\n"
      ]
     },
     "metadata": {},
     "output_type": "display_data"
    },
    {
     "data": {
      "text/html": [
       "<pre style=\"white-space:pre;overflow-x:auto;line-height:normal;font-family:Menlo,'DejaVu Sans Mono',consolas,'Courier New',monospace\">Compilation failed! Idx: 21\n",
       "</pre>\n"
      ],
      "text/plain": [
       "Compilation failed! Idx: 21\n"
      ]
     },
     "metadata": {},
     "output_type": "display_data"
    },
    {
     "data": {
      "text/html": [
       "<pre style=\"white-space:pre;overflow-x:auto;line-height:normal;font-family:Menlo,'DejaVu Sans Mono',consolas,'Courier New',monospace\">stderr: Main.java:18: error: cannot find symbol\n",
       "            return numbers.stream().map(x -&gt; 0.0).collect(Collectors.toList());\n",
       "                                                          ^\n",
       "  symbol:   variable Collectors\n",
       "  location: class Solution\n",
       "Main.java:21: error: cannot find symbol\n",
       "        return numbers.stream().map(x -&gt; (x - min) / range).collect(Collectors.toList());\n",
       "                                                                    ^\n",
       "  symbol:   variable Collectors\n",
       "  location: class Solution\n",
       "2 errors\n",
       "</pre>\n"
      ],
      "text/plain": [
       "stderr: Main.java:18: error: cannot find symbol\n",
       "            return numbers.stream().map(x -> 0.0).collect(Collectors.toList());\n",
       "                                                          ^\n",
       "  symbol:   variable Collectors\n",
       "  location: class Solution\n",
       "Main.java:21: error: cannot find symbol\n",
       "        return numbers.stream().map(x -> (x - min) / range).collect(Collectors.toList());\n",
       "                                                                    ^\n",
       "  symbol:   variable Collectors\n",
       "  location: class Solution\n",
       "2 errors\n"
      ]
     },
     "metadata": {},
     "output_type": "display_data"
    },
    {
     "data": {
      "text/html": [
       "<pre style=\"white-space:pre;overflow-x:auto;line-height:normal;font-family:Menlo,'DejaVu Sans Mono',consolas,'Courier New',monospace\">\n",
       "</pre>\n"
      ],
      "text/plain": [
       "\n"
      ]
     },
     "metadata": {},
     "output_type": "display_data"
    },
    {
     "data": {
      "text/html": [
       "<pre style=\"white-space:pre;overflow-x:auto;line-height:normal;font-family:Menlo,'DejaVu Sans Mono',consolas,'Courier New',monospace\">Compilation failed! Idx: 38\n",
       "</pre>\n"
      ],
      "text/plain": [
       "Compilation failed! Idx: 38\n"
      ]
     },
     "metadata": {},
     "output_type": "display_data"
    },
    {
     "data": {
      "text/html": [
       "<pre style=\"white-space:pre;overflow-x:auto;line-height:normal;font-family:Menlo,'DejaVu Sans Mono',consolas,'Courier New',monospace\">stderr: Main.java:36: error: cannot find symbol\n",
       "            String encode_str = s.encodeCyclic(str);\n",
       "                                 ^\n",
       "  symbol:   method encodeCyclic(String)\n",
       "  location: variable s of type Solution\n",
       "1 error\n",
       "</pre>\n"
      ],
      "text/plain": [
       "stderr: Main.java:36: error: cannot find symbol\n",
       "            String encode_str = s.encodeCyclic(str);\n",
       "                                 ^\n",
       "  symbol:   method encodeCyclic(String)\n",
       "  location: variable s of type Solution\n",
       "1 error\n"
      ]
     },
     "metadata": {},
     "output_type": "display_data"
    },
    {
     "data": {
      "text/html": [
       "<pre style=\"white-space:pre;overflow-x:auto;line-height:normal;font-family:Menlo,'DejaVu Sans Mono',consolas,'Courier New',monospace\">\n",
       "</pre>\n"
      ],
      "text/plain": [
       "\n"
      ]
     },
     "metadata": {},
     "output_type": "display_data"
    },
    {
     "data": {
      "text/html": [
       "<pre style=\"white-space:pre;overflow-x:auto;line-height:normal;font-family:Menlo,'DejaVu Sans Mono',consolas,'Courier New',monospace\">Compilation failed! Idx: 75\n",
       "</pre>\n"
      ],
      "text/plain": [
       "Compilation failed! Idx: 75\n"
      ]
     },
     "metadata": {},
     "output_type": "display_data"
    },
    {
     "data": {
      "text/html": [
       "<pre style=\"white-space:pre;overflow-x:auto;line-height:normal;font-family:Menlo,'DejaVu Sans Mono',consolas,'Courier New',monospace\">stderr: Main.java:7: error: ';' expected\n",
       "        boolean isPrime(int num) {\n",
       "                       ^\n",
       "Main.java:7: error: ';' expected\n",
       "        boolean isPrime(int num) {\n",
       "                               ^\n",
       "2 errors\n",
       "</pre>\n"
      ],
      "text/plain": [
       "stderr: Main.java:7: error: ';' expected\n",
       "        boolean isPrime(int num) {\n",
       "                       ^\n",
       "Main.java:7: error: ';' expected\n",
       "        boolean isPrime(int num) {\n",
       "                               ^\n",
       "2 errors\n"
      ]
     },
     "metadata": {},
     "output_type": "display_data"
    },
    {
     "data": {
      "text/html": [
       "<pre style=\"white-space:pre;overflow-x:auto;line-height:normal;font-family:Menlo,'DejaVu Sans Mono',consolas,'Courier New',monospace\">\n",
       "</pre>\n"
      ],
      "text/plain": [
       "\n"
      ]
     },
     "metadata": {},
     "output_type": "display_data"
    },
    {
     "data": {
      "text/html": [
       "<pre style=\"white-space:pre;overflow-x:auto;line-height:normal;font-family:Menlo,'DejaVu Sans Mono',consolas,'Courier New',monospace\">Compilation failed! Idx: 80\n",
       "</pre>\n"
      ],
      "text/plain": [
       "Compilation failed! Idx: 80\n"
      ]
     },
     "metadata": {},
     "output_type": "display_data"
    },
    {
     "data": {
      "text/html": [
       "<pre style=\"white-space:pre;overflow-x:auto;line-height:normal;font-family:Menlo,'DejaVu Sans Mono',consolas,'Courier New',monospace\">stderr: Main.java:9: error: bad operand types for binary operator '=='\n",
       "            if (substr.length() == 3 &amp;&amp; new HashSet&lt;String&gt;(Arrays.asList(substr.split(\"\")).size()) == 3) {\n",
       "                                                                                                    ^\n",
       "  first type:  HashSet&lt;String&gt;\n",
       "  second type: int\n",
       "1 error\n",
       "</pre>\n"
      ],
      "text/plain": [
       "stderr: Main.java:9: error: bad operand types for binary operator '=='\n",
       "            if (substr.length() == 3 && new HashSet<String>(Arrays.asList(substr.split(\"\")).size()) == 3) {\n",
       "                                                                                                    ^\n",
       "  first type:  HashSet<String>\n",
       "  second type: int\n",
       "1 error\n"
      ]
     },
     "metadata": {},
     "output_type": "display_data"
    },
    {
     "data": {
      "text/html": [
       "<pre style=\"white-space:pre;overflow-x:auto;line-height:normal;font-family:Menlo,'DejaVu Sans Mono',consolas,'Courier New',monospace\">\n",
       "</pre>\n"
      ],
      "text/plain": [
       "\n"
      ]
     },
     "metadata": {},
     "output_type": "display_data"
    },
    {
     "data": {
      "text/html": [
       "<pre style=\"white-space:pre;overflow-x:auto;line-height:normal;font-family:Menlo,'DejaVu Sans Mono',consolas,'Courier New',monospace\">Compilation failed! Idx: 103\n",
       "</pre>\n"
      ],
      "text/plain": [
       "Compilation failed! Idx: 103\n"
      ]
     },
     "metadata": {},
     "output_type": "display_data"
    },
    {
     "data": {
      "text/html": [
       "<pre style=\"white-space:pre;overflow-x:auto;line-height:normal;font-family:Menlo,'DejaVu Sans Mono',consolas,'Courier New',monospace\">stderr: Main.java:16: error: cannot find symbol\n",
       "        BigDecimal roundedAvg = new BigDecimal(avg).setScale(0, RoundingMode.HALF_EVEN);\n",
       "        ^\n",
       "  symbol:   class BigDecimal\n",
       "  location: class Solution\n",
       "Main.java:16: error: cannot find symbol\n",
       "        BigDecimal roundedAvg = new BigDecimal(avg).setScale(0, RoundingMode.HALF_EVEN);\n",
       "                                                                ^\n",
       "  symbol:   variable RoundingMode\n",
       "  location: class Solution\n",
       "Main.java:16: error: cannot find symbol\n",
       "        BigDecimal roundedAvg = new BigDecimal(avg).setScale(0, RoundingMode.HALF_EVEN);\n",
       "                                    ^\n",
       "  symbol:   class BigDecimal\n",
       "  location: class Solution\n",
       "3 errors\n",
       "</pre>\n"
      ],
      "text/plain": [
       "stderr: Main.java:16: error: cannot find symbol\n",
       "        BigDecimal roundedAvg = new BigDecimal(avg).setScale(0, RoundingMode.HALF_EVEN);\n",
       "        ^\n",
       "  symbol:   class BigDecimal\n",
       "  location: class Solution\n",
       "Main.java:16: error: cannot find symbol\n",
       "        BigDecimal roundedAvg = new BigDecimal(avg).setScale(0, RoundingMode.HALF_EVEN);\n",
       "                                                                ^\n",
       "  symbol:   variable RoundingMode\n",
       "  location: class Solution\n",
       "Main.java:16: error: cannot find symbol\n",
       "        BigDecimal roundedAvg = new BigDecimal(avg).setScale(0, RoundingMode.HALF_EVEN);\n",
       "                                    ^\n",
       "  symbol:   class BigDecimal\n",
       "  location: class Solution\n",
       "3 errors\n"
      ]
     },
     "metadata": {},
     "output_type": "display_data"
    },
    {
     "data": {
      "text/html": [
       "<pre style=\"white-space:pre;overflow-x:auto;line-height:normal;font-family:Menlo,'DejaVu Sans Mono',consolas,'Courier New',monospace\">\n",
       "</pre>\n"
      ],
      "text/plain": [
       "\n"
      ]
     },
     "metadata": {},
     "output_type": "display_data"
    },
    {
     "data": {
      "text/html": [
       "<pre style=\"white-space:pre;overflow-x:auto;line-height:normal;font-family:Menlo,'DejaVu Sans Mono',consolas,'Courier New',monospace\">Compilation failed! Idx: 105\n",
       "</pre>\n"
      ],
      "text/plain": [
       "Compilation failed! Idx: 105\n"
      ]
     },
     "metadata": {},
     "output_type": "display_data"
    },
    {
     "data": {
      "text/html": [
       "<pre style=\"white-space:pre;overflow-x:auto;line-height:normal;font-family:Menlo,'DejaVu Sans Mono',consolas,'Courier New',monospace\">stderr: Main.java:44: error: duplicate case label\n",
       "                case \"213\":\n",
       "                ^\n",
       "Main.java:50: error: duplicate case label\n",
       "                case \"312\":\n",
       "                ^\n",
       "Main.java:62: error: duplicate case label\n",
       "                case \"123\":\n",
       "                ^\n",
       "Main.java:65: error: duplicate case label\n",
       "                case \"132\":\n",
       "                ^\n",
       "Main.java:68: error: duplicate case label\n",
       "                case \"213\":\n",
       "                ^\n",
       "Main.java:71: error: duplicate case label\n",
       "                case \"231\":\n",
       "                ^\n",
       "Main.java:74: error: duplicate case label\n",
       "                case \"312\":\n",
       "                ^\n",
       "Main.java:77: error: duplicate case label\n",
       "                case \"321\":\n",
       "                ^\n",
       "8 errors\n",
       "</pre>\n"
      ],
      "text/plain": [
       "stderr: Main.java:44: error: duplicate case label\n",
       "                case \"213\":\n",
       "                ^\n",
       "Main.java:50: error: duplicate case label\n",
       "                case \"312\":\n",
       "                ^\n",
       "Main.java:62: error: duplicate case label\n",
       "                case \"123\":\n",
       "                ^\n",
       "Main.java:65: error: duplicate case label\n",
       "                case \"132\":\n",
       "                ^\n",
       "Main.java:68: error: duplicate case label\n",
       "                case \"213\":\n",
       "                ^\n",
       "Main.java:71: error: duplicate case label\n",
       "                case \"231\":\n",
       "                ^\n",
       "Main.java:74: error: duplicate case label\n",
       "                case \"312\":\n",
       "                ^\n",
       "Main.java:77: error: duplicate case label\n",
       "                case \"321\":\n",
       "                ^\n",
       "8 errors\n"
      ]
     },
     "metadata": {},
     "output_type": "display_data"
    },
    {
     "data": {
      "text/html": [
       "<pre style=\"white-space:pre;overflow-x:auto;line-height:normal;font-family:Menlo,'DejaVu Sans Mono',consolas,'Courier New',monospace\">\n",
       "</pre>\n"
      ],
      "text/plain": [
       "\n"
      ]
     },
     "metadata": {},
     "output_type": "display_data"
    },
    {
     "data": {
      "text/html": [
       "<pre style=\"white-space:pre;overflow-x:auto;line-height:normal;font-family:Menlo,'DejaVu Sans Mono',consolas,'Courier New',monospace\">Compilation failed! Idx: 141\n",
       "</pre>\n"
      ],
      "text/plain": [
       "Compilation failed! Idx: 141\n"
      ]
     },
     "metadata": {},
     "output_type": "display_data"
    },
    {
     "data": {
      "text/html": [
       "<pre style=\"white-space:pre;overflow-x:auto;line-height:normal;font-family:Menlo,'DejaVu Sans Mono',consolas,'Courier New',monospace\">stderr: Main.java:6: error: cannot find symbol\n",
       "        Pattern pattern = Pattern.compile(\"^[a-zA-Z]\\\\w*\\\\.(txt|exe|dll)$\");\n",
       "        ^\n",
       "  symbol:   class Pattern\n",
       "  location: class Solution\n",
       "Main.java:6: error: cannot find symbol\n",
       "        Pattern pattern = Pattern.compile(\"^[a-zA-Z]\\\\w*\\\\.(txt|exe|dll)$\");\n",
       "                          ^\n",
       "  symbol:   variable Pattern\n",
       "  location: class Solution\n",
       "Main.java:7: error: cannot find symbol\n",
       "        Matcher matcher = pattern.matcher(file_name);\n",
       "        ^\n",
       "  symbol:   class Matcher\n",
       "  location: class Solution\n",
       "3 errors\n",
       "</pre>\n"
      ],
      "text/plain": [
       "stderr: Main.java:6: error: cannot find symbol\n",
       "        Pattern pattern = Pattern.compile(\"^[a-zA-Z]\\\\w*\\\\.(txt|exe|dll)$\");\n",
       "        ^\n",
       "  symbol:   class Pattern\n",
       "  location: class Solution\n",
       "Main.java:6: error: cannot find symbol\n",
       "        Pattern pattern = Pattern.compile(\"^[a-zA-Z]\\\\w*\\\\.(txt|exe|dll)$\");\n",
       "                          ^\n",
       "  symbol:   variable Pattern\n",
       "  location: class Solution\n",
       "Main.java:7: error: cannot find symbol\n",
       "        Matcher matcher = pattern.matcher(file_name);\n",
       "        ^\n",
       "  symbol:   class Matcher\n",
       "  location: class Solution\n",
       "3 errors\n"
      ]
     },
     "metadata": {},
     "output_type": "display_data"
    },
    {
     "data": {
      "text/html": [
       "<pre style=\"white-space:pre;overflow-x:auto;line-height:normal;font-family:Menlo,'DejaVu Sans Mono',consolas,'Courier New',monospace\">\n",
       "</pre>\n"
      ],
      "text/plain": [
       "\n"
      ]
     },
     "metadata": {},
     "output_type": "display_data"
    },
    {
     "data": {
      "text/html": [
       "<pre style=\"white-space:pre;overflow-x:auto;line-height:normal;font-family:Menlo,'DejaVu Sans Mono',consolas,'Courier New',monospace\">Compilation failed! Idx: 144\n",
       "</pre>\n"
      ],
      "text/plain": [
       "Compilation failed! Idx: 144\n"
      ]
     },
     "metadata": {},
     "output_type": "display_data"
    },
    {
     "data": {
      "text/html": [
       "<pre style=\"white-space:pre;overflow-x:auto;line-height:normal;font-family:Menlo,'DejaVu Sans Mono',consolas,'Courier New',monospace\">stderr: Main.java:6: error: cannot find symbol\n",
       "        BigInteger num1 = new BigInteger(x.split(\"/\")[0]);\n",
       "        ^\n",
       "  symbol:   class BigInteger\n",
       "  location: class Solution\n",
       "Main.java:6: error: cannot find symbol\n",
       "        BigInteger num1 = new BigInteger(x.split(\"/\")[0]);\n",
       "                              ^\n",
       "  symbol:   class BigInteger\n",
       "  location: class Solution\n",
       "Main.java:7: error: cannot find symbol\n",
       "        BigInteger denom1 = new BigInteger(x.split(\"/\")[1]);\n",
       "        ^\n",
       "  symbol:   class BigInteger\n",
       "  location: class Solution\n",
       "Main.java:7: error: cannot find symbol\n",
       "        BigInteger denom1 = new BigInteger(x.split(\"/\")[1]);\n",
       "                                ^\n",
       "  symbol:   class BigInteger\n",
       "  location: class Solution\n",
       "Main.java:8: error: cannot find symbol\n",
       "        BigInteger num2 = new BigInteger(n.split(\"/\")[0]);\n",
       "        ^\n",
       "  symbol:   class BigInteger\n",
       "  location: class Solution\n",
       "Main.java:8: error: cannot find symbol\n",
       "        BigInteger num2 = new BigInteger(n.split(\"/\")[0]);\n",
       "                              ^\n",
       "  symbol:   class BigInteger\n",
       "  location: class Solution\n",
       "Main.java:9: error: cannot find symbol\n",
       "        BigInteger denom2 = new BigInteger(n.split(\"/\")[1]);\n",
       "        ^\n",
       "  symbol:   class BigInteger\n",
       "  location: class Solution\n",
       "Main.java:9: error: cannot find symbol\n",
       "        BigInteger denom2 = new BigInteger(n.split(\"/\")[1]);\n",
       "                                ^\n",
       "  symbol:   class BigInteger\n",
       "  location: class Solution\n",
       "Main.java:11: error: cannot find symbol\n",
       "        BigInteger productNumerator = num1.multiply(num2);\n",
       "        ^\n",
       "  symbol:   class BigInteger\n",
       "  location: class Solution\n",
       "Main.java:12: error: cannot find symbol\n",
       "        BigInteger productDenominator = denom1.multiply(denom2);\n",
       "        ^\n",
       "  symbol:   class BigInteger\n",
       "  location: class Solution\n",
       "Main.java:14: error: cannot find symbol\n",
       "        return productNumerator.gcd(productDenominator).equals(BigInteger.ONE);\n",
       "                                                               ^\n",
       "  symbol:   variable BigInteger\n",
       "  location: class Solution\n",
       "11 errors\n",
       "</pre>\n"
      ],
      "text/plain": [
       "stderr: Main.java:6: error: cannot find symbol\n",
       "        BigInteger num1 = new BigInteger(x.split(\"/\")[0]);\n",
       "        ^\n",
       "  symbol:   class BigInteger\n",
       "  location: class Solution\n",
       "Main.java:6: error: cannot find symbol\n",
       "        BigInteger num1 = new BigInteger(x.split(\"/\")[0]);\n",
       "                              ^\n",
       "  symbol:   class BigInteger\n",
       "  location: class Solution\n",
       "Main.java:7: error: cannot find symbol\n",
       "        BigInteger denom1 = new BigInteger(x.split(\"/\")[1]);\n",
       "        ^\n",
       "  symbol:   class BigInteger\n",
       "  location: class Solution\n",
       "Main.java:7: error: cannot find symbol\n",
       "        BigInteger denom1 = new BigInteger(x.split(\"/\")[1]);\n",
       "                                ^\n",
       "  symbol:   class BigInteger\n",
       "  location: class Solution\n",
       "Main.java:8: error: cannot find symbol\n",
       "        BigInteger num2 = new BigInteger(n.split(\"/\")[0]);\n",
       "        ^\n",
       "  symbol:   class BigInteger\n",
       "  location: class Solution\n",
       "Main.java:8: error: cannot find symbol\n",
       "        BigInteger num2 = new BigInteger(n.split(\"/\")[0]);\n",
       "                              ^\n",
       "  symbol:   class BigInteger\n",
       "  location: class Solution\n",
       "Main.java:9: error: cannot find symbol\n",
       "        BigInteger denom2 = new BigInteger(n.split(\"/\")[1]);\n",
       "        ^\n",
       "  symbol:   class BigInteger\n",
       "  location: class Solution\n",
       "Main.java:9: error: cannot find symbol\n",
       "        BigInteger denom2 = new BigInteger(n.split(\"/\")[1]);\n",
       "                                ^\n",
       "  symbol:   class BigInteger\n",
       "  location: class Solution\n",
       "Main.java:11: error: cannot find symbol\n",
       "        BigInteger productNumerator = num1.multiply(num2);\n",
       "        ^\n",
       "  symbol:   class BigInteger\n",
       "  location: class Solution\n",
       "Main.java:12: error: cannot find symbol\n",
       "        BigInteger productDenominator = denom1.multiply(denom2);\n",
       "        ^\n",
       "  symbol:   class BigInteger\n",
       "  location: class Solution\n",
       "Main.java:14: error: cannot find symbol\n",
       "        return productNumerator.gcd(productDenominator).equals(BigInteger.ONE);\n",
       "                                                               ^\n",
       "  symbol:   variable BigInteger\n",
       "  location: class Solution\n",
       "11 errors\n"
      ]
     },
     "metadata": {},
     "output_type": "display_data"
    },
    {
     "data": {
      "text/html": [
       "<pre style=\"white-space:pre;overflow-x:auto;line-height:normal;font-family:Menlo,'DejaVu Sans Mono',consolas,'Courier New',monospace\">\n",
       "</pre>\n"
      ],
      "text/plain": [
       "\n"
      ]
     },
     "metadata": {},
     "output_type": "display_data"
    },
    {
     "data": {
      "text/html": [
       "<pre style=\"white-space:pre;overflow-x:auto;line-height:normal;font-family:Menlo,'DejaVu Sans Mono',consolas,'Courier New',monospace\">Compilation failed! Idx: 22\n",
       "</pre>\n"
      ],
      "text/plain": [
       "Compilation failed! Idx: 22\n"
      ]
     },
     "metadata": {},
     "output_type": "display_data"
    },
    {
     "data": {
      "text/html": [
       "<pre style=\"white-space:pre;overflow-x:auto;line-height:normal;font-family:Menlo,'DejaVu Sans Mono',consolas,'Courier New',monospace\">stderr: Main.java:21: error: cannot find symbol\n",
       "                s.filterIntergers(new ArrayList&lt;&gt;(List.of())).equals(List.of()),\n",
       "                 ^\n",
       "  symbol:   method filterIntergers(ArrayList&lt;Object&gt;)\n",
       "  location: variable s of type Solution\n",
       "Main.java:22: error: cannot find symbol\n",
       "                s.filterIntergers(new ArrayList&lt;&gt;(Arrays.asList(4, Map.of(), List.of(), 23.2, 9, \n",
       "\"adasd\"))).equals(Arrays.asList(4, 9)),\n",
       "                 ^\n",
       "  symbol:   method filterIntergers(ArrayList&lt;Object&gt;)\n",
       "  location: variable s of type Solution\n",
       "Main.java:23: error: cannot find symbol\n",
       "                s.filterIntergers(new ArrayList&lt;&gt;(Arrays.asList(3, 'c', 3, 3, 'a', 'b'))).equals(Arrays.asList(3, \n",
       "3, 3))\n",
       "                 ^\n",
       "  symbol:   method filterIntergers(ArrayList&lt;INT#1&gt;)\n",
       "  location: variable s of type Solution\n",
       "  where INT#1,INT#2 are intersection types:\n",
       "    INT#1 extends Object,Serializable,Comparable&lt;? extends INT#2&gt;,Constable\n",
       "    INT#2 extends Object,Serializable,Comparable&lt;?&gt;,Constable\n",
       "3 errors\n",
       "</pre>\n"
      ],
      "text/plain": [
       "stderr: Main.java:21: error: cannot find symbol\n",
       "                s.filterIntergers(new ArrayList<>(List.of())).equals(List.of()),\n",
       "                 ^\n",
       "  symbol:   method filterIntergers(ArrayList<Object>)\n",
       "  location: variable s of type Solution\n",
       "Main.java:22: error: cannot find symbol\n",
       "                s.filterIntergers(new ArrayList<>(Arrays.asList(4, Map.of(), List.of(), 23.2, 9, \n",
       "\"adasd\"))).equals(Arrays.asList(4, 9)),\n",
       "                 ^\n",
       "  symbol:   method filterIntergers(ArrayList<Object>)\n",
       "  location: variable s of type Solution\n",
       "Main.java:23: error: cannot find symbol\n",
       "                s.filterIntergers(new ArrayList<>(Arrays.asList(3, 'c', 3, 3, 'a', 'b'))).equals(Arrays.asList(3, \n",
       "3, 3))\n",
       "                 ^\n",
       "  symbol:   method filterIntergers(ArrayList<INT#1>)\n",
       "  location: variable s of type Solution\n",
       "  where INT#1,INT#2 are intersection types:\n",
       "    INT#1 extends Object,Serializable,Comparable<? extends INT#2>,Constable\n",
       "    INT#2 extends Object,Serializable,Comparable<?>,Constable\n",
       "3 errors\n"
      ]
     },
     "metadata": {},
     "output_type": "display_data"
    },
    {
     "data": {
      "text/html": [
       "<pre style=\"white-space:pre;overflow-x:auto;line-height:normal;font-family:Menlo,'DejaVu Sans Mono',consolas,'Courier New',monospace\">\n",
       "</pre>\n"
      ],
      "text/plain": [
       "\n"
      ]
     },
     "metadata": {},
     "output_type": "display_data"
    },
    {
     "data": {
      "text/html": [
       "<pre style=\"white-space:pre;overflow-x:auto;line-height:normal;font-family:Menlo,'DejaVu Sans Mono',consolas,'Courier New',monospace\">Compilation failed! Idx: 50\n",
       "</pre>\n"
      ],
      "text/plain": [
       "Compilation failed! Idx: 50\n"
      ]
     },
     "metadata": {},
     "output_type": "display_data"
    },
    {
     "data": {
      "text/html": [
       "<pre style=\"white-space:pre;overflow-x:auto;line-height:normal;font-family:Menlo,'DejaVu Sans Mono',consolas,'Courier New',monospace\">stderr: Main.java:31: error: cannot find symbol\n",
       "            String encode_str = s.encodeShift(str);\n",
       "                                 ^\n",
       "  symbol:   method encodeShift(String)\n",
       "  location: variable s of type Solution\n",
       "1 error\n",
       "</pre>\n"
      ],
      "text/plain": [
       "stderr: Main.java:31: error: cannot find symbol\n",
       "            String encode_str = s.encodeShift(str);\n",
       "                                 ^\n",
       "  symbol:   method encodeShift(String)\n",
       "  location: variable s of type Solution\n",
       "1 error\n"
      ]
     },
     "metadata": {},
     "output_type": "display_data"
    },
    {
     "data": {
      "text/html": [
       "<pre style=\"white-space:pre;overflow-x:auto;line-height:normal;font-family:Menlo,'DejaVu Sans Mono',consolas,'Courier New',monospace\">\n",
       "</pre>\n"
      ],
      "text/plain": [
       "\n"
      ]
     },
     "metadata": {},
     "output_type": "display_data"
    },
    {
     "data": {
      "text/html": [
       "<pre style=\"white-space:pre;overflow-x:auto;line-height:normal;font-family:Menlo,'DejaVu Sans Mono',consolas,'Courier New',monospace\">Compilation failed! Idx: 51\n",
       "</pre>\n"
      ],
      "text/plain": [
       "Compilation failed! Idx: 51\n"
      ]
     },
     "metadata": {},
     "output_type": "display_data"
    },
    {
     "data": {
      "text/html": [
       "<pre style=\"white-space:pre;overflow-x:auto;line-height:normal;font-family:Menlo,'DejaVu Sans Mono',consolas,'Courier New',monospace\">stderr: Main.java:9: error: bad operand type int for unary operator '!'\n",
       "            if (!vowels.indexOf(c) != -1) {\n",
       "                ^\n",
       "1 error\n",
       "</pre>\n"
      ],
      "text/plain": [
       "stderr: Main.java:9: error: bad operand type int for unary operator '!'\n",
       "            if (!vowels.indexOf(c) != -1) {\n",
       "                ^\n",
       "1 error\n"
      ]
     },
     "metadata": {},
     "output_type": "display_data"
    },
    {
     "data": {
      "text/html": [
       "<pre style=\"white-space:pre;overflow-x:auto;line-height:normal;font-family:Menlo,'DejaVu Sans Mono',consolas,'Courier New',monospace\">\n",
       "</pre>\n"
      ],
      "text/plain": [
       "\n"
      ]
     },
     "metadata": {},
     "output_type": "display_data"
    },
    {
     "data": {
      "text/html": [
       "<pre style=\"white-space:pre;overflow-x:auto;line-height:normal;font-family:Menlo,'DejaVu Sans Mono',consolas,'Courier New',monospace\">Compilation failed! Idx: 38\n",
       "</pre>\n"
      ],
      "text/plain": [
       "Compilation failed! Idx: 38\n"
      ]
     },
     "metadata": {},
     "output_type": "display_data"
    },
    {
     "data": {
      "text/html": [
       "<pre style=\"white-space:pre;overflow-x:auto;line-height:normal;font-family:Menlo,'DejaVu Sans Mono',consolas,'Courier New',monospace\">stderr: Main.java:40: error: cannot find symbol\n",
       "            String encode_str = s.encodeCyclic(str);\n",
       "                                 ^\n",
       "  symbol:   method encodeCyclic(String)\n",
       "  location: variable s of type Solution\n",
       "1 error\n",
       "</pre>\n"
      ],
      "text/plain": [
       "stderr: Main.java:40: error: cannot find symbol\n",
       "            String encode_str = s.encodeCyclic(str);\n",
       "                                 ^\n",
       "  symbol:   method encodeCyclic(String)\n",
       "  location: variable s of type Solution\n",
       "1 error\n"
      ]
     },
     "metadata": {},
     "output_type": "display_data"
    },
    {
     "data": {
      "text/html": [
       "<pre style=\"white-space:pre;overflow-x:auto;line-height:normal;font-family:Menlo,'DejaVu Sans Mono',consolas,'Courier New',monospace\">\n",
       "</pre>\n"
      ],
      "text/plain": [
       "\n"
      ]
     },
     "metadata": {},
     "output_type": "display_data"
    },
    {
     "data": {
      "text/html": [
       "<pre style=\"white-space:pre;overflow-x:auto;line-height:normal;font-family:Menlo,'DejaVu Sans Mono',consolas,'Courier New',monospace\">Compilation failed! Idx: 75\n",
       "</pre>\n"
      ],
      "text/plain": [
       "Compilation failed! Idx: 75\n"
      ]
     },
     "metadata": {},
     "output_type": "display_data"
    },
    {
     "data": {
      "text/html": [
       "<pre style=\"white-space:pre;overflow-x:auto;line-height:normal;font-family:Menlo,'DejaVu Sans Mono',consolas,'Courier New',monospace\">stderr: Main.java:7: error: ';' expected\n",
       "        boolean isPrime(int n) {\n",
       "                       ^\n",
       "Main.java:7: error: ';' expected\n",
       "        boolean isPrime(int n) {\n",
       "                             ^\n",
       "2 errors\n",
       "</pre>\n"
      ],
      "text/plain": [
       "stderr: Main.java:7: error: ';' expected\n",
       "        boolean isPrime(int n) {\n",
       "                       ^\n",
       "Main.java:7: error: ';' expected\n",
       "        boolean isPrime(int n) {\n",
       "                             ^\n",
       "2 errors\n"
      ]
     },
     "metadata": {},
     "output_type": "display_data"
    },
    {
     "data": {
      "text/html": [
       "<pre style=\"white-space:pre;overflow-x:auto;line-height:normal;font-family:Menlo,'DejaVu Sans Mono',consolas,'Courier New',monospace\">\n",
       "</pre>\n"
      ],
      "text/plain": [
       "\n"
      ]
     },
     "metadata": {},
     "output_type": "display_data"
    },
    {
     "data": {
      "text/html": [
       "<pre style=\"white-space:pre;overflow-x:auto;line-height:normal;font-family:Menlo,'DejaVu Sans Mono',consolas,'Courier New',monospace\">Compilation failed! Idx: 73\n",
       "</pre>\n"
      ],
      "text/plain": [
       "Compilation failed! Idx: 73\n"
      ]
     },
     "metadata": {},
     "output_type": "display_data"
    },
    {
     "data": {
      "text/html": [
       "<pre style=\"white-space:pre;overflow-x:auto;line-height:normal;font-family:Menlo,'DejaVu Sans Mono',consolas,'Courier New',monospace\">stderr: Main.java:12: error: no suitable method found for sort(int[],Comparator&lt;Object&gt;)\n",
       "        Arrays.sort(map, Comparator.comparingInt(i -&gt; arr.get(i)));\n",
       "              ^\n",
       "    method Arrays.&lt;T#1&gt;sort(T#1[],Comparator&lt;? super T#1&gt;) is not applicable\n",
       "      (inference variable T#1 has incompatible bounds\n",
       "        equality constraints: int\n",
       "        upper bounds: Object)\n",
       "    method Arrays.&lt;T#2&gt;sort(T#2[],int,int,Comparator&lt;? super T#2&gt;) is not applicable\n",
       "      (cannot infer type-variable(s) T#2\n",
       "        (actual and formal argument lists differ in length))\n",
       "  where T#1,T#2 are type-variables:\n",
       "    T#1 extends Object declared in method &lt;T#1&gt;sort(T#1[],Comparator&lt;? super T#1&gt;)\n",
       "    T#2 extends Object declared in method &lt;T#2&gt;sort(T#2[],int,int,Comparator&lt;? super T#2&gt;)\n",
       "Main.java:12: error: incompatible types: Object cannot be converted to int\n",
       "        Arrays.sort(map, Comparator.comparingInt(i -&gt; arr.get(i)));\n",
       "                                                              ^\n",
       "Note: Some messages have been simplified; recompile with -Xdiags:verbose to get full output\n",
       "2 errors\n",
       "</pre>\n"
      ],
      "text/plain": [
       "stderr: Main.java:12: error: no suitable method found for sort(int[],Comparator<Object>)\n",
       "        Arrays.sort(map, Comparator.comparingInt(i -> arr.get(i)));\n",
       "              ^\n",
       "    method Arrays.<T#1>sort(T#1[],Comparator<? super T#1>) is not applicable\n",
       "      (inference variable T#1 has incompatible bounds\n",
       "        equality constraints: int\n",
       "        upper bounds: Object)\n",
       "    method Arrays.<T#2>sort(T#2[],int,int,Comparator<? super T#2>) is not applicable\n",
       "      (cannot infer type-variable(s) T#2\n",
       "        (actual and formal argument lists differ in length))\n",
       "  where T#1,T#2 are type-variables:\n",
       "    T#1 extends Object declared in method <T#1>sort(T#1[],Comparator<? super T#1>)\n",
       "    T#2 extends Object declared in method <T#2>sort(T#2[],int,int,Comparator<? super T#2>)\n",
       "Main.java:12: error: incompatible types: Object cannot be converted to int\n",
       "        Arrays.sort(map, Comparator.comparingInt(i -> arr.get(i)));\n",
       "                                                              ^\n",
       "Note: Some messages have been simplified; recompile with -Xdiags:verbose to get full output\n",
       "2 errors\n"
      ]
     },
     "metadata": {},
     "output_type": "display_data"
    },
    {
     "data": {
      "text/html": [
       "<pre style=\"white-space:pre;overflow-x:auto;line-height:normal;font-family:Menlo,'DejaVu Sans Mono',consolas,'Courier New',monospace\">\n",
       "</pre>\n"
      ],
      "text/plain": [
       "\n"
      ]
     },
     "metadata": {},
     "output_type": "display_data"
    },
    {
     "data": {
      "text/html": [
       "<pre style=\"white-space:pre;overflow-x:auto;line-height:normal;font-family:Menlo,'DejaVu Sans Mono',consolas,'Courier New',monospace\">Compilation failed! Idx: 103\n",
       "</pre>\n"
      ],
      "text/plain": [
       "Compilation failed! Idx: 103\n"
      ]
     },
     "metadata": {},
     "output_type": "display_data"
    },
    {
     "data": {
      "text/html": [
       "<pre style=\"white-space:pre;overflow-x:auto;line-height:normal;font-family:Menlo,'DejaVu Sans Mono',consolas,'Courier New',monospace\">stderr: Main.java:15: error: incompatible types: possible lossy conversion from double to long\n",
       "        long avg = (sum + 0.5) / (m - n + 1);\n",
       "                               ^\n",
       "1 error\n",
       "</pre>\n"
      ],
      "text/plain": [
       "stderr: Main.java:15: error: incompatible types: possible lossy conversion from double to long\n",
       "        long avg = (sum + 0.5) / (m - n + 1);\n",
       "                               ^\n",
       "1 error\n"
      ]
     },
     "metadata": {},
     "output_type": "display_data"
    },
    {
     "data": {
      "text/html": [
       "<pre style=\"white-space:pre;overflow-x:auto;line-height:normal;font-family:Menlo,'DejaVu Sans Mono',consolas,'Courier New',monospace\">\n",
       "</pre>\n"
      ],
      "text/plain": [
       "\n"
      ]
     },
     "metadata": {},
     "output_type": "display_data"
    },
    {
     "data": {
      "text/html": [
       "<pre style=\"white-space:pre;overflow-x:auto;line-height:normal;font-family:Menlo,'DejaVu Sans Mono',consolas,'Courier New',monospace\">Compilation failed! Idx: 139\n",
       "</pre>\n"
      ],
      "text/plain": [
       "Compilation failed! Idx: 139\n"
      ]
     },
     "metadata": {},
     "output_type": "display_data"
    },
    {
     "data": {
      "text/html": [
       "<pre style=\"white-space:pre;overflow-x:auto;line-height:normal;font-family:Menlo,'DejaVu Sans Mono',consolas,'Courier New',monospace\">stderr: Main.java:6: error: cannot find symbol\n",
       "        BigInteger result = BigInteger.ONE;\n",
       "        ^\n",
       "  symbol:   class BigInteger\n",
       "  location: class Solution\n",
       "Main.java:6: error: cannot find symbol\n",
       "        BigInteger result = BigInteger.ONE;\n",
       "                            ^\n",
       "  symbol:   variable BigInteger\n",
       "  location: class Solution\n",
       "Main.java:8: error: cannot find symbol\n",
       "            result = result.multiply(BigInteger.valueOf(i));\n",
       "                                     ^\n",
       "  symbol:   variable BigInteger\n",
       "  location: class Solution\n",
       "3 errors\n",
       "</pre>\n"
      ],
      "text/plain": [
       "stderr: Main.java:6: error: cannot find symbol\n",
       "        BigInteger result = BigInteger.ONE;\n",
       "        ^\n",
       "  symbol:   class BigInteger\n",
       "  location: class Solution\n",
       "Main.java:6: error: cannot find symbol\n",
       "        BigInteger result = BigInteger.ONE;\n",
       "                            ^\n",
       "  symbol:   variable BigInteger\n",
       "  location: class Solution\n",
       "Main.java:8: error: cannot find symbol\n",
       "            result = result.multiply(BigInteger.valueOf(i));\n",
       "                                     ^\n",
       "  symbol:   variable BigInteger\n",
       "  location: class Solution\n",
       "3 errors\n"
      ]
     },
     "metadata": {},
     "output_type": "display_data"
    },
    {
     "data": {
      "text/html": [
       "<pre style=\"white-space:pre;overflow-x:auto;line-height:normal;font-family:Menlo,'DejaVu Sans Mono',consolas,'Courier New',monospace\">\n",
       "</pre>\n"
      ],
      "text/plain": [
       "\n"
      ]
     },
     "metadata": {},
     "output_type": "display_data"
    },
    {
     "data": {
      "text/html": [
       "<pre style=\"white-space:pre;overflow-x:auto;line-height:normal;font-family:Menlo,'DejaVu Sans Mono',consolas,'Courier New',monospace\">Compilation failed! Idx: 145\n",
       "</pre>\n"
      ],
      "text/plain": [
       "Compilation failed! Idx: 145\n"
      ]
     },
     "metadata": {},
     "output_type": "display_data"
    },
    {
     "data": {
      "text/html": [
       "<pre style=\"white-space:pre;overflow-x:auto;line-height:normal;font-family:Menlo,'DejaVu Sans Mono',consolas,'Courier New',monospace\">stderr: Main.java:19: error: cannot find symbol\n",
       "        indexedNums.sort(Comparator.comparingInt(p -&gt; p.sumOfDigits).thenComparingInt(p -&gt; p.index));\n",
       "                                                       ^\n",
       "  symbol:   variable sumOfDigits\n",
       "  location: variable p of type Object\n",
       "Main.java:19: error: cannot find symbol\n",
       "        indexedNums.sort(Comparator.comparingInt(p -&gt; p.sumOfDigits).thenComparingInt(p -&gt; p.index));\n",
       "                                                                                            ^\n",
       "  symbol:   variable index\n",
       "  location: variable p of type Object\n",
       "2 errors\n",
       "</pre>\n"
      ],
      "text/plain": [
       "stderr: Main.java:19: error: cannot find symbol\n",
       "        indexedNums.sort(Comparator.comparingInt(p -> p.sumOfDigits).thenComparingInt(p -> p.index));\n",
       "                                                       ^\n",
       "  symbol:   variable sumOfDigits\n",
       "  location: variable p of type Object\n",
       "Main.java:19: error: cannot find symbol\n",
       "        indexedNums.sort(Comparator.comparingInt(p -> p.sumOfDigits).thenComparingInt(p -> p.index));\n",
       "                                                                                            ^\n",
       "  symbol:   variable index\n",
       "  location: variable p of type Object\n",
       "2 errors\n"
      ]
     },
     "metadata": {},
     "output_type": "display_data"
    },
    {
     "data": {
      "text/html": [
       "<pre style=\"white-space:pre;overflow-x:auto;line-height:normal;font-family:Menlo,'DejaVu Sans Mono',consolas,'Courier New',monospace\">\n",
       "</pre>\n"
      ],
      "text/plain": [
       "\n"
      ]
     },
     "metadata": {},
     "output_type": "display_data"
    },
    {
     "data": {
      "text/html": [
       "<pre style=\"white-space:pre;overflow-x:auto;line-height:normal;font-family:Menlo,'DejaVu Sans Mono',consolas,'Courier New',monospace\">Compilation failed! Idx: 141\n",
       "</pre>\n"
      ],
      "text/plain": [
       "Compilation failed! Idx: 141\n"
      ]
     },
     "metadata": {},
     "output_type": "display_data"
    },
    {
     "data": {
      "text/html": [
       "<pre style=\"white-space:pre;overflow-x:auto;line-height:normal;font-family:Menlo,'DejaVu Sans Mono',consolas,'Courier New',monospace\">stderr: Main.java:15: error: cannot find symbol\n",
       "        if (!Pattern.matches(\"[a-zA-Z]\", firstPart)) {\n",
       "             ^\n",
       "  symbol:   variable Pattern\n",
       "  location: class Solution\n",
       "1 error\n",
       "</pre>\n"
      ],
      "text/plain": [
       "stderr: Main.java:15: error: cannot find symbol\n",
       "        if (!Pattern.matches(\"[a-zA-Z]\", firstPart)) {\n",
       "             ^\n",
       "  symbol:   variable Pattern\n",
       "  location: class Solution\n",
       "1 error\n"
      ]
     },
     "metadata": {},
     "output_type": "display_data"
    },
    {
     "data": {
      "text/html": [
       "<pre style=\"white-space:pre;overflow-x:auto;line-height:normal;font-family:Menlo,'DejaVu Sans Mono',consolas,'Courier New',monospace\">\n",
       "</pre>\n"
      ],
      "text/plain": [
       "\n"
      ]
     },
     "metadata": {},
     "output_type": "display_data"
    },
    {
     "data": {
      "text/html": [
       "<pre style=\"white-space:pre;overflow-x:auto;line-height:normal;font-family:Menlo,'DejaVu Sans Mono',consolas,'Courier New',monospace\"></pre>\n"
      ],
      "text/plain": []
     },
     "metadata": {},
     "output_type": "display_data"
    }
   ],
   "source": [
    "args = {\n",
    "    'model': 'hf/local',\n",
    "    'model_path': '/root/srf-project/test_humaneval-x/llama3-java-finetune/checkpoint-1250',\n",
    "    'device': 'auto',\n",
    "    'torch_dtype': 'auto'\n",
    "}\n",
    "\n",
    "run_eval('java', model_args=args, epochs=3)"
   ]
  },
  {
   "cell_type": "markdown",
   "id": "6a4ee715",
   "metadata": {},
   "source": [
    "### GPU Deets"
   ]
  },
  {
   "cell_type": "code",
   "execution_count": null,
   "id": "940218bc",
   "metadata": {},
   "outputs": [],
   "source": [
    "import torch as t\n",
    "import gc\n",
    "\n",
    "free_memory, total_memory = t.cuda.mem_get_info()\n",
    "\n",
    "# Convert bytes to GB\n",
    "free_memory_gb = free_memory / (1024 * 1024 * 1024)\n",
    "total_memory_gb = total_memory / (1024 * 1024 * 1024)\n",
    "mem_used = t.cuda.device_memory_used() / (1024 ** 3)\n",
    "\n",
    "print(f\"Free GPU Memory: {free_memory_gb:.2f} GB\")\n",
    "print(f\"Total GPU Memory: {total_memory_gb:.2f} GB\")\n",
    "print(f'Memory Used: {mem_used:.2f} GB')"
   ]
  },
  {
   "cell_type": "code",
   "execution_count": null,
   "id": "00e20428",
   "metadata": {},
   "outputs": [],
   "source": [
    "print(t.cuda.memory_allocated() / 1024**2, \"MB allocated\")\n",
    "print(t.cuda.memory_reserved() / 1024**2, \"MB reserved\")"
   ]
  },
  {
   "cell_type": "markdown",
   "id": "c33489c8",
   "metadata": {},
   "source": [
    "## Un-Focus"
   ]
  },
  {
   "cell_type": "markdown",
   "id": "6aa865bb",
   "metadata": {},
   "source": [
    "### HuggingFace Finetuning "
   ]
  },
  {
   "cell_type": "code",
   "execution_count": null,
   "id": "ed6a7551",
   "metadata": {},
   "outputs": [],
   "source": [
    "dataset = load_dataset(\"karpathy/tiny_shakespeare\")\n",
    "print(dataset)\n",
    "# print('hlelow')"
   ]
  },
  {
   "cell_type": "code",
   "execution_count": null,
   "id": "dfe78681",
   "metadata": {},
   "outputs": [],
   "source": [
    "model_name = 'meta-llama/Llama-3.1-8B-Instruct'\n",
    "tokenizer = AutoTokenizer.from_pretrained(model_name, padding_size='left')\n",
    "model = AutoModelForCausalLM.from_pretrained(\n",
    "    model_name,\n",
    "    load_in_8bit=True,  # Optional: saves memory\n",
    "    device_map=\"auto\",\n",
    "    # torch_dtype=\"auto\"\n",
    ")\n",
    "tokenizer.pad_token = tokenizer.eos_token"
   ]
  },
  {
   "cell_type": "code",
   "execution_count": null,
   "id": "311769d7",
   "metadata": {},
   "outputs": [],
   "source": [
    "questions = [\n",
    "    'What is 5+5?', \n",
    "    'Tell me a poem.',\n",
    "    'Tell me a story.',\n",
    "]\n",
    "message_template = [\n",
    "    {\"role\": \"system\", \"content\": \"You are a friendly, helpful chatbot.\"},\n",
    "    {\"role\": \"user\", \"content\": ''},\n",
    "]\n",
    "\n",
    "def qualitative_eval():\n",
    "    out = []\n",
    "    for question in questions:\n",
    "        message = message_template\n",
    "        message[1]['content'] = question\n",
    "\n",
    "        model_inputs = tokenizer.apply_chat_template(message, add_generation_prompt=True, return_tensors='pt').to('cuda')\n",
    "        generated_ids = model.generate(model_inputs, do_sample=True, max_new_tokens=50)\n",
    "        text = tokenizer.batch_decode(generated_ids, skip_special_tokens=True)[0].split('assistant')[-1]\n",
    "\n",
    "        out.append(text)\n",
    "    \n",
    "    return out"
   ]
  },
  {
   "cell_type": "code",
   "execution_count": null,
   "id": "9bfebac6",
   "metadata": {},
   "outputs": [],
   "source": [
    "def tokenize_function(examples):\n",
    "    return tokenizer(examples[\"text\"])\n",
    "\n",
    "tokenized_dataset = dataset.map(\n",
    "    tokenize_function,\n",
    "    batched=True,\n",
    "    num_proc=4,\n",
    "    remove_columns=[\"text\"]\n",
    ")"
   ]
  },
  {
   "cell_type": "code",
   "execution_count": null,
   "id": "c29a3414",
   "metadata": {},
   "outputs": [],
   "source": [
    "block_size = 256\n",
    "\n",
    "def group_texts(examples):\n",
    "    concatenated = {k: sum(examples[k], []) for k in examples.keys()}\n",
    "    total_length = len(concatenated[\"input_ids\"])\n",
    "    total_length = (total_length // block_size) * block_size\n",
    "    result = {\n",
    "        k: [t[i : i + block_size] for i in range(0, total_length, block_size)]\n",
    "        for k, t in concatenated.items()\n",
    "    }\n",
    "    result[\"labels\"] = result[\"input_ids\"].copy()\n",
    "    return result\n",
    "\n",
    "lm_dataset = tokenized_dataset.map(\n",
    "    group_texts,\n",
    "    batched=True,\n",
    "    num_proc=4\n",
    ")"
   ]
  },
  {
   "cell_type": "code",
   "execution_count": null,
   "id": "19724db3",
   "metadata": {},
   "outputs": [],
   "source": [
    "training_args = TrainingArguments(\n",
    "    output_dir=\"./llama3-shakespeare\",\n",
    "    gradient_accumulation_steps=8,\n",
    "    num_train_epochs=3,\n",
    "    learning_rate=2e-4,\n",
    "    bf16=True,\n",
    "    logging_steps=10,\n",
    "    save_steps=100,\n",
    "    save_total_limit=2,\n",
    ")\n",
    "\n",
    "lora_config = LoraConfig(\n",
    "    r=8,\n",
    "    lora_alpha=32,\n",
    "    target_modules=[\"q_proj\", \"v_proj\"],\n",
    "    lora_dropout=0.05,\n",
    "    bias=\"none\",\n",
    "    task_type=TaskType.CAUSAL_LM\n",
    ")\n",
    "\n",
    "model = get_peft_model(model, lora_config)"
   ]
  },
  {
   "cell_type": "code",
   "execution_count": null,
   "id": "ee09556c",
   "metadata": {},
   "outputs": [],
   "source": [
    "trainer = Trainer(\n",
    "    model=model,\n",
    "    args=training_args,\n",
    "    train_dataset=lm_dataset[\"train\"],\n",
    "    eval_dataset=lm_dataset[\"validation\"],\n",
    "    tokenizer=tokenizer\n",
    ")\n",
    "\n",
    "trainer.train()"
   ]
  },
  {
   "cell_type": "code",
   "execution_count": null,
   "id": "5515a2d7",
   "metadata": {},
   "outputs": [],
   "source": [
    "qualitative_eval()"
   ]
  },
  {
   "cell_type": "code",
   "execution_count": null,
   "id": "e1ecdcca",
   "metadata": {},
   "outputs": [],
   "source": [
    "trainer.save_model(\"./llama3-shakespeare\")\n",
    "tokenizer.save_pretrained(\"./llama3-shakespeare\")"
   ]
  },
  {
   "cell_type": "markdown",
   "id": "f4cee218",
   "metadata": {},
   "source": [
    "### HuggingFace Training (0/2)"
   ]
  },
  {
   "cell_type": "code",
   "execution_count": null,
   "id": "6977b840",
   "metadata": {},
   "outputs": [],
   "source": [
    "datasets = load_dataset('wikitext', 'wikitext-2-raw-v1')\n",
    "datasets['train']['text']"
   ]
  },
  {
   "cell_type": "code",
   "execution_count": null,
   "id": "440dac75",
   "metadata": {},
   "outputs": [],
   "source": [
    "def tokenize_function(examples):\n",
    "    return tokenizer(examples[\"text\"]).to('cuda')\n",
    "\n",
    "model_checkpoint = \"distilgpt2\"\n",
    "tokenizer = AutoTokenizer.from_pretrained(model_checkpoint, use_fast=True)\n",
    "tokenized_datasets = datasets.map(tokenize_function, batched=True, num_proc=4, remove_columns=[\"text\"])"
   ]
  },
  {
   "cell_type": "code",
   "execution_count": null,
   "id": "787c8993",
   "metadata": {},
   "outputs": [],
   "source": [
    "block_size = tokenizer.model_max_length\n",
    "\n",
    "first = True\n",
    "my_result = ...\n",
    "counter = 0\n",
    "\n",
    "def group_texts(examples):\n",
    "    global my_result, counter, first\n",
    "\n",
    "    concatenated_examples = {k: sum(examples[k], []) for k in examples.keys()}\n",
    "    total_length = len(concatenated_examples[list(examples.keys())[0]])\n",
    "    total_length = (total_length // block_size) * block_size\n",
    "\n",
    "    result = {\n",
    "        k: [t[i : i + block_size] for i in range(0, total_length, block_size)]\n",
    "        for k, t in concatenated_examples.items()\n",
    "    }\n",
    "    result[\"labels\"] = result[\"input_ids\"].copy()\n",
    "\n",
    "    counter += 1\n",
    "    if first:\n",
    "        my_result = result\n",
    "        first = False\n",
    "\n",
    "    return result"
   ]
  },
  {
   "cell_type": "code",
   "execution_count": null,
   "id": "c43dc7ff",
   "metadata": {},
   "outputs": [],
   "source": [
    "lm_datasets = tokenized_datasets.map(\n",
    "    group_texts,\n",
    "    batched=True,\n",
    "    batch_size=1000,\n",
    "    # num_proc=4,\n",
    ")"
   ]
  },
  {
   "cell_type": "code",
   "execution_count": null,
   "id": "e40ca80b",
   "metadata": {},
   "outputs": [],
   "source": [
    "model = AutoModelForCausalLM.from_pretrained(model_checkpoint, device_map='auto', torch_dtype='auto')\n",
    "\n",
    "model_name = model_checkpoint.split(\"/\")[-1]\n",
    "training_args = TrainingArguments(\n",
    "    f\"{model_name}-finetuned-wikitext2\",\n",
    "    eval_strategy = \"epoch\",\n",
    "    learning_rate=2e-5,\n",
    "    weight_decay=0.01,\n",
    ")"
   ]
  },
  {
   "cell_type": "code",
   "execution_count": null,
   "id": "4026b363",
   "metadata": {},
   "outputs": [],
   "source": [
    "trainer = Trainer(\n",
    "    model=model,\n",
    "    args=training_args,\n",
    "    train_dataset=lm_datasets[\"train\"],\n",
    "    eval_dataset=lm_datasets[\"validation\"],\n",
    ")"
   ]
  },
  {
   "cell_type": "code",
   "execution_count": null,
   "id": "f45d5f82",
   "metadata": {},
   "outputs": [],
   "source": [
    "trainer.train()"
   ]
  },
  {
   "cell_type": "markdown",
   "id": "e8cf5dbb",
   "metadata": {},
   "source": [
    "### HuggingFace Training (2/2)"
   ]
  },
  {
   "cell_type": "code",
   "execution_count": null,
   "id": "cf1d4529",
   "metadata": {},
   "outputs": [],
   "source": [
    "model_name = 'meta-llama/Llama-3.1-8B-Instruct'\n",
    "tokenizer = AutoTokenizer.from_pretrained(model_name, padding_side='left')\n",
    "model = AutoModelForCausalLM.from_pretrained(model_name, device_map='auto', torch_dtype='auto')\n",
    "tokenizer.pad_token = tokenizer.eos_token"
   ]
  },
  {
   "cell_type": "code",
   "execution_count": null,
   "id": "a87bcd20",
   "metadata": {},
   "outputs": [],
   "source": [
    "questions = [\n",
    "    'What is 5+5?', \n",
    "    'Tell me a poem.',\n",
    "    'Tell me a story.',\n",
    "]\n",
    "message_template = [\n",
    "    {\"role\": \"system\", \"content\": \"You are a friendly, helpful chatbot.\"},\n",
    "    {\"role\": \"user\", \"content\": ''},\n",
    "]\n",
    "\n",
    "def qualitative_eval():\n",
    "    out = []\n",
    "    for question in questions:\n",
    "        message = message_template\n",
    "        message[1]['content'] = question\n",
    "\n",
    "        model_inputs = tokenizer.apply_chat_template(message, add_generation_prompt=True, return_tensors='pt').to('cuda')\n",
    "        generated_ids = model.generate(model_inputs, do_sample=True, max_new_tokens=50)\n",
    "        text = tokenizer.batch_decode(generated_ids, skip_special_tokens=True)[0].split('assistant')[-1]\n",
    "\n",
    "        out.append(text)\n",
    "    \n",
    "    return out\n",
    "\n",
    "out = qualitative_eval()\n",
    "# for sentence in out:\n",
    "#     print(sentence)"
   ]
  },
  {
   "cell_type": "code",
   "execution_count": null,
   "id": "571345da",
   "metadata": {},
   "outputs": [],
   "source": [
    "def tokenize(text):\n",
    "    return tokenizer(text['text'])\n",
    "\n",
    "dataset = load_dataset('karpathy/tiny_shakespeare', trust_remote_code=True)\n",
    "tokenized_dataset = dataset.map(tokenize, batched=True, remove_columns='text')"
   ]
  },
  {
   "cell_type": "code",
   "execution_count": null,
   "id": "21fbf3e7",
   "metadata": {},
   "outputs": [],
   "source": [
    "block_size = 1028\n",
    "\n",
    "def group_text(input):\n",
    "    length = len(input['input_ids'])\n",
    "    n_batches = length // block_size\n",
    "\n",
    "    result = dict()\n",
    "\n",
    "    for k, t in input.items():\n",
    "        t = np.array(t[:n_batches * block_size])\n",
    "        t = einops.rearrange(t, '(bat block) -> bat block', bat=n_batches)\n",
    "        t = t.tolist()\n",
    "\n",
    "        result[k] = t\n",
    "\n",
    "    result['labels'] = result['input_ids'].copy()\n",
    "    return result\n",
    "\n",
    "lm_dataset = tokenized_dataset.map(group_text)"
   ]
  },
  {
   "cell_type": "code",
   "execution_count": null,
   "id": "50c9958c",
   "metadata": {},
   "outputs": [],
   "source": [
    "training_args = TrainingArguments(\n",
    "    f\"finetuned-tiny-shakespeare\",\n",
    "    eval_strategy = \"epoch\",\n",
    "    learning_rate=2e-5,\n",
    "    weight_decay=0.01,\n",
    ")\n",
    "\n",
    "trainer = Trainer(\n",
    "    model=model,\n",
    "    args=training_args,\n",
    "    train_dataset=lm_dataset[\"train\"],\n",
    "    eval_dataset=lm_dataset[\"validation\"],\n",
    ")"
   ]
  },
  {
   "cell_type": "code",
   "execution_count": null,
   "id": "67594927",
   "metadata": {},
   "outputs": [],
   "source": [
    "trainer.train()"
   ]
  },
  {
   "cell_type": "markdown",
   "id": "942a19e6",
   "metadata": {},
   "source": [
    "### HuggingFace Training (1/2)"
   ]
  },
  {
   "cell_type": "code",
   "execution_count": null,
   "id": "eb524c10",
   "metadata": {},
   "outputs": [],
   "source": [
    "# tokenizer = AutoTokenizer.from_pretrained('meta-llama/Llama-3.1-8B-Instruct', padding_side='left')\n",
    "# model = AutoModelForCausalLM.from_pretrained('meta-llama/Llama-3.1-8B-Instruct', device_map='auto', torch_dtype='auto')\n",
    "# tokenizer.pad_token = tokenizer.eos_token"
   ]
  },
  {
   "cell_type": "code",
   "execution_count": null,
   "id": "25135ab9",
   "metadata": {},
   "outputs": [],
   "source": [
    "ft_dataset = load_dataset('yelp_review_full')\n",
    "ft_tokenizer = AutoTokenizer.from_pretrained('google-bert/bert-base-cased')\n",
    "\n",
    "def tokenize(examples):\n",
    "    return ft_tokenizer(examples[\"text\"], padding=\"max_length\", truncation=True).to('cuda')\n",
    "dataset = ft_dataset.map(tokenize, batched=True)"
   ]
  },
  {
   "cell_type": "code",
   "execution_count": null,
   "id": "e3b281df",
   "metadata": {},
   "outputs": [],
   "source": [
    "model = AutoModelForSequenceClassification.from_pretrained(\"google-bert/bert-base-cased\", num_labels=5)\n"
   ]
  },
  {
   "cell_type": "code",
   "execution_count": null,
   "id": "565f0dc6",
   "metadata": {},
   "outputs": [],
   "source": [
    "metric = evaluate.load(\"accuracy\")\n",
    "\n",
    "def compute_metrics(eval_pred):\n",
    "    logits, labels = eval_pred\n",
    "    predictions = np.argmax(logits, axis=-1)\n",
    "    return metric.compute(predictions=predictions, references=labels)\n",
    "\n",
    "training_args = TrainingArguments(\n",
    "    output_dir=\"yelp_review_classifier\",\n",
    "    eval_strategy=\"epoch\",\n",
    ")"
   ]
  },
  {
   "cell_type": "code",
   "execution_count": null,
   "id": "a58a218e",
   "metadata": {},
   "outputs": [],
   "source": [
    "small_train = dataset[\"train\"].shuffle(seed=42).select(range(1000))\n",
    "small_eval = dataset[\"test\"].shuffle(seed=42).select(range(1000))"
   ]
  },
  {
   "cell_type": "code",
   "execution_count": null,
   "id": "8fddacef",
   "metadata": {},
   "outputs": [],
   "source": [
    "trainer = Trainer(\n",
    "    model=model,\n",
    "    args=training_args,\n",
    "    train_dataset=small_train,\n",
    "    eval_dataset=small_eval,\n",
    "    compute_metrics=compute_metrics,\n",
    ")"
   ]
  },
  {
   "cell_type": "code",
   "execution_count": null,
   "id": "0bf08ec9",
   "metadata": {},
   "outputs": [],
   "source": [
    "trainer.train()"
   ]
  },
  {
   "cell_type": "markdown",
   "id": "9d66b65b",
   "metadata": {},
   "source": [
    "### HuggingFace Practice  \n",
    "*getting comfortable with HF*"
   ]
  },
  {
   "cell_type": "code",
   "execution_count": null,
   "id": "af5a0003",
   "metadata": {},
   "outputs": [],
   "source": [
    "tokenizer = AutoTokenizer.from_pretrained('meta-llama/Llama-3.1-8B-Instruct', padding_side=\"left\")\n",
    "model = AutoModelForCausalLM.from_pretrained(\n",
    "        'meta-llama/Llama-3.1-8B-Instruct', \n",
    "        device_map = 'auto',\n",
    "        torch_dtype = 'auto',\n",
    ")\n",
    "tokenizer.pad_token = tokenizer.eos_token"
   ]
  },
  {
   "cell_type": "code",
   "execution_count": null,
   "id": "0eb1f87c",
   "metadata": {},
   "outputs": [],
   "source": [
    "sentences = [\n",
    "    'Jack n jill went up the hill to smoke a lot of pot',\n",
    "    'Beautiful world, where are you?',\n",
    "    'In the beginning, the universe was created. This was widely regarded as a bad move.',\n",
    "]\n",
    "\n",
    "out = tokenizer(sentences, padding=True, return_tensors='pt')['input_ids']\n",
    "\n",
    "\n",
    "out2 = tokenizer.decode(out[0])\n",
    "\n",
    "out3 = tokenizer.batch_decode(out, skip_special_tokens=True)\n",
    "\n",
    "print(out2 + '\\n')\n",
    "print(out)\n",
    "\n",
    "out3"
   ]
  },
  {
   "cell_type": "code",
   "execution_count": null,
   "id": "a4faf3de",
   "metadata": {},
   "outputs": [],
   "source": [
    "test_sentence = \"What is 5+5? Reply with a single word.\"\n",
    "model_inputs = tokenizer(test_sentence, return_tensors='pt').to('cuda')\n",
    "\n",
    "generated = model.generate(**model_inputs, max_new_tokens=100, temperature=0.3, repetition_penalty= 2.0)\n",
    "out = tokenizer.batch_decode(generated)"
   ]
  },
  {
   "cell_type": "code",
   "execution_count": null,
   "id": "918f71a2",
   "metadata": {},
   "outputs": [],
   "source": [
    "print(out[0])"
   ]
  },
  {
   "cell_type": "code",
   "execution_count": null,
   "id": "a47eaac0",
   "metadata": {},
   "outputs": [],
   "source": [
    "model.generation_config"
   ]
  },
  {
   "cell_type": "code",
   "execution_count": null,
   "id": "e1ad811f",
   "metadata": {},
   "outputs": [],
   "source": [
    "messages = [\n",
    "    {\n",
    "        \"role\": \"system\",\n",
    "        \"content\": \"You are a friendly, helpful chatbot.\",\n",
    "    },\n",
    "    {\"role\": \"user\", \"content\": \"What is 5+5? Answer with a single word.\"},\n",
    "]\n",
    "\n",
    "model_inputs = tokenizer.apply_chat_template(messages, add_generation_prompt=True, return_tensors=\"pt\").to(\"cuda\")\n",
    "generated_ids = model.generate(model_inputs, do_sample=True, max_new_tokens=50)\n",
    "print(tokenizer.batch_decode(generated_ids)[0])\n",
    "\n"
   ]
  },
  {
   "cell_type": "markdown",
   "id": "70bb4c3c",
   "metadata": {},
   "source": [
    "### LoRA"
   ]
  },
  {
   "cell_type": "code",
   "execution_count": null,
   "id": "97028351",
   "metadata": {},
   "outputs": [],
   "source": [
    "model"
   ]
  },
  {
   "cell_type": "code",
   "execution_count": null,
   "id": "fda333b5",
   "metadata": {},
   "outputs": [],
   "source": [
    "# create LoRA configuration object\n",
    "lora_config = LoraConfig(\n",
    "    task_type=TaskType.CAUSAL_LM, # type of task to train on\n",
    "    inference_mode=False, # set to False for training\n",
    "    r=8, \n",
    "    lora_alpha=32, \n",
    "    lora_dropout=0.1,\n",
    ")"
   ]
  },
  {
   "cell_type": "code",
   "execution_count": null,
   "id": "6e871434",
   "metadata": {},
   "outputs": [],
   "source": [
    "model.add_adapter(lora_config, adapter_name=\"lora_1\")\n"
   ]
  },
  {
   "cell_type": "code",
   "execution_count": null,
   "id": "f59a7e35",
   "metadata": {},
   "outputs": [],
   "source": [
    "model"
   ]
  },
  {
   "cell_type": "markdown",
   "id": "e5c9b376",
   "metadata": {},
   "source": [
    "### Async Test"
   ]
  },
  {
   "cell_type": "code",
   "execution_count": null,
   "id": "5f066329",
   "metadata": {},
   "outputs": [],
   "source": [
    "async def task1():\n",
    "    print(\"Task 1: Start\")\n",
    "    await asyncio.sleep(2)\n",
    "    print(\"Task 1: End\")\n",
    "\n",
    "async def task2():\n",
    "    print(\"Task 2: Start\")\n",
    "    await asyncio.sleep(1)\n",
    "    print(\"Task 2: End\")\n",
    "\n",
    "# async def main():\n",
    "await asyncio.gather(task1(), task2())\n",
    "\n",
    "# await main()"
   ]
  },
  {
   "cell_type": "code",
   "execution_count": null,
   "id": "5d5f9371",
   "metadata": {},
   "outputs": [],
   "source": [
    "async def chat_async():\n",
    "    prompt = 'hello world'\n",
    "    client = AsyncOpenAI()\n",
    "\n",
    "    response = await client.responses.create(\n",
    "        model = 'gpt-4.1-mini',\n",
    "        input = prompt,\n",
    "    )\n",
    "\n",
    "    text_out = response.output[-1].content[0].text\n",
    "    return text_out\n",
    "\n",
    "def chat_reg():\n",
    "    prompt = 'hello world'\n",
    "    client = OpenAI()\n",
    "\n",
    "    response = client.responses.create(\n",
    "        model = 'gpt-4.1-mini',\n",
    "        input = prompt,\n",
    "    )\n",
    "\n",
    "    text_out = response.output[-1].content[0].text\n",
    "    return text_out"
   ]
  },
  {
   "cell_type": "code",
   "execution_count": null,
   "id": "a8d13db4",
   "metadata": {},
   "outputs": [],
   "source": [
    "await chat_async()"
   ]
  }
 ],
 "metadata": {
  "kernelspec": {
   "display_name": "srf-env",
   "language": "python",
   "name": "python3"
  },
  "language_info": {
   "codemirror_mode": {
    "name": "ipython",
    "version": 3
   },
   "file_extension": ".py",
   "mimetype": "text/x-python",
   "name": "python",
   "nbconvert_exporter": "python",
   "pygments_lexer": "ipython3",
   "version": "3.11.13"
  }
 },
 "nbformat": 4,
 "nbformat_minor": 5
}
