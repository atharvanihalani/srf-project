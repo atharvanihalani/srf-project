{
 "cells": [
  {
   "cell_type": "markdown",
   "id": "73c1567d",
   "metadata": {},
   "source": [
    "### setup"
   ]
  },
  {
   "cell_type": "code",
   "execution_count": null,
   "id": "b4417b7b",
   "metadata": {},
   "outputs": [],
   "source": [
    "import gzip\n",
    "import json\n",
    "from typing import List\n",
    "from collections import Counter, defaultdict\n",
    "from tqdm import tqdm\n",
    "import os\n",
    "import inspect_ai\n",
    "from openai import OpenAI\n",
    "from transformers import AutoTokenizer, AutoModelForCausalLM\n",
    "from huggingface_hub import login\n",
    "from dotenv import load_dotenv\n",
    "import torch as t\n",
    "import subprocess\n",
    "import contextlib\n",
    "import shutil\n",
    "import ast\n",
    "import textwrap\n",
    "import copy"
   ]
  },
  {
   "cell_type": "code",
   "execution_count": null,
   "id": "12a53e71",
   "metadata": {},
   "outputs": [],
   "source": [
    "from inspect_ai import Task, task\n",
    "from inspect_ai.dataset import Sample, hf_dataset\n",
    "from inspect_ai.util import ExecResult, sandbox\n",
    "from inspect_ai.scorer import CORRECT, INCORRECT, Score, Scorer, Target, accuracy, scorer, stderr\n",
    "from inspect_ai.solver import TaskState, generate\n",
    "from inspect_ai.model import get_model\n",
    "from inspect_ai.log import read_eval_log\n",
    "import re"
   ]
  },
  {
   "cell_type": "code",
   "execution_count": null,
   "id": "7f4a4c6e",
   "metadata": {},
   "outputs": [],
   "source": [
    "load_dotenv()\n",
    "login(token = os.environ['HF_TOKEN'])"
   ]
  },
  {
   "cell_type": "code",
   "execution_count": null,
   "id": "e34683c4",
   "metadata": {},
   "outputs": [],
   "source": [
    "IMPORT_HELPER = {\n",
    "    \"python\": [\n",
    "        \"import math\",\n",
    "        \"import re\",\n",
    "        \"import sys\",\n",
    "        \"import copy\",\n",
    "        \"import datetime\",\n",
    "        \"import itertools\",\n",
    "        \"import collections\",\n",
    "        \"import heapq\",\n",
    "        \"import statistics\",\n",
    "        \"import functools\",\n",
    "        \"import hashlib\",\n",
    "        \"import numpy\",\n",
    "        \"import numpy as np\",\n",
    "        \"import string\",\n",
    "        \"from typing import *\",\n",
    "        \"from collections import *\",\n",
    "    ],\n",
    "    \"go\"    : [\n",
    "        \"math\",\n",
    "        \"strings\",\n",
    "        \"fmt\",\n",
    "        \"strconv\",\n",
    "        \"time\",\n",
    "        \"bytes\",\n",
    "        \"regexp\",\n",
    "        \"sort\",\n",
    "        \"math/rand\",\n",
    "        \"crypto/md5\",\n",
    "    ],\n",
    "    \"cpp\"   : [\n",
    "        \"#include<stdlib.h>\",\n",
    "        \"#include<algorithm>\",\n",
    "        \"#include<math.h>\",\n",
    "        \"#include<stdio.h>\",\n",
    "        \"#include<vector>\",\n",
    "        \"#include<string>\",\n",
    "        \"#include<climits>\",\n",
    "        \"#include<cstring>\",\n",
    "        \"#include<iostream>\",\n",
    "    ],\n",
    "}\n",
    "\n",
    "# instruction prepended to code problem\n",
    "HUMANEVAL_INSTRUCTION = \"\"\"\n",
    "Read the following function signature and docstring, and fully implement\n",
    "the function described. Your response should only contain the code for\n",
    "this function.\\n\n",
    "\"\"\"\n",
    "\n",
    "LANG_PREFIX = {\n",
    "    \"cpp\"          : \"// language: C++\",\n",
    "    \"java\"         : \"// language: Java\",\n",
    "    \"js\"           : \"// language: JavaScript\",\n",
    "    \"javascript\"   : \"// language: JavaScript\",\n",
    "    \"go\"           : \"// language: Go\",\n",
    "    \"python\"       : \"# language: Python\",\n",
    "}"
   ]
  },
  {
   "cell_type": "code",
   "execution_count": null,
   "id": "46096290",
   "metadata": {},
   "outputs": [],
   "source": [
    "model = get_model(\n",
    "        'hf/meta-llama/Llama-3.1-8B-Instruct', \n",
    "        device = 'auto',\n",
    "        torch_dtype=t.bfloat16,\n",
    ")"
   ]
  },
  {
   "cell_type": "markdown",
   "id": "f264e082",
   "metadata": {},
   "source": [
    "### Data Processing"
   ]
  },
  {
   "cell_type": "code",
   "execution_count": null,
   "id": "5d97a4bb",
   "metadata": {},
   "outputs": [],
   "source": [
    "def stream_jsonl_all(filename: str):\n",
    "    results = []\n",
    "    fp = gzip.open(open(filename, \"rb\"), \"rt\")\n",
    "    for line in fp:\n",
    "        if any(not x.isspace() for x in line):\n",
    "            results.append(json.loads(line))\n",
    "    fp.close()\n",
    "\n",
    "    return results"
   ]
  },
  {
   "cell_type": "code",
   "execution_count": null,
   "id": "e98c1d97",
   "metadata": {},
   "outputs": [],
   "source": [
    "python_content = stream_jsonl_all('data/python_data.gz')\n",
    "cpp_content = stream_jsonl_all('data/cpp_data.gz')\n",
    "go_content = stream_jsonl_all('data/go_data.gz')\n",
    "java_content = stream_jsonl_all('data/java_data.gz')\n",
    "js_content = stream_jsonl_all('data/js_data.gz')\n",
    "content = [python_content, cpp_content, go_content, java_content, js_content]"
   ]
  },
  {
   "cell_type": "code",
   "execution_count": null,
   "id": "3f8c1e03",
   "metadata": {},
   "outputs": [],
   "source": [
    "generations = stream_jsonl_all('data/python_generations.gz')\n",
    "generations[0]['generation']"
   ]
  },
  {
   "cell_type": "code",
   "execution_count": null,
   "id": "f08897aa",
   "metadata": {},
   "outputs": [],
   "source": [
    "for lang in content:\n",
    "    print(lang[0].keys())\n",
    "    print()"
   ]
  },
  {
   "cell_type": "markdown",
   "id": "560a2490",
   "metadata": {},
   "source": [
    "### LLM output => code  \n",
    "*I need to see LLM output & transform that into code*"
   ]
  },
  {
   "cell_type": "code",
   "execution_count": null,
   "id": "0feaf33b",
   "metadata": {},
   "outputs": [],
   "source": [
    "# Installing Java\n",
    "#     `apt-get update`  \n",
    "#     `apt-get install -y openjdk-21-jdk`  \n",
    "# Verify with:  \n",
    "#     `java -version`  \n",
    "#     `javac -version` \n"
   ]
  },
  {
   "cell_type": "code",
   "execution_count": null,
   "id": "ce73ce2d",
   "metadata": {},
   "outputs": [],
   "source": [
    "# FIND CODE\n",
    "\n",
    "def identify_codeblock(completion):\n",
    "    # remove lang flag\n",
    "    pattern_1 = re.compile(r\"```java\\n(.*?)```\", re.DOTALL)\n",
    "    pattern_2 = re.compile(r\"```\\n(.*?)```\", re.DOTALL)\n",
    "    matches = pattern_1.findall(completion) + pattern_2.findall(completion)\n",
    "    if len(matches) == 0: raise Exception('error processing model output')\n",
    "\n",
    "    return matches[0]\n",
    "\n",
    "def remove_method_header(lines,):\n",
    "    '''\n",
    "    deals with three cases\n",
    "    a) first lines are comments, before method header\n",
    "    b) first line is method-header\n",
    "    c) b), but with incorrect indentation? so header had accidentally been removed?\n",
    "    '''\n",
    "    removed = False\n",
    "    og_lines = copy.deepcopy(lines)\n",
    "    \n",
    "    while not removed:\n",
    "        if lines == []:\n",
    "            return og_lines\n",
    "        \n",
    "        line = lines.pop(0)\n",
    "        if line.lstrip()[:6] == 'public':\n",
    "            removed = True\n",
    "        \n",
    "    return lines\n",
    "\n",
    "def balance_brackets(lines):\n",
    "    final_code = '\\n'.join(lines)\n",
    "    difference = final_code.count('{') - final_code.count('}') + 2\n",
    "    assert difference in [0, 1, 2], 'brackets ain\\'t balancing'\n",
    "    return final_code + ('}' * difference)\n",
    "\n",
    "def remove_unindented(lines, full_func):\n",
    "    import_statements = []\n",
    "    while (not lines[0]) or (lines[0] == lines[0].lstrip()):\n",
    "        line = lines.pop(0)\n",
    "        full_func = True\n",
    "        if 'import' in line: import_statements.append(line)\n",
    "    \n",
    "    return lines, import_statements, full_func\n",
    "\n",
    "def find_code_java(completion: str) -> str:\n",
    "    code = identify_codeblock(completion)\n",
    "    lines = code.splitlines()\n",
    "\n",
    "    lines, import_statements, full_func = remove_unindented(lines, False)\n",
    "\n",
    "    if full_func or lines[0].lstrip()[:6] == 'public':\n",
    "        lines = remove_method_header(lines)\n",
    "\n",
    "    processed_completion = balance_brackets(lines)\n",
    "    import_statements = '\\n'.join(import_statements)\n",
    "    \n",
    "    return processed_completion, import_statements"
   ]
  },
  {
   "cell_type": "code",
   "execution_count": null,
   "id": "9f4277a8",
   "metadata": {},
   "outputs": [],
   "source": [
    "def get_final_java(imports, state, completion):\n",
    "    final_code = imports + '\\n' + state.metadata['prompt'] + completion + \"\\n\\n\" + state.metadata['test'] + \"\\n\"\n",
    "    return final_code"
   ]
  },
  {
   "cell_type": "markdown",
   "id": "5b5693bf",
   "metadata": {},
   "source": [
    "#### Running Eval"
   ]
  },
  {
   "cell_type": "code",
   "execution_count": null,
   "id": "922904de",
   "metadata": {},
   "outputs": [],
   "source": [
    "@scorer(metrics=[accuracy(), stderr()])\n",
    "def java_scorer() -> Scorer:\n",
    "    async def score(state: TaskState, target: Target) -> Score:\n",
    "        task_id = state.sample_id\n",
    "        idx = int(task_id.split('/')[-1])\n",
    "        model_completion = state.output.completion\n",
    "        processed_completion, imports = find_code_java(model_completion)\n",
    "        final_code = get_final_java(imports, state, processed_completion)\n",
    "\n",
    "        if 'errormsg' in processed_completion:\n",
    "            print(f'error in sample: {task_id}')\n",
    "\n",
    "        tmp_dir = f'/root/srf-project/test_humaneval-x/tmp/test_{idx}/'\n",
    "        if not os.path.exists(tmp_dir):\n",
    "            os.makedirs(tmp_dir, exist_ok=True)\n",
    "        file = os.path.join(tmp_dir, 'Main.java')\n",
    "\n",
    "        with contextlib.chdir(tmp_dir):\n",
    "            open(file, 'w').write(final_code)\n",
    "        \n",
    "        try:\n",
    "            compile_proc = subprocess.run(\n",
    "                [\"javac\", \"Main.java\"],\n",
    "                cwd=tmp_dir,\n",
    "                capture_output=True,\n",
    "                text=True,\n",
    "                timeout=30  \n",
    "            )\n",
    "            if compile_proc.returncode != 0:\n",
    "                print(f\"Compilation failed! Task id: {task_id}\")\n",
    "                print(\"stderr:\", compile_proc.stderr)\n",
    "        except subprocess.TimeoutExpired:\n",
    "            print(\"Compilation timed out!\")\n",
    "        except Exception as e:\n",
    "            print(\"Compilation error:\", e)\n",
    "\n",
    "        try:\n",
    "            result = await sandbox().exec(\n",
    "                cmd=[\"java\", \"-cp\", tmp_dir, \"Main\"],\n",
    "                timeout=30,\n",
    "            )\n",
    "        except TimeoutError:\n",
    "            result = ExecResult(False, 1, \"\", \"Verification timed out.\")\n",
    "\n",
    "        shutil.rmtree(tmp_dir)\n",
    "\n",
    "        return Score(\n",
    "            value=CORRECT if result.success else INCORRECT,\n",
    "            explanation=\"\".join(\n",
    "                [\"The following verification code was executed:\\n\\n\"]\n",
    "                + [final_code]\n",
    "                + [f\"\\nThe submission was incorrect\\n\\n{result.stderr}\"]\n",
    "                if not result.success\n",
    "                else [\"\"]\n",
    "            ),\n",
    "            metadata={\n",
    "                'completion': model_completion,\n",
    "                'processed': processed_completion,\n",
    "                'final_code': final_code,\n",
    "                'idx': idx,\n",
    "                'task_id': task_id,\n",
    "            },\n",
    "        )\n",
    "\n",
    "    return score"
   ]
  },
  {
   "cell_type": "code",
   "execution_count": null,
   "id": "0d552c05",
   "metadata": {},
   "outputs": [],
   "source": [
    "lang = 'java'\n",
    "\n",
    "def humaneval_record_to_sample(record):\n",
    "    model_input = HUMANEVAL_INSTRUCTION + LANG_PREFIX[lang] + '\\n' + record['prompt'] \n",
    "    \n",
    "    return Sample(\n",
    "        id=record[\"task_id\"],\n",
    "        input=model_input,\n",
    "        target=record[\"canonical_solution\"],\n",
    "        metadata={\n",
    "            \"prompt\": record[\"prompt\"],\n",
    "            \"test\": record[\"test\"],\n",
    "        },\n",
    "    )\n",
    "\n",
    "humaneval_dataset = hf_dataset(\n",
    "    path = 'THUDM/humaneval-x',\n",
    "    name = lang,\n",
    "    split = 'test',\n",
    "    sample_fields = humaneval_record_to_sample,\n",
    "    trust = True,\n",
    ")"
   ]
  },
  {
   "cell_type": "code",
   "execution_count": null,
   "id": "6d44cecd",
   "metadata": {},
   "outputs": [],
   "source": [
    "samples = 164\n",
    "\n",
    "@task\n",
    "def humaneval():\n",
    "    return Task(\n",
    "        dataset = humaneval_dataset[:samples],\n",
    "        solver = generate(),\n",
    "        scorer = java_scorer(),\n",
    "        sandbox = 'local',\n",
    "    )"
   ]
  },
  {
   "cell_type": "code",
   "execution_count": null,
   "id": "18ebd63a",
   "metadata": {},
   "outputs": [],
   "source": [
    "epochs = 1\n",
    "inspect_ai.eval(humaneval(), model = 'openai/gpt-4o-mini', epochs = epochs)"
   ]
  },
  {
   "cell_type": "markdown",
   "id": "33c1b7de",
   "metadata": {},
   "source": [
    "#### Checking outputs"
   ]
  },
  {
   "cell_type": "code",
   "execution_count": null,
   "id": "3e5b712b",
   "metadata": {},
   "outputs": [],
   "source": [
    "# 34, 56\n",
    "\n",
    "idx = 56\n",
    "\n",
    "log = read_eval_log('/root/srf-project/test_humaneval-x/logs/java_gpt.eval')\n",
    "data = log.samples[idx].scores['java_scorer'].metadata"
   ]
  },
  {
   "cell_type": "code",
   "execution_count": null,
   "id": "aee875a0",
   "metadata": {},
   "outputs": [],
   "source": [
    "print(data['completion'])"
   ]
  },
  {
   "cell_type": "code",
   "execution_count": null,
   "id": "0e2c9c49",
   "metadata": {},
   "outputs": [],
   "source": [
    "print(data['final_code'])"
   ]
  },
  {
   "cell_type": "code",
   "execution_count": null,
   "id": "6bfe47ab",
   "metadata": {},
   "outputs": [],
   "source": [
    "processed = find_code_java(data['completion'])\n",
    "# state = java_content[2]\n",
    "# final_code = state['prompt'] + processed + '\\n\\n' + state['test'] + '\\n'\n",
    "\n",
    "print(processed)"
   ]
  },
  {
   "cell_type": "code",
   "execution_count": null,
   "id": "0a933743",
   "metadata": {},
   "outputs": [],
   "source": [
    "target_id = 145\n",
    "idx = 0\n",
    "model_out = ''\n",
    "\n",
    "for i, sample in enumerate(log.samples):\n",
    "    id = int(sample.id.split('/')[-1])\n",
    "    if id == target_id:\n",
    "        idx = i\n",
    "        model_out = sample.messages[-1].content\n",
    "        print(i)\n",
    "        print()\n",
    "        print(model_out)\n",
    "        break\n"
   ]
  },
  {
   "cell_type": "code",
   "execution_count": null,
   "id": "df5b1934",
   "metadata": {},
   "outputs": [],
   "source": [
    "print(find_code_new(model_out))"
   ]
  }
 ],
 "metadata": {
  "kernelspec": {
   "display_name": "srf-env",
   "language": "python",
   "name": "python3"
  },
  "language_info": {
   "codemirror_mode": {
    "name": "ipython",
    "version": 3
   },
   "file_extension": ".py",
   "mimetype": "text/x-python",
   "name": "python",
   "nbconvert_exporter": "python",
   "pygments_lexer": "ipython3",
   "version": "3.11.13"
  }
 },
 "nbformat": 4,
 "nbformat_minor": 5
}
