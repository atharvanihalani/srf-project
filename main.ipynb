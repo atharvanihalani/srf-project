{
 "cells": [
  {
   "cell_type": "code",
   "execution_count": 1,
   "id": "52ba4f02",
   "metadata": {},
   "outputs": [],
   "source": [
    "from transformers import AutoTokenizer, AutoModelForCausalLM\n",
    "import numpy as np\n",
    "import inspect_ai\n",
    "from tqdm.notebook import tqdm\n",
    "from huggingface_hub import login\n",
    "import torch as t\n",
    "import pynvml\n",
    "import gc\n",
    "import pandas as pd\n",
    "from pprint import pprint\n",
    "import os\n",
    "from dotenv import load_dotenv\n",
    "\n",
    "# login(token='')\n",
    "device = 'cuda' if t.cuda.is_available() else 'cpu'"
   ]
  },
  {
   "cell_type": "code",
   "execution_count": 2,
   "id": "06cb675a",
   "metadata": {},
   "outputs": [
    {
     "data": {
      "text/plain": [
       "True"
      ]
     },
     "execution_count": 2,
     "metadata": {},
     "output_type": "execute_result"
    }
   ],
   "source": [
    "load_dotenv()"
   ]
  },
  {
   "cell_type": "code",
   "execution_count": 4,
   "id": "6ed44354",
   "metadata": {},
   "outputs": [
    {
     "data": {
      "application/vnd.jupyter.widget-view+json": {
       "model_id": "725837d482f84911b945feb55920e9a4",
       "version_major": 2,
       "version_minor": 0
      },
      "text/plain": [
       "Loading checkpoint shards:   0%|          | 0/4 [00:00<?, ?it/s]"
      ]
     },
     "metadata": {},
     "output_type": "display_data"
    },
    {
     "data": {
      "text/plain": [
       "LlamaForCausalLM(\n",
       "  (model): LlamaModel(\n",
       "    (embed_tokens): Embedding(128256, 4096)\n",
       "    (layers): ModuleList(\n",
       "      (0-31): 32 x LlamaDecoderLayer(\n",
       "        (self_attn): LlamaAttention(\n",
       "          (q_proj): Linear(in_features=4096, out_features=4096, bias=False)\n",
       "          (k_proj): Linear(in_features=4096, out_features=1024, bias=False)\n",
       "          (v_proj): Linear(in_features=4096, out_features=1024, bias=False)\n",
       "          (o_proj): Linear(in_features=4096, out_features=4096, bias=False)\n",
       "        )\n",
       "        (mlp): LlamaMLP(\n",
       "          (gate_proj): Linear(in_features=4096, out_features=14336, bias=False)\n",
       "          (up_proj): Linear(in_features=4096, out_features=14336, bias=False)\n",
       "          (down_proj): Linear(in_features=14336, out_features=4096, bias=False)\n",
       "          (act_fn): SiLU()\n",
       "        )\n",
       "        (input_layernorm): LlamaRMSNorm((4096,), eps=1e-05)\n",
       "        (post_attention_layernorm): LlamaRMSNorm((4096,), eps=1e-05)\n",
       "      )\n",
       "    )\n",
       "    (norm): LlamaRMSNorm((4096,), eps=1e-05)\n",
       "    (rotary_emb): LlamaRotaryEmbedding()\n",
       "  )\n",
       "  (lm_head): Linear(in_features=4096, out_features=128256, bias=False)\n",
       ")"
      ]
     },
     "execution_count": 4,
     "metadata": {},
     "output_type": "execute_result"
    }
   ],
   "source": [
    "model = AutoModelForCausalLM.from_pretrained('meta-llama/Llama-3.1-8B-Instruct', device_map='auto', torch_dtype=t.bfloat16)\n",
    "tokenizer = AutoTokenizer.from_pretrained('meta-llama/Llama-3.1-8B-Instruct', device_map='auto', torch_dtype=t.bfloat16)\n",
    "model.eval()"
   ]
  },
  {
   "cell_type": "markdown",
   "id": "66b182f5",
   "metadata": {},
   "source": [
    "### Test Eval GPQA"
   ]
  },
  {
   "cell_type": "code",
   "execution_count": 3,
   "id": "a9fe9b51",
   "metadata": {},
   "outputs": [],
   "source": [
    "from inspect_ai import Task, task\n",
    "from inspect_ai.dataset import Sample, csv_dataset\n",
    "from inspect_ai.model import GenerateConfig\n",
    "from inspect_ai.scorer import choice\n",
    "from inspect_ai.solver import multiple_choice"
   ]
  },
  {
   "cell_type": "code",
   "execution_count": 4,
   "id": "46c0ceb1",
   "metadata": {},
   "outputs": [],
   "source": [
    "dataset = pd.read_csv('gpqa/gpqa_diamond.csv')\n",
    "questions = dataset['Question'].to_list()"
   ]
  },
  {
   "cell_type": "code",
   "execution_count": 45,
   "id": "e63c9fa7",
   "metadata": {},
   "outputs": [],
   "source": [
    "@task\n",
    "def gpqa_diamond(cot: bool = True) -> Task:\n",
    "    return Task(\n",
    "        dataset=csv_dataset(\n",
    "            csv_file=\"gpqa/updated_gpqa_diamond.csv\",\n",
    "            sample_fields=record_to_sample,\n",
    "        ),\n",
    "        solver=[\n",
    "            multiple_choice(shuffle=True, cot=cot),\n",
    "        ],\n",
    "        scorer=choice(),\n",
    "        config=GenerateConfig(temperature=0.5),\n",
    "        epochs=1,\n",
    "    )\n",
    "\n",
    "def record_to_sample(record) -> Sample:\n",
    "    return Sample(\n",
    "        input=record[\"Question\"],\n",
    "        choices=[\n",
    "            str(record[\"Correct Answer\"]),\n",
    "            str(record[\"Incorrect Answer 1\"]),\n",
    "            str(record[\"Incorrect Answer 2\"]),\n",
    "            str(record[\"Incorrect Answer 3\"]),\n",
    "        ],\n",
    "        target=\"A\",\n",
    "        id=record[\"Record ID\"],\n",
    "    )"
   ]
  },
  {
   "cell_type": "code",
   "execution_count": 47,
   "id": "da532d9e",
   "metadata": {},
   "outputs": [
    {
     "data": {
      "application/vnd.jupyter.widget-view+json": {
       "model_id": "0b4a1d9b9dae453aa519111b8b81751d",
       "version_major": 2,
       "version_minor": 0
      },
      "text/plain": [
       "Output()"
      ]
     },
     "metadata": {},
     "output_type": "display_data"
    },
    {
     "data": {
      "text/html": [
       "<pre style=\"white-space:pre;overflow-x:auto;line-height:normal;font-family:Menlo,'DejaVu Sans Mono',consolas,'Courier New',monospace\"></pre>\n"
      ],
      "text/plain": []
     },
     "metadata": {},
     "output_type": "display_data"
    }
   ],
   "source": [
    "inspect_ai.eval(gpqa_diamond(), model='openai/gpt-4o-mini', epochs=1)"
   ]
  },
  {
   "cell_type": "markdown",
   "id": "8bd42d46",
   "metadata": {},
   "source": [
    "### Eval Model"
   ]
  },
  {
   "cell_type": "code",
   "execution_count": 34,
   "id": "84981e96",
   "metadata": {},
   "outputs": [],
   "source": [
    "from inspect_ai import Task, task\n",
    "from inspect_ai.dataset import Sample, hf_dataset\n",
    "from inspect_ai.util import ExecResult, sandbox\n",
    "from inspect_ai.scorer import CORRECT, INCORRECT, Score, Scorer, Target, accuracy, scorer, stderr\n",
    "from inspect_ai.solver import TaskState, generate\n",
    "from inspect_ai.model import get_model\n",
    "import re"
   ]
  },
  {
   "cell_type": "code",
   "execution_count": 35,
   "id": "69794e8e",
   "metadata": {},
   "outputs": [],
   "source": [
    "# repeat each problem n times\n",
    "NUM_EPOCHS = 1\n",
    "\n",
    "# timeout for verification/scoring\n",
    "VERIFY_TIMEOUT = 30\n",
    "\n",
    "# instruction prepended to code problem\n",
    "INSTRUCTION = \"\"\"\n",
    "Read the following function signature and docstring, and fully implement\n",
    "the function described. Your response should only contain the code for\n",
    "this function.\\n\n",
    "\"\"\""
   ]
  },
  {
   "cell_type": "code",
   "execution_count": 36,
   "id": "6c0fc090",
   "metadata": {},
   "outputs": [],
   "source": [
    "@scorer(metrics=[accuracy(), stderr()])\n",
    "def verify() -> Scorer:\n",
    "    async def score(state: TaskState, target: Target) -> Score:\n",
    "        # extract answer from completion and format for verification\n",
    "        answer = find_code(state.output.completion)\n",
    "        code = [\n",
    "            state.metadata[\"prompt\"],\n",
    "            answer,\n",
    "            \"\\n\",\n",
    "            state.metadata[\"test\"],\n",
    "            \"\\n\",\n",
    "            \"\".join([\"check(\", state.metadata[\"entry_point\"], \")\"]),\n",
    "        ]\n",
    "\n",
    "        # verify (returns error status if incorrect)\n",
    "        try:\n",
    "            result = await sandbox().exec(\n",
    "                cmd=[\"python\", \"-c\", \"\".join(code)],\n",
    "                timeout=VERIFY_TIMEOUT,\n",
    "            )\n",
    "        except TimeoutError:\n",
    "            result = ExecResult(False, 1, \"\", \"Verification timed out.\")\n",
    "\n",
    "        # return score w/ model answer + scoring details\n",
    "        return Score(\n",
    "            value=CORRECT if result.success else INCORRECT,\n",
    "            answer=answer,\n",
    "            explanation=\"\".join(\n",
    "                [\"The following verification code was executed:\\n\\n\"]\n",
    "                + [\"```python\\n\\n\"]\n",
    "                + code\n",
    "                + [\"\\n```\\n\"]\n",
    "                + [f\"\\nThe submission was incorrect\\n\\n{result.stderr}\"]\n",
    "                if not result.success\n",
    "                else [\"\"]\n",
    "            ),\n",
    "        )\n",
    "\n",
    "    return score\n",
    "\n",
    "\n",
    "# extract code from completion (removing markdown and/or signature)\n",
    "def find_code(completion: str) -> str:\n",
    "    pattern_1 = re.compile(r\"```python\\n(.*?)```\", re.DOTALL)\n",
    "    pattern_2 = re.compile(r\"```\\n(.*?)```\", re.DOTALL)\n",
    "    matches = pattern_1.findall(completion) + pattern_2.findall(completion)\n",
    "    if matches:\n",
    "        extracted_answer = matches[0]\n",
    "        extracted_answer = extract_function_body(extracted_answer)\n",
    "    else:\n",
    "        extracted_answer = completion\n",
    "    return str(extracted_answer)\n",
    "\n",
    "\n",
    "def extract_function_body(code: str) -> str:\n",
    "    return code[code.find(\":\\n    \") + 2 :]"
   ]
  },
  {
   "cell_type": "code",
   "execution_count": 48,
   "id": "a6039a37",
   "metadata": {},
   "outputs": [
    {
     "name": "stdout",
     "output_type": "stream",
     "text": [
      "Loading dataset openai_humaneval from Hugging Face...\n"
     ]
    },
    {
     "data": {
      "application/vnd.jupyter.widget-view+json": {
       "model_id": "7375c8c3cf81453188ccb79a1d117cf9",
       "version_major": 2,
       "version_minor": 0
      },
      "text/plain": [
       "README.md: 0.00B [00:00, ?B/s]"
      ]
     },
     "metadata": {},
     "output_type": "display_data"
    },
    {
     "data": {
      "application/vnd.jupyter.widget-view+json": {
       "model_id": "6a876784e6b140169b9f3a92a549f5ea",
       "version_major": 2,
       "version_minor": 0
      },
      "text/plain": [
       "openai_humaneval/test-00000-of-00001.par(…):   0%|          | 0.00/83.9k [00:00<?, ?B/s]"
      ]
     },
     "metadata": {},
     "output_type": "display_data"
    },
    {
     "data": {
      "application/vnd.jupyter.widget-view+json": {
       "model_id": "906c20f3c27a4bc1b60fa2c231f2cabe",
       "version_major": 2,
       "version_minor": 0
      },
      "text/plain": [
       "Generating test split:   0%|          | 0/164 [00:00<?, ? examples/s]"
      ]
     },
     "metadata": {},
     "output_type": "display_data"
    },
    {
     "data": {
      "application/vnd.jupyter.widget-view+json": {
       "model_id": "670aaf482b5c43fd8cc7f830cdbd4cd4",
       "version_major": 2,
       "version_minor": 0
      },
      "text/plain": [
       "Saving the dataset (0/1 shards):   0%|          | 0/164 [00:00<?, ? examples/s]"
      ]
     },
     "metadata": {},
     "output_type": "display_data"
    }
   ],
   "source": [
    "def humaneval_record_to_sample(record):\n",
    "    return Sample(\n",
    "        id=record[\"task_id\"],\n",
    "        input=INSTRUCTION + record[\"prompt\"],\n",
    "        target=record[\"canonical_solution\"],\n",
    "        metadata={\n",
    "            \"prompt\": record[\"prompt\"],\n",
    "            \"test\": record[\"test\"],\n",
    "            # \"entry_point\": record[\"entry_point\"],\n",
    "        },\n",
    "    )\n",
    "\n",
    "humaneval_dataset = hf_dataset(\n",
    "    path = 'openai_humaneval',\n",
    "    # path = 'THUDM/humaneval-x',\n",
    "    # name = 'js',\n",
    "    split = 'test',\n",
    "    sample_fields = humaneval_record_to_sample,\n",
    "    trust = True,\n",
    ")"
   ]
  },
  {
   "cell_type": "code",
   "execution_count": 53,
   "id": "8723c448",
   "metadata": {},
   "outputs": [],
   "source": [
    "@task\n",
    "def humaneval():\n",
    "    return Task(\n",
    "        dataset = humaneval_dataset,\n",
    "        solver = generate(),\n",
    "        scorer = verify(),\n",
    "        # sandbox = sandbox,\n",
    "        # sandbox = 'docker',\n",
    "    )"
   ]
  },
  {
   "cell_type": "code",
   "execution_count": 54,
   "id": "fef1e62e",
   "metadata": {},
   "outputs": [
    {
     "data": {
      "application/vnd.jupyter.widget-view+json": {
       "model_id": "7b173237e0aa4b60a6324c33d98c18ac",
       "version_major": 2,
       "version_minor": 0
      },
      "text/plain": [
       "Output()"
      ]
     },
     "metadata": {},
     "output_type": "display_data"
    },
    {
     "data": {
      "text/html": [
       "<pre style=\"white-space:pre;overflow-x:auto;line-height:normal;font-family:Menlo,'DejaVu Sans Mono',consolas,'Courier New',monospace\"><span style=\"color: #800000; text-decoration-color: #800000\">┌────────────────────────────────────── </span><span style=\"color: #800000; text-decoration-color: #800000; font-weight: bold\">Traceback </span><span style=\"color: #bf7f7f; text-decoration-color: #bf7f7f; font-weight: bold\">(most recent call last)</span><span style=\"color: #800000; text-decoration-color: #800000\"> ───────────────────────────────────────┐</span>\n",
       "<span style=\"color: #800000; text-decoration-color: #800000\">│</span> <span style=\"color: #bfbf7f; text-decoration-color: #bfbf7f\">/root/miniconda3/envs/srf-env/lib/python3.11/site-packages/inspect_ai/_eval/task/</span><span style=\"color: #808000; text-decoration-color: #808000; font-weight: bold\">run.py</span>:<span style=\"color: #0000ff; text-decoration-color: #0000ff\">799</span> in <span style=\"color: #00ff00; text-decoration-color: #00ff00\">task_run_sample</span> <span style=\"color: #800000; text-decoration-color: #800000\">│</span>\n",
       "<span style=\"color: #800000; text-decoration-color: #800000\">│</span>                                                                                                                <span style=\"color: #800000; text-decoration-color: #800000\">│</span>\n",
       "<span style=\"color: #800000; text-decoration-color: #800000\">│</span> in <span style=\"color: #00ff00; text-decoration-color: #00ff00\">score</span>:<span style=\"color: #0000ff; text-decoration-color: #0000ff\">12</span>                                                                                                    <span style=\"color: #800000; text-decoration-color: #800000\">│</span>\n",
       "<span style=\"color: #800000; text-decoration-color: #800000\">│</span>                                                                                                                <span style=\"color: #800000; text-decoration-color: #800000\">│</span>\n",
       "<span style=\"color: #800000; text-decoration-color: #800000\">│</span>   <span style=\"color: #7f7f7f; text-decoration-color: #7f7f7f\"> 9 </span><span style=\"color: #7f7f7f; text-decoration-color: #7f7f7f\">│   │   │   </span><span style=\"color: #808000; text-decoration-color: #808000\">\"\\n\"</span>,                                                                                         <span style=\"color: #800000; text-decoration-color: #800000\">│</span>\n",
       "<span style=\"color: #800000; text-decoration-color: #800000\">│</span>   <span style=\"color: #7f7f7f; text-decoration-color: #7f7f7f\">10 </span><span style=\"color: #7f7f7f; text-decoration-color: #7f7f7f\">│   │   │   </span>state.metadata[<span style=\"color: #808000; text-decoration-color: #808000\">\"test\"</span>],                                                                       <span style=\"color: #800000; text-decoration-color: #800000\">│</span>\n",
       "<span style=\"color: #800000; text-decoration-color: #800000\">│</span>   <span style=\"color: #7f7f7f; text-decoration-color: #7f7f7f\">11 </span><span style=\"color: #7f7f7f; text-decoration-color: #7f7f7f\">│   │   │   </span><span style=\"color: #808000; text-decoration-color: #808000\">\"\\n\"</span>,                                                                                         <span style=\"color: #800000; text-decoration-color: #800000\">│</span>\n",
       "<span style=\"color: #800000; text-decoration-color: #800000\">│</span> <span style=\"color: #800000; text-decoration-color: #800000\">&gt; </span>12 <span style=\"color: #7f7f7f; text-decoration-color: #7f7f7f\">│   │   │   </span><span style=\"color: #808000; text-decoration-color: #808000\">\"\"</span>.join([<span style=\"color: #808000; text-decoration-color: #808000\">\"check(\"</span>, <span style=\"font-weight: bold; text-decoration: underline\">state.metadata[</span><span style=\"color: #808000; text-decoration-color: #808000; font-weight: bold; text-decoration: underline\">\"entry_point\"</span><span style=\"font-weight: bold; text-decoration: underline\">]</span>, <span style=\"color: #808000; text-decoration-color: #808000\">\")\"</span>]),                                      <span style=\"color: #800000; text-decoration-color: #800000\">│</span>\n",
       "<span style=\"color: #800000; text-decoration-color: #800000\">│</span>   <span style=\"color: #7f7f7f; text-decoration-color: #7f7f7f\">13 </span><span style=\"color: #7f7f7f; text-decoration-color: #7f7f7f\">│   │   </span>]                                                                                                 <span style=\"color: #800000; text-decoration-color: #800000\">│</span>\n",
       "<span style=\"color: #800000; text-decoration-color: #800000\">│</span>   <span style=\"color: #7f7f7f; text-decoration-color: #7f7f7f\">14 </span><span style=\"color: #7f7f7f; text-decoration-color: #7f7f7f\">│   │   </span>                                                                                                  <span style=\"color: #800000; text-decoration-color: #800000\">│</span>\n",
       "<span style=\"color: #800000; text-decoration-color: #800000\">│</span>   <span style=\"color: #7f7f7f; text-decoration-color: #7f7f7f\">15 </span><span style=\"color: #7f7f7f; text-decoration-color: #7f7f7f\">│   │   </span><span style=\"color: #7f7f7f; text-decoration-color: #7f7f7f\"># verify (returns error status if incorrect)</span>                                                      <span style=\"color: #800000; text-decoration-color: #800000\">│</span>\n",
       "<span style=\"color: #800000; text-decoration-color: #800000\">└────────────────────────────────────────────────────────────────────────────────────────────────────────────────┘</span>\n",
       "<span style=\"color: #ff0000; text-decoration-color: #ff0000; font-weight: bold\">KeyError: </span><span style=\"color: #008000; text-decoration-color: #008000\">'entry_point'</span>\n",
       "</pre>\n"
      ],
      "text/plain": [
       "\u001b[31m┌─\u001b[0m\u001b[31m─────────────────────────────────────\u001b[0m\u001b[31m \u001b[0m\u001b[1;31mTraceback \u001b[0m\u001b[1;2;31m(most recent call last)\u001b[0m\u001b[31m \u001b[0m\u001b[31m──────────────────────────────────────\u001b[0m\u001b[31m─┐\u001b[0m\n",
       "\u001b[31m│\u001b[0m \u001b[2;33m/root/miniconda3/envs/srf-env/lib/python3.11/site-packages/inspect_ai/_eval/task/\u001b[0m\u001b[1;33mrun.py\u001b[0m:\u001b[94m799\u001b[0m in \u001b[92mtask_run_sample\u001b[0m \u001b[31m│\u001b[0m\n",
       "\u001b[31m│\u001b[0m                                                                                                                \u001b[31m│\u001b[0m\n",
       "\u001b[31m│\u001b[0m in \u001b[92mscore\u001b[0m:\u001b[94m12\u001b[0m                                                                                                    \u001b[31m│\u001b[0m\n",
       "\u001b[31m│\u001b[0m                                                                                                                \u001b[31m│\u001b[0m\n",
       "\u001b[31m│\u001b[0m   \u001b[2m 9 \u001b[0m\u001b[2m│   │   │   \u001b[0m\u001b[33m\"\u001b[0m\u001b[33m\\n\u001b[0m\u001b[33m\"\u001b[0m,                                                                                         \u001b[31m│\u001b[0m\n",
       "\u001b[31m│\u001b[0m   \u001b[2m10 \u001b[0m\u001b[2m│   │   │   \u001b[0mstate.metadata[\u001b[33m\"\u001b[0m\u001b[33mtest\u001b[0m\u001b[33m\"\u001b[0m],                                                                       \u001b[31m│\u001b[0m\n",
       "\u001b[31m│\u001b[0m   \u001b[2m11 \u001b[0m\u001b[2m│   │   │   \u001b[0m\u001b[33m\"\u001b[0m\u001b[33m\\n\u001b[0m\u001b[33m\"\u001b[0m,                                                                                         \u001b[31m│\u001b[0m\n",
       "\u001b[31m│\u001b[0m \u001b[31m> \u001b[0m12 \u001b[2m│   │   │   \u001b[0m\u001b[33m\"\u001b[0m\u001b[33m\"\u001b[0m.join([\u001b[33m\"\u001b[0m\u001b[33mcheck(\u001b[0m\u001b[33m\"\u001b[0m, \u001b[1;4mstate.metadata[\u001b[0m\u001b[1;4;33m\"\u001b[0m\u001b[1;4;33mentry_point\u001b[0m\u001b[1;4;33m\"\u001b[0m\u001b[1;4m]\u001b[0m, \u001b[33m\"\u001b[0m\u001b[33m)\u001b[0m\u001b[33m\"\u001b[0m]),                                      \u001b[31m│\u001b[0m\n",
       "\u001b[31m│\u001b[0m   \u001b[2m13 \u001b[0m\u001b[2m│   │   \u001b[0m]                                                                                                 \u001b[31m│\u001b[0m\n",
       "\u001b[31m│\u001b[0m   \u001b[2m14 \u001b[0m\u001b[2m│   │   \u001b[0m                                                                                                  \u001b[31m│\u001b[0m\n",
       "\u001b[31m│\u001b[0m   \u001b[2m15 \u001b[0m\u001b[2m│   │   \u001b[0m\u001b[2m# verify (returns error status if incorrect)\u001b[0m                                                      \u001b[31m│\u001b[0m\n",
       "\u001b[31m└────────────────────────────────────────────────────────────────────────────────────────────────────────────────┘\u001b[0m\n",
       "\u001b[1;91mKeyError: \u001b[0m\u001b[32m'entry_point'\u001b[0m\n"
      ]
     },
     "metadata": {},
     "output_type": "display_data"
    },
    {
     "data": {
      "text/html": [
       "<pre style=\"white-space:pre;overflow-x:auto;line-height:normal;font-family:Menlo,'DejaVu Sans Mono',consolas,'Courier New',monospace\"><span style=\"color: #800000; text-decoration-color: #800000\">┌────────────────────────────────────── </span><span style=\"color: #800000; text-decoration-color: #800000; font-weight: bold\">Traceback </span><span style=\"color: #bf7f7f; text-decoration-color: #bf7f7f; font-weight: bold\">(most recent call last)</span><span style=\"color: #800000; text-decoration-color: #800000\"> ───────────────────────────────────────┐</span>\n",
       "<span style=\"color: #800000; text-decoration-color: #800000\">│</span> <span style=\"color: #bfbf7f; text-decoration-color: #bfbf7f\">/root/miniconda3/envs/srf-env/lib/python3.11/site-packages/inspect_ai/_eval/task/</span><span style=\"color: #808000; text-decoration-color: #808000; font-weight: bold\">run.py</span>:<span style=\"color: #0000ff; text-decoration-color: #0000ff\">799</span> in <span style=\"color: #00ff00; text-decoration-color: #00ff00\">task_run_sample</span> <span style=\"color: #800000; text-decoration-color: #800000\">│</span>\n",
       "<span style=\"color: #800000; text-decoration-color: #800000\">│</span>                                                                                                                <span style=\"color: #800000; text-decoration-color: #800000\">│</span>\n",
       "<span style=\"color: #800000; text-decoration-color: #800000\">│</span> in <span style=\"color: #00ff00; text-decoration-color: #00ff00\">score</span>:<span style=\"color: #0000ff; text-decoration-color: #0000ff\">12</span>                                                                                                    <span style=\"color: #800000; text-decoration-color: #800000\">│</span>\n",
       "<span style=\"color: #800000; text-decoration-color: #800000\">│</span>                                                                                                                <span style=\"color: #800000; text-decoration-color: #800000\">│</span>\n",
       "<span style=\"color: #800000; text-decoration-color: #800000\">│</span>   <span style=\"color: #7f7f7f; text-decoration-color: #7f7f7f\"> 9 </span><span style=\"color: #7f7f7f; text-decoration-color: #7f7f7f\">│   │   │   </span><span style=\"color: #808000; text-decoration-color: #808000\">\"\\n\"</span>,                                                                                         <span style=\"color: #800000; text-decoration-color: #800000\">│</span>\n",
       "<span style=\"color: #800000; text-decoration-color: #800000\">│</span>   <span style=\"color: #7f7f7f; text-decoration-color: #7f7f7f\">10 </span><span style=\"color: #7f7f7f; text-decoration-color: #7f7f7f\">│   │   │   </span>state.metadata[<span style=\"color: #808000; text-decoration-color: #808000\">\"test\"</span>],                                                                       <span style=\"color: #800000; text-decoration-color: #800000\">│</span>\n",
       "<span style=\"color: #800000; text-decoration-color: #800000\">│</span>   <span style=\"color: #7f7f7f; text-decoration-color: #7f7f7f\">11 </span><span style=\"color: #7f7f7f; text-decoration-color: #7f7f7f\">│   │   │   </span><span style=\"color: #808000; text-decoration-color: #808000\">\"\\n\"</span>,                                                                                         <span style=\"color: #800000; text-decoration-color: #800000\">│</span>\n",
       "<span style=\"color: #800000; text-decoration-color: #800000\">│</span> <span style=\"color: #800000; text-decoration-color: #800000\">&gt; </span>12 <span style=\"color: #7f7f7f; text-decoration-color: #7f7f7f\">│   │   │   </span><span style=\"color: #808000; text-decoration-color: #808000\">\"\"</span>.join([<span style=\"color: #808000; text-decoration-color: #808000\">\"check(\"</span>, <span style=\"font-weight: bold; text-decoration: underline\">state.metadata[</span><span style=\"color: #808000; text-decoration-color: #808000; font-weight: bold; text-decoration: underline\">\"entry_point\"</span><span style=\"font-weight: bold; text-decoration: underline\">]</span>, <span style=\"color: #808000; text-decoration-color: #808000\">\")\"</span>]),                                      <span style=\"color: #800000; text-decoration-color: #800000\">│</span>\n",
       "<span style=\"color: #800000; text-decoration-color: #800000\">│</span>   <span style=\"color: #7f7f7f; text-decoration-color: #7f7f7f\">13 </span><span style=\"color: #7f7f7f; text-decoration-color: #7f7f7f\">│   │   </span>]                                                                                                 <span style=\"color: #800000; text-decoration-color: #800000\">│</span>\n",
       "<span style=\"color: #800000; text-decoration-color: #800000\">│</span>   <span style=\"color: #7f7f7f; text-decoration-color: #7f7f7f\">14 </span><span style=\"color: #7f7f7f; text-decoration-color: #7f7f7f\">│   │   </span>                                                                                                  <span style=\"color: #800000; text-decoration-color: #800000\">│</span>\n",
       "<span style=\"color: #800000; text-decoration-color: #800000\">│</span>   <span style=\"color: #7f7f7f; text-decoration-color: #7f7f7f\">15 </span><span style=\"color: #7f7f7f; text-decoration-color: #7f7f7f\">│   │   </span><span style=\"color: #7f7f7f; text-decoration-color: #7f7f7f\"># verify (returns error status if incorrect)</span>                                                      <span style=\"color: #800000; text-decoration-color: #800000\">│</span>\n",
       "<span style=\"color: #800000; text-decoration-color: #800000\">└────────────────────────────────────────────────────────────────────────────────────────────────────────────────┘</span>\n",
       "<span style=\"color: #ff0000; text-decoration-color: #ff0000; font-weight: bold\">KeyError: </span><span style=\"color: #008000; text-decoration-color: #008000\">'entry_point'</span>\n",
       "</pre>\n"
      ],
      "text/plain": [
       "\u001b[31m┌─\u001b[0m\u001b[31m─────────────────────────────────────\u001b[0m\u001b[31m \u001b[0m\u001b[1;31mTraceback \u001b[0m\u001b[1;2;31m(most recent call last)\u001b[0m\u001b[31m \u001b[0m\u001b[31m──────────────────────────────────────\u001b[0m\u001b[31m─┐\u001b[0m\n",
       "\u001b[31m│\u001b[0m \u001b[2;33m/root/miniconda3/envs/srf-env/lib/python3.11/site-packages/inspect_ai/_eval/task/\u001b[0m\u001b[1;33mrun.py\u001b[0m:\u001b[94m799\u001b[0m in \u001b[92mtask_run_sample\u001b[0m \u001b[31m│\u001b[0m\n",
       "\u001b[31m│\u001b[0m                                                                                                                \u001b[31m│\u001b[0m\n",
       "\u001b[31m│\u001b[0m in \u001b[92mscore\u001b[0m:\u001b[94m12\u001b[0m                                                                                                    \u001b[31m│\u001b[0m\n",
       "\u001b[31m│\u001b[0m                                                                                                                \u001b[31m│\u001b[0m\n",
       "\u001b[31m│\u001b[0m   \u001b[2m 9 \u001b[0m\u001b[2m│   │   │   \u001b[0m\u001b[33m\"\u001b[0m\u001b[33m\\n\u001b[0m\u001b[33m\"\u001b[0m,                                                                                         \u001b[31m│\u001b[0m\n",
       "\u001b[31m│\u001b[0m   \u001b[2m10 \u001b[0m\u001b[2m│   │   │   \u001b[0mstate.metadata[\u001b[33m\"\u001b[0m\u001b[33mtest\u001b[0m\u001b[33m\"\u001b[0m],                                                                       \u001b[31m│\u001b[0m\n",
       "\u001b[31m│\u001b[0m   \u001b[2m11 \u001b[0m\u001b[2m│   │   │   \u001b[0m\u001b[33m\"\u001b[0m\u001b[33m\\n\u001b[0m\u001b[33m\"\u001b[0m,                                                                                         \u001b[31m│\u001b[0m\n",
       "\u001b[31m│\u001b[0m \u001b[31m> \u001b[0m12 \u001b[2m│   │   │   \u001b[0m\u001b[33m\"\u001b[0m\u001b[33m\"\u001b[0m.join([\u001b[33m\"\u001b[0m\u001b[33mcheck(\u001b[0m\u001b[33m\"\u001b[0m, \u001b[1;4mstate.metadata[\u001b[0m\u001b[1;4;33m\"\u001b[0m\u001b[1;4;33mentry_point\u001b[0m\u001b[1;4;33m\"\u001b[0m\u001b[1;4m]\u001b[0m, \u001b[33m\"\u001b[0m\u001b[33m)\u001b[0m\u001b[33m\"\u001b[0m]),                                      \u001b[31m│\u001b[0m\n",
       "\u001b[31m│\u001b[0m   \u001b[2m13 \u001b[0m\u001b[2m│   │   \u001b[0m]                                                                                                 \u001b[31m│\u001b[0m\n",
       "\u001b[31m│\u001b[0m   \u001b[2m14 \u001b[0m\u001b[2m│   │   \u001b[0m                                                                                                  \u001b[31m│\u001b[0m\n",
       "\u001b[31m│\u001b[0m   \u001b[2m15 \u001b[0m\u001b[2m│   │   \u001b[0m\u001b[2m# verify (returns error status if incorrect)\u001b[0m                                                      \u001b[31m│\u001b[0m\n",
       "\u001b[31m└────────────────────────────────────────────────────────────────────────────────────────────────────────────────┘\u001b[0m\n",
       "\u001b[1;91mKeyError: \u001b[0m\u001b[32m'entry_point'\u001b[0m\n"
      ]
     },
     "metadata": {},
     "output_type": "display_data"
    },
    {
     "data": {
      "text/html": [
       "<pre style=\"white-space:pre;overflow-x:auto;line-height:normal;font-family:Menlo,'DejaVu Sans Mono',consolas,'Courier New',monospace\"><span style=\"color: #800000; text-decoration-color: #800000\">┌────────────────────────────────────── </span><span style=\"color: #800000; text-decoration-color: #800000; font-weight: bold\">Traceback </span><span style=\"color: #bf7f7f; text-decoration-color: #bf7f7f; font-weight: bold\">(most recent call last)</span><span style=\"color: #800000; text-decoration-color: #800000\"> ───────────────────────────────────────┐</span>\n",
       "<span style=\"color: #800000; text-decoration-color: #800000\">│</span> <span style=\"color: #bfbf7f; text-decoration-color: #bfbf7f\">/root/miniconda3/envs/srf-env/lib/python3.11/site-packages/inspect_ai/_eval/task/</span><span style=\"color: #808000; text-decoration-color: #808000; font-weight: bold\">run.py</span>:<span style=\"color: #0000ff; text-decoration-color: #0000ff\">370</span> in <span style=\"color: #00ff00; text-decoration-color: #00ff00\">task_run</span>        <span style=\"color: #800000; text-decoration-color: #800000\">│</span>\n",
       "<span style=\"color: #800000; text-decoration-color: #800000\">│</span>                                                                                                                <span style=\"color: #800000; text-decoration-color: #800000\">│</span>\n",
       "<span style=\"color: #800000; text-decoration-color: #800000\">│</span> <span style=\"color: #bfbf7f; text-decoration-color: #bfbf7f\">/root/miniconda3/envs/srf-env/lib/python3.11/site-packages/inspect_ai/_util/</span><span style=\"color: #808000; text-decoration-color: #808000; font-weight: bold\">_async.py</span>:<span style=\"color: #0000ff; text-decoration-color: #0000ff\">72</span> in <span style=\"color: #00ff00; text-decoration-color: #00ff00\">tg_collect</span>         <span style=\"color: #800000; text-decoration-color: #800000\">│</span>\n",
       "<span style=\"color: #800000; text-decoration-color: #800000\">│</span>                                                                                                                <span style=\"color: #800000; text-decoration-color: #800000\">│</span>\n",
       "<span style=\"color: #800000; text-decoration-color: #800000\">│</span> <span style=\"color: #bfbf7f; text-decoration-color: #bfbf7f\">/root/miniconda3/envs/srf-env/lib/python3.11/asyncio/</span><span style=\"color: #808000; text-decoration-color: #808000; font-weight: bold\">tasks.py</span>:<span style=\"color: #0000ff; text-decoration-color: #0000ff\">277</span> in <span style=\"color: #00ff00; text-decoration-color: #00ff00\">__step</span>                                    <span style=\"color: #800000; text-decoration-color: #800000\">│</span>\n",
       "<span style=\"color: #800000; text-decoration-color: #800000\">│</span>                                                                                                                <span style=\"color: #800000; text-decoration-color: #800000\">│</span>\n",
       "<span style=\"color: #800000; text-decoration-color: #800000\">│</span> <span style=\"color: #bfbf7f; text-decoration-color: #bfbf7f\">/root/miniconda3/envs/srf-env/lib/python3.11/site-packages/inspect_ai/_util/</span><span style=\"color: #808000; text-decoration-color: #808000; font-weight: bold\">_async.py</span>:<span style=\"color: #0000ff; text-decoration-color: #0000ff\">60</span> in <span style=\"color: #00ff00; text-decoration-color: #00ff00\">run_task</span>           <span style=\"color: #800000; text-decoration-color: #800000\">│</span>\n",
       "<span style=\"color: #800000; text-decoration-color: #800000\">│</span>                                                                                                                <span style=\"color: #800000; text-decoration-color: #800000\">│</span>\n",
       "<span style=\"color: #800000; text-decoration-color: #800000\">│</span> <span style=\"color: #bfbf7f; text-decoration-color: #bfbf7f\">/root/miniconda3/envs/srf-env/lib/python3.11/site-packages/inspect_ai/_eval/task/</span><span style=\"color: #808000; text-decoration-color: #808000; font-weight: bold\">run.py</span>:<span style=\"color: #0000ff; text-decoration-color: #0000ff\">366</span> in <span style=\"color: #00ff00; text-decoration-color: #00ff00\">run_sample</span>      <span style=\"color: #800000; text-decoration-color: #800000\">│</span>\n",
       "<span style=\"color: #800000; text-decoration-color: #800000\">│</span>                                                                                                                <span style=\"color: #800000; text-decoration-color: #800000\">│</span>\n",
       "<span style=\"color: #800000; text-decoration-color: #800000\">│</span> <span style=\"color: #bfbf7f; text-decoration-color: #bfbf7f\">/root/miniconda3/envs/srf-env/lib/python3.11/asyncio/</span><span style=\"color: #808000; text-decoration-color: #808000; font-weight: bold\">tasks.py</span>:<span style=\"color: #0000ff; text-decoration-color: #0000ff\">277</span> in <span style=\"color: #00ff00; text-decoration-color: #00ff00\">__step</span>                                    <span style=\"color: #800000; text-decoration-color: #800000\">│</span>\n",
       "<span style=\"color: #800000; text-decoration-color: #800000\">│</span>                                                                                                                <span style=\"color: #800000; text-decoration-color: #800000\">│</span>\n",
       "<span style=\"color: #800000; text-decoration-color: #800000\">│</span> <span style=\"color: #bfbf7f; text-decoration-color: #bfbf7f\">/root/miniconda3/envs/srf-env/lib/python3.11/site-packages/inspect_ai/_eval/task/</span><span style=\"color: #808000; text-decoration-color: #808000; font-weight: bold\">run.py</span>:<span style=\"color: #0000ff; text-decoration-color: #0000ff\">329</span> in <span style=\"color: #00ff00; text-decoration-color: #00ff00\">run</span>             <span style=\"color: #800000; text-decoration-color: #800000\">│</span>\n",
       "<span style=\"color: #800000; text-decoration-color: #800000\">│</span>                                                                                                                <span style=\"color: #800000; text-decoration-color: #800000\">│</span>\n",
       "<span style=\"color: #800000; text-decoration-color: #800000\">│</span> <span style=\"color: #bfbf7f; text-decoration-color: #bfbf7f\">/root/miniconda3/envs/srf-env/lib/python3.11/site-packages/inspect_ai/_eval/task/</span><span style=\"color: #808000; text-decoration-color: #808000; font-weight: bold\">run.py</span>:<span style=\"color: #0000ff; text-decoration-color: #0000ff\">933</span> in <span style=\"color: #00ff00; text-decoration-color: #00ff00\">task_run_sample</span> <span style=\"color: #800000; text-decoration-color: #800000\">│</span>\n",
       "<span style=\"color: #800000; text-decoration-color: #800000\">│</span>                                                                                                                <span style=\"color: #800000; text-decoration-color: #800000\">│</span>\n",
       "<span style=\"color: #800000; text-decoration-color: #800000\">│</span> <span style=\"color: #bfbf7f; text-decoration-color: #bfbf7f\">/root/miniconda3/envs/srf-env/lib/python3.11/site-packages/inspect_ai/_eval/task/</span><span style=\"color: #808000; text-decoration-color: #808000; font-weight: bold\">run.py</span>:<span style=\"color: #0000ff; text-decoration-color: #0000ff\">799</span> in <span style=\"color: #00ff00; text-decoration-color: #00ff00\">task_run_sample</span> <span style=\"color: #800000; text-decoration-color: #800000\">│</span>\n",
       "<span style=\"color: #800000; text-decoration-color: #800000\">│</span>                                                                                                                <span style=\"color: #800000; text-decoration-color: #800000\">│</span>\n",
       "<span style=\"color: #800000; text-decoration-color: #800000\">│</span> in <span style=\"color: #00ff00; text-decoration-color: #00ff00\">score</span>:<span style=\"color: #0000ff; text-decoration-color: #0000ff\">12</span>                                                                                                    <span style=\"color: #800000; text-decoration-color: #800000\">│</span>\n",
       "<span style=\"color: #800000; text-decoration-color: #800000\">│</span>                                                                                                                <span style=\"color: #800000; text-decoration-color: #800000\">│</span>\n",
       "<span style=\"color: #800000; text-decoration-color: #800000\">│</span>   <span style=\"color: #7f7f7f; text-decoration-color: #7f7f7f\"> 9 </span><span style=\"color: #7f7f7f; text-decoration-color: #7f7f7f\">│   │   │   </span><span style=\"color: #808000; text-decoration-color: #808000\">\"\\n\"</span>,                                                                                         <span style=\"color: #800000; text-decoration-color: #800000\">│</span>\n",
       "<span style=\"color: #800000; text-decoration-color: #800000\">│</span>   <span style=\"color: #7f7f7f; text-decoration-color: #7f7f7f\">10 </span><span style=\"color: #7f7f7f; text-decoration-color: #7f7f7f\">│   │   │   </span>state.metadata[<span style=\"color: #808000; text-decoration-color: #808000\">\"test\"</span>],                                                                       <span style=\"color: #800000; text-decoration-color: #800000\">│</span>\n",
       "<span style=\"color: #800000; text-decoration-color: #800000\">│</span>   <span style=\"color: #7f7f7f; text-decoration-color: #7f7f7f\">11 </span><span style=\"color: #7f7f7f; text-decoration-color: #7f7f7f\">│   │   │   </span><span style=\"color: #808000; text-decoration-color: #808000\">\"\\n\"</span>,                                                                                         <span style=\"color: #800000; text-decoration-color: #800000\">│</span>\n",
       "<span style=\"color: #800000; text-decoration-color: #800000\">│</span> <span style=\"color: #800000; text-decoration-color: #800000\">&gt; </span>12 <span style=\"color: #7f7f7f; text-decoration-color: #7f7f7f\">│   │   │   </span><span style=\"color: #808000; text-decoration-color: #808000\">\"\"</span>.join([<span style=\"color: #808000; text-decoration-color: #808000\">\"check(\"</span>, <span style=\"font-weight: bold; text-decoration: underline\">state.metadata[</span><span style=\"color: #808000; text-decoration-color: #808000; font-weight: bold; text-decoration: underline\">\"entry_point\"</span><span style=\"font-weight: bold; text-decoration: underline\">]</span>, <span style=\"color: #808000; text-decoration-color: #808000\">\")\"</span>]),                                      <span style=\"color: #800000; text-decoration-color: #800000\">│</span>\n",
       "<span style=\"color: #800000; text-decoration-color: #800000\">│</span>   <span style=\"color: #7f7f7f; text-decoration-color: #7f7f7f\">13 </span><span style=\"color: #7f7f7f; text-decoration-color: #7f7f7f\">│   │   </span>]                                                                                                 <span style=\"color: #800000; text-decoration-color: #800000\">│</span>\n",
       "<span style=\"color: #800000; text-decoration-color: #800000\">│</span>   <span style=\"color: #7f7f7f; text-decoration-color: #7f7f7f\">14 </span><span style=\"color: #7f7f7f; text-decoration-color: #7f7f7f\">│   │   </span>                                                                                                  <span style=\"color: #800000; text-decoration-color: #800000\">│</span>\n",
       "<span style=\"color: #800000; text-decoration-color: #800000\">│</span>   <span style=\"color: #7f7f7f; text-decoration-color: #7f7f7f\">15 </span><span style=\"color: #7f7f7f; text-decoration-color: #7f7f7f\">│   │   </span><span style=\"color: #7f7f7f; text-decoration-color: #7f7f7f\"># verify (returns error status if incorrect)</span>                                                      <span style=\"color: #800000; text-decoration-color: #800000\">│</span>\n",
       "<span style=\"color: #800000; text-decoration-color: #800000\">└────────────────────────────────────────────────────────────────────────────────────────────────────────────────┘</span>\n",
       "<span style=\"color: #ff0000; text-decoration-color: #ff0000; font-weight: bold\">KeyError: </span><span style=\"color: #008000; text-decoration-color: #008000\">'entry_point'</span>\n",
       "</pre>\n"
      ],
      "text/plain": [
       "\u001b[31m┌─\u001b[0m\u001b[31m─────────────────────────────────────\u001b[0m\u001b[31m \u001b[0m\u001b[1;31mTraceback \u001b[0m\u001b[1;2;31m(most recent call last)\u001b[0m\u001b[31m \u001b[0m\u001b[31m──────────────────────────────────────\u001b[0m\u001b[31m─┐\u001b[0m\n",
       "\u001b[31m│\u001b[0m \u001b[2;33m/root/miniconda3/envs/srf-env/lib/python3.11/site-packages/inspect_ai/_eval/task/\u001b[0m\u001b[1;33mrun.py\u001b[0m:\u001b[94m370\u001b[0m in \u001b[92mtask_run\u001b[0m        \u001b[31m│\u001b[0m\n",
       "\u001b[31m│\u001b[0m                                                                                                                \u001b[31m│\u001b[0m\n",
       "\u001b[31m│\u001b[0m \u001b[2;33m/root/miniconda3/envs/srf-env/lib/python3.11/site-packages/inspect_ai/_util/\u001b[0m\u001b[1;33m_async.py\u001b[0m:\u001b[94m72\u001b[0m in \u001b[92mtg_collect\u001b[0m         \u001b[31m│\u001b[0m\n",
       "\u001b[31m│\u001b[0m                                                                                                                \u001b[31m│\u001b[0m\n",
       "\u001b[31m│\u001b[0m \u001b[2;33m/root/miniconda3/envs/srf-env/lib/python3.11/asyncio/\u001b[0m\u001b[1;33mtasks.py\u001b[0m:\u001b[94m277\u001b[0m in \u001b[92m__step\u001b[0m                                    \u001b[31m│\u001b[0m\n",
       "\u001b[31m│\u001b[0m                                                                                                                \u001b[31m│\u001b[0m\n",
       "\u001b[31m│\u001b[0m \u001b[2;33m/root/miniconda3/envs/srf-env/lib/python3.11/site-packages/inspect_ai/_util/\u001b[0m\u001b[1;33m_async.py\u001b[0m:\u001b[94m60\u001b[0m in \u001b[92mrun_task\u001b[0m           \u001b[31m│\u001b[0m\n",
       "\u001b[31m│\u001b[0m                                                                                                                \u001b[31m│\u001b[0m\n",
       "\u001b[31m│\u001b[0m \u001b[2;33m/root/miniconda3/envs/srf-env/lib/python3.11/site-packages/inspect_ai/_eval/task/\u001b[0m\u001b[1;33mrun.py\u001b[0m:\u001b[94m366\u001b[0m in \u001b[92mrun_sample\u001b[0m      \u001b[31m│\u001b[0m\n",
       "\u001b[31m│\u001b[0m                                                                                                                \u001b[31m│\u001b[0m\n",
       "\u001b[31m│\u001b[0m \u001b[2;33m/root/miniconda3/envs/srf-env/lib/python3.11/asyncio/\u001b[0m\u001b[1;33mtasks.py\u001b[0m:\u001b[94m277\u001b[0m in \u001b[92m__step\u001b[0m                                    \u001b[31m│\u001b[0m\n",
       "\u001b[31m│\u001b[0m                                                                                                                \u001b[31m│\u001b[0m\n",
       "\u001b[31m│\u001b[0m \u001b[2;33m/root/miniconda3/envs/srf-env/lib/python3.11/site-packages/inspect_ai/_eval/task/\u001b[0m\u001b[1;33mrun.py\u001b[0m:\u001b[94m329\u001b[0m in \u001b[92mrun\u001b[0m             \u001b[31m│\u001b[0m\n",
       "\u001b[31m│\u001b[0m                                                                                                                \u001b[31m│\u001b[0m\n",
       "\u001b[31m│\u001b[0m \u001b[2;33m/root/miniconda3/envs/srf-env/lib/python3.11/site-packages/inspect_ai/_eval/task/\u001b[0m\u001b[1;33mrun.py\u001b[0m:\u001b[94m933\u001b[0m in \u001b[92mtask_run_sample\u001b[0m \u001b[31m│\u001b[0m\n",
       "\u001b[31m│\u001b[0m                                                                                                                \u001b[31m│\u001b[0m\n",
       "\u001b[31m│\u001b[0m \u001b[2;33m/root/miniconda3/envs/srf-env/lib/python3.11/site-packages/inspect_ai/_eval/task/\u001b[0m\u001b[1;33mrun.py\u001b[0m:\u001b[94m799\u001b[0m in \u001b[92mtask_run_sample\u001b[0m \u001b[31m│\u001b[0m\n",
       "\u001b[31m│\u001b[0m                                                                                                                \u001b[31m│\u001b[0m\n",
       "\u001b[31m│\u001b[0m in \u001b[92mscore\u001b[0m:\u001b[94m12\u001b[0m                                                                                                    \u001b[31m│\u001b[0m\n",
       "\u001b[31m│\u001b[0m                                                                                                                \u001b[31m│\u001b[0m\n",
       "\u001b[31m│\u001b[0m   \u001b[2m 9 \u001b[0m\u001b[2m│   │   │   \u001b[0m\u001b[33m\"\u001b[0m\u001b[33m\\n\u001b[0m\u001b[33m\"\u001b[0m,                                                                                         \u001b[31m│\u001b[0m\n",
       "\u001b[31m│\u001b[0m   \u001b[2m10 \u001b[0m\u001b[2m│   │   │   \u001b[0mstate.metadata[\u001b[33m\"\u001b[0m\u001b[33mtest\u001b[0m\u001b[33m\"\u001b[0m],                                                                       \u001b[31m│\u001b[0m\n",
       "\u001b[31m│\u001b[0m   \u001b[2m11 \u001b[0m\u001b[2m│   │   │   \u001b[0m\u001b[33m\"\u001b[0m\u001b[33m\\n\u001b[0m\u001b[33m\"\u001b[0m,                                                                                         \u001b[31m│\u001b[0m\n",
       "\u001b[31m│\u001b[0m \u001b[31m> \u001b[0m12 \u001b[2m│   │   │   \u001b[0m\u001b[33m\"\u001b[0m\u001b[33m\"\u001b[0m.join([\u001b[33m\"\u001b[0m\u001b[33mcheck(\u001b[0m\u001b[33m\"\u001b[0m, \u001b[1;4mstate.metadata[\u001b[0m\u001b[1;4;33m\"\u001b[0m\u001b[1;4;33mentry_point\u001b[0m\u001b[1;4;33m\"\u001b[0m\u001b[1;4m]\u001b[0m, \u001b[33m\"\u001b[0m\u001b[33m)\u001b[0m\u001b[33m\"\u001b[0m]),                                      \u001b[31m│\u001b[0m\n",
       "\u001b[31m│\u001b[0m   \u001b[2m13 \u001b[0m\u001b[2m│   │   \u001b[0m]                                                                                                 \u001b[31m│\u001b[0m\n",
       "\u001b[31m│\u001b[0m   \u001b[2m14 \u001b[0m\u001b[2m│   │   \u001b[0m                                                                                                  \u001b[31m│\u001b[0m\n",
       "\u001b[31m│\u001b[0m   \u001b[2m15 \u001b[0m\u001b[2m│   │   \u001b[0m\u001b[2m# verify (returns error status if incorrect)\u001b[0m                                                      \u001b[31m│\u001b[0m\n",
       "\u001b[31m└────────────────────────────────────────────────────────────────────────────────────────────────────────────────┘\u001b[0m\n",
       "\u001b[1;91mKeyError: \u001b[0m\u001b[32m'entry_point'\u001b[0m\n"
      ]
     },
     "metadata": {},
     "output_type": "display_data"
    },
    {
     "data": {
      "text/html": [
       "<pre style=\"white-space:pre;overflow-x:auto;line-height:normal;font-family:Menlo,'DejaVu Sans Mono',consolas,'Courier New',monospace\"></pre>\n"
      ],
      "text/plain": []
     },
     "metadata": {},
     "output_type": "display_data"
    }
   ],
   "source": [
    "# model = get_model(\n",
    "#         'hf/meta-llama/Llama-3.1-8B-Instruct', \n",
    "#         device = 'auto',\n",
    "#         torch_dtype=t.bfloat16,\n",
    "# )\n",
    "inspect_ai.eval(humaneval(), model = 'openai/gpt-4o-mini', epochs = NUM_EPOCHS)"
   ]
  },
  {
   "cell_type": "markdown",
   "id": "a755e3a5",
   "metadata": {},
   "source": [
    "### GPU Deets"
   ]
  },
  {
   "cell_type": "code",
   "execution_count": 8,
   "id": "1532402f",
   "metadata": {},
   "outputs": [
    {
     "name": "stdout",
     "output_type": "stream",
     "text": [
      "Free GPU Memory: 47.17 GB\n",
      "Total GPU Memory: 47.43 GB\n",
      "Memory Used: 0.82 GB\n"
     ]
    }
   ],
   "source": [
    "# Imports\n",
    "free_memory, total_memory = t.cuda.mem_get_info()\n",
    "\n",
    "# Convert bytes to GB\n",
    "free_memory_gb = free_memory / (1024 * 1024 * 1024)\n",
    "total_memory_gb = total_memory / (1024 * 1024 * 1024)\n",
    "mem_used = t.cuda.device_memory_used() / (1024 ** 3)\n",
    "\n",
    "print(f\"Free GPU Memory: {free_memory_gb:.2f} GB\")\n",
    "print(f\"Total GPU Memory: {total_memory_gb:.2f} GB\")\n",
    "print(f'Memory Used: {mem_used:.2f} GB')"
   ]
  },
  {
   "cell_type": "code",
   "execution_count": 18,
   "id": "986a8e9e",
   "metadata": {},
   "outputs": [
    {
     "data": {
      "text/plain": [
       "_CudaDeviceProperties(name='NVIDIA RTX A6000', major=8, minor=6, total_memory=48566MB, multi_processor_count=84, uuid=63cca492-796d-c7cf-69cf-c5dd0a3d9c8d, L2_cache_size=6MB)"
      ]
     },
     "execution_count": 18,
     "metadata": {},
     "output_type": "execute_result"
    }
   ],
   "source": [
    "t.cuda.get_device_properties()"
   ]
  },
  {
   "cell_type": "code",
   "execution_count": 13,
   "id": "edbd1c37",
   "metadata": {},
   "outputs": [
    {
     "name": "stdout",
     "output_type": "stream",
     "text": [
      "15316.50830078125 MB allocated\n",
      "15318.0 MB reserved\n"
     ]
    }
   ],
   "source": [
    "print(t.cuda.memory_allocated() / 1024**2, \"MB allocated\")\n",
    "print(t.cuda.memory_reserved() / 1024**2, \"MB reserved\")"
   ]
  },
  {
   "cell_type": "code",
   "execution_count": 13,
   "id": "f84b377b",
   "metadata": {},
   "outputs": [
    {
     "data": {
      "text/plain": [
       "2215"
      ]
     },
     "execution_count": 13,
     "metadata": {},
     "output_type": "execute_result"
    }
   ],
   "source": [
    "# del model, tokenizer\n",
    "t.cuda.empty_cache()\n",
    "gc.collect()\n",
    "# clean()"
   ]
  }
 ],
 "metadata": {
  "kernelspec": {
   "display_name": "srf-env",
   "language": "python",
   "name": "python3"
  },
  "language_info": {
   "codemirror_mode": {
    "name": "ipython",
    "version": 3
   },
   "file_extension": ".py",
   "mimetype": "text/x-python",
   "name": "python",
   "nbconvert_exporter": "python",
   "pygments_lexer": "ipython3",
   "version": "3.11.13"
  }
 },
 "nbformat": 4,
 "nbformat_minor": 5
}
