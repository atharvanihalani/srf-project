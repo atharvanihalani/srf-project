{
 "cells": [
  {
   "cell_type": "markdown",
   "id": "73c1567d",
   "metadata": {},
   "source": [
    "## setup"
   ]
  },
  {
   "cell_type": "code",
   "execution_count": null,
   "id": "b4417b7b",
   "metadata": {},
   "outputs": [],
   "source": [
    "from unsloth.chat_templates import standardize_sharegpt, get_chat_template, train_on_responses_only\n",
    "import unsloth # ABOVE PYTORCH (cuz dependency things)\n",
    "from unsloth import FastLanguageModel\n",
    "from transformers import AutoTokenizer, AutoModelForCausalLM, TrainingArguments, Trainer, DataCollatorForLanguageModeling, BitsAndBytesConfig, DataCollatorForSeq2Seq\n",
    "from huggingface_hub import login\n",
    "from dotenv import load_dotenv\n",
    "from datasets import load_dataset\n",
    "import os\n",
    "import wandb\n",
    "from peft import LoraConfig, get_peft_model\n",
    "from pipeline.main import run_eval\n",
    "import json\n",
    "from IPython.display import display, HTML\n",
    "from trl import SFTConfig, SFTTrainer\n",
    "import torch as t"
   ]
  },
  {
   "cell_type": "code",
   "execution_count": null,
   "id": "7f4a4c6e",
   "metadata": {},
   "outputs": [],
   "source": [
    "load_dotenv()\n",
    "login(token = os.environ['HF_TOKEN'])\n",
    "wandb.login()"
   ]
  },
  {
   "cell_type": "markdown",
   "id": "2a735291",
   "metadata": {},
   "source": [
    "## FT Dataset"
   ]
  },
  {
   "cell_type": "markdown",
   "id": "7ada5e2d",
   "metadata": {},
   "source": [
    "### Unsloth 3/n"
   ]
  },
  {
   "cell_type": "code",
   "execution_count": null,
   "id": "623de4eb",
   "metadata": {},
   "outputs": [],
   "source": [
    "max_seq_length = 32768 # Choose any! We auto support RoPE Scaling internally!\n",
    "dtype = None # None for auto detection. Float16 for Tesla T4, V100, Bfloat16 for Ampere+\n",
    "load_in_4bit = True # Use 4bit quantization to reduce memory usage. Can be False.\n",
    "\n",
    "model, tokenizer = FastLanguageModel.from_pretrained(\n",
    "    model_name = \"unsloth/Meta-Llama-3.1-8B-Instruct\", # or choose \"unsloth/Llama-3.2-1B-Instruct\"\n",
    "    max_seq_length = max_seq_length,\n",
    "    dtype = dtype,\n",
    "    load_in_4bit = load_in_4bit,\n",
    ")"
   ]
  },
  {
   "cell_type": "code",
   "execution_count": null,
   "id": "d2884cfb",
   "metadata": {},
   "outputs": [],
   "source": [
    "model = FastLanguageModel.get_peft_model(\n",
    "    model,\n",
    "    r = 16, # Choose any number > 0 ! Suggested 8, 16, 32, 64, 128\n",
    "    target_modules = [\"q_proj\", \"k_proj\", \"v_proj\", \"o_proj\",\n",
    "                      \"gate_proj\", \"up_proj\", \"down_proj\",],\n",
    "    lora_alpha = 16,\n",
    "    lora_dropout = 0, # Supports any, but = 0 is optimized\n",
    "    bias = \"none\",    # Supports any, but = \"none\" is optimized\n",
    "    use_gradient_checkpointing = \"unsloth\", # True or \"unsloth\" for very long context\n",
    "    random_state = 3407,\n",
    ")\n",
    "\n",
    "tokenizer = get_chat_template(\n",
    "    tokenizer,\n",
    "    chat_template = \"llama-3.1\",\n",
    ")"
   ]
  },
  {
   "cell_type": "code",
   "execution_count": null,
   "id": "77567e21",
   "metadata": {},
   "outputs": [],
   "source": [
    "with open(\"/root/srf-project/data/codenet_questions/filtered_problem_descriptions.json\", \"r\") as f:\n",
    "    problem_descriptions = json.load(f)\n",
    "\n",
    "def get_filtered_dataset(lang):\n",
    "    dataset = load_dataset('iNeil77/CodeNet', lang, split='train')\n",
    "    dataset = dataset.select_columns(['p_id', 'language', 'status', 'code'])\n",
    "    dataset = dataset.filter(lambda x: x['status']=='Accepted')\n",
    "    dataset = dataset.filter(lambda x: x['p_id'] in problem_descriptions.keys())\n",
    "\n",
    "    return dataset\n",
    "\n",
    "def get_train_test(dataset, train_size=10000, test_size=500):\n",
    "    shuffled = dataset.shuffle(seed=47)\n",
    "    train_set = shuffled.select(range(train_size))\n",
    "    test_set = shuffled.select(range(train_size, train_size + test_size))\n",
    "\n",
    "    return train_set, test_set\n",
    "\n",
    "def add_description(row):\n",
    "    description = problem_descriptions[row['p_id']]\n",
    "    row['description'] = description\n",
    "    return row\n",
    "\n",
    "def add_conversations(row):\n",
    "    preface = 'Read the following problem description. Fully implement a solution in Java. Your response should only contain the code, no explanations.\\n\\n'\n",
    "    problem_description = row['description']\n",
    "    code = row['code']\n",
    "\n",
    "    row['conversations'] = [\n",
    "        {\n",
    "            'role': 'user', \n",
    "            'content': preface + problem_description,\n",
    "        },\n",
    "        {\n",
    "            'role': 'assistant', \n",
    "            'content': code,\n",
    "        }\n",
    "    ]\n",
    "\n",
    "    return row\n",
    "\n",
    "def chat_format(row):\n",
    "    convos = row['conversations']\n",
    "    texts = [tokenizer.apply_chat_template(convo, tokenize = False, add_generation_prompt = False) for convo in convos]\n",
    "    return { 'text' : texts}"
   ]
  },
  {
   "cell_type": "code",
   "execution_count": null,
   "id": "08d36480",
   "metadata": {},
   "outputs": [],
   "source": [
    "my_dataset = get_filtered_dataset('Java')\n",
    "train_set, test_set = get_train_test(my_dataset)\n",
    "\n",
    "train_set = train_set.map(add_description, remove_columns=['p_id', 'language', 'status'])\n",
    "test_set = test_set.map(add_description, remove_columns=['p_id', 'language', 'status'])\n",
    "\n",
    "train_set = train_set.map(add_conversations, remove_columns=['code', 'description'])\n",
    "test_set = test_set.map(add_conversations, remove_columns=['code', 'description'])\n",
    "\n",
    "train_set = train_set.map(chat_format, batched=True)\n",
    "test_set = test_set.map(chat_format, batched=True)"
   ]
  },
  {
   "cell_type": "code",
   "execution_count": null,
   "id": "e3e93f2e",
   "metadata": {},
   "outputs": [],
   "source": [
    "training_args = TrainingArguments(\n",
    "    per_device_train_batch_size = 2,\n",
    "    # auto_find_batch_size = True,\n",
    "    gradient_accumulation_steps = 4,\n",
    "    warmup_ratio = 0.05,\n",
    "    num_train_epochs = 1,\n",
    "    eval_strategy = 'steps',\n",
    "    eval_steps = 0.05,\n",
    "    learning_rate = 2e-4,\n",
    "    bf16 = True,\n",
    "    logging_steps = 5,\n",
    "    logging_first_step=True,\n",
    "    optim = \"adamw_8bit\",\n",
    "    weight_decay = 0.01,\n",
    "    lr_scheduler_type = \"linear\",\n",
    "    seed = 3407,\n",
    "    save_steps = 0.2,\n",
    "    save_total_limit = 3,\n",
    "    output_dir = \"outputs\",\n",
    "    report_to = \"wandb\", \n",
    "    # run_name = '___'\n",
    ")\n",
    "\n",
    "trainer = SFTTrainer(\n",
    "    model = model,\n",
    "    tokenizer = tokenizer,\n",
    "    train_dataset = train_set,\n",
    "    eval_dataset = test_set,\n",
    "    dataset_text_field = \"text\",\n",
    "    max_seq_length = max_seq_length,\n",
    "    data_collator = DataCollatorForSeq2Seq(tokenizer = tokenizer),\n",
    "    dataset_num_proc = 8,\n",
    "    args = training_args,\n",
    "    # packing = False, \n",
    ")"
   ]
  },
  {
   "cell_type": "code",
   "execution_count": null,
   "id": "f3c23ea5",
   "metadata": {},
   "outputs": [],
   "source": [
    "trainer = train_on_responses_only(\n",
    "    trainer,\n",
    "    instruction_part = \"<|start_header_id|>user<|end_header_id|>\\n\\n\",\n",
    "    response_part = \"<|start_header_id|>assistant<|end_header_id|>\\n\\n\",\n",
    ")"
   ]
  },
  {
   "cell_type": "code",
   "execution_count": null,
   "id": "4a0cb2d6",
   "metadata": {},
   "outputs": [],
   "source": [
    "trainer_stats = trainer.train()"
   ]
  },
  {
   "cell_type": "code",
   "execution_count": null,
   "id": "e920f153",
   "metadata": {},
   "outputs": [],
   "source": [
    "wandb.finish()"
   ]
  },
  {
   "cell_type": "markdown",
   "id": "1f8a02b1",
   "metadata": {},
   "source": [
    "### Unsloth Experimentation!"
   ]
  },
  {
   "cell_type": "code",
   "execution_count": null,
   "id": "17fc4794",
   "metadata": {},
   "outputs": [],
   "source": [
    "max_seq_length = 32768 # Choose any! We auto support RoPE Scaling internally!\n",
    "dtype = None # None for auto detection. Float16 for Tesla T4, V100, Bfloat16 for Ampere+\n",
    "load_in_4bit = True # Use 4bit quantization to reduce memory usage. Can be False."
   ]
  },
  {
   "cell_type": "code",
   "execution_count": null,
   "id": "c45c6d56",
   "metadata": {},
   "outputs": [],
   "source": [
    "model_name = \"unsloth/Meta-Llama-3.1-8B-Instruct-bnb-4bit\"\n",
    "\n",
    "model, tokenizer = FastLanguageModel.from_pretrained(\n",
    "    model_name = model_name,\n",
    "    max_seq_length = max_seq_length,\n",
    "    dtype = dtype,\n",
    "    load_in_4bit = load_in_4bit,\n",
    "    # token = \"hf_...\", # use one if using gated models like meta-llama/Llama-2-7b-hf\n",
    ")"
   ]
  },
  {
   "cell_type": "code",
   "execution_count": null,
   "id": "84f65a45",
   "metadata": {},
   "outputs": [],
   "source": [
    "model = FastLanguageModel.get_peft_model(\n",
    "    model,\n",
    "    r = 16, # Choose any number > 0 ! Suggested 8, 16, 32, 64, 128\n",
    "    target_modules = [\"q_proj\", \"k_proj\", \"v_proj\", \"o_proj\"],\n",
    "    lora_alpha = 16,\n",
    "    lora_dropout = 0, # Supports any, but = 0 is optimized\n",
    "    bias = \"none\",    # Supports any, but = \"none\" is optimized\n",
    "    use_gradient_checkpointing = \"unsloth\", # True or \"unsloth\" for very long context\n",
    "    random_state = 3407,\n",
    ")"
   ]
  },
  {
   "cell_type": "code",
   "execution_count": null,
   "id": "22a431eb",
   "metadata": {},
   "outputs": [],
   "source": [
    "with open(\"/root/srf-project/data/codenet_questions/filtered_problem_descriptions.json\", \"r\") as f:\n",
    "    problem_descriptions = json.load(f)\n",
    "\n",
    "def get_filtered_dataset(lang):\n",
    "    dataset = load_dataset('iNeil77/CodeNet', lang, split='train')\n",
    "    dataset = dataset.select_columns(['p_id', 'language', 'status', 'code'])\n",
    "    dataset = dataset.filter(lambda x: x['status']=='Accepted')\n",
    "    dataset = dataset.filter(lambda x: x['p_id'] in problem_descriptions.keys())\n",
    "\n",
    "    return dataset\n",
    "\n",
    "def get_train_test(dataset, train_size=10000, test_size=500):\n",
    "    shuffled = dataset.shuffle(seed=47)\n",
    "    train_set = shuffled.select(range(train_size))\n",
    "    test_set = shuffled.select(range(train_size, train_size + test_size))\n",
    "\n",
    "    return train_set, test_set\n",
    "\n",
    "def add_description(row):\n",
    "    description = problem_descriptions[row['p_id']]\n",
    "    row['description'] = description\n",
    "    return row\n",
    "\n",
    "def add_final_prompt_new(row):\n",
    "    preface = 'Read the following problem description. Fully implement a solution in Java. Your response should only contain the code, no explanations.\\n\\n'\n",
    "    problem_description = row['description']\n",
    "    code = row['code']\n",
    "\n",
    "    conversational_prompt_completion = {\n",
    "        'prompt': [{\n",
    "            'role': 'user',\n",
    "            'content': preface + problem_description\n",
    "        }],\n",
    "        'completion': [{\n",
    "            'role': 'assistant',\n",
    "            'content': code\n",
    "        }],\n",
    "    }\n",
    "\n",
    "    return conversational_prompt_completion"
   ]
  },
  {
   "cell_type": "code",
   "execution_count": null,
   "id": "b8af6adb",
   "metadata": {},
   "outputs": [],
   "source": [
    "filtered = get_filtered_dataset('Java')\n",
    "train_set, test_set = get_train_test(filtered)\n",
    "\n",
    "train_set = train_set.map(add_description)\n",
    "test_set = test_set.map(add_description)\n",
    "\n",
    "final_train_set = train_set.map(add_final_prompt_new, remove_columns=['description', 'code', 'p_id', 'status', 'language'])\n",
    "final_test_set = test_set.map(add_final_prompt_new, remove_columns=['description', 'code', 'p_id', 'status', 'language'])"
   ]
  },
  {
   "cell_type": "code",
   "execution_count": null,
   "id": "19090075",
   "metadata": {},
   "outputs": [],
   "source": [
    "sft_args = SFTConfig(\n",
    "        per_device_train_batch_size = 2,\n",
    "        gradient_accumulation_steps = 4,\n",
    "        warmup_steps = 5,\n",
    "        # num_train_epochs = 1, # Set this for 1 full training run.\n",
    "        max_steps = 60,\n",
    "        learning_rate = 2e-4,\n",
    "        logging_steps = 1,\n",
    "        optim = \"adamw_8bit\",\n",
    "        weight_decay = 0.01,\n",
    "        lr_scheduler_type = \"linear\",\n",
    "        seed = 3407,\n",
    "        output_dir = \"outputs\",\n",
    "        report_to = \"wandb\", # Use this for WandB etc\n",
    "        completion_only_loss=True,\n",
    "        dataset_kwargs={'skip_prepare_dataset': True}\n",
    "    )\n",
    "\n",
    "trainer = SFTTrainer(\n",
    "    model = model,\n",
    "    tokenizer = tokenizer,\n",
    "    train_dataset = final_train_set,\n",
    "    # max_seq_length = max_seq_length,\n",
    "    # packing = False, # Can make training 5x faster for short sequences.\n",
    "    args = sft_args,\n",
    ")"
   ]
  },
  {
   "cell_type": "code",
   "execution_count": null,
   "id": "061b27b9",
   "metadata": {},
   "outputs": [],
   "source": [
    "trainer_stats = trainer.train()"
   ]
  },
  {
   "cell_type": "markdown",
   "id": "310b3a1c",
   "metadata": {},
   "source": [
    "### Load Model / Dataset"
   ]
  },
  {
   "cell_type": "code",
   "execution_count": null,
   "id": "9be92a3d",
   "metadata": {},
   "outputs": [],
   "source": [
    "'''\n",
    "model_name = 'meta-llama/Llama-3.1-8B-Instruct'\n",
    "\n",
    "bnb_config = BitsAndBytesConfig(\n",
    "    load_in_4bit=True,\n",
    "    bnb_4bit_compute_dtype=t.float16,\n",
    "    bnb_4bit_use_double_quant=True,\n",
    "    llm_int8_threshold=6.0,\n",
    ")\n",
    "\n",
    "tokenizer = AutoTokenizer.from_pretrained(model_name, pad_side=\"left\")\n",
    "model = AutoModelForCausalLM.from_pretrained(\n",
    "    model_name, \n",
    "    device_map=\"auto\", \n",
    "    quantization_config=bnb_config,\n",
    ")\n",
    "tokenizer.pad_token = tokenizer.eos_token'''\n",
    "\n",
    "# model_name = 'unsloth/Meta-Llama-3.1-8B-Instruct'\n",
    "model_name = 'unsloth/Meta-Llama-3.1-8B-Instruct-bnb-4bit'\n",
    "\n",
    "\n",
    "tokenizer = AutoTokenizer.from_pretrained(model_name, pad_side=\"left\")\n",
    "tokenizer.pad_token = tokenizer.eos_token\n",
    "\n",
    "\n",
    "model = AutoModelForCausalLM.from_pretrained(\n",
    "    model_name, \n",
    "    device_map=\"auto\", \n",
    "    torch_dtype=\"auto\",\n",
    ")"
   ]
  },
  {
   "cell_type": "code",
   "execution_count": null,
   "id": "b63aeab8",
   "metadata": {},
   "outputs": [],
   "source": [
    "with open(\"/root/srf-project/data/codenet_questions/filtered_problem_descriptions.json\", \"r\") as f:\n",
    "    problem_descriptions = json.load(f)\n",
    "\n",
    "def get_filtered_dataset(lang):\n",
    "    dataset = load_dataset('iNeil77/CodeNet', lang, split='train')\n",
    "    dataset = dataset.select_columns(['p_id', 'language', 'status', 'code'])\n",
    "    dataset = dataset.filter(lambda x: x['status']=='Accepted')\n",
    "    dataset = dataset.filter(lambda x: x['p_id'] in problem_descriptions.keys())\n",
    "\n",
    "    return dataset\n",
    "\n",
    "def get_train_test(dataset, train_size=10000, test_size=500):\n",
    "    shuffled = dataset.shuffle(seed=47)\n",
    "    train_set = shuffled.select(range(train_size))\n",
    "    test_set = shuffled.select(range(train_size, train_size + test_size))\n",
    "\n",
    "    return train_set, test_set\n",
    "\n",
    "filtered = get_filtered_dataset('Java')\n",
    "train_set, test_set = get_train_test(filtered, test_size=8)"
   ]
  },
  {
   "cell_type": "code",
   "execution_count": null,
   "id": "47ba17f7",
   "metadata": {},
   "outputs": [],
   "source": [
    "def add_description(row):\n",
    "    description = problem_descriptions[row['p_id']]\n",
    "    row['description'] = description\n",
    "    return row\n",
    "\n",
    "train_set = train_set.map(add_description)\n",
    "test_set = test_set.map(add_description)"
   ]
  },
  {
   "cell_type": "code",
   "execution_count": null,
   "id": "18d91be1",
   "metadata": {},
   "outputs": [],
   "source": [
    "def add_final_prompt(row):\n",
    "    description = row['description'].strip()\n",
    "    code = row['code']\n",
    "\n",
    "    final_prompt = '\\n'.join([description, '<answer>', code, '</answer>'])\n",
    "    row['final_prompt'] = final_prompt\n",
    "\n",
    "    return row\n",
    "\n",
    "train_set = train_set.map(add_final_prompt)\n",
    "test_set = test_set.map(add_final_prompt)"
   ]
  },
  {
   "cell_type": "code",
   "execution_count": null,
   "id": "07bde88f",
   "metadata": {},
   "outputs": [],
   "source": [
    "def tokenize(record):\n",
    "    final_prompt = record['final_prompt']\n",
    "    msg = [\n",
    "        {'role': 'user', 'content': final_prompt}\n",
    "    ]\n",
    "\n",
    "    tokens = tokenizer.apply_chat_template(msg, add_generation_prompt=True, return_dict=True)\n",
    "\n",
    "    return tokens\n",
    "\n",
    "final_train_set = train_set.map(tokenize, num_proc=32)\n",
    "final_test_set = test_set.map(tokenize, num_proc=32)\n",
    "\n",
    "final_train_set = final_train_set.select_columns(['input_ids', 'attention_mask'])\n",
    "final_test_set = final_test_set.select_columns(['input_ids', 'attention_mask'])"
   ]
  },
  {
   "cell_type": "markdown",
   "id": "47594328",
   "metadata": {},
   "source": [
    "### FineTuning"
   ]
  },
  {
   "cell_type": "code",
   "execution_count": null,
   "id": "fcb7f5e8",
   "metadata": {},
   "outputs": [],
   "source": [
    "lora_config = LoraConfig(\n",
    "    r=16,\n",
    "    lora_alpha=64,\n",
    "    target_modules=[\"q_proj\", \"v_proj\"],  \n",
    "    lora_dropout=0.00,\n",
    "    bias=\"none\",\n",
    "    task_type=\"CAUSAL_LM\"\n",
    ")\n",
    "\n",
    "peft_model = get_peft_model(model, lora_config)"
   ]
  },
  {
   "cell_type": "code",
   "execution_count": null,
   "id": "81e45159",
   "metadata": {},
   "outputs": [],
   "source": [
    "def get_save_dir():\n",
    "    idx = 0\n",
    "    base_path = '/root/srf-project/playground/llama3-java-finetune-'\n",
    "    already_existing = True\n",
    "\n",
    "    while already_existing:\n",
    "        idx += 1\n",
    "        path = base_path + str(idx)\n",
    "        \n",
    "        if not os.path.exists(path):\n",
    "            already_existing = False\n",
    "            os.mkdir(path)\n",
    "            return path\n",
    "        \n",
    "output_path = get_save_dir()\n",
    "\n",
    "training_args = TrainingArguments(\n",
    "    output_dir=output_path,\n",
    "    # eval_strategy='steps',\n",
    "    # eval_steps=0.1,\n",
    "    # eval_on_start=True,\n",
    "    per_device_train_batch_size=1, \n",
    "    # auto_find_batch_size=True,\n",
    "    gradient_accumulation_steps=1,\n",
    "    # gradient_checkpointing=True,\n",
    "    torch_empty_cache_steps=1,\n",
    "    dataloader_num_workers=16,\n",
    "    dataloader_persistent_workers=True,\n",
    "    learning_rate=5e-4,\n",
    "    num_train_epochs=1,  \n",
    "    bf16=True,\n",
    "    save_steps=0.2,\n",
    "    save_total_limit=3,\n",
    "    logging_steps=0.02,\n",
    "    report_to=\"wandb\",\n",
    "    logging_first_step=True,\n",
    "    run_name='chat_template',\n",
    ")\n",
    "\n",
    "data_collator = DataCollatorForLanguageModeling(\n",
    "    tokenizer=tokenizer,\n",
    "    mlm=False,  # For causal LM\n",
    ")\n",
    "\n",
    "trainer = Trainer(\n",
    "    model=peft_model,\n",
    "    args=training_args,\n",
    "    train_dataset=final_train_set,\n",
    "    eval_dataset=final_test_set,\n",
    "    data_collator=data_collator,\n",
    ")"
   ]
  },
  {
   "cell_type": "code",
   "execution_count": null,
   "id": "3a7d3a4f",
   "metadata": {},
   "outputs": [],
   "source": [
    "trainer.train()"
   ]
  },
  {
   "cell_type": "code",
   "execution_count": null,
   "id": "b6d1a89c",
   "metadata": {},
   "outputs": [],
   "source": [
    "wandb.finish()"
   ]
  },
  {
   "cell_type": "markdown",
   "id": "5c90465e",
   "metadata": {},
   "source": [
    "### RunEval"
   ]
  },
  {
   "cell_type": "code",
   "execution_count": null,
   "id": "c20bd49d",
   "metadata": {},
   "outputs": [],
   "source": [
    "args = {\n",
    "    'model': 'hf/local',\n",
    "    'model_path': '/root/srf-project/playground/llama3-java-finetune-1',\n",
    "    'device': 'auto',\n",
    "    'torch_dtype': 'auto'\n",
    "}\n",
    "\n",
    "run_eval('java', args, samples=164)"
   ]
  },
  {
   "cell_type": "markdown",
   "id": "6a4ee715",
   "metadata": {},
   "source": [
    "### GPU Deets"
   ]
  },
  {
   "cell_type": "code",
   "execution_count": null,
   "id": "940218bc",
   "metadata": {},
   "outputs": [],
   "source": [
    "import torch as t\n",
    "import gc\n",
    "\n",
    "free_memory, total_memory = t.cuda.mem_get_info()\n",
    "\n",
    "# Convert bytes to GB\n",
    "free_memory_gb = free_memory / (1024 * 1024 * 1024)\n",
    "total_memory_gb = total_memory / (1024 * 1024 * 1024)\n",
    "mem_used = t.cuda.device_memory_used() / (1024 ** 3)\n",
    "\n",
    "print(f\"Free GPU Memory: {free_memory_gb:.2f} GB\")\n",
    "print(f\"Total GPU Memory: {total_memory_gb:.2f} GB\")\n",
    "print(f'Memory Used: {mem_used:.2f} GB')"
   ]
  },
  {
   "cell_type": "code",
   "execution_count": null,
   "id": "58a458a8",
   "metadata": {},
   "outputs": [],
   "source": [
    "print(t.cuda.memory_allocated() / 1024**2, \"MB allocated\")\n",
    "print(t.cuda.memory_reserved() / 1024**2, \"MB reserved\")"
   ]
  },
  {
   "cell_type": "code",
   "execution_count": null,
   "id": "00e20428",
   "metadata": {},
   "outputs": [],
   "source": [
    "print(t.cuda.memory_allocated() / 1024**2, \"MB allocated\")\n",
    "print(t.cuda.memory_reserved() / 1024**2, \"MB reserved\")"
   ]
  }
 ],
 "metadata": {
  "kernelspec": {
   "display_name": "srf-env",
   "language": "python",
   "name": "python3"
  },
  "language_info": {
   "codemirror_mode": {
    "name": "ipython",
    "version": 3
   },
   "file_extension": ".py",
   "mimetype": "text/x-python",
   "name": "python",
   "nbconvert_exporter": "python",
   "pygments_lexer": "ipython3",
   "version": "3.11.13"
  }
 },
 "nbformat": 4,
 "nbformat_minor": 5
}
